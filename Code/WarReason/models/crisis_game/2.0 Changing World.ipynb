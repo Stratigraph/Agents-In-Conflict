{
 "cells": [
  {
   "cell_type": "markdown",
   "metadata": {},
   "source": [
    "# Model Distributions\n",
    "\n",
    "Using the static agent model, comparing the distributions derived from different decisionmaking models."
   ]
  },
  {
   "cell_type": "code",
   "execution_count": 1,
   "metadata": {
    "collapsed": true
   },
   "outputs": [],
   "source": [
    "import random\n",
    "import pickle\n",
    "import numpy as np\n",
    "import pandas as pd\n",
    "import matplotlib.pyplot as plt\n",
    "%matplotlib inline\n",
    "\n",
    "\n",
    "from small_crisis import CrisisModel, CrisisAgent, CrisisWorld\n",
    "\n",
    "from consul.agent_types.rl_agent import RLAgent\n",
    "from consul.agent_types.cbr_agent import CaseBased_RLAgent\n"
   ]
  },
  {
   "cell_type": "markdown",
   "metadata": {},
   "source": [
    "## Setting up agent and model types"
   ]
  },
  {
   "cell_type": "code",
   "execution_count": 2,
   "metadata": {
    "collapsed": true
   },
   "outputs": [],
   "source": [
    "class LearningAgent(RLAgent, CrisisAgent):\n",
    "    pass"
   ]
  },
  {
   "cell_type": "code",
   "execution_count": 3,
   "metadata": {
    "collapsed": true
   },
   "outputs": [],
   "source": [
    "class CBRLPlayer(CaseBased_RLAgent, CrisisAgent):\n",
    "    pass"
   ]
  },
  {
   "cell_type": "code",
   "execution_count": 4,
   "metadata": {
    "collapsed": true
   },
   "outputs": [],
   "source": [
    "class CBCrisisModel(CrisisModel):\n",
    "    def __init__(self, agents):\n",
    "        agent1, agent2 = agents\n",
    "        if hasattr(agent1, \"set_new_case\"):\n",
    "            agent1.set_new_case(self.make_coordinates(agent2))\n",
    "            agent2.set_new_case(self.make_coordinates(agent1))\n",
    "        super().__init__(agents)\n",
    "    \n",
    "    @staticmethod\n",
    "    def make_coordinates(agent):\n",
    "        '''\n",
    "        Extract a coordinate tuple from a crisis agent\n",
    "        '''\n",
    "        return (agent.mil_strength, agent.assets, agent.bloc * 100)"
   ]
  },
  {
   "cell_type": "code",
   "execution_count": 5,
   "metadata": {
    "collapsed": true
   },
   "outputs": [],
   "source": [
    "class ChangingWorld(CrisisWorld):\n",
    "    def step(self):\n",
    "        \n",
    "        for agent in self.agents:\n",
    "            agent.mil_strength += random.normalvariate(0, 5)\n",
    "            agent.mil_strength = max(1, min(agent.mil_strength, 100))\n",
    "            agent.assets += random.normalvariate(0, 5)\n",
    "            agent.assets = max(1, min(agent.assets, 100))\n",
    "            if random.random() < 0.05:\n",
    "                agent.bloc = 1 - agent.bloc\n",
    "        super().step()"
   ]
  },
  {
   "cell_type": "markdown",
   "metadata": {},
   "source": [
    "## Experiment 2.1 -- 10 agents, $\\alpha=0.1$"
   ]
  },
  {
   "cell_type": "code",
   "execution_count": null,
   "metadata": {
    "collapsed": true
   },
   "outputs": [],
   "source": [
    "agent_args = {\"learning_rate\": 0.1,\n",
    "              \"discount_factor\": 0.9}\n",
    "N = 10"
   ]
  },
  {
   "cell_type": "markdown",
   "metadata": {},
   "source": [
    "## Experiment 2.2 -- 20 agents, $\\alpha=0.1$"
   ]
  },
  {
   "cell_type": "code",
   "execution_count": null,
   "metadata": {
    "collapsed": true
   },
   "outputs": [],
   "source": [
    "agent_args = {\"learning_rate\": 0.1,\n",
    "              \"discount_factor\": 0.9}\n",
    "N = 20"
   ]
  },
  {
   "cell_type": "code",
   "execution_count": null,
   "metadata": {
    "collapsed": false
   },
   "outputs": [],
   "source": [
    "rl_models = []\n",
    "cbrl_models = []\n",
    "\n",
    "for i in range(100):\n",
    "    seed = random.randint(1000, 100000)\n",
    "    model_1 = ChangingWorld(LearningAgent, N, agent_args=agent_args, seed=seed)\n",
    "    model_2 = ChangingWorld(CBRLPlayer, N, agent_args=agent_args, seed=seed)\n",
    "    model_2.model_class = CBCrisisModel\n",
    "    \n",
    "    model_1.run(100)\n",
    "    model_2.run(100)\n",
    "    rl_models.append(model_1)\n",
    "    cbrl_models.append(model_2)\n",
    "    \n",
    "    if i % 10 == 0:\n",
    "        print(i)"
   ]
  },
  {
   "cell_type": "code",
   "execution_count": null,
   "metadata": {
    "collapsed": false
   },
   "outputs": [],
   "source": [
    "rl_tables = []\n",
    "cbrl_tables = []\n",
    "\n",
    "for i in range(100):\n",
    "    m1 = rl_models[i]\n",
    "    df1 = m1.dc.get_table_dataframe(\"Interactions\")\n",
    "    df1[\"Seed\"] = m1.seed\n",
    "    rl_tables.append(df1)\n",
    "    \n",
    "    m2 = cbrl_models[i]\n",
    "    df2 = m2.dc.get_table_dataframe(\"Interactions\")\n",
    "    df2[\"Seed\"] = m2.seed\n",
    "    cbrl_tables.append(df2)"
   ]
  },
  {
   "cell_type": "code",
   "execution_count": null,
   "metadata": {
    "collapsed": false
   },
   "outputs": [],
   "source": [
    "rl_table = pd.concat(rl_tables)\n",
    "cbrl_table = pd.concat(cbrl_tables)"
   ]
  },
  {
   "cell_type": "code",
   "execution_count": null,
   "metadata": {
    "collapsed": false
   },
   "outputs": [],
   "source": [
    "with open(\"data_out/ex_2.1.pickle\", \"wb\") as f:\n",
    "    pickle.dump((rl_table, cbrl_table), f)"
   ]
  },
  {
   "cell_type": "markdown",
   "metadata": {},
   "source": [
    "## Experiment 2.3 - Vary learning rates"
   ]
  },
  {
   "cell_type": "code",
   "execution_count": null,
   "metadata": {
    "collapsed": true
   },
   "outputs": [],
   "source": [
    "agent_args = {\"learning_rate\": 0.1,\n",
    "              \"discount_factor\": 0.9}\n",
    "N = 10\n",
    "num_iter = 100"
   ]
  },
  {
   "cell_type": "code",
   "execution_count": null,
   "metadata": {
    "collapsed": false
   },
   "outputs": [],
   "source": [
    "rl_models = []\n",
    "cbrl_models = []\n",
    "\n",
    "for learning_rate in np.linspace(0.1, 1, 10):\n",
    "    agent_args = {\"learning_rate\": learning_rate,\n",
    "              \"discount_factor\": 1-learning_rate}\n",
    "    \n",
    "    for i in range(num_iter):\n",
    "        seed = random.randint(1000, 100000)\n",
    "        model_1 = ChangingWorld(LearningAgent, N, agent_args=agent_args, seed=seed)\n",
    "        model_2 = ChangingWorld(CBRLPlayer, N, agent_args=agent_args, seed=seed)\n",
    "        model_2.model_class = CBCrisisModel\n",
    "\n",
    "        model_1.run(100)\n",
    "        model_2.run(100)\n",
    "        rl_models.append(model_1)\n",
    "        cbrl_models.append(model_2)\n",
    "    \n",
    "    print(learning_rate)\n",
    "    "
   ]
  },
  {
   "cell_type": "code",
   "execution_count": null,
   "metadata": {
    "collapsed": false
   },
   "outputs": [],
   "source": [
    "rl_tables = []\n",
    "cbrl_tables = []\n",
    "run_table = []\n",
    "\n",
    "for i in range(len(rl_models)):\n",
    "    m1 = rl_models[i]\n",
    "    df1 = m1.dc.get_table_dataframe(\"Interactions\")\n",
    "    df1[\"Seed\"] = m1.seed\n",
    "    rl_tables.append(df1)\n",
    "    \n",
    "    m2 = cbrl_models[i]\n",
    "    df2 = m2.dc.get_table_dataframe(\"Interactions\")\n",
    "    df2[\"Seed\"] = m2.seed\n",
    "    cbrl_tables.append(df2)\n",
    "    \n",
    "    run_row = m1.agent_args.copy()\n",
    "    run_row[\"Seed\"] = m1.seed\n",
    "    run_table.append(run_row)"
   ]
  },
  {
   "cell_type": "code",
   "execution_count": null,
   "metadata": {
    "collapsed": true
   },
   "outputs": [],
   "source": [
    "rl_table = pd.concat(rl_tables)\n",
    "cbrl_table = pd.concat(cbrl_tables)\n",
    "seed_table = pd.DataFrame(run_table)\n",
    "with open(\"data_out/ex_2.3.pickle\", \"wb\") as f:\n",
    "    pickle.dump((rl_table, cbrl_table, seed_table), f)"
   ]
  },
  {
   "cell_type": "code",
   "execution_count": null,
   "metadata": {
    "collapsed": false
   },
   "outputs": [],
   "source": [
    "# Sidebar: how likely was I to get a seed collission?\n",
    "p_nocol = 1\n",
    "for i in range(499):\n",
    "    p_nocol *= (999000-i)/999000\n",
    "print(1 - p_nocol)\n"
   ]
  },
  {
   "cell_type": "markdown",
   "metadata": {},
   "source": [
    "# Experiment 2.4 - Delta-based coordinates"
   ]
  },
  {
   "cell_type": "code",
   "execution_count": 6,
   "metadata": {
    "collapsed": true
   },
   "outputs": [],
   "source": [
    "class CBCrisisModel2(CrisisModel):\n",
    "    def __init__(self, agents):\n",
    "        agent1, agent2 = agents\n",
    "        if hasattr(agent1, \"set_new_case\"):\n",
    "            agent1.set_new_case(self.make_coordinates(agent1, agent2))\n",
    "            agent2.set_new_case(self.make_coordinates(agent2, agent1))\n",
    "        super().__init__(agents)\n",
    "    \n",
    "    @staticmethod\n",
    "    def make_coordinates(agent, alter):\n",
    "        '''\n",
    "        Extract a coordinate tuple from a crisis agent\n",
    "        '''\n",
    "        d_mil = agent.mil_strength - alter.mil_strength\n",
    "        d_assets = agent.assets - alter.assets\n",
    "        d_bloc = (agent.bloc == alter.bloc) * 100\n",
    "        return (d_mil, d_assets, d_bloc)"
   ]
  },
  {
   "cell_type": "code",
   "execution_count": 8,
   "metadata": {
    "collapsed": true
   },
   "outputs": [],
   "source": [
    "agent_args = {\"learning_rate\": 0.5,\n",
    "              \"discount_factor\": 0.5}\n",
    "N = 10"
   ]
  },
  {
   "cell_type": "code",
   "execution_count": null,
   "metadata": {
    "collapsed": false
   },
   "outputs": [],
   "source": [
    "rl_models = []\n",
    "cbrl_models = []\n",
    "\n",
    "for i in range(100):\n",
    "    seed = random.randint(1000, 100000)\n",
    "    model_1 = ChangingWorld(LearningAgent, N, agent_args=agent_args, seed=seed)\n",
    "    model_2 = ChangingWorld(CBRLPlayer, N, agent_args=agent_args, seed=seed)\n",
    "    model_2.model_class = CBCrisisModel2\n",
    "    \n",
    "    model_1.run(100)\n",
    "    model_2.run(100)\n",
    "    rl_models.append(model_1)\n",
    "    cbrl_models.append(model_2)\n",
    "    \n",
    "    if i % 10 == 0:\n",
    "        print(i)"
   ]
  },
  {
   "cell_type": "code",
   "execution_count": null,
   "metadata": {
    "collapsed": true
   },
   "outputs": [],
   "source": [
    "rl_tables = []\n",
    "cbrl_tables = []\n",
    "\n",
    "for i in range(100):\n",
    "    m1 = rl_models[i]\n",
    "    df1 = m1.dc.get_table_dataframe(\"Interactions\")\n",
    "    df1[\"Seed\"] = m1.seed\n",
    "    rl_tables.append(df1)\n",
    "    \n",
    "    m2 = cbrl_models[i]\n",
    "    df2 = m2.dc.get_table_dataframe(\"Interactions\")\n",
    "    df2[\"Seed\"] = m2.seed\n",
    "    cbrl_tables.append(df2)"
   ]
  },
  {
   "cell_type": "code",
   "execution_count": null,
   "metadata": {
    "collapsed": true
   },
   "outputs": [],
   "source": [
    "rl_table = pd.concat(rl_tables)\n",
    "cbrl_table = pd.concat(cbrl_tables)\n",
    "with open(\"data_out/ex_2.4.pickle\", \"wb\") as f:\n",
    "    pickle.dump((rl_table, cbrl_table), f)"
   ]
  },
  {
   "cell_type": "markdown",
   "metadata": {},
   "source": [
    "# Experiment 2.5 - $\\Delta$-coords, vary learning rates"
   ]
  },
  {
   "cell_type": "code",
   "execution_count": 9,
   "metadata": {
    "collapsed": false
   },
   "outputs": [
    {
     "name": "stdout",
     "output_type": "stream",
     "text": [
      "0.1\n",
      "0.2\n",
      "0.3\n",
      "0.4\n",
      "0.5\n",
      "0.6\n",
      "0.7\n",
      "0.8\n",
      "0.9\n",
      "1.0\n"
     ]
    }
   ],
   "source": [
    "rl_models = []\n",
    "cbrl_models = []\n",
    "\n",
    "all_seeds = set()\n",
    "num_iter = 100\n",
    "\n",
    "for learning_rate in np.linspace(0.1, 1, 10):\n",
    "    agent_args = {\"learning_rate\": learning_rate,\n",
    "              \"discount_factor\": 1-learning_rate}\n",
    "    \n",
    "    for i in range(num_iter):\n",
    "        seed = random.randint(1000, 100000)\n",
    "        while seed in all_seeds:\n",
    "            seed = random.randint(1000, 100000)\n",
    "        all_seeds.add(seed)\n",
    "        \n",
    "        model_1 = ChangingWorld(LearningAgent, N, agent_args=agent_args, seed=seed)\n",
    "        model_2 = ChangingWorld(CBRLPlayer, N, agent_args=agent_args, seed=seed)\n",
    "        model_2.model_class = CBCrisisModel2\n",
    "\n",
    "        model_1.run(100)\n",
    "        model_2.run(100)\n",
    "        rl_models.append(model_1)\n",
    "        cbrl_models.append(model_2)\n",
    "    \n",
    "    print(learning_rate)"
   ]
  },
  {
   "cell_type": "code",
   "execution_count": 10,
   "metadata": {
    "collapsed": true
   },
   "outputs": [],
   "source": [
    "rl_tables = []\n",
    "cbrl_tables = []\n",
    "run_table = []\n",
    "\n",
    "for i in range(len(rl_models)):\n",
    "    m1 = rl_models[i]\n",
    "    df1 = m1.dc.get_table_dataframe(\"Interactions\")\n",
    "    df1[\"Seed\"] = m1.seed\n",
    "    rl_tables.append(df1)\n",
    "    \n",
    "    m2 = cbrl_models[i]\n",
    "    df2 = m2.dc.get_table_dataframe(\"Interactions\")\n",
    "    df2[\"Seed\"] = m2.seed\n",
    "    cbrl_tables.append(df2)\n",
    "    \n",
    "    run_row = m1.agent_args.copy()\n",
    "    run_row[\"Seed\"] = m1.seed\n",
    "    run_table.append(run_row)\n",
    "\n",
    "rl_table = pd.concat(rl_tables)\n",
    "cbrl_table = pd.concat(cbrl_tables)\n",
    "seed_table = pd.DataFrame(run_table)\n",
    "with open(\"data_out/ex_2.5.pickle\", \"wb\") as f:\n",
    "    pickle.dump((rl_table, cbrl_table, seed_table), f)"
   ]
  },
  {
   "cell_type": "code",
   "execution_count": null,
   "metadata": {
    "collapsed": true
   },
   "outputs": [],
   "source": []
  }
 ],
 "metadata": {
  "kernelspec": {
   "display_name": "Python 3",
   "language": "python",
   "name": "python3"
  },
  "language_info": {
   "codemirror_mode": {
    "name": "ipython",
    "version": 3
   },
   "file_extension": ".py",
   "mimetype": "text/x-python",
   "name": "python",
   "nbconvert_exporter": "python",
   "pygments_lexer": "ipython3",
   "version": "3.4.2"
  }
 },
 "nbformat": 4,
 "nbformat_minor": 0
}
