{
 "cells": [
  {
   "cell_type": "code",
   "execution_count": 1,
   "metadata": {
    "collapsed": false
   },
   "outputs": [],
   "source": [
    "import csv\n",
    "from collections import Counter\n",
    "import pandas as pd\n",
    "import matplotlib.pyplot as plt\n",
    "%matplotlib inline\n",
    "\n",
    "from consul.agent_types.rl_agent import RLAgent\n",
    "from consul.agent_types.cbr_agent import CaseBased_RLAgent\n",
    "from war_reason import *\n",
    "from war_reason_implementations import *"
   ]
  },
  {
   "cell_type": "markdown",
   "metadata": {},
   "source": [
    "# Load the data"
   ]
  },
  {
   "cell_type": "code",
   "execution_count": 2,
   "metadata": {
    "collapsed": true
   },
   "outputs": [],
   "source": [
    "data = pd.read_pickle(\"FullData.pickle\")"
   ]
  },
  {
   "cell_type": "code",
   "execution_count": 3,
   "metadata": {
    "collapsed": true
   },
   "outputs": [],
   "source": [
    "# The Game-Theoretic Equilibrium\n",
    "equilibrium_cols = ['eqTsq', 'eqTnego', 'eqTacqa', 'eqTacqb', 'eqTcapa', 'eqTcapb', \n",
    "                'eqTwara', 'eqTwarb']\n",
    "\n",
    "data[\"Equilibrium\"] = \"\"\n",
    "for col in equilibrium_cols:\n",
    "    data.loc[data[col] == 1, \"Equilibrium\"] = col\n",
    "\n",
    "# Cutting out missing data\n",
    "data = data[data.Equilibrium!=\"\"]"
   ]
  },
  {
   "cell_type": "code",
   "execution_count": 4,
   "metadata": {
    "collapsed": true
   },
   "outputs": [],
   "source": [
    "# Observed outcomes\n",
    "data[\"Outcome\"] = \"\"\n",
    "\n",
    "data.loc[((data.cwhost1<2) & (data.cwhost2<2)), \"Outcome\"] = \"StatusQuo\"\n",
    "data.loc[((data.cwhost1>3) & (data.cwhost2>3)), \"Outcome\"] = \"War\"\n",
    "data.loc[((data.cwhost1==data.cwhost2) & (data.cwhost1>1) & \n",
    "          (data.cwhost1<4)), \"Outcome\"] = \"Negotiation\"\n",
    "data.loc[((data.cwhost1>data.cwhost2) & (data.cwhost1>1) & \n",
    "          (data.cwhost1<4)), \"Outcome\"] = \"Acquiesce_B\"\n",
    "data.loc[((data.cwhost1<data.cwhost2) & (data.cwhost2>1) & \n",
    "          (data.cwhost2<4)), \"Outcome\"] = \"Acquiesce_A\"\n",
    "data.loc[((data.cwhost1>data.cwhost2) & (data.cwhost1>3)), \"Outcome\"] = \"Capitulate_B\"\n",
    "data.loc[((data.cwhost1<data.cwhost2) & (data.cwhost2>3)), \"Outcome\"] = \"Capitulate_A\""
   ]
  },
  {
   "cell_type": "code",
   "execution_count": 5,
   "metadata": {
    "collapsed": true
   },
   "outputs": [],
   "source": [
    "# OPTIONAL\n",
    "## Boost all utilities by a fixed factor\n",
    "for col in data.columns:\n",
    "    if col[:4] == \"wrTu\":\n",
    "        data[col] *= 8"
   ]
  },
  {
   "cell_type": "code",
   "execution_count": 6,
   "metadata": {
    "collapsed": true
   },
   "outputs": [],
   "source": [
    "class CollectiveCBRAgent(CBRAgent):\n",
    "    tree = PointDB(3)\n",
    "    experience_library = defaultdict(lambda: defaultdict(float))\n",
    "    \n",
    "    def __init__(self, *args, **kwargs):\n",
    "        super().__init__(*args, **kwargs)\n",
    "        self.tree = self.__class__.tree\n",
    "        self.experience_library = self.__class__.experience_library\n",
    "\n",
    "    def set_new_case(self, coords):\n",
    "        '''\n",
    "        Find the current working case and set it as the current experience.\n",
    "        '''\n",
    "        self.current_coords = coords\n",
    "        if len(self.experience_library)>2:\n",
    "            self.current_case = self._get_nearest_neighbor(coords)\n",
    "        else:\n",
    "            self.current_case = coords\n",
    "        self.experience = self.experience_library[self.current_case]"
   ]
  },
  {
   "cell_type": "markdown",
   "metadata": {},
   "source": [
    "## Fit the CB Model"
   ]
  },
  {
   "cell_type": "code",
   "execution_count": 7,
   "metadata": {
    "collapsed": false
   },
   "outputs": [],
   "source": [
    "eugene_world = EUGeneWorld(CollectiveCBRAgent, data, \n",
    "                           agent_args={\"learning_rate\": 0.2, \"discount_factor\": 0.9},\n",
    "                           copy_data=True, shuffle_rows=True)"
   ]
  },
  {
   "cell_type": "code",
   "execution_count": 8,
   "metadata": {
    "collapsed": false
   },
   "outputs": [
    {
     "name": "stdout",
     "output_type": "stream",
     "text": [
      "0\n",
      "50000\n",
      "100000\n",
      "150000\n",
      "200000\n",
      "250000\n",
      "300000\n",
      "350000\n",
      "400000\n",
      "450000\n"
     ]
    },
    {
     "ename": "KeyboardInterrupt",
     "evalue": "",
     "output_type": "error",
     "traceback": [
      "\u001b[0;31m---------------------------------------------------------------------------\u001b[0m",
      "\u001b[0;31mKeyboardInterrupt\u001b[0m                         Traceback (most recent call last)",
      "\u001b[0;32m<ipython-input-8-54b74a6ddc6e>\u001b[0m in \u001b[0;36m<module>\u001b[0;34m()\u001b[0m\n\u001b[1;32m      1\u001b[0m eugene_world.run(report_every=50000, \n\u001b[1;32m      2\u001b[0m                  model_assessors={\"Model_Outcome\": lambda m: m.current_node,\n\u001b[0;32m----> 3\u001b[0;31m                                   \"Move_Quality\": assess_moves})\n\u001b[0m",
      "\u001b[0;32m/Users/dmasad/Programming/DissertationResearch/consul/models/war_reason_model/war_reason.py\u001b[0m in \u001b[0;36mrun\u001b[0;34m(self, report_every, model_assessors)\u001b[0m\n\u001b[1;32m    364\u001b[0m             \u001b[0;32mif\u001b[0m \u001b[0mreport_every\u001b[0m \u001b[0;32mis\u001b[0m \u001b[0;32mnot\u001b[0m \u001b[0;32mNone\u001b[0m \u001b[0;32mand\u001b[0m \u001b[0mcount\u001b[0m \u001b[0;34m%\u001b[0m \u001b[0mreport_every\u001b[0m \u001b[0;34m==\u001b[0m \u001b[0;36m0\u001b[0m\u001b[0;34m:\u001b[0m\u001b[0;34m\u001b[0m\u001b[0m\n\u001b[1;32m    365\u001b[0m                 \u001b[0mprint\u001b[0m\u001b[0;34m(\u001b[0m\u001b[0mcount\u001b[0m\u001b[0;34m)\u001b[0m\u001b[0;34m\u001b[0m\u001b[0m\n\u001b[0;32m--> 366\u001b[0;31m             \u001b[0mm\u001b[0m \u001b[0;34m=\u001b[0m \u001b[0mself\u001b[0m\u001b[0;34m.\u001b[0m\u001b[0mstep\u001b[0m\u001b[0;34m(\u001b[0m\u001b[0mrow\u001b[0m\u001b[0;34m,\u001b[0m \u001b[0mreturn_result\u001b[0m\u001b[0;34m=\u001b[0m\u001b[0;32mFalse\u001b[0m\u001b[0;34m)\u001b[0m\u001b[0;34m\u001b[0m\u001b[0m\n\u001b[0m\u001b[1;32m    367\u001b[0m             \u001b[0;32mfor\u001b[0m \u001b[0mname\u001b[0m\u001b[0;34m,\u001b[0m \u001b[0massessor\u001b[0m \u001b[0;32min\u001b[0m \u001b[0mmodel_assessors\u001b[0m\u001b[0;34m.\u001b[0m\u001b[0mitems\u001b[0m\u001b[0;34m(\u001b[0m\u001b[0;34m)\u001b[0m\u001b[0;34m:\u001b[0m\u001b[0;34m\u001b[0m\u001b[0m\n\u001b[1;32m    368\u001b[0m                 \u001b[0mr\u001b[0m \u001b[0;34m=\u001b[0m \u001b[0massessor\u001b[0m\u001b[0;34m(\u001b[0m\u001b[0mm\u001b[0m\u001b[0;34m)\u001b[0m\u001b[0;34m\u001b[0m\u001b[0m\n",
      "\u001b[0;32m/Users/dmasad/Programming/DissertationResearch/consul/models/war_reason_model/war_reason.py\u001b[0m in \u001b[0;36mstep\u001b[0;34m(self, row, return_result, training)\u001b[0m\n\u001b[1;32m    305\u001b[0m \u001b[0;34m\u001b[0m\u001b[0m\n\u001b[1;32m    306\u001b[0m         \u001b[0;31m# Reset best_moves\u001b[0m\u001b[0;34m\u001b[0m\u001b[0;34m\u001b[0m\u001b[0m\n\u001b[0;32m--> 307\u001b[0;31m         \u001b[0magent1\u001b[0m\u001b[0;34m.\u001b[0m\u001b[0mstart_conflict\u001b[0m\u001b[0;34m(\u001b[0m\u001b[0mself\u001b[0m\u001b[0;34m,\u001b[0m \u001b[0magent2\u001b[0m\u001b[0;34m)\u001b[0m\u001b[0;34m\u001b[0m\u001b[0m\n\u001b[0m\u001b[1;32m    308\u001b[0m         \u001b[0magent2\u001b[0m\u001b[0;34m.\u001b[0m\u001b[0mstart_conflict\u001b[0m\u001b[0;34m(\u001b[0m\u001b[0mself\u001b[0m\u001b[0;34m,\u001b[0m \u001b[0magent1\u001b[0m\u001b[0;34m)\u001b[0m\u001b[0;34m\u001b[0m\u001b[0m\n\u001b[1;32m    309\u001b[0m \u001b[0;34m\u001b[0m\u001b[0m\n",
      "\u001b[0;32m/Users/dmasad/Programming/DissertationResearch/consul/models/war_reason_model/war_reason_implementations.py\u001b[0m in \u001b[0;36mstart_conflict\u001b[0;34m(self, world, rival)\u001b[0m\n\u001b[1;32m    114\u001b[0m \u001b[0;34m\u001b[0m\u001b[0m\n\u001b[1;32m    115\u001b[0m         \u001b[0mcase\u001b[0m \u001b[0;34m=\u001b[0m \u001b[0;34m(\u001b[0m\u001b[0mround\u001b[0m\u001b[0;34m(\u001b[0m\u001b[0mmy_stakes\u001b[0m\u001b[0;34m,\u001b[0m \u001b[0;36m0\u001b[0m\u001b[0;34m)\u001b[0m\u001b[0;34m,\u001b[0m \u001b[0mround\u001b[0m\u001b[0;34m(\u001b[0m\u001b[0mtheir_stakes\u001b[0m\u001b[0;34m,\u001b[0m \u001b[0;36m0\u001b[0m\u001b[0;34m)\u001b[0m\u001b[0;34m,\u001b[0m \u001b[0mp_win\u001b[0m\u001b[0;34m*\u001b[0m\u001b[0;36m20\u001b[0m\u001b[0;34m)\u001b[0m\u001b[0;34m\u001b[0m\u001b[0m\n\u001b[0;32m--> 116\u001b[0;31m         \u001b[0mself\u001b[0m\u001b[0;34m.\u001b[0m\u001b[0mset_new_case\u001b[0m\u001b[0;34m(\u001b[0m\u001b[0mcase\u001b[0m\u001b[0;34m)\u001b[0m\u001b[0;34m\u001b[0m\u001b[0m\n\u001b[0m\u001b[1;32m    117\u001b[0m \u001b[0;34m\u001b[0m\u001b[0m\n\u001b[1;32m    118\u001b[0m \u001b[0;32mclass\u001b[0m \u001b[0mCollectiveCBRAgent\u001b[0m\u001b[0;34m(\u001b[0m\u001b[0mRLAgent\u001b[0m\u001b[0;34m,\u001b[0m \u001b[0mWarAgent\u001b[0m\u001b[0;34m)\u001b[0m\u001b[0;34m:\u001b[0m\u001b[0;34m\u001b[0m\u001b[0m\n",
      "\u001b[0;32m<ipython-input-6-8f252c0df54a>\u001b[0m in \u001b[0;36mset_new_case\u001b[0;34m(self, coords)\u001b[0m\n\u001b[1;32m     14\u001b[0m         \u001b[0mself\u001b[0m\u001b[0;34m.\u001b[0m\u001b[0mcurrent_coords\u001b[0m \u001b[0;34m=\u001b[0m \u001b[0mcoords\u001b[0m\u001b[0;34m\u001b[0m\u001b[0m\n\u001b[1;32m     15\u001b[0m         \u001b[0;32mif\u001b[0m \u001b[0mlen\u001b[0m\u001b[0;34m(\u001b[0m\u001b[0mself\u001b[0m\u001b[0;34m.\u001b[0m\u001b[0mexperience_library\u001b[0m\u001b[0;34m)\u001b[0m\u001b[0;34m>\u001b[0m\u001b[0;36m2\u001b[0m\u001b[0;34m:\u001b[0m\u001b[0;34m\u001b[0m\u001b[0m\n\u001b[0;32m---> 16\u001b[0;31m             \u001b[0mself\u001b[0m\u001b[0;34m.\u001b[0m\u001b[0mcurrent_case\u001b[0m \u001b[0;34m=\u001b[0m \u001b[0mself\u001b[0m\u001b[0;34m.\u001b[0m\u001b[0m_get_nearest_neighbor\u001b[0m\u001b[0;34m(\u001b[0m\u001b[0mcoords\u001b[0m\u001b[0;34m)\u001b[0m\u001b[0;34m\u001b[0m\u001b[0m\n\u001b[0m\u001b[1;32m     17\u001b[0m         \u001b[0;32melse\u001b[0m\u001b[0;34m:\u001b[0m\u001b[0;34m\u001b[0m\u001b[0m\n\u001b[1;32m     18\u001b[0m             \u001b[0mself\u001b[0m\u001b[0;34m.\u001b[0m\u001b[0mcurrent_case\u001b[0m \u001b[0;34m=\u001b[0m \u001b[0mcoords\u001b[0m\u001b[0;34m\u001b[0m\u001b[0m\n",
      "\u001b[0;32m/Users/dmasad/Programming/DissertationResearch/consul/models/war_reason_model/war_reason_implementations.py\u001b[0m in \u001b[0;36m_get_nearest_neighbor\u001b[0;34m(self, coords)\u001b[0m\n\u001b[1;32m     99\u001b[0m \u001b[0;34m\u001b[0m\u001b[0m\n\u001b[1;32m    100\u001b[0m     \u001b[0;32mdef\u001b[0m \u001b[0m_get_nearest_neighbor\u001b[0m\u001b[0;34m(\u001b[0m\u001b[0mself\u001b[0m\u001b[0;34m,\u001b[0m \u001b[0mcoords\u001b[0m\u001b[0;34m)\u001b[0m\u001b[0;34m:\u001b[0m\u001b[0;34m\u001b[0m\u001b[0m\n\u001b[0;32m--> 101\u001b[0;31m         \u001b[0mneighbor_index\u001b[0m \u001b[0;34m=\u001b[0m \u001b[0mself\u001b[0m\u001b[0;34m.\u001b[0m\u001b[0mtree\u001b[0m\u001b[0;34m.\u001b[0m\u001b[0mget_nearest\u001b[0m\u001b[0;34m(\u001b[0m\u001b[0mcoords\u001b[0m\u001b[0;34m)\u001b[0m\u001b[0;34m\u001b[0m\u001b[0m\n\u001b[0m\u001b[1;32m    102\u001b[0m \u001b[0;34m\u001b[0m\u001b[0m\n\u001b[1;32m    103\u001b[0m     \u001b[0;32mdef\u001b[0m \u001b[0mstart_conflict\u001b[0m\u001b[0;34m(\u001b[0m\u001b[0mself\u001b[0m\u001b[0;34m,\u001b[0m \u001b[0mworld\u001b[0m\u001b[0;34m,\u001b[0m \u001b[0mrival\u001b[0m\u001b[0;34m)\u001b[0m\u001b[0;34m:\u001b[0m\u001b[0;34m\u001b[0m\u001b[0m\n",
      "\u001b[0;32m/Users/dmasad/Programming/DissertationResearch/consul/models/war_reason_model/war_reason_implementations.py\u001b[0m in \u001b[0;36mget_nearest\u001b[0;34m(self, point)\u001b[0m\n\u001b[1;32m     79\u001b[0m             \u001b[0;32mraise\u001b[0m \u001b[0mException\u001b[0m\u001b[0;34m(\u001b[0m\u001b[0;34m\"Incorrect dimension\"\u001b[0m\u001b[0;34m)\u001b[0m\u001b[0;34m\u001b[0m\u001b[0m\n\u001b[1;32m     80\u001b[0m         \u001b[0mbox\u001b[0m \u001b[0;34m=\u001b[0m \u001b[0mtuple\u001b[0m\u001b[0;34m(\u001b[0m\u001b[0mlist\u001b[0m\u001b[0;34m(\u001b[0m\u001b[0mpoint\u001b[0m\u001b[0;34m)\u001b[0m\u001b[0;34m*\u001b[0m\u001b[0;36m2\u001b[0m\u001b[0;34m)\u001b[0m\u001b[0;34m\u001b[0m\u001b[0m\n\u001b[0;32m---> 81\u001b[0;31m         \u001b[0mkey\u001b[0m \u001b[0;34m=\u001b[0m \u001b[0mlist\u001b[0m\u001b[0;34m(\u001b[0m\u001b[0mself\u001b[0m\u001b[0;34m.\u001b[0m\u001b[0mindex\u001b[0m\u001b[0;34m.\u001b[0m\u001b[0mnearest\u001b[0m\u001b[0;34m(\u001b[0m\u001b[0mbox\u001b[0m\u001b[0;34m)\u001b[0m\u001b[0;34m)\u001b[0m\u001b[0;34m\u001b[0m\u001b[0m\n\u001b[0m\u001b[1;32m     82\u001b[0m         \u001b[0;32mreturn\u001b[0m \u001b[0mself\u001b[0m\u001b[0;34m.\u001b[0m\u001b[0mpoints\u001b[0m\u001b[0;34m[\u001b[0m\u001b[0mkey\u001b[0m\u001b[0;34m[\u001b[0m\u001b[0;36m0\u001b[0m\u001b[0;34m]\u001b[0m\u001b[0;34m]\u001b[0m\u001b[0;34m\u001b[0m\u001b[0m\n\u001b[1;32m     83\u001b[0m \u001b[0;34m\u001b[0m\u001b[0m\n",
      "\u001b[0;32m/Users/dmasad/.virtualenvs/consul/lib/python3.4/site-packages/Rtree-0.8.2-py3.4.egg/rtree/index.py\u001b[0m in \u001b[0;36mnearest\u001b[0;34m(self, coordinates, num_results, objects)\u001b[0m\n\u001b[1;32m    561\u001b[0m                                             \u001b[0mself\u001b[0m\u001b[0;34m.\u001b[0m\u001b[0mproperties\u001b[0m\u001b[0;34m.\u001b[0m\u001b[0mdimension\u001b[0m\u001b[0;34m,\u001b[0m\u001b[0;34m\u001b[0m\u001b[0m\n\u001b[1;32m    562\u001b[0m                                             \u001b[0mctypes\u001b[0m\u001b[0;34m.\u001b[0m\u001b[0mbyref\u001b[0m\u001b[0;34m(\u001b[0m\u001b[0mit\u001b[0m\u001b[0;34m)\u001b[0m\u001b[0;34m,\u001b[0m\u001b[0;34m\u001b[0m\u001b[0m\n\u001b[0;32m--> 563\u001b[0;31m                                             p_num_results)\n\u001b[0m\u001b[1;32m    564\u001b[0m \u001b[0;34m\u001b[0m\u001b[0m\n\u001b[1;32m    565\u001b[0m         \u001b[0;32mreturn\u001b[0m \u001b[0mself\u001b[0m\u001b[0;34m.\u001b[0m\u001b[0m_get_ids\u001b[0m\u001b[0;34m(\u001b[0m\u001b[0mit\u001b[0m\u001b[0;34m,\u001b[0m \u001b[0mp_num_results\u001b[0m\u001b[0;34m.\u001b[0m\u001b[0mcontents\u001b[0m\u001b[0;34m.\u001b[0m\u001b[0mvalue\u001b[0m\u001b[0;34m)\u001b[0m\u001b[0;34m\u001b[0m\u001b[0m\n",
      "\u001b[0;32m/Users/dmasad/.virtualenvs/consul/lib/python3.4/site-packages/Rtree-0.8.2-py3.4.egg/rtree/core.py\u001b[0m in \u001b[0;36mcheck_return\u001b[0;34m(result, func, cargs)\u001b[0m\n\u001b[1;32m      9\u001b[0m     \u001b[0;32mpass\u001b[0m\u001b[0;34m\u001b[0m\u001b[0m\n\u001b[1;32m     10\u001b[0m \u001b[0;34m\u001b[0m\u001b[0m\n\u001b[0;32m---> 11\u001b[0;31m \u001b[0;32mdef\u001b[0m \u001b[0mcheck_return\u001b[0m\u001b[0;34m(\u001b[0m\u001b[0mresult\u001b[0m\u001b[0;34m,\u001b[0m \u001b[0mfunc\u001b[0m\u001b[0;34m,\u001b[0m \u001b[0mcargs\u001b[0m\u001b[0;34m)\u001b[0m\u001b[0;34m:\u001b[0m\u001b[0;34m\u001b[0m\u001b[0m\n\u001b[0m\u001b[1;32m     12\u001b[0m     \u001b[0;34m\"Error checking for Error calls\"\u001b[0m\u001b[0;34m\u001b[0m\u001b[0m\n\u001b[1;32m     13\u001b[0m     \u001b[0;32mif\u001b[0m \u001b[0mresult\u001b[0m \u001b[0;34m!=\u001b[0m \u001b[0;36m0\u001b[0m\u001b[0;34m:\u001b[0m\u001b[0;34m\u001b[0m\u001b[0m\n",
      "\u001b[0;31mKeyboardInterrupt\u001b[0m: "
     ]
    }
   ],
   "source": [
    "eugene_world.run(report_every=50000, \n",
    "                 model_assessors={\"Model_Outcome\": lambda m: m.current_node,\n",
    "                                  \"Move_Quality\": assess_moves})"
   ]
  },
  {
   "cell_type": "code",
   "execution_count": null,
   "metadata": {
    "collapsed": true
   },
   "outputs": [],
   "source": [
    "import datetime as dt\n",
    "print dt.datetime.now()"
   ]
  },
  {
   "cell_type": "code",
   "execution_count": null,
   "metadata": {
    "collapsed": false
   },
   "outputs": [],
   "source": [
    "data = eugene_world.eugene_data"
   ]
  },
  {
   "cell_type": "code",
   "execution_count": null,
   "metadata": {
    "collapsed": false
   },
   "outputs": [],
   "source": [
    "outcome_matching = {\n",
    "    \"eqTacqa\": [\"Acquiesce_A\"],\n",
    "    \"eqTacqb\": [\"Acquiesce_B\"],\n",
    "    \"eqTnego\": [\"Negotiate_1\", \"Negotiate_2\"],\n",
    "    \"eqTsq\": [\"StatusQuo\"],\n",
    "    \"eqTwara\": [\"War_A1\", \"War_A2\"],\n",
    "    \"eqTwarb\": [\"War_B1\", \"War_B2\"]}\n",
    "\n",
    "data[\"Outcome_Check\"] = 0\n",
    "for key, vals in outcome_matching.items():\n",
    "    data.loc[((data.Equilibrium==key) & \n",
    "                   (data.Model_Outcome.isin(vals))), \"Outcome_Check\"] = 1\n",
    "\n",
    "outcome_check = data.Outcome_Check\n",
    "#plt.plot(pd.rolling_mean(outcome_check, 1000))"
   ]
  },
  {
   "cell_type": "code",
   "execution_count": null,
   "metadata": {
    "collapsed": false
   },
   "outputs": [],
   "source": [
    "mean_outcome = data.groupby(\"year\").aggregate(\"mean\")[\"Outcome_Check\"]\n",
    "mean_outcome.plot()"
   ]
  },
  {
   "cell_type": "code",
   "execution_count": null,
   "metadata": {
    "collapsed": false
   },
   "outputs": [],
   "source": [
    "data.Model_Outcome.value_counts()"
   ]
  },
  {
   "cell_type": "code",
   "execution_count": null,
   "metadata": {
    "collapsed": false
   },
   "outputs": [],
   "source": [
    "data.head()"
   ]
  },
  {
   "cell_type": "markdown",
   "metadata": {},
   "source": [
    "# Run several iterations of a model"
   ]
  },
  {
   "cell_type": "code",
   "execution_count": null,
   "metadata": {
    "collapsed": false
   },
   "outputs": [],
   "source": [
    "fitted_data = []\n",
    "save_cols = [\"year\", \"ccode1\", \"ccode2\", \"Equilibrium\", \"Outcome\", \"Model_Outcome\"]\n",
    "\n",
    "for i in range(2):\n",
    "    eugene_world = EUGeneWorld(RLAgent, data, \n",
    "                           agent_args={\"learning_rate\": 0.1, \"discount_factor\": 0.9},\n",
    "                           copy_data=True, shuffle_rows=True)\n",
    "    eugene_world.run(report_every=2000000,\n",
    "        model_assessors={\"Model_Outcome\": lambda m: m.current_node})\n",
    "    next_data = eugene_world.eugene_data.loc[:,save_cols]\n",
    "    next_data[\"Iteration\"] = i\n",
    "    fitted_data.append(next_data)\n",
    "    print(i)"
   ]
  },
  {
   "cell_type": "code",
   "execution_count": null,
   "metadata": {
    "collapsed": true
   },
   "outputs": [],
   "source": [
    "data = pd.concat(fitted_data)"
   ]
  },
  {
   "cell_type": "code",
   "execution_count": null,
   "metadata": {
    "collapsed": false
   },
   "outputs": [],
   "source": [
    "data.Iteration.unique()"
   ]
  },
  {
   "cell_type": "code",
   "execution_count": null,
   "metadata": {
    "collapsed": true
   },
   "outputs": [],
   "source": [
    "outcome_matching = {\n",
    "    \"eqTacqa\": [\"Acquiesce_A\"],\n",
    "    \"eqTacqb\": [\"Acquiesce_B\"],\n",
    "    \"eqTnego\": [\"Negotiate_1\", \"Negotiate_2\"],\n",
    "    \"eqTsq\": [\"StatusQuo\"],\n",
    "    \"eqTwara\": [\"War_A1\", \"War_A2\"],\n",
    "    \"eqTwarb\": [\"War_B1\", \"War_B2\"]}\n",
    "\n",
    "data[\"Outcome_Check\"] = 0\n",
    "for key, vals in outcome_matching.items():\n",
    "    data.loc[((data.Equilibrium==key) & \n",
    "                   (data.Model_Outcome.isin(vals))), \"Outcome_Check\"] = 1"
   ]
  },
  {
   "cell_type": "code",
   "execution_count": null,
   "metadata": {
    "collapsed": false
   },
   "outputs": [],
   "source": [
    "for group in data.groupby(\"Iteration\"):\n",
    "    mean_outcome = group[1].groupby(\"year\").aggregate(\"mean\")[\"Outcome_Check\"]\n",
    "    mean_outcome.plot()"
   ]
  },
  {
   "cell_type": "markdown",
   "metadata": {},
   "source": [
    "## Does the model prediction predict the actual outcome?"
   ]
  },
  {
   "cell_type": "code",
   "execution_count": null,
   "metadata": {
    "collapsed": true
   },
   "outputs": [],
   "source": [
    "data = data[(data.cwhost1!=-9) & (data.cwhost2!=-9)]"
   ]
  },
  {
   "cell_type": "code",
   "execution_count": null,
   "metadata": {
    "collapsed": true
   },
   "outputs": [],
   "source": [
    "model_dummies = pd.get_dummies(data.Model_Outcome)"
   ]
  },
  {
   "cell_type": "code",
   "execution_count": null,
   "metadata": {
    "collapsed": false
   },
   "outputs": [],
   "source": [
    "model_dummies.columns"
   ]
  },
  {
   "cell_type": "code",
   "execution_count": null,
   "metadata": {
    "collapsed": true
   },
   "outputs": [],
   "source": [
    "model_dummies[\"Negotiate\"] = (model_dummies.Negotiate_1 + \n",
    "                                    model_dummies.Negotiate_2)\n",
    "\n",
    "model_dummies[\"War\"] = (model_dummies.War_A1 + model_dummies.War_A2 + \n",
    "                        model_dummies.War_B1 + model_dummies.War_B2)"
   ]
  },
  {
   "cell_type": "code",
   "execution_count": null,
   "metadata": {
    "collapsed": false
   },
   "outputs": [],
   "source": [
    "model_dummies[\"Const.\"] = 1"
   ]
  },
  {
   "cell_type": "code",
   "execution_count": null,
   "metadata": {
    "collapsed": false
   },
   "outputs": [],
   "source": [
    "data.Outcome.value_counts()"
   ]
  },
  {
   "cell_type": "code",
   "execution_count": null,
   "metadata": {
    "collapsed": true
   },
   "outputs": [],
   "source": [
    "data[\"Acquiesce_A\"] = 0\n",
    "data.loc[data.Outcome==\"Acquiesce_A\", \"Acquiesce_A\"] = 1\n",
    "data[\"Negotiation\"] = 0\n",
    "data.loc[data.Outcome==\"Negotiation\", \"Negotiation\"] = 1\n",
    "data[\"War\"] = 0\n",
    "data.loc[data.Outcome==\"War\", \"War\"] = 1\n"
   ]
  },
  {
   "cell_type": "code",
   "execution_count": null,
   "metadata": {
    "collapsed": true
   },
   "outputs": [],
   "source": [
    "import statsmodels.api as sm"
   ]
  },
  {
   "cell_type": "code",
   "execution_count": null,
   "metadata": {
    "collapsed": false
   },
   "outputs": [],
   "source": [
    "x_cols = [\"Acquiesce_A\", \"Acquiesce_B\", \"Negotiate\", \"War\", \"Const.\"]\n",
    "logit = sm.Logit(data.Acquiesce_A, model_dummies[x_cols])\n",
    "#logit = sm.Logit(data.Negotiation, model_dummies[x_cols])\n",
    "result = logit.fit()\n",
    "print(result.summary())"
   ]
  },
  {
   "cell_type": "code",
   "execution_count": null,
   "metadata": {
    "collapsed": false
   },
   "outputs": [],
   "source": [
    "x_cols = [\"Acquiesce_A\", \"Acquiesce_B\", \"Negotiate\", \"War\", \"Const.\"]\n",
    "logit = sm.Logit(data.Negotiation, model_dummies[x_cols])\n",
    "#logit = sm.Logit(data.Negotiation, model_dummies[x_cols])\n",
    "result = logit.fit()\n",
    "print(result.summary())"
   ]
  },
  {
   "cell_type": "code",
   "execution_count": null,
   "metadata": {
    "collapsed": false
   },
   "outputs": [],
   "source": [
    "x_cols = [\"Acquiesce_A\", \"Acquiesce_B\", \"Negotiate\", \"War\", \"Const.\"]\n",
    "logit = sm.Logit(data.War, model_dummies[x_cols])\n",
    "result = logit.fit()\n",
    "print(result.summary())"
   ]
  },
  {
   "cell_type": "markdown",
   "metadata": {},
   "source": [
    "### Only a subset of the data"
   ]
  },
  {
   "cell_type": "code",
   "execution_count": null,
   "metadata": {
    "collapsed": false
   },
   "outputs": [],
   "source": [
    "START = 1980\n",
    "subset = data[data.year>START]\n",
    "dummies_subset = model_dummies[data.year>START]"
   ]
  },
  {
   "cell_type": "code",
   "execution_count": null,
   "metadata": {
    "collapsed": false,
    "scrolled": true
   },
   "outputs": [],
   "source": [
    "x_cols = [\"Acquiesce_A\", \"Acquiesce_B\", \"Negotiate\", \"War\", \"Const.\"]\n",
    "logit = sm.Logit(subset.Acquiesce_A, dummies_subset[x_cols])\n",
    "result = logit.fit()\n",
    "print(result.summary())"
   ]
  },
  {
   "cell_type": "code",
   "execution_count": null,
   "metadata": {
    "collapsed": false
   },
   "outputs": [],
   "source": [
    "x_cols = [\"Acquiesce_A\", \"Acquiesce_B\", \"Negotiate\", \"War\", \"Const.\"]\n",
    "logit = sm.Logit(subset.War, dummies_subset[x_cols])\n",
    "result = logit.fit()\n",
    "print(result.summary())"
   ]
  },
  {
   "cell_type": "code",
   "execution_count": null,
   "metadata": {
    "collapsed": true
   },
   "outputs": [],
   "source": []
  }
 ],
 "metadata": {
  "kernelspec": {
   "display_name": "Python 3",
   "language": "python",
   "name": "python3"
  },
  "language_info": {
   "codemirror_mode": {
    "name": "ipython",
    "version": 3
   },
   "file_extension": ".py",
   "mimetype": "text/x-python",
   "name": "python",
   "nbconvert_exporter": "python",
   "pygments_lexer": "ipython3",
   "version": "3.4.2"
  }
 },
 "nbformat": 4,
 "nbformat_minor": 0
}
