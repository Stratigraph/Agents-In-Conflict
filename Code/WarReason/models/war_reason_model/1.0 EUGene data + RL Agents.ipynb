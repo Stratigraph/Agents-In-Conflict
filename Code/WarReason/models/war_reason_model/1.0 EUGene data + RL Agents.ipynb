{
 "cells": [
  {
   "cell_type": "code",
   "execution_count": 1,
   "metadata": {
    "collapsed": false
   },
   "outputs": [],
   "source": [
    "import csv\n",
    "from collections import Counter\n",
    "import pandas as pd\n",
    "import matplotlib.pyplot as plt\n",
    "%matplotlib inline\n",
    "\n",
    "from consul.agent_types.rl_agent import RLAgent\n",
    "from consul.agent_types.cbr_agent import CaseBased_RLAgent\n",
    "from war_reason import *\n",
    "from war_reason_implementations import *"
   ]
  },
  {
   "cell_type": "markdown",
   "metadata": {},
   "source": [
    "# Load the data"
   ]
  },
  {
   "cell_type": "code",
   "execution_count": 2,
   "metadata": {
    "collapsed": true
   },
   "outputs": [],
   "source": [
    "data = pd.read_pickle(\"FullData.pickle\")"
   ]
  },
  {
   "cell_type": "code",
   "execution_count": 5,
   "metadata": {
    "collapsed": true
   },
   "outputs": [],
   "source": [
    "# The Game-Theoretic Equilibrium\n",
    "equilibrium_cols = ['eqTsq', 'eqTnego', 'eqTacqa', 'eqTacqb', 'eqTcapa', 'eqTcapb', \n",
    "                'eqTwara', 'eqTwarb']\n",
    "\n",
    "data[\"Equilibrium\"] = \"\"\n",
    "for col in equilibrium_cols:\n",
    "    data.loc[data[col] == 1, \"Equilibrium\"] = col\n",
    "\n",
    "# Cutting out missing data\n",
    "data = data[data.Equilibrium!=\"\"]"
   ]
  },
  {
   "cell_type": "code",
   "execution_count": 6,
   "metadata": {
    "collapsed": true
   },
   "outputs": [],
   "source": [
    "# Observed outcomes\n",
    "data[\"Outcome\"] = \"\"\n",
    "\n",
    "data.loc[((data.cwhost1<2) & (data.cwhost2<2)), \"Outcome\"] = \"StatusQuo\"\n",
    "data.loc[((data.cwhost1>3) & (data.cwhost2>3)), \"Outcome\"] = \"War\"\n",
    "data.loc[((data.cwhost1==data.cwhost2) & (data.cwhost1>1) & \n",
    "          (data.cwhost1<4)), \"Outcome\"] = \"Negotiation\"\n",
    "data.loc[((data.cwhost1>data.cwhost2) & (data.cwhost1>1) & \n",
    "          (data.cwhost1<4)), \"Outcome\"] = \"Acquiesce_B\"\n",
    "data.loc[((data.cwhost1<data.cwhost2) & (data.cwhost2>1) & \n",
    "          (data.cwhost2<4)), \"Outcome\"] = \"Acquiesce_A\"\n",
    "data.loc[((data.cwhost1>data.cwhost2) & (data.cwhost1>3)), \"Outcome\"] = \"Capitulate_B\"\n",
    "data.loc[((data.cwhost1<data.cwhost2) & (data.cwhost2>3)), \"Outcome\"] = \"Capitulate_A\""
   ]
  },
  {
   "cell_type": "code",
   "execution_count": 7,
   "metadata": {
    "collapsed": true
   },
   "outputs": [],
   "source": [
    "# OPTIONAL\n",
    "## Boost all utilities by a fixed factor\n",
    "for col in data.columns:\n",
    "    if col[:4] == \"wrTu\":\n",
    "        data[col] *= 8"
   ]
  },
  {
   "cell_type": "markdown",
   "metadata": {},
   "source": [
    "## Fit the RL Model"
   ]
  },
  {
   "cell_type": "code",
   "execution_count": 8,
   "metadata": {
    "collapsed": true
   },
   "outputs": [],
   "source": [
    "eugene_world = EUGeneWorld(RLAgent, data, \n",
    "                           agent_args={\"learning_rate\": 0.1, \"discount_factor\": 0.9},\n",
    "                           copy_data=True, shuffle_rows=True)"
   ]
  },
  {
   "cell_type": "code",
   "execution_count": 9,
   "metadata": {
    "collapsed": false
   },
   "outputs": [
    {
     "name": "stdout",
     "output_type": "stream",
     "text": [
      "0\n",
      "100000\n",
      "200000\n",
      "300000\n",
      "400000\n",
      "500000\n",
      "600000\n",
      "700000\n",
      "800000\n",
      "900000\n",
      "1000000\n"
     ]
    }
   ],
   "source": [
    "eugene_world.run(model_assessors={\"Model_Outcome\": lambda m: m.current_node,\n",
    "                                  \"Move_Quality\": assess_moves})"
   ]
  },
  {
   "cell_type": "code",
   "execution_count": 10,
   "metadata": {
    "collapsed": false
   },
   "outputs": [],
   "source": [
    "data = eugene_world.eugene_data"
   ]
  },
  {
   "cell_type": "code",
   "execution_count": 11,
   "metadata": {
    "collapsed": false
   },
   "outputs": [],
   "source": [
    "outcome_matching = {\n",
    "    \"eqTacqa\": [\"Acquiesce_A\"],\n",
    "    \"eqTacqb\": [\"Acquiesce_B\"],\n",
    "    \"eqTnego\": [\"Negotiate_1\", \"Negotiate_2\"],\n",
    "    \"eqTsq\": [\"StatusQuo\"],\n",
    "    \"eqTwara\": [\"War_A1\", \"War_A2\"],\n",
    "    \"eqTwarb\": [\"War_B1\", \"War_B2\"]}\n",
    "\n",
    "data[\"Outcome_Check\"] = 0\n",
    "for key, vals in outcome_matching.items():\n",
    "    data.loc[((data.Equilibrium==key) & \n",
    "                   (data.Model_Outcome.isin(vals))), \"Outcome_Check\"] = 1\n",
    "\n",
    "outcome_check = data.Outcome_Check\n",
    "#plt.plot(pd.rolling_mean(outcome_check, 1000))"
   ]
  },
  {
   "cell_type": "code",
   "execution_count": 12,
   "metadata": {
    "collapsed": false
   },
   "outputs": [
    {
     "data": {
      "text/plain": [
       "<matplotlib.axes._subplots.AxesSubplot at 0x1bf5c8ba8>"
      ]
     },
     "execution_count": 12,
     "metadata": {},
     "output_type": "execute_result"
    },
    {
     "data": {
      "image/png": "[encoded data removed]",
      "text/plain": [
       "<matplotlib.figure.Figure at 0x1bf5ebdd8>"
      ]
     },
     "metadata": {},
     "output_type": "display_data"
    }
   ],
   "source": [
    "mean_outcome = data.groupby(\"year\").aggregate(\"mean\")[\"Outcome_Check\"]\n",
    "mean_outcome.plot()"
   ]
  },
  {
   "cell_type": "code",
   "execution_count": 13,
   "metadata": {
    "collapsed": false
   },
   "outputs": [
    {
     "data": {
      "text/plain": [
       "Negotiate_2      885675\n",
       "War_A1            42131\n",
       "Acquiesce_B       33797\n",
       "Acquiesce_A       26372\n",
       "War_B2            16350\n",
       "StatusQuo          7197\n",
       "War_B1             6512\n",
       "Capitulate_B1      2991\n",
       "Capitulate_A2      2002\n",
       "Negotiate_1        1673\n",
       "Capitulate_A1      1367\n",
       "War_A2             1253\n",
       "Capitulate_B2       372\n",
       "dtype: int64"
      ]
     },
     "execution_count": 13,
     "metadata": {},
     "output_type": "execute_result"
    }
   ],
   "source": [
    "data.Model_Outcome.value_counts()"
   ]
  },
  {
   "cell_type": "code",
   "execution_count": 14,
   "metadata": {
    "collapsed": false
   },
   "outputs": [
    {
     "data": {
      "text/html": [
       "<div>\n",
       "<table border=\"1\" class=\"dataframe\">\n",
       "  <thead>\n",
       "    <tr style=\"text-align: right;\">\n",
       "      <th></th>\n",
       "      <th>ccode1</th>\n",
       "      <th>ccode2</th>\n",
       "      <th>year</th>\n",
       "      <th>euwtT1v2</th>\n",
       "      <th>wrTu1v1</th>\n",
       "      <th>wrTu1v2</th>\n",
       "      <th>wrTu1vsq</th>\n",
       "      <th>wrTp1win</th>\n",
       "      <th>wrTstk1</th>\n",
       "      <th>wrTu1sq</th>\n",
       "      <th>...</th>\n",
       "      <th>cwhost1</th>\n",
       "      <th>cwhost2</th>\n",
       "      <th>cwkeynum</th>\n",
       "      <th>cwhiact1</th>\n",
       "      <th>cwhiact2</th>\n",
       "      <th>Equilibrium</th>\n",
       "      <th>Outcome</th>\n",
       "      <th>Model_Outcome</th>\n",
       "      <th>Move_Quality</th>\n",
       "      <th>Outcome_Check</th>\n",
       "    </tr>\n",
       "  </thead>\n",
       "  <tbody>\n",
       "    <tr>\n",
       "      <th>0</th>\n",
       "      <td>2</td>\n",
       "      <td>200</td>\n",
       "      <td>1816</td>\n",
       "      <td>-1.776549</td>\n",
       "      <td>9.049392</td>\n",
       "      <td>-11.606656</td>\n",
       "      <td>-1.904096</td>\n",
       "      <td>0.048503</td>\n",
       "      <td>2.582006</td>\n",
       "      <td>-1.904096</td>\n",
       "      <td>...</td>\n",
       "      <td>0</td>\n",
       "      <td>0</td>\n",
       "      <td>0</td>\n",
       "      <td>0</td>\n",
       "      <td>0</td>\n",
       "      <td>eqTacqa</td>\n",
       "      <td>StatusQuo</td>\n",
       "      <td>StatusQuo</td>\n",
       "      <td>0.50</td>\n",
       "      <td>0</td>\n",
       "    </tr>\n",
       "    <tr>\n",
       "      <th>1</th>\n",
       "      <td>2</td>\n",
       "      <td>210</td>\n",
       "      <td>1816</td>\n",
       "      <td>-1.130330</td>\n",
       "      <td>8.200192</td>\n",
       "      <td>-10.947488</td>\n",
       "      <td>-1.904096</td>\n",
       "      <td>0.107475</td>\n",
       "      <td>2.393460</td>\n",
       "      <td>-1.904096</td>\n",
       "      <td>...</td>\n",
       "      <td>0</td>\n",
       "      <td>0</td>\n",
       "      <td>0</td>\n",
       "      <td>0</td>\n",
       "      <td>0</td>\n",
       "      <td>eqTacqa</td>\n",
       "      <td>StatusQuo</td>\n",
       "      <td>Acquiesce_A</td>\n",
       "      <td>1.00</td>\n",
       "      <td>1</td>\n",
       "    </tr>\n",
       "    <tr>\n",
       "      <th>2</th>\n",
       "      <td>2</td>\n",
       "      <td>220</td>\n",
       "      <td>1816</td>\n",
       "      <td>-2.420352</td>\n",
       "      <td>7.401584</td>\n",
       "      <td>-10.311800</td>\n",
       "      <td>-1.904096</td>\n",
       "      <td>0.071763</td>\n",
       "      <td>2.214174</td>\n",
       "      <td>-1.904096</td>\n",
       "      <td>...</td>\n",
       "      <td>0</td>\n",
       "      <td>0</td>\n",
       "      <td>0</td>\n",
       "      <td>0</td>\n",
       "      <td>0</td>\n",
       "      <td>eqTacqa</td>\n",
       "      <td>StatusQuo</td>\n",
       "      <td>War_B1</td>\n",
       "      <td>0.80</td>\n",
       "      <td>0</td>\n",
       "    </tr>\n",
       "    <tr>\n",
       "      <th>3</th>\n",
       "      <td>2</td>\n",
       "      <td>225</td>\n",
       "      <td>1816</td>\n",
       "      <td>-0.156504</td>\n",
       "      <td>7.196240</td>\n",
       "      <td>-10.145960</td>\n",
       "      <td>-1.904096</td>\n",
       "      <td>0.118632</td>\n",
       "      <td>2.167775</td>\n",
       "      <td>-1.904096</td>\n",
       "      <td>...</td>\n",
       "      <td>0</td>\n",
       "      <td>0</td>\n",
       "      <td>0</td>\n",
       "      <td>0</td>\n",
       "      <td>0</td>\n",
       "      <td>eqTacqa</td>\n",
       "      <td>StatusQuo</td>\n",
       "      <td>Negotiate_2</td>\n",
       "      <td>0.25</td>\n",
       "      <td>0</td>\n",
       "    </tr>\n",
       "    <tr>\n",
       "      <th>4</th>\n",
       "      <td>2</td>\n",
       "      <td>230</td>\n",
       "      <td>1816</td>\n",
       "      <td>-1.166779</td>\n",
       "      <td>8.200192</td>\n",
       "      <td>-10.947488</td>\n",
       "      <td>-1.904096</td>\n",
       "      <td>0.111646</td>\n",
       "      <td>2.393460</td>\n",
       "      <td>-1.904096</td>\n",
       "      <td>...</td>\n",
       "      <td>4</td>\n",
       "      <td>1</td>\n",
       "      <td>3239</td>\n",
       "      <td>16</td>\n",
       "      <td>0</td>\n",
       "      <td>eqTacqa</td>\n",
       "      <td>Capitulate_B</td>\n",
       "      <td>Acquiesce_B</td>\n",
       "      <td>0.00</td>\n",
       "      <td>0</td>\n",
       "    </tr>\n",
       "  </tbody>\n",
       "</table>\n",
       "<p>5 rows × 53 columns</p>\n",
       "</div>"
      ],
      "text/plain": [
       "   ccode1  ccode2  year  euwtT1v2   wrTu1v1    wrTu1v2  wrTu1vsq  wrTp1win  \\\n",
       "0       2     200  1816 -1.776549  9.049392 -11.606656 -1.904096  0.048503   \n",
       "1       2     210  1816 -1.130330  8.200192 -10.947488 -1.904096  0.107475   \n",
       "2       2     220  1816 -2.420352  7.401584 -10.311800 -1.904096  0.071763   \n",
       "3       2     225  1816 -0.156504  7.196240 -10.145960 -1.904096  0.118632   \n",
       "4       2     230  1816 -1.166779  8.200192 -10.947488 -1.904096  0.111646   \n",
       "\n",
       "    wrTstk1   wrTu1sq      ...        cwhost1  cwhost2  cwkeynum  cwhiact1  \\\n",
       "0  2.582006 -1.904096      ...              0        0         0         0   \n",
       "1  2.393460 -1.904096      ...              0        0         0         0   \n",
       "2  2.214174 -1.904096      ...              0        0         0         0   \n",
       "3  2.167775 -1.904096      ...              0        0         0         0   \n",
       "4  2.393460 -1.904096      ...              4        1      3239        16   \n",
       "\n",
       "   cwhiact2  Equilibrium       Outcome  Model_Outcome  Move_Quality  \\\n",
       "0         0      eqTacqa     StatusQuo      StatusQuo          0.50   \n",
       "1         0      eqTacqa     StatusQuo    Acquiesce_A          1.00   \n",
       "2         0      eqTacqa     StatusQuo         War_B1          0.80   \n",
       "3         0      eqTacqa     StatusQuo    Negotiate_2          0.25   \n",
       "4         0      eqTacqa  Capitulate_B    Acquiesce_B          0.00   \n",
       "\n",
       "   Outcome_Check  \n",
       "0              0  \n",
       "1              1  \n",
       "2              0  \n",
       "3              0  \n",
       "4              0  \n",
       "\n",
       "[5 rows x 53 columns]"
      ]
     },
     "execution_count": 14,
     "metadata": {},
     "output_type": "execute_result"
    }
   ],
   "source": [
    "data.head()"
   ]
  },
  {
   "cell_type": "markdown",
   "metadata": {},
   "source": [
    "# Run several iterations of a model"
   ]
  },
  {
   "cell_type": "code",
   "execution_count": 15,
   "metadata": {
    "collapsed": false
   },
   "outputs": [
    {
     "name": "stdout",
     "output_type": "stream",
     "text": [
      "0\n",
      "0\n",
      "0\n",
      "1\n"
     ]
    }
   ],
   "source": [
    "fitted_data = []\n",
    "save_cols = [\"year\", \"ccode1\", \"ccode2\", \"Equilibrium\", \"Outcome\", \"Model_Outcome\"]\n",
    "\n",
    "for i in range(2):\n",
    "    eugene_world = EUGeneWorld(RLAgent, data, \n",
    "                           agent_args={\"learning_rate\": 0.1, \"discount_factor\": 0.9},\n",
    "                           copy_data=True, shuffle_rows=True)\n",
    "    eugene_world.run(report_every=2000000,\n",
    "        model_assessors={\"Model_Outcome\": lambda m: m.current_node})\n",
    "    next_data = eugene_world.eugene_data.loc[:,save_cols]\n",
    "    next_data[\"Iteration\"] = i\n",
    "    fitted_data.append(next_data)\n",
    "    print(i)"
   ]
  },
  {
   "cell_type": "code",
   "execution_count": 16,
   "metadata": {
    "collapsed": true
   },
   "outputs": [],
   "source": [
    "data = pd.concat(fitted_data)"
   ]
  },
  {
   "cell_type": "code",
   "execution_count": 19,
   "metadata": {
    "collapsed": false
   },
   "outputs": [
    {
     "data": {
      "text/plain": [
       "array([0, 1])"
      ]
     },
     "execution_count": 19,
     "metadata": {},
     "output_type": "execute_result"
    }
   ],
   "source": [
    "data.Iteration.unique()"
   ]
  },
  {
   "cell_type": "code",
   "execution_count": null,
   "metadata": {
    "collapsed": true
   },
   "outputs": [],
   "source": [
    "outcome_matching = {\n",
    "    \"eqTacqa\": [\"Acquiesce_A\"],\n",
    "    \"eqTacqb\": [\"Acquiesce_B\"],\n",
    "    \"eqTnego\": [\"Negotiate_1\", \"Negotiate_2\"],\n",
    "    \"eqTsq\": [\"StatusQuo\"],\n",
    "    \"eqTwara\": [\"War_A1\", \"War_A2\"],\n",
    "    \"eqTwarb\": [\"War_B1\", \"War_B2\"]}\n",
    "\n",
    "data[\"Outcome_Check\"] = 0\n",
    "for key, vals in outcome_matching.items():\n",
    "    data.loc[((data.Equilibrium==key) & \n",
    "                   (data.Model_Outcome.isin(vals))), \"Outcome_Check\"] = 1"
   ]
  },
  {
   "cell_type": "code",
   "execution_count": null,
   "metadata": {
    "collapsed": false
   },
   "outputs": [],
   "source": [
    "for group in data.groupby(\"Iteration\"):\n",
    "    mean_outcome = group[1].groupby(\"year\").aggregate(\"mean\")[\"Outcome_Check\"]\n",
    "    mean_outcome.plot()"
   ]
  },
  {
   "cell_type": "markdown",
   "metadata": {},
   "source": [
    "## Does the model prediction predict the actual outcome?"
   ]
  },
  {
   "cell_type": "code",
   "execution_count": null,
   "metadata": {
    "collapsed": true
   },
   "outputs": [],
   "source": [
    "data = data[(data.cwhost1!=-9) & (data.cwhost2!=-9)]"
   ]
  },
  {
   "cell_type": "code",
   "execution_count": null,
   "metadata": {
    "collapsed": true
   },
   "outputs": [],
   "source": [
    "model_dummies = pd.get_dummies(data.Model_Outcome)"
   ]
  },
  {
   "cell_type": "code",
   "execution_count": null,
   "metadata": {
    "collapsed": false
   },
   "outputs": [],
   "source": [
    "model_dummies.columns"
   ]
  },
  {
   "cell_type": "code",
   "execution_count": null,
   "metadata": {
    "collapsed": true
   },
   "outputs": [],
   "source": [
    "model_dummies[\"Negotiate\"] = (model_dummies.Negotiate_1 + \n",
    "                                    model_dummies.Negotiate_2)\n",
    "\n",
    "model_dummies[\"War\"] = (model_dummies.War_A1 + model_dummies.War_A2 + \n",
    "                        model_dummies.War_B1 + model_dummies.War_B2)"
   ]
  },
  {
   "cell_type": "code",
   "execution_count": null,
   "metadata": {
    "collapsed": false
   },
   "outputs": [],
   "source": [
    "model_dummies[\"Const.\"] = 1"
   ]
  },
  {
   "cell_type": "code",
   "execution_count": null,
   "metadata": {
    "collapsed": false
   },
   "outputs": [],
   "source": [
    "data.Outcome.value_counts()"
   ]
  },
  {
   "cell_type": "code",
   "execution_count": null,
   "metadata": {
    "collapsed": true
   },
   "outputs": [],
   "source": [
    "data[\"Acquiesce_A\"] = 0\n",
    "data.loc[data.Outcome==\"Acquiesce_A\", \"Acquiesce_A\"] = 1\n",
    "data[\"Negotiation\"] = 0\n",
    "data.loc[data.Outcome==\"Negotiation\", \"Negotiation\"] = 1\n",
    "data[\"War\"] = 0\n",
    "data.loc[data.Outcome==\"War\", \"War\"] = 1\n"
   ]
  },
  {
   "cell_type": "code",
   "execution_count": null,
   "metadata": {
    "collapsed": true
   },
   "outputs": [],
   "source": [
    "import statsmodels.api as sm"
   ]
  },
  {
   "cell_type": "code",
   "execution_count": null,
   "metadata": {
    "collapsed": false
   },
   "outputs": [],
   "source": [
    "x_cols = [\"Acquiesce_A\", \"Acquiesce_B\", \"Negotiate\", \"War\", \"Const.\"]\n",
    "logit = sm.Logit(data.Acquiesce_A, model_dummies[x_cols])\n",
    "#logit = sm.Logit(data.Negotiation, model_dummies[x_cols])\n",
    "result = logit.fit()\n",
    "print(result.summary())"
   ]
  },
  {
   "cell_type": "code",
   "execution_count": null,
   "metadata": {
    "collapsed": false
   },
   "outputs": [],
   "source": [
    "x_cols = [\"Acquiesce_A\", \"Acquiesce_B\", \"Negotiate\", \"War\", \"Const.\"]\n",
    "logit = sm.Logit(data.Negotiation, model_dummies[x_cols])\n",
    "#logit = sm.Logit(data.Negotiation, model_dummies[x_cols])\n",
    "result = logit.fit()\n",
    "print(result.summary())"
   ]
  },
  {
   "cell_type": "code",
   "execution_count": null,
   "metadata": {
    "collapsed": false
   },
   "outputs": [],
   "source": [
    "x_cols = [\"Acquiesce_A\", \"Acquiesce_B\", \"Negotiate\", \"War\", \"Const.\"]\n",
    "logit = sm.Logit(data.War, model_dummies[x_cols])\n",
    "result = logit.fit()\n",
    "print(result.summary())"
   ]
  },
  {
   "cell_type": "markdown",
   "metadata": {},
   "source": [
    "### Only a subset of the data"
   ]
  },
  {
   "cell_type": "code",
   "execution_count": null,
   "metadata": {
    "collapsed": false
   },
   "outputs": [],
   "source": [
    "START = 1980\n",
    "subset = data[data.year>START]\n",
    "dummies_subset = model_dummies[data.year>START]"
   ]
  },
  {
   "cell_type": "code",
   "execution_count": null,
   "metadata": {
    "collapsed": false,
    "scrolled": true
   },
   "outputs": [],
   "source": [
    "x_cols = [\"Acquiesce_A\", \"Acquiesce_B\", \"Negotiate\", \"War\", \"Const.\"]\n",
    "logit = sm.Logit(subset.Acquiesce_A, dummies_subset[x_cols])\n",
    "result = logit.fit()\n",
    "print(result.summary())"
   ]
  },
  {
   "cell_type": "code",
   "execution_count": null,
   "metadata": {
    "collapsed": false
   },
   "outputs": [],
   "source": [
    "x_cols = [\"Acquiesce_A\", \"Acquiesce_B\", \"Negotiate\", \"War\", \"Const.\"]\n",
    "logit = sm.Logit(subset.War, dummies_subset[x_cols])\n",
    "result = logit.fit()\n",
    "print(result.summary())"
   ]
  },
  {
   "cell_type": "code",
   "execution_count": null,
   "metadata": {
    "collapsed": true
   },
   "outputs": [],
   "source": []
  }
 ],
 "metadata": {
  "kernelspec": {
   "display_name": "Python 3",
   "language": "python",
   "name": "python3"
  },
  "language_info": {
   "codemirror_mode": {
    "name": "ipython",
    "version": 3
   },
   "file_extension": ".py",
   "mimetype": "text/x-python",
   "name": "python",
   "nbconvert_exporter": "python",
   "pygments_lexer": "ipython3",
   "version": "3.4.2"
  }
 },
 "nbformat": 4,
 "nbformat_minor": 0
}
