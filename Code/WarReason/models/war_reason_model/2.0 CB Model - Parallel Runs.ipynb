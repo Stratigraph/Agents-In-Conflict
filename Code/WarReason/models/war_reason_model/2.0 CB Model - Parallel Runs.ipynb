{
 "cells": [
  {
   "cell_type": "raw",
   "metadata": {
    "collapsed": true
   },
   "source": [
    "import sys\n",
    "sys.path.append(\"../..\")\n",
    "sys.path.append(\"../../consul\")"
   ]
  },
  {
   "cell_type": "code",
   "execution_count": 1,
   "metadata": {
    "collapsed": false
   },
   "outputs": [],
   "source": [
    "import csv\n",
    "import copy\n",
    "\n",
    "import pandas as pd\n",
    "import matplotlib.pyplot as plt\n",
    "%matplotlib inline\n",
    "\n",
    "from consul.agent_types.rl_agent import RLAgent\n",
    "from consul.agent_types.cbr_agent import CaseBased_RLAgent, get_float_dict\n",
    "from war_reason import *\n",
    "from war_reason_implementations import *"
   ]
  },
  {
   "cell_type": "markdown",
   "metadata": {},
   "source": [
    "# Load the data"
   ]
  },
  {
   "cell_type": "code",
   "execution_count": 2,
   "metadata": {
    "collapsed": true
   },
   "outputs": [],
   "source": [
    "data = pd.read_pickle(\"FullData.pickle\")"
   ]
  },
  {
   "cell_type": "code",
   "execution_count": 3,
   "metadata": {
    "collapsed": true
   },
   "outputs": [],
   "source": [
    "# The Game-Theoretic Equilibrium\n",
    "equilibrium_cols = ['eqTsq', 'eqTnego', 'eqTacqa', 'eqTacqb', 'eqTcapa', 'eqTcapb', \n",
    "                'eqTwara', 'eqTwarb']\n",
    "\n",
    "data[\"Equilibrium\"] = \"\"\n",
    "for col in equilibrium_cols:\n",
    "    data.loc[data[col] == 1, \"Equilibrium\"] = col\n",
    "\n",
    "# Cutting out missing data\n",
    "data = data[data.Equilibrium!=\"\"]"
   ]
  },
  {
   "cell_type": "code",
   "execution_count": 4,
   "metadata": {
    "collapsed": true
   },
   "outputs": [],
   "source": [
    "# Observed outcomes\n",
    "data[\"Outcome\"] = \"\"\n",
    "\n",
    "data.loc[((data.cwhost1<2) & (data.cwhost2<2)), \"Outcome\"] = \"StatusQuo\"\n",
    "data.loc[((data.cwhost1>3) & (data.cwhost2>3)), \"Outcome\"] = \"War\"\n",
    "data.loc[((data.cwhost1==data.cwhost2) & (data.cwhost1>1) & \n",
    "          (data.cwhost1<4)), \"Outcome\"] = \"Negotiation\"\n",
    "data.loc[((data.cwhost1>data.cwhost2) & (data.cwhost1>1) & \n",
    "          (data.cwhost1<4)), \"Outcome\"] = \"Acquiesce_B\"\n",
    "data.loc[((data.cwhost1<data.cwhost2) & (data.cwhost2>1) & \n",
    "          (data.cwhost2<4)), \"Outcome\"] = \"Acquiesce_A\"\n",
    "data.loc[((data.cwhost1>data.cwhost2) & (data.cwhost1>3)), \"Outcome\"] = \"Capitulate_B\"\n",
    "data.loc[((data.cwhost1<data.cwhost2) & (data.cwhost2>3)), \"Outcome\"] = \"Capitulate_A\""
   ]
  },
  {
   "cell_type": "code",
   "execution_count": 5,
   "metadata": {
    "collapsed": true
   },
   "outputs": [],
   "source": [
    "# OPTIONAL\n",
    "## Boost all utilities by a fixed factor\n",
    "for col in data.columns:\n",
    "    if col[:4] == \"wrTu\":\n",
    "        data[col] *= 8"
   ]
  },
  {
   "cell_type": "code",
   "execution_count": 6,
   "metadata": {
    "collapsed": true
   },
   "outputs": [],
   "source": [
    "def get_outcome(m):\n",
    "    return m.current_node"
   ]
  },
  {
   "cell_type": "markdown",
   "metadata": {},
   "source": [
    "# Set up parallel"
   ]
  },
  {
   "cell_type": "code",
   "execution_count": 10,
   "metadata": {
    "collapsed": true
   },
   "outputs": [],
   "source": [
    "import ipyparallel"
   ]
  },
  {
   "cell_type": "code",
   "execution_count": 12,
   "metadata": {
    "collapsed": false
   },
   "outputs": [
    {
     "name": "stdout",
     "output_type": "stream",
     "text": [
      "[0, 1, 2]\n"
     ]
    }
   ],
   "source": [
    "clients = ipyparallel.Client()\n",
    "print(clients.ids)\n",
    "dview = clients[:]"
   ]
  },
  {
   "cell_type": "raw",
   "metadata": {
    "collapsed": false
   },
   "source": [
    "with dview.sync_imports():\n",
    "    import sys\n",
    "\n",
    "dview.execute('sys.path.append(\"../..\")')\n",
    "dview.execute('sys.path.append(\"../../consul\")')"
   ]
  },
  {
   "cell_type": "code",
   "execution_count": 14,
   "metadata": {
    "collapsed": false
   },
   "outputs": [
    {
     "name": "stdout",
     "output_type": "stream",
     "text": [
      "importing assess_moves from war_reason_implementations on engine(s)\n",
      "importing CaseBased_RLAgent,get_float_dict from consul.agent_types.cbr_agent on engine(s)\n",
      "importing index from rtree on engine(s)\n"
     ]
    }
   ],
   "source": [
    "with dview.sync_imports():\n",
    "    from war_reason_implementations import assess_moves\n",
    "    from consul.agent_types.cbr_agent import CaseBased_RLAgent, get_float_dict\n",
    "    from rtree import index"
   ]
  },
  {
   "cell_type": "raw",
   "metadata": {
    "collapsed": true
   },
   "source": [
    "from collections import defaultdict\n",
    "\n",
    "def get_float_dict():\n",
    "    return defaultdict(float)\n"
   ]
  },
  {
   "cell_type": "code",
   "execution_count": 15,
   "metadata": {
    "collapsed": false
   },
   "outputs": [
    {
     "data": {
      "text/plain": [
       "<AsyncResult: finished>"
      ]
     },
     "execution_count": 15,
     "metadata": {},
     "output_type": "execute_result"
    }
   ],
   "source": [
    "dview.push({\n",
    "            #\"data\": data,\n",
    "           \"EUGeneWorld\": EUGeneWorld,\n",
    "           \"RLAgent\": RLAgent,\n",
    "           #\"CaseBased_RLAgent\": CaseBased_RLAgent,\n",
    "           #\"get_float_dict\": get_float_dict,\n",
    "           \"CBRAgent\": CBRAgent,\n",
    "           \"get_outcome\": get_outcome})"
   ]
  },
  {
   "cell_type": "code",
   "execution_count": 16,
   "metadata": {
    "collapsed": false
   },
   "outputs": [],
   "source": [
    "eugene_world = EUGeneWorld(CBRAgent, data, \n",
    "                       agent_args={\"learning_rate\": 0.2, \"discount_factor\": 0.8},\n",
    "                       copy_data=True, shuffle_rows=True)\n",
    "inputs = [copy.deepcopy(eugene_world) for _ in range(4)]"
   ]
  },
  {
   "cell_type": "code",
   "execution_count": 17,
   "metadata": {
    "collapsed": false
   },
   "outputs": [],
   "source": [
    "def run_model(model):\n",
    "    #return None\n",
    "    model.run(report_every=None,\n",
    "              model_assessors={\"Model_Outcome\": get_outcome,\n",
    "                               \"Move_Quality\": assess_moves})\n",
    "    #return model\n",
    "    return model.eugene_data"
   ]
  },
  {
   "cell_type": "code",
   "execution_count": null,
   "metadata": {
    "collapsed": false
   },
   "outputs": [],
   "source": [
    "runs = dview.map_sync(run_model, inputs)"
   ]
  },
  {
   "cell_type": "code",
   "execution_count": null,
   "metadata": {
    "collapsed": false
   },
   "outputs": [],
   "source": [
    "for i, df in enumerate(runs):\n",
    "    df[\"Iteration\"] = i"
   ]
  },
  {
   "cell_type": "code",
   "execution_count": null,
   "metadata": {
    "collapsed": false
   },
   "outputs": [],
   "source": [
    "concat_df = pd.concat(runs)"
   ]
  },
  {
   "cell_type": "code",
   "execution_count": null,
   "metadata": {
    "collapsed": false
   },
   "outputs": [],
   "source": [
    "concat_df.head()"
   ]
  },
  {
   "cell_type": "code",
   "execution_count": null,
   "metadata": {
    "collapsed": false
   },
   "outputs": [],
   "source": [
    "concat_df.columns"
   ]
  },
  {
   "cell_type": "code",
   "execution_count": null,
   "metadata": {
    "collapsed": false
   },
   "outputs": [],
   "source": [
    "cols_to_keep = ['year', \"ccode1\", \"ccode2\", \"Iteration\",\n",
    "                 \"Outcome\", \"Equilibrium\", \"Model_Outcome\", \"Move_Quality\"]\n",
    "concat_df = concat_df[cols_to_keep]"
   ]
  },
  {
   "cell_type": "code",
   "execution_count": null,
   "metadata": {
    "collapsed": false
   },
   "outputs": [],
   "source": [
    "concat_df.to_pickle(\"Model_Outputs.pickle\")"
   ]
  },
  {
   "cell_type": "code",
   "execution_count": null,
   "metadata": {
    "collapsed": false
   },
   "outputs": [],
   "source": [
    "200 / 60"
   ]
  },
  {
   "cell_type": "code",
   "execution_count": null,
   "metadata": {
    "collapsed": true
   },
   "outputs": [],
   "source": []
  }
 ],
 "metadata": {
  "kernelspec": {
   "display_name": "Python 3",
   "language": "python",
   "name": "python3"
  },
  "language_info": {
   "codemirror_mode": {
    "name": "ipython",
    "version": 3
   },
   "file_extension": ".py",
   "mimetype": "text/x-python",
   "name": "python",
   "nbconvert_exporter": "python",
   "pygments_lexer": "ipython3",
   "version": "3.4.2"
  }
 },
 "nbformat": 4,
 "nbformat_minor": 0
}
