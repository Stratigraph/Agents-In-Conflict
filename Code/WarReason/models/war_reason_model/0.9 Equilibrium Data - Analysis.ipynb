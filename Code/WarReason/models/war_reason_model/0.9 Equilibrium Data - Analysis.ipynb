{
 "cells": [
  {
   "cell_type": "markdown",
   "metadata": {},
   "source": [
    "# Equilibrium Data Analysis\n",
    "\n",
    "As a baseline, see how well the equilibrium model predicts observed outcomes."
   ]
  },
  {
   "cell_type": "code",
   "execution_count": 1,
   "metadata": {
    "collapsed": true
   },
   "outputs": [],
   "source": [
    "import pandas as pd\n",
    "import statsmodels.api as sm\n",
    "from statsmodels.iolib.summary2 import summary_col\n",
    "\n",
    "import matplotlib.pyplot as plt\n",
    "%matplotlib inline"
   ]
  },
  {
   "cell_type": "markdown",
   "metadata": {},
   "source": [
    "## Load Data"
   ]
  },
  {
   "cell_type": "code",
   "execution_count": 2,
   "metadata": {
    "collapsed": true
   },
   "outputs": [],
   "source": [
    "data = pd.read_pickle(\"FullData.pickle\")"
   ]
  },
  {
   "cell_type": "code",
   "execution_count": 3,
   "metadata": {
    "collapsed": false
   },
   "outputs": [
    {
     "data": {
      "text/plain": [
       "1610478"
      ]
     },
     "execution_count": 3,
     "metadata": {},
     "output_type": "execute_result"
    }
   ],
   "source": [
    "len(data)"
   ]
  },
  {
   "cell_type": "code",
   "execution_count": 3,
   "metadata": {
    "collapsed": false
   },
   "outputs": [
    {
     "data": {
      "text/html": [
       "<div>\n",
       "<table border=\"1\" class=\"dataframe\">\n",
       "  <thead>\n",
       "    <tr style=\"text-align: right;\">\n",
       "      <th></th>\n",
       "      <th>ccode1</th>\n",
       "      <th>ccode2</th>\n",
       "      <th>year</th>\n",
       "      <th>euwtT1v2</th>\n",
       "      <th>wrTu1v1</th>\n",
       "      <th>wrTu1v2</th>\n",
       "      <th>wrTu1vsq</th>\n",
       "      <th>wrTp1win</th>\n",
       "      <th>wrTstk1</th>\n",
       "      <th>wrTu1sq</th>\n",
       "      <th>...</th>\n",
       "      <th>cwongo</th>\n",
       "      <th>cwongonm</th>\n",
       "      <th>cwinit</th>\n",
       "      <th>cwinitnm</th>\n",
       "      <th>cwdynm</th>\n",
       "      <th>cwhost1</th>\n",
       "      <th>cwhost2</th>\n",
       "      <th>cwkeynum</th>\n",
       "      <th>cwhiact1</th>\n",
       "      <th>cwhiact2</th>\n",
       "    </tr>\n",
       "  </thead>\n",
       "  <tbody>\n",
       "    <tr>\n",
       "      <th>0</th>\n",
       "      <td>2</td>\n",
       "      <td>200</td>\n",
       "      <td>1816</td>\n",
       "      <td>-1.776549</td>\n",
       "      <td>1.131174</td>\n",
       "      <td>-1.450832</td>\n",
       "      <td>-0.238012</td>\n",
       "      <td>0.048503</td>\n",
       "      <td>2.582006</td>\n",
       "      <td>-0.238012</td>\n",
       "      <td>...</td>\n",
       "      <td>0</td>\n",
       "      <td>0</td>\n",
       "      <td>0</td>\n",
       "      <td>0</td>\n",
       "      <td>0</td>\n",
       "      <td>0</td>\n",
       "      <td>0</td>\n",
       "      <td>0</td>\n",
       "      <td>0</td>\n",
       "      <td>0</td>\n",
       "    </tr>\n",
       "    <tr>\n",
       "      <th>1</th>\n",
       "      <td>2</td>\n",
       "      <td>210</td>\n",
       "      <td>1816</td>\n",
       "      <td>-1.130330</td>\n",
       "      <td>1.025024</td>\n",
       "      <td>-1.368436</td>\n",
       "      <td>-0.238012</td>\n",
       "      <td>0.107475</td>\n",
       "      <td>2.393460</td>\n",
       "      <td>-0.238012</td>\n",
       "      <td>...</td>\n",
       "      <td>0</td>\n",
       "      <td>0</td>\n",
       "      <td>0</td>\n",
       "      <td>0</td>\n",
       "      <td>0</td>\n",
       "      <td>0</td>\n",
       "      <td>0</td>\n",
       "      <td>0</td>\n",
       "      <td>0</td>\n",
       "      <td>0</td>\n",
       "    </tr>\n",
       "    <tr>\n",
       "      <th>2</th>\n",
       "      <td>2</td>\n",
       "      <td>220</td>\n",
       "      <td>1816</td>\n",
       "      <td>-2.420352</td>\n",
       "      <td>0.925198</td>\n",
       "      <td>-1.288975</td>\n",
       "      <td>-0.238012</td>\n",
       "      <td>0.071763</td>\n",
       "      <td>2.214174</td>\n",
       "      <td>-0.238012</td>\n",
       "      <td>...</td>\n",
       "      <td>0</td>\n",
       "      <td>0</td>\n",
       "      <td>0</td>\n",
       "      <td>0</td>\n",
       "      <td>0</td>\n",
       "      <td>0</td>\n",
       "      <td>0</td>\n",
       "      <td>0</td>\n",
       "      <td>0</td>\n",
       "      <td>0</td>\n",
       "    </tr>\n",
       "    <tr>\n",
       "      <th>3</th>\n",
       "      <td>2</td>\n",
       "      <td>225</td>\n",
       "      <td>1816</td>\n",
       "      <td>-0.156504</td>\n",
       "      <td>0.899530</td>\n",
       "      <td>-1.268245</td>\n",
       "      <td>-0.238012</td>\n",
       "      <td>0.118632</td>\n",
       "      <td>2.167775</td>\n",
       "      <td>-0.238012</td>\n",
       "      <td>...</td>\n",
       "      <td>0</td>\n",
       "      <td>0</td>\n",
       "      <td>0</td>\n",
       "      <td>0</td>\n",
       "      <td>0</td>\n",
       "      <td>0</td>\n",
       "      <td>0</td>\n",
       "      <td>0</td>\n",
       "      <td>0</td>\n",
       "      <td>0</td>\n",
       "    </tr>\n",
       "    <tr>\n",
       "      <th>4</th>\n",
       "      <td>2</td>\n",
       "      <td>230</td>\n",
       "      <td>1816</td>\n",
       "      <td>-1.166779</td>\n",
       "      <td>1.025024</td>\n",
       "      <td>-1.368436</td>\n",
       "      <td>-0.238012</td>\n",
       "      <td>0.111646</td>\n",
       "      <td>2.393460</td>\n",
       "      <td>-0.238012</td>\n",
       "      <td>...</td>\n",
       "      <td>0</td>\n",
       "      <td>0</td>\n",
       "      <td>1</td>\n",
       "      <td>3239</td>\n",
       "      <td>323901</td>\n",
       "      <td>4</td>\n",
       "      <td>1</td>\n",
       "      <td>3239</td>\n",
       "      <td>16</td>\n",
       "      <td>0</td>\n",
       "    </tr>\n",
       "  </tbody>\n",
       "</table>\n",
       "<p>5 rows × 48 columns</p>\n",
       "</div>"
      ],
      "text/plain": [
       "   ccode1  ccode2  year  euwtT1v2   wrTu1v1   wrTu1v2  wrTu1vsq  wrTp1win  \\\n",
       "0       2     200  1816 -1.776549  1.131174 -1.450832 -0.238012  0.048503   \n",
       "1       2     210  1816 -1.130330  1.025024 -1.368436 -0.238012  0.107475   \n",
       "2       2     220  1816 -2.420352  0.925198 -1.288975 -0.238012  0.071763   \n",
       "3       2     225  1816 -0.156504  0.899530 -1.268245 -0.238012  0.118632   \n",
       "4       2     230  1816 -1.166779  1.025024 -1.368436 -0.238012  0.111646   \n",
       "\n",
       "    wrTstk1   wrTu1sq    ...     cwongo  cwongonm  cwinit  cwinitnm  cwdynm  \\\n",
       "0  2.582006 -0.238012    ...          0         0       0         0       0   \n",
       "1  2.393460 -0.238012    ...          0         0       0         0       0   \n",
       "2  2.214174 -0.238012    ...          0         0       0         0       0   \n",
       "3  2.167775 -0.238012    ...          0         0       0         0       0   \n",
       "4  2.393460 -0.238012    ...          0         0       1      3239  323901   \n",
       "\n",
       "   cwhost1  cwhost2  cwkeynum  cwhiact1  cwhiact2  \n",
       "0        0        0         0         0         0  \n",
       "1        0        0         0         0         0  \n",
       "2        0        0         0         0         0  \n",
       "3        0        0         0         0         0  \n",
       "4        4        1      3239        16         0  \n",
       "\n",
       "[5 rows x 48 columns]"
      ]
     },
     "execution_count": 3,
     "metadata": {},
     "output_type": "execute_result"
    }
   ],
   "source": [
    "data.head()"
   ]
  },
  {
   "cell_type": "code",
   "execution_count": 4,
   "metadata": {
    "collapsed": false
   },
   "outputs": [
    {
     "data": {
      "text/plain": [
       "Index(['ccode1', 'ccode2', 'year', 'euwtT1v2', 'wrTu1v1', 'wrTu1v2',\n",
       "       'wrTu1vsq', 'wrTp1win', 'wrTstk1', 'wrTu1sq', 'wrTu1ac1', 'wrTu1ac2',\n",
       "       'wrTu1neg', 'wrTu1cp1', 'wrTu1cp2', 'wrTu1wr1', 'wrTu1wr2', 'wrTu2v2',\n",
       "       'wrTu2v1', 'wrTu2vsq', 'wrTp2win', 'wrTstk2', 'wrTu2sq', 'wrTu2ac2',\n",
       "       'wrTu2ac1', 'wrTu2neg', 'wrTu2cp2', 'wrTu2cp1', 'wrTu2wr2', 'wrTu2wr1',\n",
       "       'eqTsq', 'eqTnego', 'eqTacqa', 'eqTacqb', 'eqTcapa', 'eqTcapb',\n",
       "       'eqTwara', 'eqTwarb', 'cwongo', 'cwongonm', 'cwinit', 'cwinitnm',\n",
       "       'cwdynm', 'cwhost1', 'cwhost2', 'cwkeynum', 'cwhiact1', 'cwhiact2'],\n",
       "      dtype='object')"
      ]
     },
     "execution_count": 4,
     "metadata": {},
     "output_type": "execute_result"
    }
   ],
   "source": [
    "data.columns"
   ]
  },
  {
   "cell_type": "code",
   "execution_count": 5,
   "metadata": {
    "collapsed": true
   },
   "outputs": [],
   "source": [
    "# The Game-Theoretic Equilibrium\n",
    "equilibrium_cols = ['eqTsq', 'eqTnego', 'eqTacqa', 'eqTacqb', 'eqTcapa', 'eqTcapb', \n",
    "                'eqTwara', 'eqTwarb']\n",
    "\n",
    "data[\"Equilibrium\"] = \"\"\n",
    "for col in equilibrium_cols:\n",
    "    data.loc[data[col] == 1, \"Equilibrium\"] = col\n",
    "\n",
    "# Cutting out missing data\n",
    "data = data[data.Equilibrium!=\"\"]"
   ]
  },
  {
   "cell_type": "code",
   "execution_count": 6,
   "metadata": {
    "collapsed": true
   },
   "outputs": [],
   "source": [
    "# Observed outcomes\n",
    "data[\"Outcome\"] = \"\"\n",
    "\n",
    "data.loc[((data.cwhost1<2) & (data.cwhost2<2)), \"Outcome\"] = \"StatusQuo\"\n",
    "data.loc[((data.cwhost1>3) & (data.cwhost2>3)), \"Outcome\"] = \"War\"\n",
    "data.loc[((data.cwhost1==data.cwhost2) & (data.cwhost1>1) & \n",
    "          (data.cwhost1<4)), \"Outcome\"] = \"Negotiation\"\n",
    "data.loc[((data.cwhost1>data.cwhost2) & (data.cwhost1>1) & \n",
    "          (data.cwhost1<4)), \"Outcome\"] = \"Acquiesce_B\"\n",
    "data.loc[((data.cwhost1<data.cwhost2) & (data.cwhost2>1) & \n",
    "          (data.cwhost2<4)), \"Outcome\"] = \"Acquiesce_A\"\n",
    "data.loc[((data.cwhost1>data.cwhost2) & (data.cwhost1>3)), \"Outcome\"] = \"Capitulate_B\"\n",
    "data.loc[((data.cwhost1<data.cwhost2) & (data.cwhost2>3)), \"Outcome\"] = \"Capitulate_A\""
   ]
  },
  {
   "cell_type": "raw",
   "metadata": {},
   "source": [
    "cols = [\"year\", \"ccode1\", \"ccode2\", \"Equilibrium\", \"Outcome\"]\n",
    "out = data[cols]\n",
    "out.to_csv(\"Full_Data.csv\", index=False)"
   ]
  },
  {
   "cell_type": "markdown",
   "metadata": {},
   "source": [
    "## How often is the equilibrium observed?"
   ]
  },
  {
   "cell_type": "code",
   "execution_count": 15,
   "metadata": {
    "collapsed": true
   },
   "outputs": [],
   "source": [
    "data.Equilibrium.replace(['eqTacqa', 'eqTwara', 'eqTsq', 'eqTnego', 'eqTacqb', 'eqTwarb'],\n",
    "                    [\"Acquiesce_A\", \"War_A\", \"StatusQuo\", \"Negotiation\", \"Acquiesce_B\", \"War_B\"], \n",
    "                        inplace=True)"
   ]
  },
  {
   "cell_type": "code",
   "execution_count": 13,
   "metadata": {
    "collapsed": false
   },
   "outputs": [],
   "source": [
    "data[\"Eq_Observed\"] = 0\n",
    "data.loc[(data.Equilibrium == data.Outcome), \"Eq_Observed\"] = 1\n",
    "data.loc[((data.Equilibrium == \"War_A\") & (data.Outcome==\"War\")), \"Eq_Observed\"] = 1\n",
    "data.loc[((data.Equilibrium == \"War_B\") & (data.Outcome==\"War\")), \"Eq_Observed\"] = 1"
   ]
  },
  {
   "cell_type": "code",
   "execution_count": 15,
   "metadata": {
    "collapsed": false
   },
   "outputs": [
    {
     "data": {
      "image/png": "[encoded data removed]",
      "text/plain": [
       "<matplotlib.figure.Figure at 0x104bde978>"
      ]
     },
     "metadata": {},
     "output_type": "display_data"
    }
   ],
   "source": [
    "fig, ax = plt.subplots(figsize=(10, 5))\n",
    "eq_obs_by_year = data.groupby(\"year\")[\"Eq_Observed\"].aggregate(\"mean\")\n",
    "eq_obs_by_year.plot(c='k', ax=ax)\n",
    "ax.grid(True)"
   ]
  },
  {
   "cell_type": "code",
   "execution_count": 44,
   "metadata": {
    "collapsed": false
   },
   "outputs": [
    {
     "data": {
      "text/plain": [
       "0.12675060806519078"
      ]
     },
     "execution_count": 44,
     "metadata": {},
     "output_type": "execute_result"
    }
   ],
   "source": [
    "data.Eq_Observed.mean()"
   ]
  },
  {
   "cell_type": "markdown",
   "metadata": {},
   "source": [
    "So not very often."
   ]
  },
  {
   "cell_type": "code",
   "execution_count": 16,
   "metadata": {
    "collapsed": false
   },
   "outputs": [
    {
     "data": {
      "text/html": [
       "<div>\n",
       "<table border=\"1\" class=\"dataframe\">\n",
       "  <thead>\n",
       "    <tr style=\"text-align: right;\">\n",
       "      <th>Outcome</th>\n",
       "      <th>Acquiesce_A</th>\n",
       "      <th>Acquiesce_B</th>\n",
       "      <th>Capitulate_A</th>\n",
       "      <th>Capitulate_B</th>\n",
       "      <th>Negotiation</th>\n",
       "      <th>StatusQuo</th>\n",
       "      <th>War</th>\n",
       "    </tr>\n",
       "    <tr>\n",
       "      <th>Equilibrium</th>\n",
       "      <th></th>\n",
       "      <th></th>\n",
       "      <th></th>\n",
       "      <th></th>\n",
       "      <th></th>\n",
       "      <th></th>\n",
       "      <th></th>\n",
       "    </tr>\n",
       "  </thead>\n",
       "  <tbody>\n",
       "    <tr>\n",
       "      <th>Acquiesce_A</th>\n",
       "      <td>91</td>\n",
       "      <td>35</td>\n",
       "      <td>94</td>\n",
       "      <td>118</td>\n",
       "      <td>22</td>\n",
       "      <td>90541</td>\n",
       "      <td>316</td>\n",
       "    </tr>\n",
       "    <tr>\n",
       "      <th>Acquiesce_B</th>\n",
       "      <td>31</td>\n",
       "      <td>85</td>\n",
       "      <td>174</td>\n",
       "      <td>173</td>\n",
       "      <td>45</td>\n",
       "      <td>108209</td>\n",
       "      <td>307</td>\n",
       "    </tr>\n",
       "    <tr>\n",
       "      <th>Negotiation</th>\n",
       "      <td>269</td>\n",
       "      <td>311</td>\n",
       "      <td>768</td>\n",
       "      <td>758</td>\n",
       "      <td>184</td>\n",
       "      <td>515886</td>\n",
       "      <td>2049</td>\n",
       "    </tr>\n",
       "    <tr>\n",
       "      <th>StatusQuo</th>\n",
       "      <td>70</td>\n",
       "      <td>73</td>\n",
       "      <td>180</td>\n",
       "      <td>261</td>\n",
       "      <td>75</td>\n",
       "      <td>123020</td>\n",
       "      <td>580</td>\n",
       "    </tr>\n",
       "    <tr>\n",
       "      <th>War_A</th>\n",
       "      <td>83</td>\n",
       "      <td>61</td>\n",
       "      <td>171</td>\n",
       "      <td>231</td>\n",
       "      <td>48</td>\n",
       "      <td>181566</td>\n",
       "      <td>503</td>\n",
       "    </tr>\n",
       "    <tr>\n",
       "      <th>War_B</th>\n",
       "      <td>0</td>\n",
       "      <td>1</td>\n",
       "      <td>1</td>\n",
       "      <td>1</td>\n",
       "      <td>2</td>\n",
       "      <td>296</td>\n",
       "      <td>3</td>\n",
       "    </tr>\n",
       "  </tbody>\n",
       "</table>\n",
       "</div>"
      ],
      "text/plain": [
       "Outcome      Acquiesce_A  Acquiesce_B  Capitulate_A  Capitulate_B  \\\n",
       "Equilibrium                                                         \n",
       "Acquiesce_A           91           35            94           118   \n",
       "Acquiesce_B           31           85           174           173   \n",
       "Negotiation          269          311           768           758   \n",
       "StatusQuo             70           73           180           261   \n",
       "War_A                 83           61           171           231   \n",
       "War_B                  0            1             1             1   \n",
       "\n",
       "Outcome      Negotiation  StatusQuo   War  \n",
       "Equilibrium                                \n",
       "Acquiesce_A           22      90541   316  \n",
       "Acquiesce_B           45     108209   307  \n",
       "Negotiation          184     515886  2049  \n",
       "StatusQuo             75     123020   580  \n",
       "War_A                 48     181566   503  \n",
       "War_B                  2        296     3  "
      ]
     },
     "execution_count": 16,
     "metadata": {},
     "output_type": "execute_result"
    }
   ],
   "source": [
    "pd.crosstab(data.Equilibrium, data.Outcome)"
   ]
  },
  {
   "cell_type": "markdown",
   "metadata": {},
   "source": [
    "## Equilibrium as predictor"
   ]
  },
  {
   "cell_type": "markdown",
   "metadata": {},
   "source": [
    "### separate regressions"
   ]
  },
  {
   "cell_type": "code",
   "execution_count": 13,
   "metadata": {
    "collapsed": true
   },
   "outputs": [],
   "source": [
    "observed_outcomes = pd.get_dummies(data.Outcome)\n",
    "equilibria = pd.get_dummies(data.Equilibrium)\n",
    "equilibria[\"Const.\"] = 1\n",
    "regressors = [col for col in equilibria.columns if col != \"StatusQuo\"]"
   ]
  },
  {
   "cell_type": "code",
   "execution_count": 14,
   "metadata": {
    "collapsed": false
   },
   "outputs": [
    {
     "data": {
      "text/plain": [
       "1027692"
      ]
     },
     "execution_count": 14,
     "metadata": {},
     "output_type": "execute_result"
    }
   ],
   "source": [
    "len(observed_outcomes)"
   ]
  },
  {
   "cell_type": "code",
   "execution_count": 30,
   "metadata": {
    "collapsed": false
   },
   "outputs": [
    {
     "name": "stdout",
     "output_type": "stream",
     "text": [
      "Acquiesce_A\n",
      "Optimization terminated successfully.\n",
      "         Current function value: 0.004499\n",
      "         Iterations: 9\n",
      "         Function evaluations: 732\n",
      "Acquiesce_B\n",
      "Optimization terminated successfully.\n",
      "         Current function value: 0.004666\n",
      "         Iterations: 10\n",
      "         Function evaluations: 758\n",
      "Capitulate_A\n",
      "Optimization terminated successfully.\n",
      "         Current function value: 0.010251\n",
      "         Iterations: 10\n",
      "         Function evaluations: 745\n",
      "Capitulate_B\n",
      "Optimization terminated successfully.\n",
      "         Current function value: 0.011237\n",
      "         Iterations: 8\n",
      "         Function evaluations: 596\n",
      "Negotiation\n",
      "Optimization terminated successfully.\n",
      "         Current function value: 0.003244\n",
      "         Iterations: 8\n",
      "         Function evaluations: 624\n",
      "StatusQuo\n",
      "Optimization terminated successfully.\n",
      "         Current function value: 0.046284\n",
      "         Iterations: 6\n",
      "         Function evaluations: 435\n",
      "War\n",
      "Optimization terminated successfully.\n",
      "         Current function value: 0.024113\n",
      "         Iterations: 6\n",
      "         Function evaluations: 435\n"
     ]
    }
   ],
   "source": [
    "full_logits = {}\n",
    "for col in observed_outcomes.columns:\n",
    "    print(col)\n",
    "    full_logits[col] = sm.Logit(observed_outcomes[col], equilibria[regressors])\\\n",
    "        .fit(method='powell')"
   ]
  },
  {
   "cell_type": "code",
   "execution_count": 32,
   "metadata": {
    "collapsed": true
   },
   "outputs": [
    {
     "name": "stderr",
     "output_type": "stream",
     "text": [
      "/Users/dmasad/.virtualenvs/consul/lib/python3.4/site-packages/statsmodels/iolib/summary2.py:372: SettingWithCopyWarning: \n",
      "A value is trying to be set on a copy of a slice from a DataFrame\n",
      "\n",
      "See the the caveats in the documentation: http://pandas.pydata.org/pandas-docs/stable/indexing.html#indexing-view-versus-copy\n",
      "  res.ix[:, 0][idx] = res.ix[:, 0][idx] + '*'\n",
      "/Users/dmasad/.virtualenvs/consul/lib/python3.4/site-packages/statsmodels/iolib/summary2.py:374: SettingWithCopyWarning: \n",
      "A value is trying to be set on a copy of a slice from a DataFrame\n",
      "\n",
      "See the the caveats in the documentation: http://pandas.pydata.org/pandas-docs/stable/indexing.html#indexing-view-versus-copy\n",
      "  res.ix[:, 0][idx] = res.ix[:, 0][idx] + '*'\n",
      "/Users/dmasad/.virtualenvs/consul/lib/python3.4/site-packages/statsmodels/iolib/summary2.py:376: SettingWithCopyWarning: \n",
      "A value is trying to be set on a copy of a slice from a DataFrame\n",
      "\n",
      "See the the caveats in the documentation: http://pandas.pydata.org/pandas-docs/stable/indexing.html#indexing-view-versus-copy\n",
      "  res.ix[:, 0][idx] = res.ix[:, 0][idx] + '*'\n"
     ]
    }
   ],
   "source": [
    "results = summary_col(list(full_logits.values()), float_format=\"%0.2f\", stars=True)"
   ]
  },
  {
   "cell_type": "code",
   "execution_count": 33,
   "metadata": {
    "collapsed": false
   },
   "outputs": [
    {
     "name": "stdout",
     "output_type": "stream",
     "text": [
      "\n",
      "===============================================================================================\n",
      "            Capitulate_B Negotiation  Acquiesce_A   Acquiesce_B Capitulate_A   War    StatusQuo\n",
      "-----------------------------------------------------------------------------------------------\n",
      "Acquiesce_A -0.49***     -0.95***    0.53***        -0.42**     -0.34***     -0.30*** 0.30***  \n",
      "            (0.11)       (0.24)      (0.16)         (0.21)      (0.13)       (0.07)   (0.05)   \n",
      "Acquiesce_B -0.29***     -0.41**     -0.72***       0.28*       0.10         -0.51*** 0.29***  \n",
      "            (0.10)       (0.19)      (0.22)         (0.16)      (0.11)       (0.07)   (0.05)   \n",
      "Negotiation -0.37***     -0.55***    -0.11          0.02        0.02         -0.17*** 0.18***  \n",
      "            (0.07)       (0.14)      (0.13)         (0.13)      (0.08)       (0.05)   (0.03)   \n",
      "War_A       -0.51***     -0.84***    -0.24          -0.56***    -0.44***     -0.53*** 0.51***  \n",
      "            (0.09)       (0.18)      (0.16)         (0.17)      (0.11)       (0.06)   (0.04)   \n",
      "War_B       0.45         2.38***     -39.69         1.73*       0.82         0.76     -0.99*** \n",
      "            (1.00)       (0.72)      (995564290.66) (1.01)      (1.00)       (0.58)   (0.36)   \n",
      "Const.      -6.16***     -7.40***    -7.46***       -7.44***    -6.54***     -5.36*** 4.60***  \n",
      "            (0.06)       (0.11)      (0.12)         (0.12)      (0.07)       (0.04)   (0.03)   \n",
      "===============================================================================================\n",
      "Standard errors in parentheses.\n",
      "* p<.1, ** p<.05, ***p<.01\n"
     ]
    }
   ],
   "source": [
    "print(results)"
   ]
  },
  {
   "cell_type": "code",
   "execution_count": 12,
   "metadata": {
    "collapsed": false
   },
   "outputs": [
    {
     "name": "stdout",
     "output_type": "stream",
     "text": [
      "Optimization terminated successfully.\n",
      "         Current function value: 0.057995\n",
      "         Iterations: 6\n",
      "         Function evaluations: 2915\n"
     ]
    }
   ],
   "source": [
    "#mnlogit = sm.MNLogit(data.Outcome, equilibria[regressors]).fit(maxiter=120, method='powell')"
   ]
  },
  {
   "cell_type": "code",
   "execution_count": 13,
   "metadata": {
    "collapsed": false
   },
   "outputs": [
    {
     "name": "stdout",
     "output_type": "stream",
     "text": [
      "                          MNLogit Regression Results                          \n",
      "==============================================================================\n",
      "Dep. Variable:                Outcome   No. Observations:              1027692\n",
      "Model:                        MNLogit   Df Residuals:                  1027656\n",
      "Method:                           MLE   Df Model:                           30\n",
      "Date:                Sat, 09 Jan 2016   Pseudo R-squ.:                0.002516\n",
      "Time:                        17:45:04   Log-Likelihood:                -59601.\n",
      "converged:                       True   LL-Null:                       -59752.\n",
      "                                        LLR p-value:                 1.962e-46\n",
      "===============================================================================\n",
      " Outcome=Acquiesce_B       coef    std err          z      P>|z|      [95.0% Conf. Int.]\n",
      "----------------------------------------------------------------------------------------\n",
      "eqTacqa                 -0.6347        nan        nan        nan           nan       nan\n",
      "eqTacqb                  0.6121        nan        nan        nan           nan       nan\n",
      "eqTnego                  0.0484        nan        nan        nan           nan       nan\n",
      "eqTsq                   -0.0506        nan        nan        nan           nan       nan\n",
      "eqTwara                 -0.2285        nan        nan        nan           nan       nan\n",
      "eqTwarb                  1.0255        nan        nan        nan           nan       nan\n",
      "Const.                   0.0177        nan        nan        nan           nan       nan\n",
      "----------------------------------------------------------------------------------------\n",
      "Outcome=Capitulate_A       coef    std err          z      P>|z|      [95.0% Conf. Int.]\n",
      "----------------------------------------------------------------------------------------\n",
      "eqTacqa                  0.3512   4.51e+05   7.79e-07      1.000     -8.84e+05  8.84e+05\n",
      "eqTacqb                  1.3267   4.47e+05   2.97e-06      1.000     -8.76e+05  8.76e+05\n",
      "eqTnego                  0.9524   4.47e+05   2.13e-06      1.000     -8.75e+05  8.75e+05\n",
      "eqTsq                    0.8471   4.48e+05   1.89e-06      1.000     -8.78e+05  8.78e+05\n",
      "eqTwara                  0.7970   4.48e+05   1.78e-06      1.000     -8.78e+05  8.78e+05\n",
      "eqTwarb                  1.0267   4.42e+05   2.32e-06      1.000     -8.67e+05  8.67e+05\n",
      "Const.                   0.0191   4.47e+05   4.28e-08      1.000     -8.77e+05  8.77e+05\n",
      "----------------------------------------------------------------------------------------\n",
      "Outcome=Capitulate_B       coef    std err          z      P>|z|      [95.0% Conf. Int.]\n",
      "----------------------------------------------------------------------------------------\n",
      "eqTacqa                  0.5887        nan        nan        nan           nan       nan\n",
      "eqTacqb                  1.3319        nan        nan        nan           nan       nan\n",
      "eqTnego                  0.9494        nan        nan        nan           nan       nan\n",
      "eqTsq                    1.2375        nan        nan        nan           nan       nan\n",
      "eqTwara                  1.1154        nan        nan        nan           nan       nan\n",
      "eqTwarb                  1.0369        nan        nan        nan           nan       nan\n",
      "Const.                   0.0064        nan        nan        nan           nan       nan\n",
      "----------------------------------------------------------------------------------------\n",
      "Outcome=Negotiation       coef    std err          z      P>|z|      [95.0% Conf. Int.]\n",
      "---------------------------------------------------------------------------------------\n",
      "eqTacqa                -1.0640   6.18e+05  -1.72e-06      1.000     -1.21e+06  1.21e+06\n",
      "eqTacqb                 0.0098   6.18e+05   1.59e-08      1.000     -1.21e+06  1.21e+06\n",
      "eqTnego                -0.4431   6.18e+05  -7.17e-07      1.000     -1.21e+06  1.21e+06\n",
      "eqTsq                   0.0055   6.18e+05   8.96e-09      1.000     -1.21e+06  1.21e+06\n",
      "eqTwara                -0.4399   6.18e+05  -7.12e-07      1.000     -1.21e+06  1.21e+06\n",
      "eqTwarb                 1.7535   6.18e+05   2.84e-06      1.000     -1.21e+06  1.21e+06\n",
      "Const.                 -0.0148   6.18e+05  -2.39e-08      1.000     -1.21e+06  1.21e+06\n",
      "---------------------------------------------------------------------------------------\n",
      "Outcome=StatusQuo       coef    std err          z      P>|z|      [95.0% Conf. Int.]\n",
      "-------------------------------------------------------------------------------------\n",
      "eqTacqa               7.1570   9.35e+04   7.66e-05      1.000     -1.83e+05  1.83e+05\n",
      "eqTacqb               7.7487   9.35e+04   8.29e-05      1.000     -1.83e+05  1.83e+05\n",
      "eqTnego               7.4289   9.29e+04      8e-05      1.000     -1.82e+05  1.82e+05\n",
      "eqTsq                 7.3522   9.33e+04   7.88e-05      1.000     -1.83e+05  1.83e+05\n",
      "eqTwara               7.7323   9.34e+04   8.28e-05      1.000     -1.83e+05  1.83e+05\n",
      "eqTwarb               6.7292   9.34e+04   7.21e-05      1.000     -1.83e+05  1.83e+05\n",
      "Const.                0.0369   9.35e+04   3.94e-07      1.000     -1.83e+05  1.83e+05\n",
      "-------------------------------------------------------------------------------------\n",
      "Outcome=War       coef    std err          z      P>|z|      [95.0% Conf. Int.]\n",
      "-------------------------------------------------------------------------------\n",
      "eqTacqa         1.5321   1.87e+05   8.21e-06      1.000     -3.66e+05  3.66e+05\n",
      "eqTacqb         1.9170   1.87e+05   1.03e-05      1.000     -3.66e+05  3.66e+05\n",
      "eqTnego         1.9335   1.87e+05   1.04e-05      1.000     -3.66e+05  3.66e+05\n",
      "eqTsq           2.0284   1.87e+05   1.09e-05      1.000     -3.66e+05  3.66e+05\n",
      "eqTwara         1.8766   1.87e+05   1.01e-05      1.000     -3.66e+05  3.66e+05\n",
      "eqTwarb         2.1707   1.87e+05   1.16e-05      1.000     -3.66e+05  3.66e+05\n",
      "Const.          0.0037   1.87e+05   1.98e-08      1.000     -3.66e+05  3.66e+05\n",
      "===============================================================================\n"
     ]
    }
   ],
   "source": [
    "print(mnlogit.summary())"
   ]
  },
  {
   "cell_type": "markdown",
   "metadata": {},
   "source": [
    "### Post-1850 only, to match burn-in period from models"
   ]
  },
  {
   "cell_type": "code",
   "execution_count": 36,
   "metadata": {
    "collapsed": true
   },
   "outputs": [],
   "source": [
    "data_full = data.copy()"
   ]
  },
  {
   "cell_type": "code",
   "execution_count": 17,
   "metadata": {
    "collapsed": true
   },
   "outputs": [],
   "source": [
    "#data = data[data.year>1971]\n",
    "data = data[data.year>1850]"
   ]
  },
  {
   "cell_type": "code",
   "execution_count": 19,
   "metadata": {
    "collapsed": true
   },
   "outputs": [],
   "source": [
    "observed_outcomes = pd.get_dummies(data.Outcome)\n",
    "equilibria = pd.get_dummies(data.Equilibrium)\n",
    "equilibria[\"Const.\"] = 1\n",
    "regressors = [col for col in equilibria.columns if col != \"StatusQuo\"]"
   ]
  },
  {
   "cell_type": "code",
   "execution_count": 24,
   "metadata": {
    "collapsed": false
   },
   "outputs": [
    {
     "name": "stdout",
     "output_type": "stream",
     "text": [
      "Acquiesce_A\n",
      "Optimization terminated successfully.\n",
      "         Current function value: 0.004356\n",
      "         Iterations: 9\n",
      "         Function evaluations: 727\n",
      "Acquiesce_B\n",
      "Optimization terminated successfully.\n",
      "         Current function value: 0.004518\n",
      "         Iterations: 10\n",
      "         Function evaluations: 760\n",
      "Capitulate_A\n",
      "Optimization terminated successfully.\n",
      "         Current function value: 0.010166\n",
      "         Iterations: 6\n",
      "         Function evaluations: 457\n",
      "Capitulate_B\n",
      "Optimization terminated successfully.\n",
      "         Current function value: 0.011165\n",
      "         Iterations: 6\n",
      "         Function evaluations: 451\n",
      "Negotiation\n",
      "Optimization terminated successfully.\n",
      "         Current function value: 0.003260\n",
      "         Iterations: 9\n",
      "         Function evaluations: 697\n",
      "StatusQuo\n",
      "Optimization terminated successfully.\n",
      "         Current function value: 0.046022\n",
      "         Iterations: 6\n",
      "         Function evaluations: 434\n",
      "War\n",
      "Optimization terminated successfully.\n",
      "         Current function value: 0.024147\n",
      "         Iterations: 6\n",
      "         Function evaluations: 434\n"
     ]
    }
   ],
   "source": [
    "full_logits = {}\n",
    "for col in observed_outcomes.columns:\n",
    "    print(col)\n",
    "    full_logits[col] = sm.Logit(observed_outcomes[col], equilibria[regressors])\\\n",
    "        .fit(method='powell')"
   ]
  },
  {
   "cell_type": "code",
   "execution_count": 25,
   "metadata": {
    "collapsed": false
   },
   "outputs": [
    {
     "name": "stderr",
     "output_type": "stream",
     "text": [
      "/Users/dmasad/.virtualenvs/consul/lib/python3.4/site-packages/statsmodels/iolib/summary2.py:372: SettingWithCopyWarning: \n",
      "A value is trying to be set on a copy of a slice from a DataFrame\n",
      "\n",
      "See the the caveats in the documentation: http://pandas.pydata.org/pandas-docs/stable/indexing.html#indexing-view-versus-copy\n",
      "  res.ix[:, 0][idx] = res.ix[:, 0][idx] + '*'\n",
      "/Users/dmasad/.virtualenvs/consul/lib/python3.4/site-packages/statsmodels/iolib/summary2.py:374: SettingWithCopyWarning: \n",
      "A value is trying to be set on a copy of a slice from a DataFrame\n",
      "\n",
      "See the the caveats in the documentation: http://pandas.pydata.org/pandas-docs/stable/indexing.html#indexing-view-versus-copy\n",
      "  res.ix[:, 0][idx] = res.ix[:, 0][idx] + '*'\n",
      "/Users/dmasad/.virtualenvs/consul/lib/python3.4/site-packages/statsmodels/iolib/summary2.py:376: SettingWithCopyWarning: \n",
      "A value is trying to be set on a copy of a slice from a DataFrame\n",
      "\n",
      "See the the caveats in the documentation: http://pandas.pydata.org/pandas-docs/stable/indexing.html#indexing-view-versus-copy\n",
      "  res.ix[:, 0][idx] = res.ix[:, 0][idx] + '*'\n"
     ]
    }
   ],
   "source": [
    "results = summary_col(list(full_logits.values()), float_format=\"%0.2f\", stars=True)"
   ]
  },
  {
   "cell_type": "code",
   "execution_count": 26,
   "metadata": {
    "collapsed": false
   },
   "outputs": [
    {
     "name": "stdout",
     "output_type": "stream",
     "text": [
      "\n",
      "============================================================================================\n",
      "            Negotiation Capitulate_B Acquiesce_B StatusQuo Acquiesce_A   War    Capitulate_A\n",
      "--------------------------------------------------------------------------------------------\n",
      "Acquiesce_A -0.92***    -0.54***     -0.45**     0.34***   0.54***     -0.34*** -0.40***    \n",
      "            (0.24)      (0.12)       (0.22)      (0.05)    (0.17)      (0.07)   (0.13)      \n",
      "Acquiesce_B -0.41**     -0.29***     0.34**      0.31***   -0.73***    -0.54*** 0.08        \n",
      "            (0.19)      (0.10)       (0.17)      (0.05)    (0.23)      (0.07)   (0.11)      \n",
      "Negotiation -0.56***    -0.38***     0.06        0.20***   -0.08       -0.20*** 0.01        \n",
      "            (0.14)      (0.07)       (0.14)      (0.03)    (0.14)      (0.05)   (0.08)      \n",
      "War_A       -0.86***    -0.52***     -0.52***    0.53***   -0.19       -0.57*** -0.48***    \n",
      "            (0.19)      (0.09)       (0.18)      (0.04)    (0.17)      (0.06)   (0.11)      \n",
      "War_B       2.36***     0.44         1.79*       -0.98***  -24.50      0.72     0.81        \n",
      "            (0.72)      (1.00)       (1.01)      (0.36)    (512568.77) (0.58)   (1.00)      \n",
      "Const.      -7.38***    -6.16***     -7.51***    4.59***   -7.51***    -5.33*** -6.52***    \n",
      "            (0.12)      (0.06)       (0.13)      (0.03)    (0.13)      (0.04)   (0.08)      \n",
      "============================================================================================\n",
      "Standard errors in parentheses.\n",
      "* p<.1, ** p<.05, ***p<.01\n"
     ]
    }
   ],
   "source": [
    "print(results)"
   ]
  },
  {
   "cell_type": "code",
   "execution_count": 27,
   "metadata": {
    "collapsed": false
   },
   "outputs": [
    {
     "data": {
      "text/plain": [
       "997570"
      ]
     },
     "execution_count": 27,
     "metadata": {},
     "output_type": "execute_result"
    }
   ],
   "source": [
    "len(data)"
   ]
  },
  {
   "cell_type": "markdown",
   "metadata": {},
   "source": [
    "### Recode War to match model regressions"
   ]
  },
  {
   "cell_type": "code",
   "execution_count": 29,
   "metadata": {
    "collapsed": true
   },
   "outputs": [],
   "source": [
    "data.Equilibrium.replace({\"War_A\": \"War\", \"War_B\": \"War\"}, inplace=True)"
   ]
  },
  {
   "cell_type": "code",
   "execution_count": 30,
   "metadata": {
    "collapsed": true
   },
   "outputs": [],
   "source": [
    "observed_outcomes = pd.get_dummies(data.Outcome)\n",
    "equilibria = pd.get_dummies(data.Equilibrium)\n",
    "equilibria[\"Const.\"] = 1\n",
    "regressors = [col for col in equilibria.columns if col != \"StatusQuo\"]"
   ]
  },
  {
   "cell_type": "code",
   "execution_count": 31,
   "metadata": {
    "collapsed": false
   },
   "outputs": [
    {
     "name": "stdout",
     "output_type": "stream",
     "text": [
      "Acquiesce_A\n",
      "Optimization terminated successfully.\n",
      "         Current function value: 0.004356\n",
      "         Iterations: 9\n",
      "         Function evaluations: 582\n",
      "Acquiesce_B\n",
      "Optimization terminated successfully.\n",
      "         Current function value: 0.004520\n",
      "         Iterations: 10\n",
      "         Function evaluations: 643\n",
      "Capitulate_A\n",
      "Optimization terminated successfully.\n",
      "         Current function value: 0.010167\n",
      "         Iterations: 6\n",
      "         Function evaluations: 384\n",
      "Capitulate_B\n",
      "Optimization terminated successfully.\n",
      "         Current function value: 0.011165\n",
      "         Iterations: 6\n",
      "         Function evaluations: 378\n",
      "Negotiation\n",
      "Optimization terminated successfully.\n",
      "         Current function value: 0.003264\n",
      "         Iterations: 9\n",
      "         Function evaluations: 589\n",
      "StatusQuo\n",
      "Optimization terminated successfully.\n",
      "         Current function value: 0.046028\n",
      "         Iterations: 6\n",
      "         Function evaluations: 366\n",
      "War\n",
      "Optimization terminated successfully.\n",
      "         Current function value: 0.024149\n",
      "         Iterations: 6\n",
      "         Function evaluations: 364\n"
     ]
    }
   ],
   "source": [
    "full_logits = {}\n",
    "for col in observed_outcomes.columns:\n",
    "    print(col)\n",
    "    full_logits[col] = sm.Logit(observed_outcomes[col], equilibria[regressors])\\\n",
    "        .fit(method='powell')"
   ]
  },
  {
   "cell_type": "code",
   "execution_count": 32,
   "metadata": {
    "collapsed": false
   },
   "outputs": [
    {
     "name": "stderr",
     "output_type": "stream",
     "text": [
      "/Users/dmasad/.virtualenvs/consul/lib/python3.4/site-packages/statsmodels/iolib/summary2.py:372: SettingWithCopyWarning: \n",
      "A value is trying to be set on a copy of a slice from a DataFrame\n",
      "\n",
      "See the the caveats in the documentation: http://pandas.pydata.org/pandas-docs/stable/indexing.html#indexing-view-versus-copy\n",
      "  res.ix[:, 0][idx] = res.ix[:, 0][idx] + '*'\n",
      "/Users/dmasad/.virtualenvs/consul/lib/python3.4/site-packages/statsmodels/iolib/summary2.py:374: SettingWithCopyWarning: \n",
      "A value is trying to be set on a copy of a slice from a DataFrame\n",
      "\n",
      "See the the caveats in the documentation: http://pandas.pydata.org/pandas-docs/stable/indexing.html#indexing-view-versus-copy\n",
      "  res.ix[:, 0][idx] = res.ix[:, 0][idx] + '*'\n",
      "/Users/dmasad/.virtualenvs/consul/lib/python3.4/site-packages/statsmodels/iolib/summary2.py:376: SettingWithCopyWarning: \n",
      "A value is trying to be set on a copy of a slice from a DataFrame\n",
      "\n",
      "See the the caveats in the documentation: http://pandas.pydata.org/pandas-docs/stable/indexing.html#indexing-view-versus-copy\n",
      "  res.ix[:, 0][idx] = res.ix[:, 0][idx] + '*'\n"
     ]
    }
   ],
   "source": [
    "results = summary_col(list(full_logits.values()), float_format=\"%0.2f\", stars=True)"
   ]
  },
  {
   "cell_type": "code",
   "execution_count": 33,
   "metadata": {
    "collapsed": false
   },
   "outputs": [
    {
     "name": "stdout",
     "output_type": "stream",
     "text": [
      "\n",
      "============================================================================================\n",
      "            Negotiation Capitulate_B Acquiesce_B StatusQuo Acquiesce_A   War    Capitulate_A\n",
      "--------------------------------------------------------------------------------------------\n",
      "Acquiesce_A -0.93***    -0.54***     -0.44**     0.34***   0.54***     -0.34*** -0.40***    \n",
      "            (0.24)      (0.12)       (0.22)      (0.05)    (0.17)      (0.07)   (0.13)      \n",
      "Acquiesce_B -0.41**     -0.29***     0.34**      0.31***   -0.73***    -0.54*** 0.08        \n",
      "            (0.19)      (0.10)       (0.17)      (0.05)    (0.23)      (0.07)   (0.11)      \n",
      "Negotiation -0.57***    -0.38***     0.06        0.20***   -0.08       -0.20*** 0.01        \n",
      "            (0.14)      (0.07)       (0.14)      (0.03)    (0.14)      (0.05)   (0.08)      \n",
      "War         -0.82***    -0.52***     -0.51***    0.53***   -0.19       -0.56*** -0.48***    \n",
      "            (0.18)      (0.09)       (0.18)      (0.04)    (0.17)      (0.06)   (0.11)      \n",
      "Const.      -7.38***    -6.16***     -7.51***    4.59***   -7.51***    -5.33*** -6.52***    \n",
      "            (0.12)      (0.06)       (0.13)      (0.03)    (0.13)      (0.04)   (0.08)      \n",
      "============================================================================================\n",
      "Standard errors in parentheses.\n",
      "* p<.1, ** p<.05, ***p<.01\n"
     ]
    }
   ],
   "source": [
    "print(results)"
   ]
  },
  {
   "cell_type": "code",
   "execution_count": null,
   "metadata": {
    "collapsed": true
   },
   "outputs": [],
   "source": []
  }
 ],
 "metadata": {
  "kernelspec": {
   "display_name": "Python 3",
   "language": "python",
   "name": "python3"
  },
  "language_info": {
   "codemirror_mode": {
    "name": "ipython",
    "version": 3
   },
   "file_extension": ".py",
   "mimetype": "text/x-python",
   "name": "python",
   "nbconvert_exporter": "python",
   "pygments_lexer": "ipython3",
   "version": "3.4.2"
  }
 },
 "nbformat": 4,
 "nbformat_minor": 0
}
