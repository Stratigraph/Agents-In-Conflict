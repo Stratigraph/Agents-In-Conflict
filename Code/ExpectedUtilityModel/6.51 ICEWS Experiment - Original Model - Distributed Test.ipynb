{
 "cells": [
  {
   "cell_type": "markdown",
   "metadata": {},
   "source": [
    "# Model to ICEWS Events\n",
    "\n",
    "In this analysis, I'm going to build a basic BDM model for the world based on COW alliance taus (with position = similarity to United States, to capture unipolarity) and see how predicted conflicts align with ICEWS events."
   ]
  },
  {
   "cell_type": "code",
   "execution_count": 1,
   "metadata": {
    "collapsed": true
   },
   "outputs": [],
   "source": [
    "import copy\n",
    "from collections import defaultdict, namedtuple, Counter\n",
    "from itertools import combinations, permutations\n",
    "\n",
    "\n",
    "import numpy as np\n",
    "import scipy.stats\n",
    "\n",
    "import pandas as pd\n",
    "import networkx as nx\n",
    "\n",
    "import matplotlib.pyplot as plt\n",
    "%matplotlib inline"
   ]
  },
  {
   "cell_type": "code",
   "execution_count": 2,
   "metadata": {
    "collapsed": true
   },
   "outputs": [],
   "source": [
    "from negotiation_model import *\n",
    "from bdm_agent import *\n",
    "from bdm_replication import *"
   ]
  },
  {
   "cell_type": "code",
   "execution_count": 3,
   "metadata": {
    "collapsed": true
   },
   "outputs": [],
   "source": [
    "import ipyparallel"
   ]
  },
  {
   "cell_type": "markdown",
   "metadata": {},
   "source": [
    "# Setup model variant"
   ]
  },
  {
   "cell_type": "code",
   "execution_count": 4,
   "metadata": {
    "collapsed": true
   },
   "outputs": [],
   "source": [
    "class BDM_Agent_wo_Movement(Real_BDM_Agent):\n",
    "    def lose_conflict(self, winner):\n",
    "        pass\n",
    "\n",
    "class BDMActor(NegotiationActor):\n",
    "    DecisionClass = BDM_Agent_wo_Movement\n"
   ]
  },
  {
   "cell_type": "code",
   "execution_count": 13,
   "metadata": {
    "collapsed": true
   },
   "outputs": [],
   "source": [
    "class Model_Output:\n",
    "    def __init__(self, model):\n",
    "        '''\n",
    "        Store data from model run.\n",
    "        '''\n",
    "        self.agent_vars = model.datacollector.get_agent_vars_dataframe()\n",
    "        self.model_vars = model.datacollector.get_model_vars_dataframe()\n",
    "        self.log = model.log"
   ]
  },
  {
   "cell_type": "markdown",
   "metadata": {},
   "source": [
    "# Load data\n",
    "\n",
    "(generated in 6.01)"
   ]
  },
  {
   "cell_type": "code",
   "execution_count": 5,
   "metadata": {
    "collapsed": true
   },
   "outputs": [],
   "source": [
    "agents = pd.read_csv(\"ICEWS_2004_agents.csv\")"
   ]
  },
  {
   "cell_type": "code",
   "execution_count": 6,
   "metadata": {
    "collapsed": false
   },
   "outputs": [
    {
     "data": {
      "text/html": [
       "<div>\n",
       "<table border=\"1\" class=\"dataframe\">\n",
       "  <thead>\n",
       "    <tr style=\"text-align: right;\">\n",
       "      <th></th>\n",
       "      <th>Name</th>\n",
       "      <th>Position</th>\n",
       "      <th>Capability</th>\n",
       "    </tr>\n",
       "  </thead>\n",
       "  <tbody>\n",
       "    <tr>\n",
       "      <th>0</th>\n",
       "      <td>Algeria</td>\n",
       "      <td>0.006786</td>\n",
       "      <td>0.005054</td>\n",
       "    </tr>\n",
       "    <tr>\n",
       "      <th>1</th>\n",
       "      <td>Argentina</td>\n",
       "      <td>0.731829</td>\n",
       "      <td>0.004797</td>\n",
       "    </tr>\n",
       "    <tr>\n",
       "      <th>2</th>\n",
       "      <td>Australia</td>\n",
       "      <td>0.192204</td>\n",
       "      <td>0.006817</td>\n",
       "    </tr>\n",
       "    <tr>\n",
       "      <th>3</th>\n",
       "      <td>Bangladesh</td>\n",
       "      <td>NaN</td>\n",
       "      <td>0.007891</td>\n",
       "    </tr>\n",
       "    <tr>\n",
       "      <th>4</th>\n",
       "      <td>Belgium</td>\n",
       "      <td>0.547674</td>\n",
       "      <td>0.004747</td>\n",
       "    </tr>\n",
       "  </tbody>\n",
       "</table>\n",
       "</div>"
      ],
      "text/plain": [
       "         Name  Position  Capability\n",
       "0     Algeria  0.006786    0.005054\n",
       "1   Argentina  0.731829    0.004797\n",
       "2   Australia  0.192204    0.006817\n",
       "3  Bangladesh       NaN    0.007891\n",
       "4     Belgium  0.547674    0.004747"
      ]
     },
     "execution_count": 6,
     "metadata": {},
     "output_type": "execute_result"
    }
   ],
   "source": [
    "agents.head()"
   ]
  },
  {
   "cell_type": "markdown",
   "metadata": {},
   "source": [
    "# Setup cluster"
   ]
  },
  {
   "cell_type": "code",
   "execution_count": 7,
   "metadata": {
    "collapsed": false
   },
   "outputs": [
    {
     "data": {
      "text/plain": [
       "[0, 1, 2, 3]"
      ]
     },
     "execution_count": 7,
     "metadata": {},
     "output_type": "execute_result"
    }
   ],
   "source": [
    "clients = ipyparallel.Client()\n",
    "clients.ids"
   ]
  },
  {
   "cell_type": "code",
   "execution_count": 8,
   "metadata": {
    "collapsed": true
   },
   "outputs": [],
   "source": [
    "dview = clients[:]"
   ]
  },
  {
   "cell_type": "code",
   "execution_count": 9,
   "metadata": {
    "collapsed": false
   },
   "outputs": [
    {
     "name": "stdout",
     "output_type": "stream",
     "text": [
      "importing random on engine(s)\n",
      "importing Real_Negotiation_Model from bdm_replication on engine(s)\n"
     ]
    }
   ],
   "source": [
    "with dview.sync_imports():\n",
    "    import random\n",
    "    #from bdm_replication import BDMActor, Real_Negotiation_Model\n",
    "    from bdm_replication import Real_Negotiation_Model"
   ]
  },
  {
   "cell_type": "code",
   "execution_count": 16,
   "metadata": {
    "collapsed": false
   },
   "outputs": [
    {
     "data": {
      "text/plain": [
       "<AsyncResult: finished>"
      ]
     },
     "execution_count": 16,
     "metadata": {},
     "output_type": "execute_result"
    }
   ],
   "source": [
    "dview.push({\"agent_df\": agents,\n",
    "            \"BDM_Agent_wo_Movement\": BDM_Agent_wo_Movement,\n",
    "           \"BDMActor\": BDMActor,\n",
    "           \"Model_Output\": Model_Output})"
   ]
  },
  {
   "cell_type": "code",
   "execution_count": 17,
   "metadata": {
    "collapsed": true
   },
   "outputs": [],
   "source": [
    "def run_model_step(n):\n",
    "    # Assemble model\n",
    "    agents = []\n",
    "    for i, row in agent_df.iterrows():\n",
    "        name = row.Name\n",
    "        capability = row.Capability\n",
    "        position = row.Position\n",
    "        salience = random.random()\n",
    "        if not position.is_integer():\n",
    "            position = 0.5 + random.normalvariate(0, 0.1)\n",
    "        new_agent = BDMActor(name, capability, position, salience)\n",
    "\n",
    "        new_agent.decision_model.Q = 0.5\n",
    "        new_agent.decision_model.T = 0.5\n",
    "        agents.append(new_agent)\n",
    "    model = Real_Negotiation_Model(agents)\n",
    "    \n",
    "    # Run Model\n",
    "    for j in range(24):\n",
    "        model.step()\n",
    "    return Model_Output(model)"
   ]
  },
  {
   "cell_type": "markdown",
   "metadata": {},
   "source": [
    "# Run"
   ]
  },
  {
   "cell_type": "code",
   "execution_count": 18,
   "metadata": {
    "collapsed": false
   },
   "outputs": [],
   "source": [
    "model_results = dview.map_sync(run_model_step, range(4))"
   ]
  },
  {
   "cell_type": "code",
   "execution_count": null,
   "metadata": {
    "collapsed": true
   },
   "outputs": [],
   "source": [
    "class Model_Output:\n",
    "    def __init__(self, model):\n",
    "        '''\n",
    "        Store data from model run.\n",
    "        '''\n",
    "        self.agent_vars = model.datacollector.get_agent_vars_dataframe()\n",
    "        self.model_vars = model.datacollector.get_model_vars_dataframe()\n",
    "        self.log = model.log"
   ]
  },
  {
   "cell_type": "code",
   "execution_count": null,
   "metadata": {
    "collapsed": true
   },
   "outputs": [],
   "source": [
    "all_models = [Model_Output(m) for m in model_results]"
   ]
  },
  {
   "cell_type": "code",
   "execution_count": null,
   "metadata": {
    "collapsed": false
   },
   "outputs": [],
   "source": [
    "df = model_results[-1].datacollector.get_model_vars_dataframe()\n",
    "fig, ax = plt.subplots(figsize=(12,4))\n",
    "df.plot(ax=ax)\n",
    "ax.set_ylim(0, 1)"
   ]
  },
  {
   "cell_type": "code",
   "execution_count": null,
   "metadata": {
    "collapsed": true
   },
   "outputs": [],
   "source": []
  },
  {
   "cell_type": "code",
   "execution_count": 20,
   "metadata": {
    "collapsed": false
   },
   "outputs": [],
   "source": [
    "conflict_dyads = Counter()\n",
    "conflict_models = defaultdict(set)\n",
    "\n",
    "for i, model in enumerate(model_results):\n",
    "#for i, model in enumerate(all_models):\n",
    "    for event in model.log.get_events(action=\"Attack\"):\n",
    "        source = event.source\n",
    "        target = event.target\n",
    "        dyad = (source, target)\n",
    "        conflict_dyads[dyad] += 1\n",
    "        conflict_models[dyad].add(i)\n",
    "\n",
    "conflict_models = {k: len(v) for k, v in conflict_models.items()}        \n",
    "        \n",
    "# Fill in zeroes\n",
    "names = agents.Name.unique()\n",
    "for source, target in permutations(names, 2):\n",
    "    dyad = (source, target)\n",
    "    if dyad not in conflict_dyads:\n",
    "        conflict_dyads[dyad] = 0\n",
    "    if dyad not in conflict_models:\n",
    "        conflict_models[dyad] = 0"
   ]
  },
  {
   "cell_type": "code",
   "execution_count": 21,
   "metadata": {
    "collapsed": false
   },
   "outputs": [
    {
     "data": {
      "text/plain": [
       "Counter({('Argentina', 'Taiwan'): 0,\n",
       "         ('United States of America', 'Colombia'): 0,\n",
       "         ('Iran', 'Algeria'): 0,\n",
       "         ('Argentina', 'United Kingdom'): 0,\n",
       "         ('Iran', 'Syria'): 0,\n",
       "         ('Netherlands', 'Taiwan'): 0,\n",
       "         ('Saudi Arabia', 'Ethiopia'): 0,\n",
       "         ('Sweden', 'Thailand'): 0,\n",
       "         ('France', 'Saudi Arabia'): 0,\n",
       "         ('Brazil', 'Italy'): 0,\n",
       "         ('India', 'Taiwan'): 0,\n",
       "         ('Morocco', 'Colombia'): 0,\n",
       "         ('Iraq', 'Ethiopia'): 0,\n",
       "         ('Thailand', 'Poland'): 0,\n",
       "         ('Pakistan', 'Belgium'): 0,\n",
       "         ('South Korea', 'Belgium'): 0,\n",
       "         ('Turkey', 'Morocco'): 0,\n",
       "         ('Brazil', 'United Kingdom'): 0,\n",
       "         ('Japan', 'Turkey'): 0,\n",
       "         ('United States of America', 'Venezuela'): 0,\n",
       "         ('Ukraine', 'Germany'): 0,\n",
       "         ('Sweden', 'Saudi Arabia'): 0,\n",
       "         ('Turkey', 'Iraq'): 0,\n",
       "         ('Nigeria', 'Germany'): 0,\n",
       "         ('Chile', 'Syria'): 0,\n",
       "         ('Morocco', 'Iran'): 0,\n",
       "         ('North Korea', 'Turkey'): 0,\n",
       "         ('Canada', 'Iraq'): 0,\n",
       "         ('Taiwan', 'Chile'): 0,\n",
       "         ('Israel', 'Iraq'): 24,\n",
       "         ('Ukraine', 'Thailand'): 0,\n",
       "         ('Brazil', 'Iraq'): 0,\n",
       "         ('Democratic Republic of the Congo', 'Ukraine'): 0,\n",
       "         ('Ukraine', 'Spain'): 0,\n",
       "         ('Algeria', 'Brazil'): 0,\n",
       "         ('Australia', 'Algeria'): 0,\n",
       "         ('France', 'Sweden'): 0,\n",
       "         ('Russia', 'Israel'): 24,\n",
       "         ('Brazil', 'Democratic Republic of the Congo'): 0,\n",
       "         ('North Korea', 'South Korea'): 0,\n",
       "         ('South Africa', 'Syria'): 0,\n",
       "         ('Malaysia', 'Ukraine'): 0,\n",
       "         ('South Africa', 'China'): 0,\n",
       "         ('United Kingdom', 'Spain'): 0,\n",
       "         ('Democratic Republic of the Congo', 'Venezuela'): 0,\n",
       "         ('Belgium', 'Germany'): 0,\n",
       "         ('Australia', 'Malaysia'): 0,\n",
       "         ('Ukraine', 'Malaysia'): 0,\n",
       "         ('Taiwan', 'Syria'): 0,\n",
       "         ('Algeria', 'Iraq'): 0,\n",
       "         ('India', 'Saudi Arabia'): 0,\n",
       "         ('China', 'Malaysia'): 0,\n",
       "         ('South Africa', 'Malaysia'): 0,\n",
       "         ('Nigeria', 'Indonesia'): 0,\n",
       "         ('South Korea', 'France'): 0,\n",
       "         ('Thailand', 'Democratic Republic of the Congo'): 0,\n",
       "         ('Greece', 'Thailand'): 0,\n",
       "         ('Belgium', 'India'): 0,\n",
       "         ('Algeria', 'Morocco'): 0,\n",
       "         ('Venezuela', 'Russia'): 0,\n",
       "         ('Iraq', 'Vietnam'): 0,\n",
       "         ('India', 'United States of America'): 0,\n",
       "         ('Morocco', 'Syria'): 0,\n",
       "         ('Spain', 'South Korea'): 0,\n",
       "         ('Turkey', 'China'): 0,\n",
       "         ('Greece', 'Colombia'): 0,\n",
       "         ('Turkey', 'Thailand'): 0,\n",
       "         ('Australia', 'Thailand'): 0,\n",
       "         ('Brazil', 'South Africa'): 0,\n",
       "         ('France', 'Belgium'): 0,\n",
       "         ('Mexico', 'Netherlands'): 0,\n",
       "         ('Indonesia', 'South Africa'): 0,\n",
       "         ('France', 'Romania'): 0,\n",
       "         ('United Kingdom', 'South Africa'): 0,\n",
       "         ('South Africa', 'Thailand'): 0,\n",
       "         ('Philippines', 'Thailand'): 0,\n",
       "         ('Argentina', 'North Korea'): 0,\n",
       "         ('North Korea', 'India'): 0,\n",
       "         ('Spain', 'Morocco'): 0,\n",
       "         ('Spain', 'Iran'): 0,\n",
       "         ('China', 'Myanmar'): 0,\n",
       "         ('Philippines', 'Germany'): 0,\n",
       "         ('Germany', 'Syria'): 0,\n",
       "         ('United Kingdom', 'Morocco'): 0,\n",
       "         ('Egypt', 'South Africa'): 0,\n",
       "         ('Democratic Republic of the Congo', 'Ethiopia'): 0,\n",
       "         ('Russia', 'Canada'): 0,\n",
       "         ('Mexico', 'Iran'): 0,\n",
       "         ('Ukraine', 'Russia'): 0,\n",
       "         ('Ethiopia', 'Greece'): 0,\n",
       "         ('Mexico', 'Italy'): 0,\n",
       "         ('Argentina', 'India'): 0,\n",
       "         ('Colombia', 'Myanmar'): 0,\n",
       "         ('Chile', 'North Korea'): 0,\n",
       "         ('South Africa', 'Pakistan'): 0,\n",
       "         ('Mexico', 'Japan'): 0,\n",
       "         ('South Korea', 'China'): 0,\n",
       "         ('Chile', 'Democratic Republic of the Congo'): 0,\n",
       "         ('Israel', 'Brazil'): 0,\n",
       "         ('South Korea', 'Morocco'): 0,\n",
       "         ('Poland', 'Romania'): 0,\n",
       "         ('Bangladesh', 'South Korea'): 0,\n",
       "         ('Egypt', 'Iraq'): 0,\n",
       "         ('Netherlands', 'Bangladesh'): 0,\n",
       "         ('Canada', 'Italy'): 0,\n",
       "         ('Japan', 'Malaysia'): 0,\n",
       "         ('Saudi Arabia', 'India'): 0,\n",
       "         ('France', 'Nigeria'): 0,\n",
       "         ('United States of America', 'North Korea'): 0,\n",
       "         ('Netherlands', 'Iraq'): 0,\n",
       "         ('Syria', 'Romania'): 0,\n",
       "         ('China', 'Netherlands'): 0,\n",
       "         ('Poland', 'Turkey'): 0,\n",
       "         ('Venezuela', 'Algeria'): 0,\n",
       "         ('Philippines', 'Iran'): 0,\n",
       "         ('Iraq', 'China'): 0,\n",
       "         ('Turkey', 'Japan'): 0,\n",
       "         ('Indonesia', 'Australia'): 0,\n",
       "         ('United States of America', 'India'): 0,\n",
       "         ('Mexico', 'North Korea'): 0,\n",
       "         ('Netherlands', 'Thailand'): 0,\n",
       "         ('Romania', 'Greece'): 0,\n",
       "         ('Algeria', 'United States of America'): 0,\n",
       "         ('North Korea', 'Taiwan'): 0,\n",
       "         ('China', 'Morocco'): 0,\n",
       "         ('Greece', 'South Korea'): 0,\n",
       "         ('Brazil', 'Mexico'): 0,\n",
       "         ('Argentina', 'Brazil'): 0,\n",
       "         ('Belgium', 'Morocco'): 0,\n",
       "         ('Democratic Republic of the Congo', 'Canada'): 0,\n",
       "         ('Belgium', 'Japan'): 0,\n",
       "         ('Egypt', 'Colombia'): 0,\n",
       "         ('Israel', 'Sweden'): 0,\n",
       "         ('South Africa', 'Mexico'): 0,\n",
       "         ('Ethiopia', 'Israel'): 0,\n",
       "         ('Poland', 'Japan'): 0,\n",
       "         ('Spain', 'Italy'): 0,\n",
       "         ('Egypt', 'Nigeria'): 0,\n",
       "         ('United Kingdom', 'Brazil'): 0,\n",
       "         ('Ukraine', 'Turkey'): 0,\n",
       "         ('Spain', 'Vietnam'): 0,\n",
       "         ('South Africa', 'United Kingdom'): 0,\n",
       "         ('Bangladesh', 'United States of America'): 0,\n",
       "         ('Democratic Republic of the Congo', 'Nigeria'): 0,\n",
       "         ('United States of America', 'Vietnam'): 0,\n",
       "         ('Democratic Republic of the Congo', 'Netherlands'): 0,\n",
       "         ('China', 'Poland'): 0,\n",
       "         ('Ethiopia', 'United States of America'): 0,\n",
       "         ('India', 'Germany'): 16,\n",
       "         ('Kazakhstan', 'Canada'): 0,\n",
       "         ('Belgium', 'Democratic Republic of the Congo'): 0,\n",
       "         ('Brazil', 'Netherlands'): 0,\n",
       "         ('Brazil', 'Nigeria'): 0,\n",
       "         ('Greece', 'South Africa'): 0,\n",
       "         ('Greece', 'Bangladesh'): 0,\n",
       "         ('Iraq', 'Brazil'): 0,\n",
       "         ('Nigeria', 'Myanmar'): 0,\n",
       "         ('Nigeria', 'South Africa'): 0,\n",
       "         ('France', 'South Korea'): 0,\n",
       "         ('Syria', 'China'): 0,\n",
       "         ('Philippines', 'Greece'): 0,\n",
       "         ('Malaysia', 'Japan'): 0,\n",
       "         ('Thailand', 'Italy'): 0,\n",
       "         ('Poland', 'Germany'): 0,\n",
       "         ('Argentina', 'Nigeria'): 0,\n",
       "         ('United Kingdom', 'Kazakhstan'): 0,\n",
       "         ('Turkey', 'Bangladesh'): 0,\n",
       "         ('Israel', 'Belgium'): 0,\n",
       "         ('Argentina', 'Thailand'): 0,\n",
       "         ('Ethiopia', 'Russia'): 0,\n",
       "         ('Turkey', 'Pakistan'): 0,\n",
       "         ('Thailand', 'Netherlands'): 0,\n",
       "         ('Democratic Republic of the Congo', 'France'): 0,\n",
       "         ('China', 'United States of America'): 0,\n",
       "         ('South Korea', 'India'): 0,\n",
       "         ('Taiwan', 'Kazakhstan'): 0,\n",
       "         ('Syria', 'Netherlands'): 24,\n",
       "         ('Italy', 'France'): 0,\n",
       "         ('Democratic Republic of the Congo', 'Iraq'): 0,\n",
       "         ('Argentina', 'China'): 0,\n",
       "         ('Democratic Republic of the Congo', 'United Kingdom'): 0,\n",
       "         ('Chile', 'Venezuela'): 0,\n",
       "         ('Germany', 'Vietnam'): 0,\n",
       "         ('Pakistan', 'Ethiopia'): 0,\n",
       "         ('India', 'Malaysia'): 0,\n",
       "         ('Democratic Republic of the Congo', 'Saudi Arabia'): 0,\n",
       "         ('China', 'Israel'): 0,\n",
       "         ('Iran', 'Israel'): 0,\n",
       "         ('Pakistan', 'Sweden'): 0,\n",
       "         ('Indonesia', 'Germany'): 0,\n",
       "         ('Poland', 'Netherlands'): 0,\n",
       "         ('Japan', 'Democratic Republic of the Congo'): 0,\n",
       "         ('Poland', 'South Korea'): 0,\n",
       "         ('Kazakhstan', 'Indonesia'): 0,\n",
       "         ('Spain', 'Greece'): 0,\n",
       "         ('Thailand', 'Germany'): 24,\n",
       "         ('Israel', 'Turkey'): 0,\n",
       "         ('Russia', 'Bangladesh'): 0,\n",
       "         ('Nigeria', 'Syria'): 0,\n",
       "         ('Japan', 'North Korea'): 0,\n",
       "         ('Argentina', 'Australia'): 0,\n",
       "         ('Canada', 'Iran'): 0,\n",
       "         ('Argentina', 'Ethiopia'): 0,\n",
       "         ('Sweden', 'Russia'): 0,\n",
       "         ('North Korea', 'Mexico'): 0,\n",
       "         ('Italy', 'Syria'): 0,\n",
       "         ('Thailand', 'Philippines'): 0,\n",
       "         ('United Kingdom', 'Thailand'): 0,\n",
       "         ('Canada', 'Algeria'): 0,\n",
       "         ('Turkey', 'India'): 0,\n",
       "         ('United States of America', 'Malaysia'): 0,\n",
       "         ('Algeria', 'Ethiopia'): 0,\n",
       "         ('China', 'Kazakhstan'): 0,\n",
       "         ('Mexico', 'Nigeria'): 0,\n",
       "         ('France', 'Brazil'): 0,\n",
       "         ('Egypt', 'Romania'): 0,\n",
       "         ('Indonesia', 'Argentina'): 0,\n",
       "         ('United Kingdom', 'Argentina'): 0,\n",
       "         ('Belgium', 'China'): 0,\n",
       "         ('Ethiopia', 'South Korea'): 0,\n",
       "         ('Germany', 'Chile'): 0,\n",
       "         ('Turkey', 'Russia'): 0,\n",
       "         ('Italy', 'Brazil'): 0,\n",
       "         ('Ethiopia', 'China'): 0,\n",
       "         ('France', 'Philippines'): 0,\n",
       "         ('Iraq', 'Pakistan'): 0,\n",
       "         ('Australia', 'Saudi Arabia'): 0,\n",
       "         ('Ukraine', 'Bangladesh'): 0,\n",
       "         ('Germany', 'Greece'): 0,\n",
       "         ('Morocco', 'Thailand'): 0,\n",
       "         ('South Africa', 'India'): 0,\n",
       "         ('Iran', 'Indonesia'): 0,\n",
       "         ('Japan', 'China'): 0,\n",
       "         ('Turkey', 'Chile'): 0,\n",
       "         ('China', 'Democratic Republic of the Congo'): 0,\n",
       "         ('Democratic Republic of the Congo', 'North Korea'): 0,\n",
       "         ('Argentina', 'Pakistan'): 0,\n",
       "         ('Bangladesh', 'Sweden'): 0,\n",
       "         ('Iran', 'Pakistan'): 0,\n",
       "         ('Canada', 'Greece'): 0,\n",
       "         ('Thailand', 'Turkey'): 0,\n",
       "         ('Ethiopia', 'Germany'): 0,\n",
       "         ('Ukraine', 'Egypt'): 0,\n",
       "         ('Pakistan', 'Thailand'): 0,\n",
       "         ('Japan', 'India'): 0,\n",
       "         ('Russia', 'Germany'): 0,\n",
       "         ('Nigeria', 'Bangladesh'): 0,\n",
       "         ('Philippines', 'Japan'): 0,\n",
       "         ('South Africa', 'Israel'): 0,\n",
       "         ('Syria', 'Australia'): 0,\n",
       "         ('Romania', 'Myanmar'): 0,\n",
       "         ('Iran', 'Netherlands'): 0,\n",
       "         ('Argentina', 'Chile'): 0,\n",
       "         ('Venezuela', 'Colombia'): 0,\n",
       "         ('United Kingdom', 'Russia'): 0,\n",
       "         ('Egypt', 'Vietnam'): 0,\n",
       "         ('Ethiopia', 'India'): 0,\n",
       "         ('Bangladesh', 'Morocco'): 0,\n",
       "         ('Australia', 'North Korea'): 0,\n",
       "         ('South Korea', 'Taiwan'): 0,\n",
       "         ('Egypt', 'Poland'): 0,\n",
       "         ('Bangladesh', 'Iraq'): 0,\n",
       "         ('France', 'Syria'): 0,\n",
       "         ('Democratic Republic of the Congo', 'Italy'): 0,\n",
       "         ('Mexico', 'Taiwan'): 0,\n",
       "         ('Algeria', 'Chile'): 0,\n",
       "         ('Philippines', 'Indonesia'): 0,\n",
       "         ('South Africa', 'Bangladesh'): 0,\n",
       "         ('Colombia', 'Thailand'): 0,\n",
       "         ('Malaysia', 'Brazil'): 24,\n",
       "         ('Indonesia', 'Venezuela'): 0,\n",
       "         ('Brazil', 'Bangladesh'): 0,\n",
       "         ('United States of America', 'Germany'): 0,\n",
       "         ('Argentina', 'Philippines'): 0,\n",
       "         ('Mexico', 'Philippines'): 0,\n",
       "         ('Argentina', 'Mexico'): 0,\n",
       "         ('Russia', 'Japan'): 0,\n",
       "         ('Colombia', 'Algeria'): 0,\n",
       "         ('Syria', 'Brazil'): 0,\n",
       "         ('Saudi Arabia', 'Canada'): 0,\n",
       "         ('South Korea', 'Philippines'): 0,\n",
       "         ('Israel', 'Russia'): 24,\n",
       "         ('Syria', 'Russia'): 0,\n",
       "         ('Vietnam', 'Australia'): 0,\n",
       "         ('Colombia', 'Iran'): 0,\n",
       "         ('Nigeria', 'Malaysia'): 0,\n",
       "         ('Kazakhstan', 'France'): 0,\n",
       "         ('Spain', 'Germany'): 0,\n",
       "         ('Nigeria', 'Vietnam'): 0,\n",
       "         ('Greece', 'Indonesia'): 0,\n",
       "         ('Japan', 'Ukraine'): 0,\n",
       "         ('Chile', 'Greece'): 0,\n",
       "         ('Germany', 'France'): 0,\n",
       "         ('Belgium', 'Chile'): 0,\n",
       "         ('Sweden', 'United States of America'): 0,\n",
       "         ('Bangladesh', 'Netherlands'): 0,\n",
       "         ('Kazakhstan', 'Myanmar'): 0,\n",
       "         ('Indonesia', 'Canada'): 0,\n",
       "         ('Ukraine', 'United Kingdom'): 0,\n",
       "         ('Canada', 'Bangladesh'): 0,\n",
       "         ('Nigeria', 'United Kingdom'): 0,\n",
       "         ('Netherlands', 'Egypt'): 20,\n",
       "         ('Israel', 'Thailand'): 0,\n",
       "         ('Algeria', 'Poland'): 0,\n",
       "         ('Ukraine', 'Italy'): 0,\n",
       "         ('China', 'Mexico'): 0,\n",
       "         ('Bangladesh', 'India'): 0,\n",
       "         ('Israel', 'Taiwan'): 0,\n",
       "         ('Belgium', 'Canada'): 0,\n",
       "         ('Ukraine', 'Mexico'): 0,\n",
       "         ('Pakistan', 'Spain'): 0,\n",
       "         ('Ethiopia', 'Taiwan'): 0,\n",
       "         ('Syria', 'Greece'): 0,\n",
       "         ('Thailand', 'Nigeria'): 0,\n",
       "         ('Belgium', 'Philippines'): 0,\n",
       "         ('Indonesia', 'Turkey'): 0,\n",
       "         ('Philippines', 'Myanmar'): 0,\n",
       "         ('Germany', 'Thailand'): 24,\n",
       "         ('Vietnam', 'Poland'): 0,\n",
       "         ('Greece', 'Netherlands'): 0,\n",
       "         ('Greece', 'Nigeria'): 0,\n",
       "         ('Canada', 'Egypt'): 0,\n",
       "         ('Poland', 'Greece'): 0,\n",
       "         ('North Korea', 'Israel'): 0,\n",
       "         ('Egypt', 'China'): 0,\n",
       "         ('Spain', 'Kazakhstan'): 0,\n",
       "         ('China', 'Indonesia'): 0,\n",
       "         ('Chile', 'Germany'): 0,\n",
       "         ('Iraq', 'Belgium'): 0,\n",
       "         ('Egypt', 'Belgium'): 0,\n",
       "         ('South Korea', 'Syria'): 0,\n",
       "         ('Israel', 'Nigeria'): 0,\n",
       "         ('Malaysia', 'Poland'): 0,\n",
       "         ('Egypt', 'Mexico'): 0,\n",
       "         ('Taiwan', 'France'): 0,\n",
       "         ('Belgium', 'Ukraine'): 0,\n",
       "         ('Chile', 'Belgium'): 0,\n",
       "         ('South Africa', 'Australia'): 0,\n",
       "         ('Algeria', 'Taiwan'): 0,\n",
       "         ('Malaysia', 'Greece'): 0,\n",
       "         ('United Kingdom', 'Bangladesh'): 0,\n",
       "         ('Greece', 'Myanmar'): 0,\n",
       "         ('Iran', 'Argentina'): 0,\n",
       "         ('Sweden', 'Taiwan'): 0,\n",
       "         ('Egypt', 'Ukraine'): 0,\n",
       "         ('South Africa', 'France'): 0,\n",
       "         ('Saudi Arabia', 'Philippines'): 0,\n",
       "         ('Ethiopia', 'Sweden'): 0,\n",
       "         ('United States of America', 'Australia'): 0,\n",
       "         ('Iraq', 'Malaysia'): 0,\n",
       "         ('Taiwan', 'Bangladesh'): 0,\n",
       "         ('Kazakhstan', 'Malaysia'): 0,\n",
       "         ('North Korea', 'Japan'): 0,\n",
       "         ('Italy', 'Spain'): 0,\n",
       "         ('Canada', 'Indonesia'): 0,\n",
       "         ('Myanmar', 'Democratic Republic of the Congo'): 0,\n",
       "         ('Philippines', 'United States of America'): 0,\n",
       "         ('Brazil', 'Russia'): 0,\n",
       "         ('Netherlands', 'Iran'): 0,\n",
       "         ('Italy', 'Venezuela'): 0,\n",
       "         ('Nigeria', 'Iran'): 0,\n",
       "         ('Pakistan', 'Turkey'): 0,\n",
       "         ('Romania', 'Colombia'): 0,\n",
       "         ('Malaysia', 'Morocco'): 19,\n",
       "         ('Vietnam', 'Egypt'): 0,\n",
       "         ('Australia', 'Ethiopia'): 0,\n",
       "         ('Chile', 'France'): 0,\n",
       "         ('Democratic Republic of the Congo', 'Japan'): 0,\n",
       "         ('South Korea', 'South Africa'): 0,\n",
       "         ('Chile', 'Pakistan'): 0,\n",
       "         ('United States of America', 'China'): 0,\n",
       "         ('Romania', 'Morocco'): 0,\n",
       "         ('Brazil', 'United States of America'): 0,\n",
       "         ('Russia', 'Kazakhstan'): 0,\n",
       "         ('China', 'South Africa'): 0,\n",
       "         ('Iraq', 'India'): 0,\n",
       "         ('Brazil', 'Saudi Arabia'): 0,\n",
       "         ('Ethiopia', 'Nigeria'): 0,\n",
       "         ('Morocco', 'China'): 0,\n",
       "         ('Germany', 'Indonesia'): 0,\n",
       "         ('Saudi Arabia', 'China'): 0,\n",
       "         ('Democratic Republic of the Congo', 'United States of America'): 0,\n",
       "         ('Democratic Republic of the Congo', 'Kazakhstan'): 0,\n",
       "         ('North Korea', 'Pakistan'): 0,\n",
       "         ('Pakistan', 'South Korea'): 0,\n",
       "         ('Colombia', 'Italy'): 0,\n",
       "         ('Saudi Arabia', 'South Korea'): 0,\n",
       "         ('Morocco', 'Taiwan'): 0,\n",
       "         ('Egypt', 'United States of America'): 0,\n",
       "         ('Poland', 'Canada'): 0,\n",
       "         ('Vietnam', 'Kazakhstan'): 0,\n",
       "         ('South Africa', 'Turkey'): 0,\n",
       "         ('South Korea', 'Chile'): 0,\n",
       "         ('India', 'Australia'): 0,\n",
       "         ('Democratic Republic of the Congo', 'South Africa'): 0,\n",
       "         ('Iran', 'Myanmar'): 0,\n",
       "         ('Indonesia', 'Romania'): 0,\n",
       "         ('Thailand', 'Saudi Arabia'): 0,\n",
       "         ('Bangladesh', 'Nigeria'): 0,\n",
       "         ('Iran', 'Ethiopia'): 0,\n",
       "         ('Ukraine', 'Argentina'): 0,\n",
       "         ('Romania', 'Kazakhstan'): 0,\n",
       "         ('Romania', 'United States of America'): 0,\n",
       "         ('Russia', 'Brazil'): 0,\n",
       "         ('Canada', 'Australia'): 0,\n",
       "         ('China', 'Argentina'): 0,\n",
       "         ('Netherlands', 'Israel'): 0,\n",
       "         ('Algeria', 'Nigeria'): 0,\n",
       "         ('Greece', 'India'): 0,\n",
       "         ('Thailand', 'Sweden'): 0,\n",
       "         ('Egypt', 'Sweden'): 0,\n",
       "         ('Argentina', 'Israel'): 0,\n",
       "         ('Belgium', 'Thailand'): 0,\n",
       "         ('Taiwan', 'North Korea'): 0,\n",
       "         ('Bangladesh', 'Thailand'): 0,\n",
       "         ('Democratic Republic of the Congo', 'Colombia'): 0,\n",
       "         ('Vietnam', 'Brazil'): 0,\n",
       "         ('North Korea', 'China'): 0,\n",
       "         ('Ethiopia', 'Thailand'): 0,\n",
       "         ('Turkey', 'Vietnam'): 0,\n",
       "         ('Ukraine', 'Democratic Republic of the Congo'): 0,\n",
       "         ('Ukraine', 'Syria'): 0,\n",
       "         ('Morocco', 'Nigeria'): 0,\n",
       "         ('Venezuela', 'South Korea'): 0,\n",
       "         ('Mexico', 'Russia'): 0,\n",
       "         ('India', 'Argentina'): 0,\n",
       "         ('Kazakhstan', 'Netherlands'): 0,\n",
       "         ('Algeria', 'Democratic Republic of the Congo'): 0,\n",
       "         ('Chile', 'Israel'): 0,\n",
       "         ('Morocco', 'France'): 0,\n",
       "         ('Morocco', 'Spain'): 0,\n",
       "         ('France', 'South Africa'): 0,\n",
       "         ('Democratic Republic of the Congo', 'Turkey'): 0,\n",
       "         ('Egypt', 'Philippines'): 0,\n",
       "         ('Bangladesh', 'Democratic Republic of the Congo'): 0,\n",
       "         ('Australia', 'Chile'): 0,\n",
       "         ('Poland', 'Morocco'): 0,\n",
       "         ('Sweden', 'Malaysia'): 0,\n",
       "         ('Iraq', 'France'): 0,\n",
       "         ('Venezuela', 'Greece'): 0,\n",
       "         ('Saudi Arabia', 'Russia'): 0,\n",
       "         ('Syria', 'Indonesia'): 0,\n",
       "         ('Turkey', 'Colombia'): 0,\n",
       "         ('Thailand', 'Argentina'): 0,\n",
       "         ('Romania', 'South Korea'): 0,\n",
       "         ('Mexico', 'Turkey'): 0,\n",
       "         ('Poland', 'Iraq'): 0,\n",
       "         ('Brazil', 'Canada'): 0,\n",
       "         ('South Africa', 'Germany'): 0,\n",
       "         ('Taiwan', 'Philippines'): 0,\n",
       "         ('Indonesia', 'Greece'): 0,\n",
       "         ('Malaysia', 'Italy'): 0,\n",
       "         ('South Korea', 'Netherlands'): 0,\n",
       "         ('Kazakhstan', 'Italy'): 0,\n",
       "         ('Saudi Arabia', 'Ukraine'): 0,\n",
       "         ('Indonesia', 'United States of America'): 0,\n",
       "         ('Israel', 'Venezuela'): 0,\n",
       "         ('Kazakhstan', 'Ukraine'): 0,\n",
       "         ('Kazakhstan', 'Mexico'): 0,\n",
       "         ('India', 'United Kingdom'): 0,\n",
       "         ('Bangladesh', 'Japan'): 0,\n",
       "         ('Italy', 'Greece'): 0,\n",
       "         ('Australia', 'Iraq'): 0,\n",
       "         ('Syria', 'Thailand'): 0,\n",
       "         ('Venezuela', 'United States of America'): 0,\n",
       "         ('Argentina', 'South Korea'): 0,\n",
       "         ('Sweden', 'Belgium'): 0,\n",
       "         ('South Korea', 'Venezuela'): 0,\n",
       "         ('United Kingdom', 'Canada'): 0,\n",
       "         ('Netherlands', 'Pakistan'): 0,\n",
       "         ('Japan', 'Syria'): 0,\n",
       "         ('Germany', 'Ukraine'): 0,\n",
       "         ('Poland', 'United Kingdom'): 0,\n",
       "         ('China', 'Canada'): 0,\n",
       "         ('France', 'Morocco'): 0,\n",
       "         ('Germany', 'Ethiopia'): 0,\n",
       "         ('Myanmar', 'Nigeria'): 0,\n",
       "         ('Pakistan', 'Iraq'): 0,\n",
       "         ('United Kingdom', 'Nigeria'): 0,\n",
       "         ('Ethiopia', 'North Korea'): 0,\n",
       "         ('Morocco', 'Brazil'): 0,\n",
       "         ('Democratic Republic of the Congo', 'Spain'): 0,\n",
       "         ('North Korea', 'United States of America'): 0,\n",
       "         ('Israel', 'Egypt'): 0,\n",
       "         ('Brazil', 'Chile'): 0,\n",
       "         ('India', 'Brazil'): 0,\n",
       "         ('Egypt', 'Australia'): 0,\n",
       "         ('Poland', 'Belgium'): 0,\n",
       "         ('Indonesia', 'Colombia'): 24,\n",
       "         ('Democratic Republic of the Congo', 'Germany'): 0,\n",
       "         ('Ethiopia', 'Spain'): 0,\n",
       "         ('Pakistan', 'Taiwan'): 0,\n",
       "         ('Spain', 'Syria'): 0,\n",
       "         ('Iran', 'Saudi Arabia'): 0,\n",
       "         ('Israel', 'Spain'): 0,\n",
       "         ('Belgium', 'Colombia'): 0,\n",
       "         ('Poland', 'China'): 0,\n",
       "         ('United States of America', 'Bangladesh'): 0,\n",
       "         ('Netherlands', 'Chile'): 0,\n",
       "         ('Myanmar', 'Indonesia'): 24,\n",
       "         ('Iran', 'Japan'): 0,\n",
       "         ('Philippines', 'Italy'): 0,\n",
       "         ('Indonesia', 'Mexico'): 0,\n",
       "         ('Bangladesh', 'Romania'): 0,\n",
       "         ('Argentina', 'France'): 0,\n",
       "         ('Philippines', 'Argentina'): 0,\n",
       "         ('Bangladesh', 'Chile'): 0,\n",
       "         ('Malaysia', 'North Korea'): 0,\n",
       "         ('Germany', 'Sweden'): 0,\n",
       "         ('Italy', 'Israel'): 0,\n",
       "         ('Australia', 'Spain'): 0,\n",
       "         ('Japan', 'Colombia'): 0,\n",
       "         ('Netherlands', 'France'): 0,\n",
       "         ('Bangladesh', 'Mexico'): 0,\n",
       "         ('Indonesia', 'Iraq'): 0,\n",
       "         ('Sweden', 'Chile'): 0,\n",
       "         ('Colombia', 'Ukraine'): 0,\n",
       "         ('Spain', 'Bangladesh'): 0,\n",
       "         ('Ukraine', 'Indonesia'): 0,\n",
       "         ('Bangladesh', 'South Africa'): 0,\n",
       "         ('Netherlands', 'Russia'): 0,\n",
       "         ('South Africa', 'Spain'): 0,\n",
       "         ('Russia', 'Saudi Arabia'): 0,\n",
       "         ('Syria', 'Colombia'): 0,\n",
       "         ('Egypt', 'Turkey'): 0,\n",
       "         ('Japan', 'Iran'): 0,\n",
       "         ('Syria', 'Democratic Republic of the Congo'): 0,\n",
       "         ('Democratic Republic of the Congo', 'Israel'): 0,\n",
       "         ('South Korea', 'Argentina'): 0,\n",
       "         ('France', 'China'): 0,\n",
       "         ('France', 'Thailand'): 0,\n",
       "         ('Taiwan', 'Israel'): 0,\n",
       "         ('Israel', 'Philippines'): 0,\n",
       "         ('Myanmar', 'Japan'): 0,\n",
       "         ('Iran', 'North Korea'): 0,\n",
       "         ('Spain', 'Thailand'): 0,\n",
       "         ('Taiwan', 'Venezuela'): 0,\n",
       "         ('Greece', 'Mexico'): 0,\n",
       "         ('Nigeria', 'Belgium'): 0,\n",
       "         ('Italy', 'Australia'): 0,\n",
       "         ('China', 'Algeria'): 0,\n",
       "         ('Algeria', 'Mexico'): 0,\n",
       "         ('Colombia', 'Japan'): 0,\n",
       "         ('Algeria', 'Ukraine'): 0,\n",
       "         ('Germany', 'Turkey'): 0,\n",
       "         ('Algeria', 'Italy'): 0,\n",
       "         ('Chile', 'Kazakhstan'): 0,\n",
       "         ('Syria', 'Turkey'): 0,\n",
       "         ('Iran', 'Spain'): 0,\n",
       "         ('Germany', 'Philippines'): 0,\n",
       "         ('Thailand', 'Spain'): 0,\n",
       "         ('Japan', 'United States of America'): 0,\n",
       "         ('South Korea', 'Nigeria'): 20,\n",
       "         ('North Korea', 'Ethiopia'): 0,\n",
       "         ('Spain', 'Brazil'): 0,\n",
       "         ('United States of America', 'France'): 0,\n",
       "         ('Israel', 'Ukraine'): 0,\n",
       "         ('Iran', 'Thailand'): 0,\n",
       "         ('Netherlands', 'Italy'): 0,\n",
       "         ('Democratic Republic of the Congo', 'Chile'): 0,\n",
       "         ('Ethiopia', 'France'): 0,\n",
       "         ('North Korea', 'Sweden'): 0,\n",
       "         ('Myanmar', 'Turkey'): 0,\n",
       "         ('Mexico', 'Brazil'): 0,\n",
       "         ('Poland', 'Philippines'): 0,\n",
       "         ('Australia', 'Venezuela'): 0,\n",
       "         ('Nigeria', 'Russia'): 24,\n",
       "         ('Greece', 'Saudi Arabia'): 0,\n",
       "         ('Kazakhstan', 'Democratic Republic of the Congo'): 0,\n",
       "         ('India', 'Canada'): 0,\n",
       "         ('Algeria', 'Netherlands'): 0,\n",
       "         ('Russia', 'United Kingdom'): 0,\n",
       "         ('Argentina', 'South Africa'): 0,\n",
       "         ('Egypt', 'Venezuela'): 0,\n",
       "         ('Colombia', 'Netherlands'): 0,\n",
       "         ('Pakistan', 'Mexico'): 0,\n",
       "         ('Belgium', 'Poland'): 0,\n",
       "         ('United States of America', 'Indonesia'): 0,\n",
       "         ('France', 'Turkey'): 0,\n",
       "         ('South Africa', 'Morocco'): 0,\n",
       "         ('Iraq', 'Romania'): 0,\n",
       "         ('Indonesia', 'Poland'): 0,\n",
       "         ('Turkey', 'France'): 0,\n",
       "         ('Vietnam', 'Turkey'): 0,\n",
       "         ('Ukraine', 'Chile'): 0,\n",
       "         ('Saudi Arabia', 'United Kingdom'): 0,\n",
       "         ('South Korea', 'Ethiopia'): 0,\n",
       "         ('Mexico', 'Germany'): 0,\n",
       "         ('Indonesia', 'Algeria'): 0,\n",
       "         ('India', 'South Africa'): 0,\n",
       "         ('Kazakhstan', 'Nigeria'): 0,\n",
       "         ('Philippines', 'Algeria'): 0,\n",
       "         ('Syria', 'France'): 0,\n",
       "         ('Italy', 'Bangladesh'): 0,\n",
       "         ('Morocco', 'Italy'): 0,\n",
       "         ('Saudi Arabia', 'North Korea'): 0,\n",
       "         ('Japan', 'Vietnam'): 0,\n",
       "         ('France', 'Japan'): 0,\n",
       "         ('United States of America', 'United Kingdom'): 0,\n",
       "         ('Iran', 'India'): 0,\n",
       "         ('Australia', 'Democratic Republic of the Congo'): 0,\n",
       "         ('Malaysia', 'Taiwan'): 0,\n",
       "         ('Colombia', 'Argentina'): 0,\n",
       "         ('United States of America', 'Ethiopia'): 0,\n",
       "         ('Venezuela', 'Malaysia'): 0,\n",
       "         ('Thailand', 'South Africa'): 0,\n",
       "         ('Italy', 'South Korea'): 0,\n",
       "         ('Israel', 'Netherlands'): 0,\n",
       "         ('North Korea', 'South Africa'): 0,\n",
       "         ('Poland', 'Mexico'): 0,\n",
       "         ('South Africa', 'Russia'): 0,\n",
       "         ('Philippines', 'Democratic Republic of the Congo'): 0,\n",
       "         ('Venezuela', 'Australia'): 0,\n",
       "         ('Mexico', 'France'): 0,\n",
       "         ('Argentina', 'Iran'): 0,\n",
       "         ('Vietnam', 'Iraq'): 0,\n",
       "         ('Myanmar', 'Ukraine'): 0,\n",
       "         ('Turkey', 'Germany'): 0,\n",
       "         ('Netherlands', 'Greece'): 0,\n",
       "         ('Spain', 'United Kingdom'): 0,\n",
       "         ('Poland', 'Bangladesh'): 0,\n",
       "         ('China', 'Syria'): 0,\n",
       "         ('Australia', 'Greece'): 0,\n",
       "         ('Greece', 'Chile'): 0,\n",
       "         ('Romania', 'Iraq'): 0,\n",
       "         ('United Kingdom', 'Iran'): 0,\n",
       "         ('Germany', 'Saudi Arabia'): 0,\n",
       "         ('Netherlands', 'South Africa'): 0,\n",
       "         ('Poland', 'Sweden'): 0,\n",
       "         ('Thailand', 'Syria'): 0,\n",
       "         ('Spain', 'Algeria'): 0,\n",
       "         ('Canada', 'Taiwan'): 0,\n",
       "         ('Romania', 'Mexico'): 0,\n",
       "         ('Colombia', 'France'): 0,\n",
       "         ('Israel', 'Romania'): 0,\n",
       "         ('Australia', 'India'): 0,\n",
       "         ('Colombia', 'North Korea'): 0,\n",
       "         ('Israel', 'Mexico'): 0,\n",
       "         ('Iran', 'Mexico'): 0,\n",
       "         ('Thailand', 'United Kingdom'): 0,\n",
       "         ('Nigeria', 'Kazakhstan'): 0,\n",
       "         ('Philippines', 'Iraq'): 0,\n",
       "         ('Iraq', 'Iran'): 0,\n",
       "         ('Iraq', 'Venezuela'): 0,\n",
       "         ('Chile', 'Algeria'): 0,\n",
       "         ('Brazil', 'Israel'): 0,\n",
       "         ('Chile', 'Spain'): 0,\n",
       "         ('Iran', 'Kazakhstan'): 0,\n",
       "         ('Brazil', 'Syria'): 0,\n",
       "         ('India', 'Poland'): 0,\n",
       "         ('North Korea', 'Saudi Arabia'): 0,\n",
       "         ('Germany', 'Romania'): 0,\n",
       "         ('Ukraine', 'Australia'): 0,\n",
       "         ('Chile', 'Taiwan'): 0,\n",
       "         ('Vietnam', 'Nigeria'): 0,\n",
       "         ('Iran', 'Ukraine'): 0,\n",
       "         ('Chile', 'United Kingdom'): 0,\n",
       "         ('Indonesia', 'Kazakhstan'): 0,\n",
       "         ('Bangladesh', 'United Kingdom'): 0,\n",
       "         ('France', 'Bangladesh'): 0,\n",
       "         ('Turkey', 'United Kingdom'): 0,\n",
       "         ('Belgium', 'Brazil'): 0,\n",
       "         ('Kazakhstan', 'Taiwan'): 0,\n",
       "         ('France', 'Pakistan'): 0,\n",
       "         ('Romania', 'Netherlands'): 24,\n",
       "         ('Taiwan', 'Myanmar'): 0,\n",
       "         ('Russia', 'Colombia'): 0,\n",
       "         ('Taiwan', 'Ethiopia'): 0,\n",
       "         ('Democratic Republic of the Congo', 'Vietnam'): 0,\n",
       "         ('Turkey', 'North Korea'): 0,\n",
       "         ('Syria', 'Algeria'): 0,\n",
       "         ('Vietnam', 'Canada'): 0,\n",
       "         ('Russia', 'Nigeria'): 24,\n",
       "         ('Ukraine', 'China'): 0,\n",
       "         ('South Korea', 'Mexico'): 0,\n",
       "         ('Russia', 'Iraq'): 0,\n",
       "         ('Egypt', 'Germany'): 0,\n",
       "         ('Algeria', 'China'): 0,\n",
       "         ('Netherlands', 'Poland'): 0,\n",
       "         ('Democratic Republic of the Congo', 'Thailand'): 0,\n",
       "         ('Kazakhstan', 'Venezuela'): 0,\n",
       "         ('Malaysia', 'Canada'): 0,\n",
       "         ('Russia', 'Malaysia'): 0,\n",
       "         ('Spain', 'Egypt'): 0,\n",
       "         ('Vietnam', 'Sweden'): 0,\n",
       "         ('Malaysia', 'Ethiopia'): 0,\n",
       "         ('Malaysia', 'Venezuela'): 0,\n",
       "         ('France', 'Indonesia'): 0,\n",
       "         ('Sweden', 'Philippines'): 0,\n",
       "         ('Bangladesh', 'Argentina'): 0,\n",
       "         ('Canada', 'Brazil'): 0,\n",
       "         ('Taiwan', 'South Korea'): 0,\n",
       "         ('Egypt', 'Pakistan'): 0,\n",
       "         ('Malaysia', 'Algeria'): 0,\n",
       "         ('Iraq', 'Greece'): 0,\n",
       "         ('Japan', 'Romania'): 0,\n",
       "         ('Indonesia', 'Japan'): 0,\n",
       "         ('Romania', 'Philippines'): 0,\n",
       "         ('Greece', 'Egypt'): 0,\n",
       "         ('United Kingdom', 'Japan'): 0,\n",
       "         ('Algeria', 'Kazakhstan'): 0,\n",
       "         ('Vietnam', 'Malaysia'): 0,\n",
       "         ('Netherlands', 'Ethiopia'): 0,\n",
       "         ('United Kingdom', 'South Korea'): 0,\n",
       "         ('Chile', 'Saudi Arabia'): 0,\n",
       "         ('Thailand', 'Ethiopia'): 0,\n",
       "         ('United Kingdom', 'Democratic Republic of the Congo'): 0,\n",
       "         ('Democratic Republic of the Congo', 'Poland'): 0,\n",
       "         ('North Korea', 'Spain'): 0,\n",
       "         ('Japan', 'Argentina'): 0,\n",
       "         ('China', 'Italy'): 0,\n",
       "         ('Brazil', 'Germany'): 0,\n",
       "         ('Germany', 'Israel'): 0,\n",
       "         ('Turkey', 'Saudi Arabia'): 0,\n",
       "         ('Brazil', 'Pakistan'): 0,\n",
       "         ('China', 'Ethiopia'): 0,\n",
       "         ('Spain', 'Venezuela'): 0,\n",
       "         ('China', 'Turkey'): 0,\n",
       "         ('Egypt', 'Netherlands'): 20,\n",
       "         ('United Kingdom', 'Saudi Arabia'): 0,\n",
       "         ('Pakistan', 'Myanmar'): 0,\n",
       "         ('Romania', 'Belgium'): 0,\n",
       "         ('Nigeria', 'North Korea'): 0,\n",
       "         ('Iraq', 'Argentina'): 0,\n",
       "         ('France', 'Russia'): 0,\n",
       "         ('Italy', 'Iran'): 0,\n",
       "         ('Italy', 'Taiwan'): 0,\n",
       "         ('Romania', 'Chile'): 0,\n",
       "         ('Italy', 'Canada'): 0,\n",
       "         ('Brazil', 'India'): 0,\n",
       "         ('Iran', 'Poland'): 0,\n",
       "         ('Chile', 'Brazil'): 0,\n",
       "         ('United Kingdom', 'Iraq'): 0,\n",
       "         ('Vietnam', 'Belgium'): 0,\n",
       "         ('Bangladesh', 'Greece'): 0,\n",
       "         ('Philippines', 'Egypt'): 0,\n",
       "         ('Mexico', 'South Africa'): 0,\n",
       "         ('Nigeria', 'Canada'): 0,\n",
       "         ('Bangladesh', 'Egypt'): 0,\n",
       "         ('Poland', 'Saudi Arabia'): 0,\n",
       "         ('United Kingdom', 'Germany'): 24,\n",
       "         ('Canada', 'Netherlands'): 0,\n",
       "         ('Algeria', 'Belgium'): 0,\n",
       "         ('Myanmar', 'Iraq'): 0,\n",
       "         ('Egypt', 'Democratic Republic of the Congo'): 0,\n",
       "         ('Canada', 'France'): 0,\n",
       "         ('Belgium', 'Myanmar'): 0,\n",
       "         ('Colombia', 'Nigeria'): 0,\n",
       "         ('Taiwan', 'Brazil'): 0,\n",
       "         ('Pakistan', 'France'): 0,\n",
       "         ('Canada', 'South Korea'): 0,\n",
       "         ('North Korea', 'Philippines'): 0,\n",
       "         ('Morocco', 'Malaysia'): 19,\n",
       "         ('Myanmar', 'Vietnam'): 0,\n",
       "         ('Pakistan', 'Japan'): 0,\n",
       "         ('Ethiopia', 'Australia'): 0,\n",
       "         ('Pakistan', 'Malaysia'): 0,\n",
       "         ('Kazakhstan', 'Argentina'): 0,\n",
       "         ('Australia', 'Indonesia'): 0,\n",
       "         ('Algeria', 'Romania'): 0,\n",
       "         ('Malaysia', 'Thailand'): 0,\n",
       "         ('Italy', 'Sweden'): 0,\n",
       "         ('Colombia', 'United States of America'): 0,\n",
       "         ('Russia', 'China'): 0,\n",
       "         ('Indonesia', 'Syria'): 0,\n",
       "         ('Chile', 'Italy'): 0,\n",
       "         ('Thailand', 'Vietnam'): 0,\n",
       "         ('Taiwan', 'Turkey'): 0,\n",
       "         ('Belgium', 'Saudi Arabia'): 0,\n",
       "         ('Malaysia', 'Russia'): 0,\n",
       "         ('Ethiopia', 'Venezuela'): 0,\n",
       "         ('South Korea', 'Canada'): 0,\n",
       "         ('Democratic Republic of the Congo', 'Malaysia'): 0,\n",
       "         ('Syria', 'South Africa'): 0,\n",
       "         ('Mexico', 'Canada'): 0,\n",
       "         ('Indonesia', 'Morocco'): 0,\n",
       "         ('Kazakhstan', 'Syria'): 0,\n",
       "         ('South Africa', 'Taiwan'): 0,\n",
       "         ('Mexico', 'Pakistan'): 0,\n",
       "         ('Thailand', 'Brazil'): 0,\n",
       "         ('Argentina', 'Russia'): 0,\n",
       "         ('Venezuela', 'Germany'): 0,\n",
       "         ('Germany', 'Colombia'): 0,\n",
       "         ('Egypt', 'Iran'): 0,\n",
       "         ('South Korea', 'Poland'): 0,\n",
       "         ('Nigeria', 'Iraq'): 0,\n",
       "         ('Syria', 'United States of America'): 0,\n",
       "         ('Italy', 'Nigeria'): 0,\n",
       "         ('United States of America', 'Morocco'): 0,\n",
       "         ('Syria', 'Philippines'): 0,\n",
       "         ('Romania', 'Venezuela'): 0,\n",
       "         ('Italy', 'Argentina'): 0,\n",
       "         ('Ukraine', 'Belgium'): 0,\n",
       "         ('Chile', 'Sweden'): 0,\n",
       "         ('Vietnam', 'Democratic Republic of the Congo'): 0,\n",
       "         ('Netherlands', 'Japan'): 0,\n",
       "         ('Vietnam', 'Bangladesh'): 0,\n",
       "         ('Colombia', 'South Korea'): 0,\n",
       "         ('Canada', 'Israel'): 0,\n",
       "         ('China', 'Belgium'): 0,\n",
       "         ('Brazil', 'South Korea'): 0,\n",
       "         ('Pakistan', 'Netherlands'): 0,\n",
       "         ('Saudi Arabia', 'Egypt'): 0,\n",
       "         ('Democratic Republic of the Congo', 'Syria'): 0,\n",
       "         ('Chile', 'Ethiopia'): 0,\n",
       "         ('China', 'Ukraine'): 0,\n",
       "         ('South Africa', 'Venezuela'): 0,\n",
       "         ('Italy', 'Turkey'): 0,\n",
       "         ('Romania', 'Ukraine'): 0,\n",
       "         ('Chile', 'Myanmar'): 0,\n",
       "         ('Ethiopia', 'Belgium'): 0,\n",
       "         ('Ukraine', 'Vietnam'): 0,\n",
       "         ('Germany', 'India'): 16,\n",
       "         ('Turkey', 'Australia'): 0,\n",
       "         ('Kazakhstan', 'Ethiopia'): 0,\n",
       "         ('Belgium', 'North Korea'): 0,\n",
       "         ('South Korea', 'Japan'): 0,\n",
       "         ('Indonesia', 'Myanmar'): 24,\n",
       "         ('Thailand', 'Bangladesh'): 0,\n",
       "         ('Bangladesh', 'Colombia'): 0,\n",
       "         ('France', 'Greece'): 0,\n",
       "         ('Myanmar', 'Egypt'): 0,\n",
       "         ('Taiwan', 'Spain'): 0,\n",
       "         ('Syria', 'Poland'): 0,\n",
       "         ('Democratic Republic of the Congo', 'Taiwan'): 0,\n",
       "         ('Mexico', 'India'): 0,\n",
       "         ('Pakistan', 'Bangladesh'): 0,\n",
       "         ('Malaysia', 'Pakistan'): 0,\n",
       "         ('Syria', 'Spain'): 0,\n",
       "         ('Italy', 'Thailand'): 0,\n",
       "         ('Algeria', 'Indonesia'): 0,\n",
       "         ('Saudi Arabia', 'Algeria'): 0,\n",
       "         ('Poland', 'Brazil'): 0,\n",
       "         ('Morocco', 'South Korea'): 0,\n",
       "         ('Iran', 'France'): 0,\n",
       "         ('Thailand', 'Israel'): 0,\n",
       "         ('China', 'Venezuela'): 0,\n",
       "         ('Morocco', 'Chile'): 0,\n",
       "         ('Brazil', 'Egypt'): 0,\n",
       "         ('Nigeria', 'Israel'): 0,\n",
       "         ('Venezuela', 'United Kingdom'): 0,\n",
       "         ('Canada', 'India'): 0,\n",
       "         ('Belgium', 'Turkey'): 0,\n",
       "         ('South Korea', 'Australia'): 0,\n",
       "         ('India', 'Spain'): 0,\n",
       "         ('Democratic Republic of the Congo', 'Philippines'): 0,\n",
       "         ('Nigeria', 'Algeria'): 0,\n",
       "         ('Netherlands', 'Spain'): 0,\n",
       "         ('Malaysia', 'Myanmar'): 0,\n",
       "         ('Vietnam', 'Spain'): 0,\n",
       "         ('United Kingdom', 'Australia'): 0,\n",
       "         ('Canada', 'Colombia'): 0,\n",
       "         ('Bangladesh', 'Indonesia'): 0,\n",
       "         ('South Korea', 'Kazakhstan'): 2,\n",
       "         ('United States of America', 'Italy'): 0,\n",
       "         ('Israel', 'Syria'): 0,\n",
       "         ('Israel', 'Saudi Arabia'): 0,\n",
       "         ('Sweden', 'South Korea'): 0,\n",
       "         ('Belgium', 'Venezuela'): 0,\n",
       "         ('Sweden', 'Italy'): 0,\n",
       "         ('Myanmar', 'Mexico'): 0,\n",
       "         ('Netherlands', 'Romania'): 24,\n",
       "         ('Democratic Republic of the Congo', 'Pakistan'): 0,\n",
       "         ('South Africa', 'North Korea'): 0,\n",
       "         ('Mexico', 'South Korea'): 0,\n",
       "         ('Sweden', 'South Africa'): 0,\n",
       "         ('Iraq', 'Australia'): 0,\n",
       "         ('Saudi Arabia', 'Chile'): 0,\n",
       "         ('Netherlands', 'Brazil'): 0,\n",
       "         ('Argentina', 'Greece'): 0,\n",
       "         ('Vietnam', 'Mexico'): 0,\n",
       "         ('Germany', 'Netherlands'): 0,\n",
       "         ('Nigeria', 'Brazil'): 0,\n",
       "         ('Myanmar', 'Syria'): 0,\n",
       "         ('Ukraine', 'Iran'): 0,\n",
       "         ('Egypt', 'Israel'): 0,\n",
       "         ('South Korea', 'Greece'): 0,\n",
       "         ('Egypt', 'Syria'): 0,\n",
       "         ('Syria', 'Taiwan'): 0,\n",
       "         ('Japan', 'Morocco'): 0,\n",
       "         ('Mexico', 'Israel'): 0,\n",
       "         ('Vietnam', 'Russia'): 0,\n",
       "         ('Russia', 'Ethiopia'): 0,\n",
       "         ('Greece', 'Syria'): 0,\n",
       "         ('Malaysia', 'Israel'): 0,\n",
       "         ('Italy', 'North Korea'): 0,\n",
       "         ('Turkey', 'Egypt'): 0,\n",
       "         ('Ukraine', 'Colombia'): 0,\n",
       "         ('Russia', 'Ukraine'): 0,\n",
       "         ('Philippines', 'Romania'): 0,\n",
       "         ('Russia', 'Mexico'): 0,\n",
       "         ('Romania', 'Thailand'): 0,\n",
       "         ('North Korea', 'Netherlands'): 0,\n",
       "         ('Turkey', 'Romania'): 0,\n",
       "         ('Colombia', 'Indonesia'): 24,\n",
       "         ('India', 'Turkey'): 0,\n",
       "         ('Israel', 'North Korea'): 0,\n",
       "         ('Kazakhstan', 'United States of America'): 0,\n",
       "         ('Morocco', 'Poland'): 0,\n",
       "         ('Colombia', 'Taiwan'): 0,\n",
       "         ('Myanmar', 'Sweden'): 0,\n",
       "         ('Iran', 'Canada'): 0,\n",
       "         ('Iran', 'Greece'): 0,\n",
       "         ('Poland', 'Iran'): 0,\n",
       "         ('Bangladesh', 'China'): 0,\n",
       "         ('Romania', 'Saudi Arabia'): 0,\n",
       "         ('Israel', 'India'): 0,\n",
       "         ('Philippines', 'Syria'): 0,\n",
       "         ('Japan', 'Spain'): 0,\n",
       "         ('Vietnam', 'North Korea'): 0,\n",
       "         ('Israel', 'Chile'): 0,\n",
       "         ('Pakistan', 'Nigeria'): 0,\n",
       "         ('Indonesia', 'Ethiopia'): 0,\n",
       "         ('Saudi Arabia', 'Germany'): 0,\n",
       "         ('Romania', 'Sweden'): 0,\n",
       "         ('Mexico', 'United Kingdom'): 0,\n",
       "         ('Russia', 'Italy'): 0,\n",
       "         ('Canada', 'Ethiopia'): 0,\n",
       "         ('Australia', 'Myanmar'): 0,\n",
       "         ('Bangladesh', 'Belgium'): 0,\n",
       "         ('Brazil', 'Taiwan'): 0,\n",
       "         ('Iraq', 'Taiwan'): 0,\n",
       "         ('Canada', 'Mexico'): 0,\n",
       "         ('Israel', 'Malaysia'): 0,\n",
       "         ('Syria', 'Argentina'): 0,\n",
       "         ('Taiwan', 'Ukraine'): 0,\n",
       "         ('Venezuela', 'Sweden'): 0,\n",
       "         ('Turkey', 'Algeria'): 0,\n",
       "         ('Morocco', 'Saudi Arabia'): 0,\n",
       "         ('India', 'Ethiopia'): 0,\n",
       "         ('South Korea', 'United States of America'): 0,\n",
       "         ('France', 'Iran'): 0,\n",
       "         ('Pakistan', 'Iran'): 0,\n",
       "         ('Mexico', 'Myanmar'): 0,\n",
       "         ('Ukraine', 'Nigeria'): 0,\n",
       "         ('Italy', 'Russia'): 0,\n",
       "         ('Canada', 'United Kingdom'): 0,\n",
       "         ('Belgium', 'Australia'): 0,\n",
       "         ('Turkey', 'South Africa'): 0,\n",
       "         ('Netherlands', 'Turkey'): 0,\n",
       "         ('Chile', 'Russia'): 0,\n",
       "         ('Nigeria', 'Greece'): 0,\n",
       "         ('Chile', 'Netherlands'): 0,\n",
       "         ('United States of America', 'Russia'): 0,\n",
       "         ('Morocco', 'Philippines'): 0,\n",
       "         ('Sweden', 'Pakistan'): 0,\n",
       "         ('Bangladesh', 'Malaysia'): 0,\n",
       "         ('Malaysia', 'Egypt'): 0,\n",
       "         ('France', 'Colombia'): 0,\n",
       "         ('Thailand', 'South Korea'): 0,\n",
       "         ('Sweden', 'Ukraine'): 0,\n",
       "         ('Kazakhstan', 'Spain'): 0,\n",
       "         ('Vietnam', 'Chile'): 0,\n",
       "         ('Poland', 'Russia'): 0,\n",
       "         ('Bangladesh', 'North Korea'): 0,\n",
       "         ('Romania', 'Taiwan'): 0,\n",
       "         ('United States of America', 'Romania'): 0,\n",
       "         ('Egypt', 'Saudi Arabia'): 0,\n",
       "         ('Taiwan', 'Egypt'): 0,\n",
       "         ('North Korea', 'Australia'): 0,\n",
       "         ('Nigeria', 'Argentina'): 0,\n",
       "         ('Iran', 'Vietnam'): 0,\n",
       "         ('Nigeria', 'South Korea'): 20,\n",
       "         ('India', 'Myanmar'): 0,\n",
       "         ('Venezuela', 'Syria'): 0,\n",
       "         ('Netherlands', 'South Korea'): 0,\n",
       "         ('Iran', 'Chile'): 0,\n",
       "         ('Thailand', 'Japan'): 0,\n",
       "         ('India', 'South Korea'): 0,\n",
       "         ('Philippines', 'Bangladesh'): 0,\n",
       "         ('Venezuela', 'Argentina'): 0,\n",
       "         ('Venezuela', 'Indonesia'): 0,\n",
       "         ('Chile', 'Mexico'): 0,\n",
       "         ('Chile', 'Indonesia'): 0,\n",
       "         ('India', 'Thailand'): 0,\n",
       "         ('Vietnam', 'Greece'): 0,\n",
       "         ('Poland', 'Vietnam'): 0,\n",
       "         ('Pakistan', 'Egypt'): 0,\n",
       "         ('Ethiopia', 'Bangladesh'): 0,\n",
       "         ('Morocco', 'North Korea'): 0,\n",
       "         ('Mexico', 'Thailand'): 0,\n",
       "         ('Chile', 'Iraq'): 0,\n",
       "         ('France', 'India'): 0,\n",
       "         ('Kazakhstan', 'Morocco'): 0,\n",
       "         ('Bangladesh', 'Germany'): 0,\n",
       "         ('Brazil', 'Japan'): 24,\n",
       "         ('Syria', 'South Korea'): 0,\n",
       "         ('Kazakhstan', 'Iraq'): 19,\n",
       "         ('Italy', 'Indonesia'): 0,\n",
       "         ('Myanmar', 'Saudi Arabia'): 0,\n",
       "         ('Spain', 'Poland'): 0,\n",
       "         ('Turkey', 'Poland'): 0,\n",
       "         ('Vietnam', 'Algeria'): 0,\n",
       "         ('Italy', 'Kazakhstan'): 0,\n",
       "         ('Netherlands', 'Kazakhstan'): 0,\n",
       "         ('South Africa', 'Algeria'): 0,\n",
       "         ('Algeria', 'Philippines'): 0,\n",
       "         ('Egypt', 'North Korea'): 0,\n",
       "         ('Myanmar', 'United Kingdom'): 0,\n",
       "         ('Malaysia', 'Kazakhstan'): 0,\n",
       "         ...})"
      ]
     },
     "execution_count": 21,
     "metadata": {},
     "output_type": "execute_result"
    }
   ],
   "source": [
    "conflict_dyads"
   ]
  },
  {
   "cell_type": "markdown",
   "metadata": {},
   "source": [
    "## Get ICEWS Data\n",
    "\n",
    "Data prepared in [6.05 ICEWS Aggregation](http://localhost:8888/notebooks/Programming/ConflictModel/negotiation_model/6.05%20ICEWS%20Aggregation.ipynb)"
   ]
  },
  {
   "cell_type": "code",
   "execution_count": null,
   "metadata": {
    "collapsed": true
   },
   "outputs": [],
   "source": [
    "icews = pd.read_csv(\"Negative_Dyads_2005-2006.csv\")\n",
    "icews = icews[[\"Source_Country\", \"Target_Country\", \"Event_ID\"]]\n",
    "icews.rename(columns={\"Event_ID\": \"Count\"}, inplace=True)"
   ]
  },
  {
   "cell_type": "code",
   "execution_count": null,
   "metadata": {
    "collapsed": false
   },
   "outputs": [],
   "source": [
    "icews.head()"
   ]
  },
  {
   "cell_type": "code",
   "execution_count": null,
   "metadata": {
    "collapsed": true
   },
   "outputs": [],
   "source": [
    "icews.replace(\"Democratic Republic of Congo\", \"Democratic Republic of the Congo\", inplace=True)\n",
    "icews.replace(\"Russian Federation\", \"Russia\", inplace=True)\n",
    "icews.replace(\"United States\", \"United States of America\", inplace=True)"
   ]
  },
  {
   "cell_type": "markdown",
   "metadata": {},
   "source": [
    "# Compare"
   ]
  },
  {
   "cell_type": "code",
   "execution_count": null,
   "metadata": {
    "collapsed": false
   },
   "outputs": [],
   "source": [
    "model_conflicts = pd.DataFrame({\"Model_Conflicts\": dict(conflict_dyads),\n",
    "                               \"Models_with_Conflicts\": conflict_models})\n",
    "model_conflicts.reset_index(inplace=True)\n",
    "model_conflicts.rename(columns={\"level_0\": \"Source_Country\",\n",
    "                               \"level_1\": \"Target_Country\"}, inplace=True)"
   ]
  },
  {
   "cell_type": "code",
   "execution_count": null,
   "metadata": {
    "collapsed": false
   },
   "outputs": [],
   "source": [
    "model_conflicts.head()"
   ]
  },
  {
   "cell_type": "code",
   "execution_count": null,
   "metadata": {
    "collapsed": false
   },
   "outputs": [],
   "source": [
    "df = model_conflicts.merge(icews, how=\"left\", on=[\"Source_Country\", \"Target_Country\"])\n",
    "df.rename(columns={\"Count\": \"ICEWS_Count\"}, inplace=True)\n",
    "df.fillna(0, inplace=True)"
   ]
  },
  {
   "cell_type": "code",
   "execution_count": null,
   "metadata": {
    "collapsed": false
   },
   "outputs": [],
   "source": [
    "df.head()"
   ]
  },
  {
   "cell_type": "code",
   "execution_count": null,
   "metadata": {
    "collapsed": true
   },
   "outputs": [],
   "source": [
    "import statsmodels.api as sm\n",
    "import statsmodels\n",
    "from statsmodels.discrete.discrete_model import NegativeBinomial\n",
    "from statsmodels.discrete.discrete_model import Poisson\n",
    "from statsmodels.miscmodels.count import PoissonZiGMLE"
   ]
  },
  {
   "cell_type": "code",
   "execution_count": null,
   "metadata": {
    "collapsed": true
   },
   "outputs": [],
   "source": [
    "df[\"Const.\"] = 1"
   ]
  },
  {
   "cell_type": "code",
   "execution_count": null,
   "metadata": {
    "collapsed": false
   },
   "outputs": [],
   "source": [
    "lm = sm.OLS(df[\"ICEWS_Count\"], df[[\"Const.\", \"Model_Conflicts\"]])\n",
    "fit = lm.fit()"
   ]
  },
  {
   "cell_type": "code",
   "execution_count": null,
   "metadata": {
    "collapsed": false
   },
   "outputs": [],
   "source": [
    "print(fit.summary())"
   ]
  },
  {
   "cell_type": "code",
   "execution_count": null,
   "metadata": {
    "collapsed": false
   },
   "outputs": [],
   "source": [
    "nb = NegativeBinomial(df[\"ICEWS_Count\"], df[[\"Const.\", \"Model_Conflicts\"]])\n",
    "fit = nb.fit()\n",
    "print(fit.summary())"
   ]
  },
  {
   "cell_type": "code",
   "execution_count": null,
   "metadata": {
    "collapsed": false
   },
   "outputs": [],
   "source": [
    "ps = Poisson(df[\"ICEWS_Count\"], df[[\"Const.\", \"Model_Conflicts\"]])\n",
    "fit = ps.fit_regularized()\n",
    "print(fit.summary())"
   ]
  },
  {
   "cell_type": "code",
   "execution_count": null,
   "metadata": {
    "collapsed": false
   },
   "outputs": [],
   "source": [
    "fig, ax = plt.subplots(figsize=(8, 4))\n",
    "ax.scatter(df.Model_Conflicts, df.ICEWS_Count)\n",
    "ax.set_xlabel(\"Model Conflicts\")\n",
    "ax.set_ylabel(\"ICEWS Conflicts\")\n",
    "#ax.set_xlim(-5, 100)"
   ]
  },
  {
   "cell_type": "code",
   "execution_count": null,
   "metadata": {
    "collapsed": false
   },
   "outputs": [],
   "source": [
    "df.ICEWS_Count.hist()\n",
    "plt.yscale('log')"
   ]
  },
  {
   "cell_type": "code",
   "execution_count": null,
   "metadata": {
    "collapsed": false
   },
   "outputs": [],
   "source": [
    "df.corr(method=\"spearman\")"
   ]
  },
  {
   "cell_type": "code",
   "execution_count": null,
   "metadata": {
    "collapsed": false
   },
   "outputs": [],
   "source": [
    "df.corr()"
   ]
  },
  {
   "cell_type": "markdown",
   "metadata": {},
   "source": [
    "### At least N events"
   ]
  },
  {
   "cell_type": "code",
   "execution_count": null,
   "metadata": {
    "collapsed": false
   },
   "outputs": [],
   "source": [
    "df[\"ICEWS_Dummy\"] = 0\n",
    "df[\"ICEWS_Dummy\"][df.ICEWS_Count > 5] = 1"
   ]
  },
  {
   "cell_type": "code",
   "execution_count": null,
   "metadata": {
    "collapsed": false
   },
   "outputs": [],
   "source": [
    "logit = sm.Logit(df[\"ICEWS_Dummy\"], df[[\"Const.\", \"Model_Conflicts\"]])\n",
    "fit = logit.fit()\n",
    "print(fit.summary())"
   ]
  },
  {
   "cell_type": "code",
   "execution_count": null,
   "metadata": {
    "collapsed": false
   },
   "outputs": [],
   "source": [
    "pd.crosstab(df.ICEWS_Dummy, df.Model_Conflicts)"
   ]
  },
  {
   "cell_type": "code",
   "execution_count": null,
   "metadata": {
    "collapsed": false
   },
   "outputs": [],
   "source": [
    "logit = sm.Logit(df[\"ICEWS_Dummy\"], df[[\"Const.\", \"Models_with_Conflicts\"]])\n",
    "fit = logit.fit()\n",
    "print(fit.summary())"
   ]
  },
  {
   "cell_type": "code",
   "execution_count": null,
   "metadata": {
    "collapsed": false
   },
   "outputs": [],
   "source": [
    "df[\"Model_Dummy\"] = 0\n",
    "df[\"Model_Dummy\"][df.Model_Conflicts > 0] = 1"
   ]
  },
  {
   "cell_type": "code",
   "execution_count": null,
   "metadata": {
    "collapsed": false
   },
   "outputs": [],
   "source": [
    "logit = sm.Logit(df[\"ICEWS_Dummy\"], df[[\"Const.\", \"Model_Dummy\"]])\n",
    "fit = logit.fit()\n",
    "print(fit.summary())"
   ]
  },
  {
   "cell_type": "code",
   "execution_count": null,
   "metadata": {
    "collapsed": false
   },
   "outputs": [],
   "source": [
    "df[\"Model_Dummy\"] = 0\n",
    "df[\"Model_Dummy\"][df.Models_with_Conflicts > 0] = 1\n",
    "\n",
    "logit = sm.Logit(df[\"ICEWS_Dummy\"], df[[\"Const.\", \"Model_Dummy\"]])\n",
    "fit = logit.fit()\n",
    "print(fit.summary())"
   ]
  },
  {
   "cell_type": "markdown",
   "metadata": {},
   "source": [
    "### Is it better than just using $\\Delta$Taus?"
   ]
  },
  {
   "cell_type": "code",
   "execution_count": null,
   "metadata": {
    "collapsed": false
   },
   "outputs": [],
   "source": [
    "dyad_taus = {}\n",
    "for i, row in df.iterrows():\n",
    "    source = row.Source_Country\n",
    "    target = row.Target_Country\n",
    "    tau = get_tau(source, target)\n",
    "    dyad_taus[(source, target)] = tau"
   ]
  },
  {
   "cell_type": "code",
   "execution_count": null,
   "metadata": {
    "collapsed": false
   },
   "outputs": [],
   "source": [
    "taus = pd.Series(dyad_taus).reset_index()\n",
    "taus.rename(columns={\"level_0\": \"Source_Country\", \n",
    "                     \"level_1\": \"Target_Country\",\n",
    "                     0: \"Tau\"}, inplace=True)"
   ]
  },
  {
   "cell_type": "code",
   "execution_count": null,
   "metadata": {
    "collapsed": false
   },
   "outputs": [],
   "source": [
    "df = df.merge(taus, how='left', on=[\"Source_Country\", \"Target_Country\"])"
   ]
  },
  {
   "cell_type": "code",
   "execution_count": null,
   "metadata": {
    "collapsed": false
   },
   "outputs": [],
   "source": [
    "df[\"Tau_Dummy\"] = 0\n",
    "df[\"Tau_Dummy\"][df.Tau != 0] = 1"
   ]
  },
  {
   "cell_type": "code",
   "execution_count": null,
   "metadata": {
    "collapsed": false
   },
   "outputs": [],
   "source": [
    "lm = sm.OLS(df[\"ICEWS_Count\"], df[[\"Const.\", \"Tau\"]])\n",
    "fit = lm.fit()\n",
    "print(fit.summary())"
   ]
  },
  {
   "cell_type": "code",
   "execution_count": null,
   "metadata": {
    "collapsed": false
   },
   "outputs": [],
   "source": [
    "logit = sm.Logit(df[\"ICEWS_Dummy\"], df[[\"Const.\", \"Tau_Dummy\", \"Tau\"]])\n",
    "fit = logit.fit()\n",
    "print(fit.summary())"
   ]
  },
  {
   "cell_type": "code",
   "execution_count": null,
   "metadata": {
    "collapsed": false
   },
   "outputs": [],
   "source": [
    "logit = sm.Logit(df[\"ICEWS_Dummy\"], df[[\"Const.\", \"Tau\", \"Model_Conflicts\"]])\n",
    "fit = logit.fit()\n",
    "print(fit.summary())"
   ]
  },
  {
   "cell_type": "code",
   "execution_count": null,
   "metadata": {
    "collapsed": false
   },
   "outputs": [],
   "source": [
    "ps = Poisson(df[\"ICEWS_Count\"], df[[\"Const.\", \"Tau\", \"Model_Conflicts\"]])\n",
    "fit = ps.fit_regularized()\n",
    "print(fit.summary())"
   ]
  },
  {
   "cell_type": "code",
   "execution_count": null,
   "metadata": {
    "collapsed": true
   },
   "outputs": [],
   "source": []
  }
 ],
 "metadata": {
  "kernelspec": {
   "display_name": "Python 3",
   "language": "python",
   "name": "python3"
  },
  "language_info": {
   "codemirror_mode": {
    "name": "ipython",
    "version": 3
   },
   "file_extension": ".py",
   "mimetype": "text/x-python",
   "name": "python",
   "nbconvert_exporter": "python",
   "pygments_lexer": "ipython3",
   "version": "3.4.2"
  }
 },
 "nbformat": 4,
 "nbformat_minor": 0
}
