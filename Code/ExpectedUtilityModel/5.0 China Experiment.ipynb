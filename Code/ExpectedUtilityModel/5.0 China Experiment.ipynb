{
 "cells": [
  {
   "cell_type": "markdown",
   "metadata": {},
   "source": [
    "# China Experiment\n",
    "\n",
    "This is an attempt to replicate the China forecast from Predicting Politics"
   ]
  },
  {
   "cell_type": "code",
   "execution_count": 1,
   "metadata": {
    "collapsed": true
   },
   "outputs": [],
   "source": [
    "import copy\n",
    "from collections import defaultdict, namedtuple\n",
    "from itertools import combinations\n",
    "import csv\n",
    "\n",
    "import numpy as np\n",
    "import scipy.stats\n",
    "\n",
    "import pandas as pd\n",
    "import networkx as nx\n",
    "\n",
    "import matplotlib.pyplot as plt\n",
    "%matplotlib inline\n",
    "plt.style.use('bmh')"
   ]
  },
  {
   "cell_type": "code",
   "execution_count": 2,
   "metadata": {
    "collapsed": true
   },
   "outputs": [],
   "source": [
    "from negotiation_model import *\n",
    "from bdm_agent import *"
   ]
  },
  {
   "cell_type": "code",
   "execution_count": 3,
   "metadata": {
    "collapsed": true
   },
   "outputs": [],
   "source": [
    "class BDMActor(NegotiationActor):\n",
    "    DecisionClass = BDM_Agent"
   ]
  },
  {
   "cell_type": "markdown",
   "metadata": {},
   "source": [
    "## Load data"
   ]
  },
  {
   "cell_type": "code",
   "execution_count": 4,
   "metadata": {
    "collapsed": false
   },
   "outputs": [],
   "source": [
    "data = pd.read_csv(\"/Users/dmasad/Programming/Learning/BDM/ChinaData.csv\")"
   ]
  },
  {
   "cell_type": "code",
   "execution_count": 5,
   "metadata": {
    "collapsed": false
   },
   "outputs": [
    {
     "data": {
      "text/html": [
       "<div>\n",
       "<table border=\"1\" class=\"dataframe\">\n",
       "  <thead>\n",
       "    <tr style=\"text-align: right;\">\n",
       "      <th></th>\n",
       "      <th>Stakeholder</th>\n",
       "      <th>Resources</th>\n",
       "      <th>Position</th>\n",
       "      <th>Salience</th>\n",
       "    </tr>\n",
       "  </thead>\n",
       "  <tbody>\n",
       "    <tr>\n",
       "      <th>0</th>\n",
       "      <td>Zeming</td>\n",
       "      <td>80</td>\n",
       "      <td>25</td>\n",
       "      <td>50</td>\n",
       "    </tr>\n",
       "    <tr>\n",
       "      <th>1</th>\n",
       "      <td>Lipeng</td>\n",
       "      <td>90</td>\n",
       "      <td>15</td>\n",
       "      <td>80</td>\n",
       "    </tr>\n",
       "    <tr>\n",
       "      <th>2</th>\n",
       "      <td>Qiaoshi</td>\n",
       "      <td>85</td>\n",
       "      <td>15</td>\n",
       "      <td>80</td>\n",
       "    </tr>\n",
       "    <tr>\n",
       "      <th>3</th>\n",
       "      <td>Shanghai</td>\n",
       "      <td>30</td>\n",
       "      <td>35</td>\n",
       "      <td>50</td>\n",
       "    </tr>\n",
       "    <tr>\n",
       "      <th>4</th>\n",
       "      <td>Ruihuan</td>\n",
       "      <td>60</td>\n",
       "      <td>30</td>\n",
       "      <td>75</td>\n",
       "    </tr>\n",
       "    <tr>\n",
       "      <th>5</th>\n",
       "      <td>Tianjiyun</td>\n",
       "      <td>50</td>\n",
       "      <td>20</td>\n",
       "      <td>40</td>\n",
       "    </tr>\n",
       "    <tr>\n",
       "      <th>6</th>\n",
       "      <td>Zhurongji</td>\n",
       "      <td>60</td>\n",
       "      <td>35</td>\n",
       "      <td>80</td>\n",
       "    </tr>\n",
       "    <tr>\n",
       "      <th>7</th>\n",
       "      <td>Zoujiahua</td>\n",
       "      <td>80</td>\n",
       "      <td>15</td>\n",
       "      <td>75</td>\n",
       "    </tr>\n",
       "    <tr>\n",
       "      <th>8</th>\n",
       "      <td>Shangkun</td>\n",
       "      <td>100</td>\n",
       "      <td>20</td>\n",
       "      <td>85</td>\n",
       "    </tr>\n",
       "    <tr>\n",
       "      <th>9</th>\n",
       "      <td>Baibing</td>\n",
       "      <td>85</td>\n",
       "      <td>15</td>\n",
       "      <td>85</td>\n",
       "    </tr>\n",
       "    <tr>\n",
       "      <th>10</th>\n",
       "      <td>Wangzhen</td>\n",
       "      <td>85</td>\n",
       "      <td>15</td>\n",
       "      <td>80</td>\n",
       "    </tr>\n",
       "    <tr>\n",
       "      <th>11</th>\n",
       "      <td>Wanli</td>\n",
       "      <td>60</td>\n",
       "      <td>25</td>\n",
       "      <td>60</td>\n",
       "    </tr>\n",
       "    <tr>\n",
       "      <th>12</th>\n",
       "      <td>Ziannian</td>\n",
       "      <td>60</td>\n",
       "      <td>20</td>\n",
       "      <td>60</td>\n",
       "    </tr>\n",
       "    <tr>\n",
       "      <th>13</th>\n",
       "      <td>Cheyun</td>\n",
       "      <td>100</td>\n",
       "      <td>10</td>\n",
       "      <td>85</td>\n",
       "    </tr>\n",
       "    <tr>\n",
       "      <th>14</th>\n",
       "      <td>Boyibo</td>\n",
       "      <td>75</td>\n",
       "      <td>20</td>\n",
       "      <td>70</td>\n",
       "    </tr>\n",
       "    <tr>\n",
       "      <th>15</th>\n",
       "      <td>Pengzhen</td>\n",
       "      <td>90</td>\n",
       "      <td>15</td>\n",
       "      <td>80</td>\n",
       "    </tr>\n",
       "    <tr>\n",
       "      <th>16</th>\n",
       "      <td>Challdem</td>\n",
       "      <td>20</td>\n",
       "      <td>100</td>\n",
       "      <td>90</td>\n",
       "    </tr>\n",
       "    <tr>\n",
       "      <th>17</th>\n",
       "      <td>Chspring</td>\n",
       "      <td>20</td>\n",
       "      <td>100</td>\n",
       "      <td>90</td>\n",
       "    </tr>\n",
       "    <tr>\n",
       "      <th>18</th>\n",
       "      <td>STU/INTEL</td>\n",
       "      <td>40</td>\n",
       "      <td>100</td>\n",
       "      <td>90</td>\n",
       "    </tr>\n",
       "    <tr>\n",
       "      <th>19</th>\n",
       "      <td>USA</td>\n",
       "      <td>70</td>\n",
       "      <td>100</td>\n",
       "      <td>40</td>\n",
       "    </tr>\n",
       "    <tr>\n",
       "      <th>20</th>\n",
       "      <td>Japan</td>\n",
       "      <td>50</td>\n",
       "      <td>60</td>\n",
       "      <td>50</td>\n",
       "    </tr>\n",
       "    <tr>\n",
       "      <th>21</th>\n",
       "      <td>Europe</td>\n",
       "      <td>55</td>\n",
       "      <td>90</td>\n",
       "      <td>30</td>\n",
       "    </tr>\n",
       "    <tr>\n",
       "      <th>22</th>\n",
       "      <td>Hong Kong</td>\n",
       "      <td>25</td>\n",
       "      <td>100</td>\n",
       "      <td>85</td>\n",
       "    </tr>\n",
       "    <tr>\n",
       "      <th>23</th>\n",
       "      <td>Guandung</td>\n",
       "      <td>30</td>\n",
       "      <td>50</td>\n",
       "      <td>70</td>\n",
       "    </tr>\n",
       "  </tbody>\n",
       "</table>\n",
       "</div>"
      ],
      "text/plain": [
       "   Stakeholder  Resources  Position  Salience\n",
       "0       Zeming         80        25        50\n",
       "1       Lipeng         90        15        80\n",
       "2      Qiaoshi         85        15        80\n",
       "3     Shanghai         30        35        50\n",
       "4      Ruihuan         60        30        75\n",
       "5    Tianjiyun         50        20        40\n",
       "6    Zhurongji         60        35        80\n",
       "7    Zoujiahua         80        15        75\n",
       "8     Shangkun        100        20        85\n",
       "9      Baibing         85        15        85\n",
       "10    Wangzhen         85        15        80\n",
       "11       Wanli         60        25        60\n",
       "12    Ziannian         60        20        60\n",
       "13      Cheyun        100        10        85\n",
       "14      Boyibo         75        20        70\n",
       "15    Pengzhen         90        15        80\n",
       "16    Challdem         20       100        90\n",
       "17    Chspring         20       100        90\n",
       "18   STU/INTEL         40       100        90\n",
       "19         USA         70       100        40\n",
       "20       Japan         50        60        50\n",
       "21      Europe         55        90        30\n",
       "22   Hong Kong         25       100        85\n",
       "23    Guandung         30        50        70"
      ]
     },
     "execution_count": 5,
     "metadata": {},
     "output_type": "execute_result"
    }
   ],
   "source": [
    "data"
   ]
  },
  {
   "cell_type": "code",
   "execution_count": 6,
   "metadata": {
    "collapsed": false
   },
   "outputs": [],
   "source": [
    "# Normalize\n",
    "#data.Resources /= data.Resources.sum()\n",
    "data.Resources /= 100\n",
    "data.Position = ((data.Position - data.Position.min()) \n",
    "                 / (data.Position.max() - data.Position.min()))\n",
    "data.Salience /= 100"
   ]
  },
  {
   "cell_type": "markdown",
   "metadata": {},
   "source": [
    "## Start and run model"
   ]
  },
  {
   "cell_type": "code",
   "execution_count": 7,
   "metadata": {
    "collapsed": true
   },
   "outputs": [],
   "source": [
    "agents = []\n",
    "for i, row in data.iterrows():\n",
    "    agent = BDMActor(row.Stakeholder, row.Resources, row.Position, row.Salience)\n",
    "    agent.decision_model.Q = 1\n",
    "    agent.decision_model.T = 1\n",
    "    agent.decision_model.verbose = False\n",
    "    agents.append(agent)\n",
    "    \n",
    "model = NegotiationModel(agents)"
   ]
  },
  {
   "cell_type": "code",
   "execution_count": 8,
   "metadata": {
    "collapsed": false
   },
   "outputs": [
    {
     "data": {
      "text/plain": [
       "0.1111111111111111"
      ]
     },
     "execution_count": 8,
     "metadata": {},
     "output_type": "execute_result"
    }
   ],
   "source": [
    "model.find_median()"
   ]
  },
  {
   "cell_type": "code",
   "execution_count": 9,
   "metadata": {
    "collapsed": false
   },
   "outputs": [
    {
     "name": "stdout",
     "output_type": "stream",
     "text": [
      "Zeming              \tPosition: 0.17\tCapability: 0.80\tSalience: 0.50\n",
      "Lipeng              \tPosition: 0.06\tCapability: 0.90\tSalience: 0.80\n",
      "Qiaoshi             \tPosition: 0.06\tCapability: 0.85\tSalience: 0.80\n",
      "Shanghai            \tPosition: 0.28\tCapability: 0.30\tSalience: 0.50\n",
      "Ruihuan             \tPosition: 0.22\tCapability: 0.60\tSalience: 0.75\n",
      "Tianjiyun           \tPosition: 0.11\tCapability: 0.50\tSalience: 0.40\n",
      "Zhurongji           \tPosition: 0.28\tCapability: 0.60\tSalience: 0.80\n",
      "Zoujiahua           \tPosition: 0.06\tCapability: 0.80\tSalience: 0.75\n",
      "Shangkun            \tPosition: 0.11\tCapability: 1.00\tSalience: 0.85\n",
      "Baibing             \tPosition: 0.06\tCapability: 0.85\tSalience: 0.85\n",
      "Wangzhen            \tPosition: 0.06\tCapability: 0.85\tSalience: 0.80\n",
      "Wanli               \tPosition: 0.17\tCapability: 0.60\tSalience: 0.60\n",
      "Ziannian            \tPosition: 0.11\tCapability: 0.60\tSalience: 0.60\n",
      "Cheyun              \tPosition: 0.00\tCapability: 1.00\tSalience: 0.85\n",
      "Boyibo              \tPosition: 0.11\tCapability: 0.75\tSalience: 0.70\n",
      "Pengzhen            \tPosition: 0.06\tCapability: 0.90\tSalience: 0.80\n",
      "Challdem            \tPosition: 1.00\tCapability: 0.20\tSalience: 0.90\n",
      "Chspring            \tPosition: 1.00\tCapability: 0.20\tSalience: 0.90\n",
      "STU/INTEL           \tPosition: 1.00\tCapability: 0.40\tSalience: 0.90\n",
      "USA                 \tPosition: 1.00\tCapability: 0.70\tSalience: 0.40\n",
      "Japan               \tPosition: 0.56\tCapability: 0.50\tSalience: 0.50\n",
      "Europe              \tPosition: 0.89\tCapability: 0.55\tSalience: 0.30\n",
      "Hong Kong           \tPosition: 1.00\tCapability: 0.25\tSalience: 0.85\n",
      "Guandung            \tPosition: 0.44\tCapability: 0.30\tSalience: 0.70\n"
     ]
    }
   ],
   "source": [
    "for agent in model.agents:\n",
    "    print(agent)"
   ]
  },
  {
   "cell_type": "code",
   "execution_count": 10,
   "metadata": {
    "collapsed": true
   },
   "outputs": [],
   "source": [
    "model.step()"
   ]
  },
  {
   "cell_type": "code",
   "execution_count": 11,
   "metadata": {
    "collapsed": false
   },
   "outputs": [
    {
     "name": "stdout",
     "output_type": "stream",
     "text": [
      "Zeming              \tPosition: 0.17\tCapability: 0.80\tSalience: 0.50\n",
      "Lipeng              \tPosition: 0.06\tCapability: 0.90\tSalience: 0.80\n",
      "Qiaoshi             \tPosition: 0.06\tCapability: 0.85\tSalience: 0.80\n",
      "Shanghai            \tPosition: 0.28\tCapability: 0.30\tSalience: 0.50\n",
      "Ruihuan             \tPosition: 0.18\tCapability: 0.60\tSalience: 0.75\n",
      "Tianjiyun           \tPosition: 0.11\tCapability: 0.50\tSalience: 0.40\n",
      "Zhurongji           \tPosition: 0.22\tCapability: 0.60\tSalience: 0.80\n",
      "Zoujiahua           \tPosition: 0.06\tCapability: 0.80\tSalience: 0.75\n",
      "Shangkun            \tPosition: 0.11\tCapability: 1.00\tSalience: 0.85\n",
      "Baibing             \tPosition: 0.06\tCapability: 0.85\tSalience: 0.85\n",
      "Wangzhen            \tPosition: 0.06\tCapability: 0.85\tSalience: 0.80\n",
      "Wanli               \tPosition: 0.17\tCapability: 0.60\tSalience: 0.60\n",
      "Ziannian            \tPosition: 0.11\tCapability: 0.60\tSalience: 0.60\n",
      "Cheyun              \tPosition: 0.03\tCapability: 1.00\tSalience: 0.85\n",
      "Boyibo              \tPosition: 0.11\tCapability: 0.75\tSalience: 0.70\n",
      "Pengzhen            \tPosition: 0.06\tCapability: 0.90\tSalience: 0.80\n",
      "Challdem            \tPosition: 0.31\tCapability: 0.20\tSalience: 0.90\n",
      "Chspring            \tPosition: 0.31\tCapability: 0.20\tSalience: 0.90\n",
      "STU/INTEL           \tPosition: 0.31\tCapability: 0.40\tSalience: 0.90\n",
      "USA                 \tPosition: 0.38\tCapability: 0.70\tSalience: 0.40\n",
      "Japan               \tPosition: 0.53\tCapability: 0.50\tSalience: 0.50\n",
      "Europe              \tPosition: 0.72\tCapability: 0.55\tSalience: 0.30\n",
      "Hong Kong           \tPosition: 0.32\tCapability: 0.25\tSalience: 0.85\n",
      "Guandung            \tPosition: 0.29\tCapability: 0.30\tSalience: 0.70\n"
     ]
    }
   ],
   "source": [
    "for agent in model.agents:\n",
    "    print(agent)"
   ]
  },
  {
   "cell_type": "code",
   "execution_count": 12,
   "metadata": {
    "collapsed": false
   },
   "outputs": [
    {
     "data": {
      "text/plain": [
       "0.1111111111111111"
      ]
     },
     "execution_count": 12,
     "metadata": {},
     "output_type": "execute_result"
    }
   ],
   "source": [
    "model.find_median()"
   ]
  },
  {
   "cell_type": "code",
   "execution_count": 13,
   "metadata": {
    "collapsed": false
   },
   "outputs": [
    {
     "name": "stdout",
     "output_type": "stream",
     "text": [
      "Zeming              \tPosition: 0.17\tCapability: 0.80\tSalience: 0.50\n",
      "['Zeming conflict with Europe']\n",
      "\n",
      "Lipeng              \tPosition: 0.06\tCapability: 0.90\tSalience: 0.80\n",
      "['Lipeng conflict with Tianjiyun']\n",
      "\n",
      "Qiaoshi             \tPosition: 0.06\tCapability: 0.85\tSalience: 0.80\n",
      "['Qiaoshi conflict with Tianjiyun']\n",
      "\n",
      "Shanghai            \tPosition: 0.28\tCapability: 0.30\tSalience: 0.50\n",
      "['Shanghai conflict with Cheyun']\n",
      "\n",
      "Ruihuan             \tPosition: 0.18\tCapability: 0.60\tSalience: 0.75\n",
      "['Ruihuan compromise with Lipeng']\n",
      "\n",
      "Tianjiyun           \tPosition: 0.11\tCapability: 0.50\tSalience: 0.40\n",
      "['Tianjiyun conflict with Europe']\n",
      "\n",
      "Zhurongji           \tPosition: 0.22\tCapability: 0.60\tSalience: 0.80\n",
      "['Zhurongji compromise with Lipeng']\n",
      "\n",
      "Zoujiahua           \tPosition: 0.06\tCapability: 0.80\tSalience: 0.75\n",
      "['Zoujiahua conflict with Tianjiyun']\n",
      "\n",
      "Shangkun            \tPosition: 0.11\tCapability: 1.00\tSalience: 0.85\n",
      "['Shangkun conflict with Lipeng']\n",
      "\n",
      "Baibing             \tPosition: 0.06\tCapability: 0.85\tSalience: 0.85\n",
      "['Baibing conflict with Shangkun']\n",
      "\n",
      "Wangzhen            \tPosition: 0.06\tCapability: 0.85\tSalience: 0.80\n",
      "['Wangzhen conflict with Tianjiyun']\n",
      "\n",
      "Wanli               \tPosition: 0.17\tCapability: 0.60\tSalience: 0.60\n",
      "['Wanli conflict with Lipeng']\n",
      "\n",
      "Ziannian            \tPosition: 0.11\tCapability: 0.60\tSalience: 0.60\n",
      "['Ziannian conflict with Lipeng']\n",
      "\n",
      "Cheyun              \tPosition: 0.03\tCapability: 1.00\tSalience: 0.85\n",
      "['Cheyun compromise with Tianjiyun']\n",
      "\n",
      "Boyibo              \tPosition: 0.11\tCapability: 0.75\tSalience: 0.70\n",
      "['Boyibo conflict with Lipeng']\n",
      "\n",
      "Pengzhen            \tPosition: 0.06\tCapability: 0.90\tSalience: 0.80\n",
      "['Pengzhen conflict with Tianjiyun']\n",
      "\n",
      "Challdem            \tPosition: 0.31\tCapability: 0.20\tSalience: 0.90\n",
      "['Challdem compromise with Shanghai']\n",
      "\n",
      "Chspring            \tPosition: 0.31\tCapability: 0.20\tSalience: 0.90\n",
      "['Chspring compromise with Shanghai']\n",
      "\n",
      "STU/INTEL           \tPosition: 0.31\tCapability: 0.40\tSalience: 0.90\n",
      "['STU/INTEL compromise with Shanghai']\n",
      "\n",
      "USA                 \tPosition: 0.38\tCapability: 0.70\tSalience: 0.40\n",
      "['USA compromise with Ruihuan']\n",
      "\n",
      "Japan               \tPosition: 0.53\tCapability: 0.50\tSalience: 0.50\n",
      "['Japan compromise with Cheyun']\n",
      "\n",
      "Europe              \tPosition: 0.72\tCapability: 0.55\tSalience: 0.30\n",
      "['Europe compromise with Cheyun']\n",
      "\n",
      "Hong Kong           \tPosition: 0.32\tCapability: 0.25\tSalience: 0.85\n",
      "['Hong Kong compromise with Shanghai']\n",
      "\n",
      "Guandung            \tPosition: 0.29\tCapability: 0.30\tSalience: 0.70\n",
      "['Guandung compromise with Cheyun']\n",
      "\n"
     ]
    }
   ],
   "source": [
    "for agent in model.agents:\n",
    "    print(agent)\n",
    "    print(agent.decision_model.action_log)\n",
    "    print(\"\")"
   ]
  },
  {
   "cell_type": "markdown",
   "metadata": {},
   "source": [
    "### With position changes"
   ]
  },
  {
   "cell_type": "code",
   "execution_count": 29,
   "metadata": {
    "collapsed": true
   },
   "outputs": [],
   "source": [
    "class BDM_Agent_Moves_On_Challenge(BDM_Agent):\n",
    "    def lose_conflict(self, winner):\n",
    "        self.position = winner.position\n",
    "\n",
    "class BDM_Moving_On_Conflict_Actor(NegotiationActor):\n",
    "    DecisionClass = BDM_Agent_Moves_On_Challenge\n",
    "\n",
    "class NegotiationModel_DeterministicWinner(NegotiationModel):\n",
    "    def resolve_conflict(self, side_1, side_2):\n",
    "        eu_1 = side_1.decision_model.compute_eu(side_1, side_2)\n",
    "        eu_2 = side_2.decision_model.compute_eu(side_2, side_1)\n",
    "        if eu_1 > eu_2:\n",
    "            return True\n",
    "        else:\n",
    "            return False"
   ]
  },
  {
   "cell_type": "code",
   "execution_count": 30,
   "metadata": {
    "collapsed": false
   },
   "outputs": [],
   "source": [
    "agents = []\n",
    "for i, row in data.iterrows():\n",
    "    agent = BDM_Moving_On_Conflict_Actor(row.Stakeholder, \n",
    "                                         row.Resources, row.Position, row.Salience)\n",
    "    agent.decision_model.Q = 0.5\n",
    "    agent.decision_model.T = 0.5\n",
    "    agent.decision_model.verbose = False\n",
    "    agents.append(agent)\n",
    "    \n",
    "model = NegotiationModel_DeterministicWinner(agents)"
   ]
  },
  {
   "cell_type": "code",
   "execution_count": 33,
   "metadata": {
    "collapsed": true
   },
   "outputs": [],
   "source": [
    "model.step()"
   ]
  },
  {
   "cell_type": "code",
   "execution_count": 34,
   "metadata": {
    "collapsed": false
   },
   "outputs": [
    {
     "data": {
      "text/plain": [
       "0.1111111111111111"
      ]
     },
     "execution_count": 34,
     "metadata": {},
     "output_type": "execute_result"
    }
   ],
   "source": [
    "model.find_median()"
   ]
  },
  {
   "cell_type": "code",
   "execution_count": 44,
   "metadata": {
    "collapsed": false
   },
   "outputs": [
    {
     "name": "stdout",
     "output_type": "stream",
     "text": [
      "Zeming              \tPosition: 0.17\tCapability: 0.80\tSalience: 0.50\n",
      "Lipeng              \tPosition: 0.06\tCapability: 0.90\tSalience: 0.80\n",
      "Qiaoshi             \tPosition: 0.06\tCapability: 0.85\tSalience: 0.80\n",
      "Shanghai            \tPosition: 0.28\tCapability: 0.30\tSalience: 0.50\n",
      "Ruihuan             \tPosition: 0.17\tCapability: 0.60\tSalience: 0.75\n",
      "Tianjiyun           \tPosition: 0.11\tCapability: 0.50\tSalience: 0.40\n",
      "Zhurongji           \tPosition: 0.19\tCapability: 0.60\tSalience: 0.80\n",
      "Zoujiahua           \tPosition: 0.06\tCapability: 0.80\tSalience: 0.75\n",
      "Shangkun            \tPosition: 0.11\tCapability: 1.00\tSalience: 0.85\n",
      "Baibing             \tPosition: 0.06\tCapability: 0.85\tSalience: 0.85\n",
      "Wangzhen            \tPosition: 0.06\tCapability: 0.85\tSalience: 0.80\n",
      "Wanli               \tPosition: 0.17\tCapability: 0.60\tSalience: 0.60\n",
      "Ziannian            \tPosition: 0.11\tCapability: 0.60\tSalience: 0.60\n",
      "Cheyun              \tPosition: 0.06\tCapability: 1.00\tSalience: 0.85\n",
      "Boyibo              \tPosition: 0.11\tCapability: 0.75\tSalience: 0.70\n",
      "Pengzhen            \tPosition: 0.06\tCapability: 0.90\tSalience: 0.80\n",
      "Challdem            \tPosition: 0.30\tCapability: 0.20\tSalience: 0.90\n",
      "Chspring            \tPosition: 0.30\tCapability: 0.20\tSalience: 0.90\n",
      "STU/INTEL           \tPosition: 0.30\tCapability: 0.40\tSalience: 0.90\n",
      "USA                 \tPosition: 0.34\tCapability: 0.70\tSalience: 0.40\n",
      "Japan               \tPosition: 0.38\tCapability: 0.50\tSalience: 0.50\n",
      "Europe              \tPosition: 0.32\tCapability: 0.55\tSalience: 0.30\n",
      "Hong Kong           \tPosition: 0.31\tCapability: 0.25\tSalience: 0.85\n",
      "Guandung            \tPosition: 0.23\tCapability: 0.30\tSalience: 0.70\n"
     ]
    }
   ],
   "source": [
    "for agent in model.agents:\n",
    "    print(agent)"
   ]
  },
  {
   "cell_type": "code",
   "execution_count": 45,
   "metadata": {
    "collapsed": false
   },
   "outputs": [
    {
     "data": {
      "text/plain": [
       "['USA compromise with Ruihuan', 'USA compromise with Cheyun']"
      ]
     },
     "execution_count": 45,
     "metadata": {},
     "output_type": "execute_result"
    }
   ],
   "source": [
    "model.agent_names[\"USA\"].decision_model.action_log"
   ]
  },
  {
   "cell_type": "code",
   "execution_count": 46,
   "metadata": {
    "collapsed": false
   },
   "outputs": [
    {
     "data": {
      "text/plain": [
       "0.13234238349526278"
      ]
     },
     "execution_count": 46,
     "metadata": {},
     "output_type": "execute_result"
    }
   ],
   "source": [
    "model.find_mean()"
   ]
  },
  {
   "cell_type": "code",
   "execution_count": null,
   "metadata": {
    "collapsed": true
   },
   "outputs": [],
   "source": []
  }
 ],
 "metadata": {
  "kernelspec": {
   "display_name": "Python 3",
   "language": "python",
   "name": "python3"
  },
  "language_info": {
   "codemirror_mode": {
    "name": "ipython",
    "version": 3
   },
   "file_extension": ".py",
   "mimetype": "text/x-python",
   "name": "python",
   "nbconvert_exporter": "python",
   "pygments_lexer": "ipython3",
   "version": "3.4.2"
  }
 },
 "nbformat": 4,
 "nbformat_minor": 0
}
