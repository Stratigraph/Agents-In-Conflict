{
 "cells": [
  {
   "cell_type": "markdown",
   "metadata": {},
   "source": [
    "# Model to ICEWS Events\n",
    "\n",
    "This analysis uses the updated (non-replication) agents."
   ]
  },
  {
   "cell_type": "code",
   "execution_count": 1,
   "metadata": {
    "collapsed": true
   },
   "outputs": [],
   "source": [
    "import copy\n",
    "import pickle\n",
    "from collections import defaultdict, namedtuple, Counter\n",
    "from itertools import combinations, permutations\n",
    "\n",
    "\n",
    "import numpy as np\n",
    "import scipy.stats\n",
    "\n",
    "import pandas as pd\n",
    "import networkx as nx\n",
    "\n",
    "import matplotlib.pyplot as plt\n",
    "%matplotlib inline"
   ]
  },
  {
   "cell_type": "code",
   "execution_count": 2,
   "metadata": {
    "collapsed": true
   },
   "outputs": [],
   "source": [
    "class Model_Output:\n",
    "    def __init__(self, model):\n",
    "        '''\n",
    "        Store data from model run.\n",
    "        '''\n",
    "        self.agent_vars = model.datacollector.get_agent_vars_dataframe()\n",
    "        self.model_vars = model.datacollector.get_model_vars_dataframe()\n",
    "        self.log = model.log\n"
   ]
  },
  {
   "cell_type": "code",
   "execution_count": 3,
   "metadata": {
    "collapsed": true
   },
   "outputs": [],
   "source": [
    "agents = pd.read_csv(\"ICEWS_2004_agents.csv\")"
   ]
  },
  {
   "cell_type": "code",
   "execution_count": 4,
   "metadata": {
    "collapsed": false
   },
   "outputs": [],
   "source": [
    "#with open(\"data_output/ICEWS_Ex4_2.pickle\", \"rb\") as f:\n",
    "with open(\"data_output/ICEWS_Ex4_3.pickle\", \"rb\") as f:\n",
    "    all_models = pickle.load(f)"
   ]
  },
  {
   "cell_type": "code",
   "execution_count": 5,
   "metadata": {
    "collapsed": true
   },
   "outputs": [],
   "source": [
    "conflict_dyads = Counter()\n",
    "conflict_models = defaultdict(set)\n",
    "\n",
    "for i, model in enumerate(all_models):\n",
    "    for event in model.log.get_events(action=\"Attack\"):\n",
    "        source = event.source\n",
    "        target = event.target\n",
    "        dyad = (source, target)\n",
    "        conflict_dyads[dyad] += 1\n",
    "        conflict_models[dyad].add(i)\n",
    "\n",
    "conflict_models = {k: len(v) for k, v in conflict_models.items()}        \n",
    "        \n",
    "# Fill in zeroes\n",
    "actors = agents.Name.unique()\n",
    "for source, target in permutations(actors, 2):\n",
    "    dyad = (source, target)\n",
    "    if dyad not in conflict_dyads:\n",
    "        conflict_dyads[dyad] = 0\n",
    "    if dyad not in conflict_models:\n",
    "        conflict_models[dyad] = 0"
   ]
  },
  {
   "cell_type": "markdown",
   "metadata": {},
   "source": [
    "## Get ICEWS Data\n",
    "\n",
    "Data prepared in [6.05 ICEWS Aggregation](http://localhost:8888/notebooks/Programming/ConflictModel/negotiation_model/6.05%20ICEWS%20Aggregation.ipynb)"
   ]
  },
  {
   "cell_type": "code",
   "execution_count": 6,
   "metadata": {
    "collapsed": true
   },
   "outputs": [],
   "source": [
    "icews = pd.read_csv(\"Negative_Dyads_2005-2006.csv\")\n",
    "icews = icews[[\"Source_Country\", \"Target_Country\", \"Event_ID\"]]\n",
    "icews.rename(columns={\"Event_ID\": \"Count\"}, inplace=True)"
   ]
  },
  {
   "cell_type": "code",
   "execution_count": 7,
   "metadata": {
    "collapsed": false
   },
   "outputs": [
    {
     "data": {
      "text/html": [
       "<div>\n",
       "<table border=\"1\" class=\"dataframe\">\n",
       "  <thead>\n",
       "    <tr style=\"text-align: right;\">\n",
       "      <th></th>\n",
       "      <th>Source_Country</th>\n",
       "      <th>Target_Country</th>\n",
       "      <th>Count</th>\n",
       "    </tr>\n",
       "  </thead>\n",
       "  <tbody>\n",
       "    <tr>\n",
       "      <th>0</th>\n",
       "      <td>Afghanistan</td>\n",
       "      <td>Australia</td>\n",
       "      <td>2</td>\n",
       "    </tr>\n",
       "    <tr>\n",
       "      <th>1</th>\n",
       "      <td>Afghanistan</td>\n",
       "      <td>Canada</td>\n",
       "      <td>7</td>\n",
       "    </tr>\n",
       "    <tr>\n",
       "      <th>2</th>\n",
       "      <td>Afghanistan</td>\n",
       "      <td>Denmark</td>\n",
       "      <td>2</td>\n",
       "    </tr>\n",
       "    <tr>\n",
       "      <th>3</th>\n",
       "      <td>Afghanistan</td>\n",
       "      <td>Germany</td>\n",
       "      <td>2</td>\n",
       "    </tr>\n",
       "    <tr>\n",
       "      <th>4</th>\n",
       "      <td>Afghanistan</td>\n",
       "      <td>India</td>\n",
       "      <td>2</td>\n",
       "    </tr>\n",
       "  </tbody>\n",
       "</table>\n",
       "</div>"
      ],
      "text/plain": [
       "  Source_Country Target_Country  Count\n",
       "0    Afghanistan      Australia      2\n",
       "1    Afghanistan         Canada      7\n",
       "2    Afghanistan        Denmark      2\n",
       "3    Afghanistan        Germany      2\n",
       "4    Afghanistan          India      2"
      ]
     },
     "execution_count": 7,
     "metadata": {},
     "output_type": "execute_result"
    }
   ],
   "source": [
    "icews.head()"
   ]
  },
  {
   "cell_type": "code",
   "execution_count": 8,
   "metadata": {
    "collapsed": true
   },
   "outputs": [],
   "source": [
    "icews.replace(\"Democratic Republic of Congo\", \"Democratic Republic of the Congo\", inplace=True)\n",
    "icews.replace(\"Russian Federation\", \"Russia\", inplace=True)\n",
    "icews.replace(\"United States\", \"United States of America\", inplace=True)"
   ]
  },
  {
   "cell_type": "markdown",
   "metadata": {},
   "source": [
    "# Compare"
   ]
  },
  {
   "cell_type": "code",
   "execution_count": 9,
   "metadata": {
    "collapsed": false
   },
   "outputs": [],
   "source": [
    "model_conflicts = pd.DataFrame({\"Model_Conflicts\": dict(conflict_dyads),\n",
    "                               \"Models_with_Conflicts\": conflict_models})\n",
    "model_conflicts.reset_index(inplace=True)\n",
    "model_conflicts.rename(columns={\"level_0\": \"Source_Country\",\n",
    "                               \"level_1\": \"Target_Country\"}, inplace=True)"
   ]
  },
  {
   "cell_type": "code",
   "execution_count": 10,
   "metadata": {
    "collapsed": false
   },
   "outputs": [
    {
     "data": {
      "text/html": [
       "<div>\n",
       "<table border=\"1\" class=\"dataframe\">\n",
       "  <thead>\n",
       "    <tr style=\"text-align: right;\">\n",
       "      <th></th>\n",
       "      <th>Source_Country</th>\n",
       "      <th>Target_Country</th>\n",
       "      <th>Model_Conflicts</th>\n",
       "      <th>Models_with_Conflicts</th>\n",
       "    </tr>\n",
       "  </thead>\n",
       "  <tbody>\n",
       "    <tr>\n",
       "      <th>0</th>\n",
       "      <td>Algeria</td>\n",
       "      <td>Argentina</td>\n",
       "      <td>321</td>\n",
       "      <td>79</td>\n",
       "    </tr>\n",
       "    <tr>\n",
       "      <th>1</th>\n",
       "      <td>Algeria</td>\n",
       "      <td>Australia</td>\n",
       "      <td>275</td>\n",
       "      <td>82</td>\n",
       "    </tr>\n",
       "    <tr>\n",
       "      <th>2</th>\n",
       "      <td>Algeria</td>\n",
       "      <td>Bangladesh</td>\n",
       "      <td>312</td>\n",
       "      <td>78</td>\n",
       "    </tr>\n",
       "    <tr>\n",
       "      <th>3</th>\n",
       "      <td>Algeria</td>\n",
       "      <td>Belgium</td>\n",
       "      <td>273</td>\n",
       "      <td>81</td>\n",
       "    </tr>\n",
       "    <tr>\n",
       "      <th>4</th>\n",
       "      <td>Algeria</td>\n",
       "      <td>Brazil</td>\n",
       "      <td>313</td>\n",
       "      <td>79</td>\n",
       "    </tr>\n",
       "  </tbody>\n",
       "</table>\n",
       "</div>"
      ],
      "text/plain": [
       "  Source_Country Target_Country  Model_Conflicts  Models_with_Conflicts\n",
       "0        Algeria      Argentina              321                     79\n",
       "1        Algeria      Australia              275                     82\n",
       "2        Algeria     Bangladesh              312                     78\n",
       "3        Algeria        Belgium              273                     81\n",
       "4        Algeria         Brazil              313                     79"
      ]
     },
     "execution_count": 10,
     "metadata": {},
     "output_type": "execute_result"
    }
   ],
   "source": [
    "model_conflicts.head()"
   ]
  },
  {
   "cell_type": "code",
   "execution_count": 11,
   "metadata": {
    "collapsed": false
   },
   "outputs": [],
   "source": [
    "df = model_conflicts.merge(icews, how=\"left\", on=[\"Source_Country\", \"Target_Country\"])\n",
    "df.rename(columns={\"Count\": \"ICEWS_Count\"}, inplace=True)\n",
    "df.fillna(0, inplace=True)"
   ]
  },
  {
   "cell_type": "code",
   "execution_count": 12,
   "metadata": {
    "collapsed": true
   },
   "outputs": [],
   "source": [
    "df.Model_Conflicts /= 100"
   ]
  },
  {
   "cell_type": "code",
   "execution_count": 13,
   "metadata": {
    "collapsed": false
   },
   "outputs": [
    {
     "data": {
      "text/html": [
       "<div>\n",
       "<table border=\"1\" class=\"dataframe\">\n",
       "  <thead>\n",
       "    <tr style=\"text-align: right;\">\n",
       "      <th></th>\n",
       "      <th>Source_Country</th>\n",
       "      <th>Target_Country</th>\n",
       "      <th>Model_Conflicts</th>\n",
       "      <th>Models_with_Conflicts</th>\n",
       "      <th>ICEWS_Count</th>\n",
       "    </tr>\n",
       "  </thead>\n",
       "  <tbody>\n",
       "    <tr>\n",
       "      <th>0</th>\n",
       "      <td>Algeria</td>\n",
       "      <td>Argentina</td>\n",
       "      <td>3.21</td>\n",
       "      <td>79</td>\n",
       "      <td>0</td>\n",
       "    </tr>\n",
       "    <tr>\n",
       "      <th>1</th>\n",
       "      <td>Algeria</td>\n",
       "      <td>Australia</td>\n",
       "      <td>2.75</td>\n",
       "      <td>82</td>\n",
       "      <td>0</td>\n",
       "    </tr>\n",
       "    <tr>\n",
       "      <th>2</th>\n",
       "      <td>Algeria</td>\n",
       "      <td>Bangladesh</td>\n",
       "      <td>3.12</td>\n",
       "      <td>78</td>\n",
       "      <td>0</td>\n",
       "    </tr>\n",
       "    <tr>\n",
       "      <th>3</th>\n",
       "      <td>Algeria</td>\n",
       "      <td>Belgium</td>\n",
       "      <td>2.73</td>\n",
       "      <td>81</td>\n",
       "      <td>0</td>\n",
       "    </tr>\n",
       "    <tr>\n",
       "      <th>4</th>\n",
       "      <td>Algeria</td>\n",
       "      <td>Brazil</td>\n",
       "      <td>3.13</td>\n",
       "      <td>79</td>\n",
       "      <td>0</td>\n",
       "    </tr>\n",
       "  </tbody>\n",
       "</table>\n",
       "</div>"
      ],
      "text/plain": [
       "  Source_Country Target_Country  Model_Conflicts  Models_with_Conflicts  \\\n",
       "0        Algeria      Argentina             3.21                     79   \n",
       "1        Algeria      Australia             2.75                     82   \n",
       "2        Algeria     Bangladesh             3.12                     78   \n",
       "3        Algeria        Belgium             2.73                     81   \n",
       "4        Algeria         Brazil             3.13                     79   \n",
       "\n",
       "   ICEWS_Count  \n",
       "0            0  \n",
       "1            0  \n",
       "2            0  \n",
       "3            0  \n",
       "4            0  "
      ]
     },
     "execution_count": 13,
     "metadata": {},
     "output_type": "execute_result"
    }
   ],
   "source": [
    "df.head()"
   ]
  },
  {
   "cell_type": "code",
   "execution_count": 14,
   "metadata": {
    "collapsed": false
   },
   "outputs": [
    {
     "data": {
      "text/plain": [
       "<matplotlib.text.Text at 0x110aa44e0>"
      ]
     },
     "execution_count": 14,
     "metadata": {},
     "output_type": "execute_result"
    },
    {
     "data": {
      "image/png": "[encoded data removed]",
      "text/plain": [
       "<matplotlib.figure.Figure at 0x10b9f59e8>"
      ]
     },
     "metadata": {},
     "output_type": "display_data"
    }
   ],
   "source": [
    "fig, ax = plt.subplots(figsize=(8, 4))\n",
    "ax.scatter(df.Model_Conflicts, df.ICEWS_Count)\n",
    "ax.set_xlabel(\"Model Conflicts\")\n",
    "ax.set_ylabel(\"ICEWS Conflicts\")\n",
    "#ax.set_xlim(-5, 100)"
   ]
  },
  {
   "cell_type": "code",
   "execution_count": 15,
   "metadata": {
    "collapsed": false
   },
   "outputs": [
    {
     "data": {
      "text/html": [
       "<div>\n",
       "<table border=\"1\" class=\"dataframe\">\n",
       "  <thead>\n",
       "    <tr style=\"text-align: right;\">\n",
       "      <th></th>\n",
       "      <th>Model_Conflicts</th>\n",
       "      <th>Models_with_Conflicts</th>\n",
       "      <th>ICEWS_Count</th>\n",
       "    </tr>\n",
       "  </thead>\n",
       "  <tbody>\n",
       "    <tr>\n",
       "      <th>Model_Conflicts</th>\n",
       "      <td>1.000000</td>\n",
       "      <td>0.919539</td>\n",
       "      <td>-0.168296</td>\n",
       "    </tr>\n",
       "    <tr>\n",
       "      <th>Models_with_Conflicts</th>\n",
       "      <td>0.919539</td>\n",
       "      <td>1.000000</td>\n",
       "      <td>-0.211127</td>\n",
       "    </tr>\n",
       "    <tr>\n",
       "      <th>ICEWS_Count</th>\n",
       "      <td>-0.168296</td>\n",
       "      <td>-0.211127</td>\n",
       "      <td>1.000000</td>\n",
       "    </tr>\n",
       "  </tbody>\n",
       "</table>\n",
       "</div>"
      ],
      "text/plain": [
       "                       Model_Conflicts  Models_with_Conflicts  ICEWS_Count\n",
       "Model_Conflicts               1.000000               0.919539    -0.168296\n",
       "Models_with_Conflicts         0.919539               1.000000    -0.211127\n",
       "ICEWS_Count                  -0.168296              -0.211127     1.000000"
      ]
     },
     "execution_count": 15,
     "metadata": {},
     "output_type": "execute_result"
    }
   ],
   "source": [
    "df.corr()"
   ]
  },
  {
   "cell_type": "code",
   "execution_count": 16,
   "metadata": {
    "collapsed": false
   },
   "outputs": [
    {
     "data": {
      "text/html": [
       "<div>\n",
       "<table border=\"1\" class=\"dataframe\">\n",
       "  <thead>\n",
       "    <tr style=\"text-align: right;\">\n",
       "      <th></th>\n",
       "      <th>Model_Conflicts</th>\n",
       "      <th>Models_with_Conflicts</th>\n",
       "      <th>ICEWS_Count</th>\n",
       "    </tr>\n",
       "  </thead>\n",
       "  <tbody>\n",
       "    <tr>\n",
       "      <th>Model_Conflicts</th>\n",
       "      <td>1.000000</td>\n",
       "      <td>0.671222</td>\n",
       "      <td>-0.055980</td>\n",
       "    </tr>\n",
       "    <tr>\n",
       "      <th>Models_with_Conflicts</th>\n",
       "      <td>0.671222</td>\n",
       "      <td>1.000000</td>\n",
       "      <td>-0.071036</td>\n",
       "    </tr>\n",
       "    <tr>\n",
       "      <th>ICEWS_Count</th>\n",
       "      <td>-0.055980</td>\n",
       "      <td>-0.071036</td>\n",
       "      <td>1.000000</td>\n",
       "    </tr>\n",
       "  </tbody>\n",
       "</table>\n",
       "</div>"
      ],
      "text/plain": [
       "                       Model_Conflicts  Models_with_Conflicts  ICEWS_Count\n",
       "Model_Conflicts               1.000000               0.671222    -0.055980\n",
       "Models_with_Conflicts         0.671222               1.000000    -0.071036\n",
       "ICEWS_Count                  -0.055980              -0.071036     1.000000"
      ]
     },
     "execution_count": 16,
     "metadata": {},
     "output_type": "execute_result"
    }
   ],
   "source": [
    "df.corr(method=\"spearman\")"
   ]
  },
  {
   "cell_type": "code",
   "execution_count": 17,
   "metadata": {
    "collapsed": false
   },
   "outputs": [
    {
     "data": {
      "image/png": "[encoded data removed]",
      "text/plain": [
       "<matplotlib.figure.Figure at 0x11218f278>"
      ]
     },
     "metadata": {},
     "output_type": "display_data"
    }
   ],
   "source": [
    "df.ICEWS_Count.hist()\n",
    "plt.yscale('log')"
   ]
  },
  {
   "cell_type": "code",
   "execution_count": 18,
   "metadata": {
    "collapsed": true
   },
   "outputs": [],
   "source": [
    "import statsmodels.api as sm\n",
    "import statsmodels\n",
    "from statsmodels.discrete.discrete_model import NegativeBinomial\n",
    "from statsmodels.discrete.discrete_model import Poisson\n",
    "from statsmodels.miscmodels.count import PoissonZiGMLE"
   ]
  },
  {
   "cell_type": "code",
   "execution_count": 19,
   "metadata": {
    "collapsed": true
   },
   "outputs": [],
   "source": [
    "df[\"Const.\"] = 1"
   ]
  },
  {
   "cell_type": "code",
   "execution_count": 20,
   "metadata": {
    "collapsed": false
   },
   "outputs": [],
   "source": [
    "lm = sm.OLS(df[\"ICEWS_Count\"], df[[\"Const.\", \"Model_Conflicts\"]])\n",
    "fit = lm.fit()"
   ]
  },
  {
   "cell_type": "code",
   "execution_count": 21,
   "metadata": {
    "collapsed": false
   },
   "outputs": [
    {
     "name": "stdout",
     "output_type": "stream",
     "text": [
      "                            OLS Regression Results                            \n",
      "==============================================================================\n",
      "Dep. Variable:            ICEWS_Count   R-squared:                       0.028\n",
      "Model:                            OLS   Adj. R-squared:                  0.028\n",
      "Method:                 Least Squares   F-statistic:                     71.36\n",
      "Date:                Tue, 02 Feb 2016   Prob (F-statistic):           5.04e-17\n",
      "Time:                        20:33:05   Log-Likelihood:                -10414.\n",
      "No. Observations:                2450   AIC:                         2.083e+04\n",
      "Df Residuals:                    2448   BIC:                         2.084e+04\n",
      "Df Model:                           1                                         \n",
      "Covariance Type:            nonrobust                                         \n",
      "===================================================================================\n",
      "                      coef    std err          t      P>|t|      [95.0% Conf. Int.]\n",
      "-----------------------------------------------------------------------------------\n",
      "Const.             20.3658      2.100      9.699      0.000        16.248    24.483\n",
      "Model_Conflicts    -6.2007      0.734     -8.447      0.000        -7.640    -4.761\n",
      "==============================================================================\n",
      "Omnibus:                     4785.882   Durbin-Watson:                   1.747\n",
      "Prob(Omnibus):                  0.000   Jarque-Bera (JB):          9908744.752\n",
      "Skew:                          15.158   Prob(JB):                         0.00\n",
      "Kurtosis:                     313.074   Cond. No.                         19.6\n",
      "==============================================================================\n",
      "\n",
      "Warnings:\n",
      "[1] Standard Errors assume that the covariance matrix of the errors is correctly specified.\n"
     ]
    }
   ],
   "source": [
    "print(fit.summary())"
   ]
  },
  {
   "cell_type": "code",
   "execution_count": null,
   "metadata": {
    "collapsed": false
   },
   "outputs": [],
   "source": [
    "nb = NegativeBinomial(df[\"ICEWS_Count\"], df[[\"Const.\", \"Model_Conflicts\"]])\n",
    "fit = nb.fit()\n",
    "print(fit.summary())"
   ]
  },
  {
   "cell_type": "code",
   "execution_count": null,
   "metadata": {
    "collapsed": false
   },
   "outputs": [],
   "source": [
    "ps = Poisson(df[\"ICEWS_Count\"], df[[\"Const.\", \"Model_Conflicts\"]])\n",
    "fit = ps.fit_regularized()\n",
    "print(fit.summary())"
   ]
  },
  {
   "cell_type": "code",
   "execution_count": 22,
   "metadata": {
    "collapsed": false
   },
   "outputs": [],
   "source": [
    "df[\"ICEWS_Dummy\"] = 0\n",
    "df.loc[df.ICEWS_Count>0, \"ICEWS_Dummy\"] = 1"
   ]
  },
  {
   "cell_type": "code",
   "execution_count": 23,
   "metadata": {
    "collapsed": false
   },
   "outputs": [
    {
     "name": "stdout",
     "output_type": "stream",
     "text": [
      "Optimization terminated successfully.\n",
      "         Current function value: 0.529736\n",
      "         Iterations 5\n",
      "                           Logit Regression Results                           \n",
      "==============================================================================\n",
      "Dep. Variable:            ICEWS_Dummy   No. Observations:                 2450\n",
      "Model:                          Logit   Df Residuals:                     2448\n",
      "Method:                           MLE   Df Model:                            1\n",
      "Date:                Tue, 02 Feb 2016   Pseudo R-squ.:                 0.03037\n",
      "Time:                        20:33:11   Log-Likelihood:                -1297.9\n",
      "converged:                       True   LL-Null:                       -1338.5\n",
      "                                        LLR p-value:                 1.932e-19\n",
      "===================================================================================\n",
      "                      coef    std err          z      P>|z|      [95.0% Conf. Int.]\n",
      "-----------------------------------------------------------------------------------\n",
      "Const.              1.2241      0.297      4.118      0.000         0.641     1.807\n",
      "Model_Conflicts    -0.8586      0.105     -8.184      0.000        -1.064    -0.653\n",
      "===================================================================================\n"
     ]
    }
   ],
   "source": [
    "logit = sm.Logit(df.ICEWS_Dummy, df[[\"Const.\", \"Model_Conflicts\"]]).fit()\n",
    "print(logit.summary())"
   ]
  },
  {
   "cell_type": "markdown",
   "metadata": {},
   "source": [
    "### Is it better than just using $\\Delta$Taus?"
   ]
  },
  {
   "cell_type": "code",
   "execution_count": null,
   "metadata": {
    "collapsed": false
   },
   "outputs": [],
   "source": [
    "dyad_taus = {}\n",
    "for i, row in df.iterrows():\n",
    "    source = row.Source_Country\n",
    "    target = row.Target_Country\n",
    "    tau = get_tau(source, target)\n",
    "    dyad_taus[(source, target)] = tau"
   ]
  },
  {
   "cell_type": "code",
   "execution_count": null,
   "metadata": {
    "collapsed": false
   },
   "outputs": [],
   "source": [
    "taus = pd.Series(dyad_taus).reset_index()\n",
    "taus.rename(columns={\"level_0\": \"Source_Country\", \n",
    "                     \"level_1\": \"Target_Country\",\n",
    "                     0: \"Tau\"}, inplace=True)"
   ]
  },
  {
   "cell_type": "code",
   "execution_count": null,
   "metadata": {
    "collapsed": false
   },
   "outputs": [],
   "source": [
    "df = df.merge(taus, how='left', on=[\"Source_Country\", \"Target_Country\"])"
   ]
  },
  {
   "cell_type": "code",
   "execution_count": null,
   "metadata": {
    "collapsed": false
   },
   "outputs": [],
   "source": [
    "df[\"Tau_Dummy\"] = 0\n",
    "df[\"Tau_Dummy\"][df.Tau != 0] = 1"
   ]
  },
  {
   "cell_type": "code",
   "execution_count": null,
   "metadata": {
    "collapsed": false
   },
   "outputs": [],
   "source": [
    "lm = sm.OLS(df[\"ICEWS_Count\"], df[[\"Const.\", \"Tau\"]])\n",
    "fit = lm.fit()\n",
    "print(fit.summary())"
   ]
  },
  {
   "cell_type": "code",
   "execution_count": null,
   "metadata": {
    "collapsed": false
   },
   "outputs": [],
   "source": [
    "logit = sm.Logit(df[\"ICEWS_Dummy\"], df[[\"Const.\", \"Tau_Dummy\", \"Tau\"]])\n",
    "fit = logit.fit()\n",
    "print(fit.summary())"
   ]
  },
  {
   "cell_type": "code",
   "execution_count": null,
   "metadata": {
    "collapsed": false
   },
   "outputs": [],
   "source": [
    "logit = sm.Logit(df[\"ICEWS_Dummy\"], df[[\"Const.\", \"Tau\", \"Model_Conflicts\"]])\n",
    "fit = logit.fit()\n",
    "print(fit.summary())"
   ]
  },
  {
   "cell_type": "code",
   "execution_count": null,
   "metadata": {
    "collapsed": false
   },
   "outputs": [],
   "source": [
    "ps = Poisson(df[\"ICEWS_Count\"], df[[\"Const.\", \"Tau\", \"Model_Conflicts\"]])\n",
    "fit = ps.fit_regularized()\n",
    "print(fit.summary())"
   ]
  },
  {
   "cell_type": "code",
   "execution_count": null,
   "metadata": {
    "collapsed": true
   },
   "outputs": [],
   "source": []
  }
 ],
 "metadata": {
  "kernelspec": {
   "display_name": "Python 3",
   "language": "python",
   "name": "python3"
  },
  "language_info": {
   "codemirror_mode": {
    "name": "ipython",
    "version": 3
   },
   "file_extension": ".py",
   "mimetype": "text/x-python",
   "name": "python",
   "nbconvert_exporter": "python",
   "pygments_lexer": "ipython3",
   "version": "3.4.2"
  }
 },
 "nbformat": 4,
 "nbformat_minor": 0
}
