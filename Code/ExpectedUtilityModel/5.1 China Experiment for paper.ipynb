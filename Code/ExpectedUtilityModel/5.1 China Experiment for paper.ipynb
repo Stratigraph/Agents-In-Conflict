{
 "cells": [
  {
   "cell_type": "markdown",
   "metadata": {},
   "source": [
    "# China Experiment\n",
    "\n",
    "This is an attempt to replicate the China forecast from Predicting Politics"
   ]
  },
  {
   "cell_type": "code",
   "execution_count": 1,
   "metadata": {
    "collapsed": true
   },
   "outputs": [],
   "source": [
    "import copy\n",
    "from collections import defaultdict, namedtuple\n",
    "from itertools import combinations\n",
    "import csv\n",
    "\n",
    "import numpy as np\n",
    "import scipy.stats\n",
    "\n",
    "import pandas as pd\n",
    "import networkx as nx\n",
    "\n",
    "import matplotlib.pyplot as plt\n",
    "%matplotlib inline\n",
    "#plt.style.use('bmh')"
   ]
  },
  {
   "cell_type": "code",
   "execution_count": 2,
   "metadata": {
    "collapsed": true
   },
   "outputs": [],
   "source": [
    "from negotiation_model import *\n",
    "from bdm_agent import *\n",
    "from bdm_replication import *"
   ]
  },
  {
   "cell_type": "markdown",
   "metadata": {},
   "source": [
    "## Load data"
   ]
  },
  {
   "cell_type": "code",
   "execution_count": 3,
   "metadata": {
    "collapsed": false
   },
   "outputs": [],
   "source": [
    "data = pd.read_csv(\"/Users/dmasad/Programming/Learning/BDM/ChinaData.csv\")"
   ]
  },
  {
   "cell_type": "code",
   "execution_count": 4,
   "metadata": {
    "collapsed": false
   },
   "outputs": [],
   "source": [
    "# Normalize\n",
    "#data.Resources /= data.Resources.sum()\n",
    "data.Resources /= 100\n",
    "data.Position = ((data.Position - data.Position.min()) \n",
    "                 / (data.Position.max() - data.Position.min()))\n",
    "data.Salience /= 100"
   ]
  },
  {
   "cell_type": "code",
   "execution_count": 5,
   "metadata": {
    "collapsed": false
   },
   "outputs": [
    {
     "data": {
      "text/html": [
       "<div>\n",
       "<table border=\"1\" class=\"dataframe\">\n",
       "  <thead>\n",
       "    <tr style=\"text-align: right;\">\n",
       "      <th></th>\n",
       "      <th>Stakeholder</th>\n",
       "      <th>Resources</th>\n",
       "      <th>Position</th>\n",
       "      <th>Salience</th>\n",
       "    </tr>\n",
       "  </thead>\n",
       "  <tbody>\n",
       "    <tr>\n",
       "      <th>9</th>\n",
       "      <td>Baibing</td>\n",
       "      <td>0.85</td>\n",
       "      <td>0.055556</td>\n",
       "      <td>0.85</td>\n",
       "    </tr>\n",
       "    <tr>\n",
       "      <th>14</th>\n",
       "      <td>Boyibo</td>\n",
       "      <td>0.75</td>\n",
       "      <td>0.111111</td>\n",
       "      <td>0.70</td>\n",
       "    </tr>\n",
       "    <tr>\n",
       "      <th>16</th>\n",
       "      <td>Challdem</td>\n",
       "      <td>0.20</td>\n",
       "      <td>1.000000</td>\n",
       "      <td>0.90</td>\n",
       "    </tr>\n",
       "    <tr>\n",
       "      <th>13</th>\n",
       "      <td>Cheyun</td>\n",
       "      <td>1.00</td>\n",
       "      <td>0.000000</td>\n",
       "      <td>0.85</td>\n",
       "    </tr>\n",
       "    <tr>\n",
       "      <th>17</th>\n",
       "      <td>Chspring</td>\n",
       "      <td>0.20</td>\n",
       "      <td>1.000000</td>\n",
       "      <td>0.90</td>\n",
       "    </tr>\n",
       "    <tr>\n",
       "      <th>21</th>\n",
       "      <td>Europe</td>\n",
       "      <td>0.55</td>\n",
       "      <td>0.888889</td>\n",
       "      <td>0.30</td>\n",
       "    </tr>\n",
       "    <tr>\n",
       "      <th>23</th>\n",
       "      <td>Guandung</td>\n",
       "      <td>0.30</td>\n",
       "      <td>0.444444</td>\n",
       "      <td>0.70</td>\n",
       "    </tr>\n",
       "    <tr>\n",
       "      <th>22</th>\n",
       "      <td>Hong Kong</td>\n",
       "      <td>0.25</td>\n",
       "      <td>1.000000</td>\n",
       "      <td>0.85</td>\n",
       "    </tr>\n",
       "    <tr>\n",
       "      <th>20</th>\n",
       "      <td>Japan</td>\n",
       "      <td>0.50</td>\n",
       "      <td>0.555556</td>\n",
       "      <td>0.50</td>\n",
       "    </tr>\n",
       "    <tr>\n",
       "      <th>1</th>\n",
       "      <td>Lipeng</td>\n",
       "      <td>0.90</td>\n",
       "      <td>0.055556</td>\n",
       "      <td>0.80</td>\n",
       "    </tr>\n",
       "    <tr>\n",
       "      <th>15</th>\n",
       "      <td>Pengzhen</td>\n",
       "      <td>0.90</td>\n",
       "      <td>0.055556</td>\n",
       "      <td>0.80</td>\n",
       "    </tr>\n",
       "    <tr>\n",
       "      <th>2</th>\n",
       "      <td>Qiaoshi</td>\n",
       "      <td>0.85</td>\n",
       "      <td>0.055556</td>\n",
       "      <td>0.80</td>\n",
       "    </tr>\n",
       "    <tr>\n",
       "      <th>4</th>\n",
       "      <td>Ruihuan</td>\n",
       "      <td>0.60</td>\n",
       "      <td>0.222222</td>\n",
       "      <td>0.75</td>\n",
       "    </tr>\n",
       "    <tr>\n",
       "      <th>18</th>\n",
       "      <td>STU/INTEL</td>\n",
       "      <td>0.40</td>\n",
       "      <td>1.000000</td>\n",
       "      <td>0.90</td>\n",
       "    </tr>\n",
       "    <tr>\n",
       "      <th>3</th>\n",
       "      <td>Shanghai</td>\n",
       "      <td>0.30</td>\n",
       "      <td>0.277778</td>\n",
       "      <td>0.50</td>\n",
       "    </tr>\n",
       "    <tr>\n",
       "      <th>8</th>\n",
       "      <td>Shangkun</td>\n",
       "      <td>1.00</td>\n",
       "      <td>0.111111</td>\n",
       "      <td>0.85</td>\n",
       "    </tr>\n",
       "    <tr>\n",
       "      <th>5</th>\n",
       "      <td>Tianjiyun</td>\n",
       "      <td>0.50</td>\n",
       "      <td>0.111111</td>\n",
       "      <td>0.40</td>\n",
       "    </tr>\n",
       "    <tr>\n",
       "      <th>19</th>\n",
       "      <td>USA</td>\n",
       "      <td>0.70</td>\n",
       "      <td>1.000000</td>\n",
       "      <td>0.40</td>\n",
       "    </tr>\n",
       "    <tr>\n",
       "      <th>10</th>\n",
       "      <td>Wangzhen</td>\n",
       "      <td>0.85</td>\n",
       "      <td>0.055556</td>\n",
       "      <td>0.80</td>\n",
       "    </tr>\n",
       "    <tr>\n",
       "      <th>11</th>\n",
       "      <td>Wanli</td>\n",
       "      <td>0.60</td>\n",
       "      <td>0.166667</td>\n",
       "      <td>0.60</td>\n",
       "    </tr>\n",
       "    <tr>\n",
       "      <th>0</th>\n",
       "      <td>Zeming</td>\n",
       "      <td>0.80</td>\n",
       "      <td>0.166667</td>\n",
       "      <td>0.50</td>\n",
       "    </tr>\n",
       "    <tr>\n",
       "      <th>6</th>\n",
       "      <td>Zhurongji</td>\n",
       "      <td>0.60</td>\n",
       "      <td>0.277778</td>\n",
       "      <td>0.80</td>\n",
       "    </tr>\n",
       "    <tr>\n",
       "      <th>12</th>\n",
       "      <td>Ziannian</td>\n",
       "      <td>0.60</td>\n",
       "      <td>0.111111</td>\n",
       "      <td>0.60</td>\n",
       "    </tr>\n",
       "    <tr>\n",
       "      <th>7</th>\n",
       "      <td>Zoujiahua</td>\n",
       "      <td>0.80</td>\n",
       "      <td>0.055556</td>\n",
       "      <td>0.75</td>\n",
       "    </tr>\n",
       "  </tbody>\n",
       "</table>\n",
       "</div>"
      ],
      "text/plain": [
       "   Stakeholder  Resources  Position  Salience\n",
       "9      Baibing       0.85  0.055556      0.85\n",
       "14      Boyibo       0.75  0.111111      0.70\n",
       "16    Challdem       0.20  1.000000      0.90\n",
       "13      Cheyun       1.00  0.000000      0.85\n",
       "17    Chspring       0.20  1.000000      0.90\n",
       "21      Europe       0.55  0.888889      0.30\n",
       "23    Guandung       0.30  0.444444      0.70\n",
       "22   Hong Kong       0.25  1.000000      0.85\n",
       "20       Japan       0.50  0.555556      0.50\n",
       "1       Lipeng       0.90  0.055556      0.80\n",
       "15    Pengzhen       0.90  0.055556      0.80\n",
       "2      Qiaoshi       0.85  0.055556      0.80\n",
       "4      Ruihuan       0.60  0.222222      0.75\n",
       "18   STU/INTEL       0.40  1.000000      0.90\n",
       "3     Shanghai       0.30  0.277778      0.50\n",
       "8     Shangkun       1.00  0.111111      0.85\n",
       "5    Tianjiyun       0.50  0.111111      0.40\n",
       "19         USA       0.70  1.000000      0.40\n",
       "10    Wangzhen       0.85  0.055556      0.80\n",
       "11       Wanli       0.60  0.166667      0.60\n",
       "0       Zeming       0.80  0.166667      0.50\n",
       "6    Zhurongji       0.60  0.277778      0.80\n",
       "12    Ziannian       0.60  0.111111      0.60\n",
       "7    Zoujiahua       0.80  0.055556      0.75"
      ]
     },
     "execution_count": 5,
     "metadata": {},
     "output_type": "execute_result"
    }
   ],
   "source": [
    "data.sort(\"Stakeholder\")"
   ]
  },
  {
   "cell_type": "code",
   "execution_count": 6,
   "metadata": {
    "collapsed": true
   },
   "outputs": [],
   "source": [
    "stakeholders = data.sort(\"Stakeholder\").Stakeholder"
   ]
  },
  {
   "cell_type": "markdown",
   "metadata": {},
   "source": [
    "## Start and run model"
   ]
  },
  {
   "cell_type": "code",
   "execution_count": null,
   "metadata": {
    "collapsed": true
   },
   "outputs": [],
   "source": [
    "agents = []\n",
    "for i, row in data.iterrows():\n",
    "    agent = BDMActor(row.Stakeholder, row.Resources, row.Position, row.Salience)\n",
    "    agent.decision_model.Q = 1\n",
    "    agent.decision_model.T = 1\n",
    "    agent.decision_model.verbose = False\n",
    "    agents.append(agent)\n",
    "    \n",
    "model = Real_Negotiation_Model(agents)"
   ]
  },
  {
   "cell_type": "code",
   "execution_count": null,
   "metadata": {
    "collapsed": false
   },
   "outputs": [],
   "source": [
    "model.find_median()"
   ]
  },
  {
   "cell_type": "code",
   "execution_count": null,
   "metadata": {
    "collapsed": false
   },
   "outputs": [],
   "source": [
    "for agent in model.agents:\n",
    "    print(agent)"
   ]
  },
  {
   "cell_type": "code",
   "execution_count": null,
   "metadata": {
    "collapsed": true
   },
   "outputs": [],
   "source": [
    "model.step()"
   ]
  },
  {
   "cell_type": "code",
   "execution_count": null,
   "metadata": {
    "collapsed": false
   },
   "outputs": [],
   "source": [
    "for agent in stakeholders:\n",
    "    print(model.agent_names[agent])"
   ]
  },
  {
   "cell_type": "code",
   "execution_count": null,
   "metadata": {
    "collapsed": false
   },
   "outputs": [],
   "source": [
    "model.find_median()"
   ]
  },
  {
   "cell_type": "markdown",
   "metadata": {},
   "source": [
    "# Multiple iterations\n",
    "\n",
    "Run the model for one step many times, get resulting distribution."
   ]
  },
  {
   "cell_type": "code",
   "execution_count": 7,
   "metadata": {
    "collapsed": true
   },
   "outputs": [],
   "source": [
    "params = {\n",
    "    \"font.family\": 'serif',\n",
    "    \"font.serif\": [\"Computer Modern\"],\n",
    "    'text.usetex': True,\n",
    "    'xtick.labelsize': 12,\n",
    "    'ytick.labelsize': 12,\n",
    "    'axes.labelsize': 14\n",
    "\n",
    "   }\n",
    "plt.rcParams.update(params)"
   ]
  },
  {
   "cell_type": "code",
   "execution_count": 8,
   "metadata": {
    "collapsed": true
   },
   "outputs": [],
   "source": [
    "agents = []\n",
    "for i, row in data.iterrows():\n",
    "    agent = BDMActor(row.Stakeholder, row.Resources, row.Position, row.Salience)\n",
    "    agent.decision_model.Q = 0.5\n",
    "    agent.decision_model.T = 0.5\n",
    "    agent.decision_model.verbose = False\n",
    "    agents.append(agent)\n",
    "    \n",
    "base_model = Real_Negotiation_Model(agents)"
   ]
  },
  {
   "cell_type": "code",
   "execution_count": 10,
   "metadata": {
    "collapsed": false
   },
   "outputs": [],
   "source": [
    "model_copies = []\n",
    "for _ in range(100):\n",
    "    model = copy.deepcopy(base_model)\n",
    "    for agent in model.agents:\n",
    "        if random.random() < 0.2:\n",
    "            agent.salience = random.random()\n",
    "    model.step()\n",
    "    model_copies.append(model)"
   ]
  },
  {
   "cell_type": "code",
   "execution_count": 11,
   "metadata": {
    "collapsed": true
   },
   "outputs": [],
   "source": [
    "medians = [m.find_median() for m in model_copies]\n",
    "means = [m.find_mean() for m in model_copies]"
   ]
  },
  {
   "cell_type": "code",
   "execution_count": 22,
   "metadata": {
    "collapsed": false
   },
   "outputs": [
    {
     "data": {
      "image/png": "[encoded data removed]",
      "text/plain": [
       "<matplotlib.figure.Figure at 0x10bd8d1d0>"
      ]
     },
     "metadata": {},
     "output_type": "display_data"
    }
   ],
   "source": [
    "fig, ax = plt.subplots(figsize=(5,5))\n",
    "ax.hist(medians, color='grey')\n",
    "ax.grid(True)\n",
    "ax.set_xlim(0, 1)\n",
    "for spine in [\"top\", \"left\", \"right\", \"bottom\"]:\n",
    "    ax.spines[spine].set_visible(False)\n",
    "\n",
    "ax.vlines((52-10)/(100-10), 0, 100, linestyle='--')\n",
    "ax.set_xlabel(\"Median Position\")\n",
    "ax.set_ylabel(\"Count\")\n",
    "fig.tight_layout()\n",
    "\n",
    "PATH = \"/Users/dmasad/Documents/Dissertation/Dissertation/BDM_Reproduction/Figures/\"\n",
    "fig.savefig(PATH + \"New_ChinaModel.pdf\")"
   ]
  },
  {
   "cell_type": "code",
   "execution_count": 13,
   "metadata": {
    "collapsed": false
   },
   "outputs": [
    {
     "data": {
      "text/plain": [
       "<matplotlib.collections.LineCollection at 0x10be5b278>"
      ]
     },
     "execution_count": 13,
     "metadata": {},
     "output_type": "execute_result"
    },
    {
     "data": {
      "image/png": "[encoded data removed]",
      "text/plain": [
       "<matplotlib.figure.Figure at 0x10b585f98>"
      ]
     },
     "metadata": {},
     "output_type": "display_data"
    }
   ],
   "source": [
    "fig, ax = plt.subplots(figsize=(5,5))\n",
    "ax.hist(means, color='grey')\n",
    "ax.grid(True)\n",
    "ax.set_xlim(0, 1)\n",
    "ax.set_ylim(0, 30)\n",
    "for spine in [\"top\", \"left\", \"right\", \"bottom\"]:\n",
    "    ax.spines[spine].set_visible(False)\n",
    "ax.vlines((52-10)/(100-10), 0, 100, linestyle='--')"
   ]
  },
  {
   "cell_type": "markdown",
   "metadata": {},
   "source": [
    "## From Scholz Model"
   ]
  },
  {
   "cell_type": "code",
   "execution_count": 17,
   "metadata": {
    "collapsed": false
   },
   "outputs": [],
   "source": [
    "scholz_medians = [20.0, 20.0, 20.0, 20.0, 20.0, 20.0, 20.0, 20.0, 15.0, 20.0, 20.0, \n",
    "                  20.0, 20.0, 20.0, 20.0, 20.0, 20.0, 20.0, 20.0, 20.0, 20.0, 20.0, 20.0, \n",
    "                  20.0, 15.0, 20.0, 20.0, 20.0, 20.0, 20.0, 20.0, 20.0, 20.0, 20.0, 15.0, \n",
    "                  20.0, 20.0, 20.0, 20.0, 20.0, 20.0, 20.0, 20.0, 20.0, 20.0, 20.0, 20.0, \n",
    "                  20.0, 15.0, 20.0]"
   ]
  },
  {
   "cell_type": "code",
   "execution_count": 23,
   "metadata": {
    "collapsed": false
   },
   "outputs": [
    {
     "data": {
      "image/png": "[encoded data removed]",
      "text/plain": [
       "<matplotlib.figure.Figure at 0x10bdd1780>"
      ]
     },
     "metadata": {},
     "output_type": "display_data"
    }
   ],
   "source": [
    "fig, ax = plt.subplots(figsize=(5,5))\n",
    "ax.hist(scholz_medians, color='grey')\n",
    "ax.grid(True)\n",
    "ax.set_xlim(0, 100)\n",
    "ax.set_ylim(0, 50)\n",
    "for spine in [\"top\", \"left\", \"right\", \"bottom\"]:\n",
    "    ax.spines[spine].set_visible(False)\n",
    "ax.vlines(52, 0, 100, linestyle='--')\n",
    "ax.set_xlabel(\"Median Position\")\n",
    "ax.set_ylabel(\"Count\")\n",
    "fig.tight_layout()\n",
    "PATH = \"/Users/dmasad/Documents/Dissertation/Dissertation/BDM_Reproduction/Figures/\"\n",
    "fig.savefig(PATH + \"Scholz_ChinaModel.pdf\")"
   ]
  },
  {
   "cell_type": "code",
   "execution_count": null,
   "metadata": {
    "collapsed": true
   },
   "outputs": [],
   "source": []
  }
 ],
 "metadata": {
  "kernelspec": {
   "display_name": "Python 3",
   "language": "python",
   "name": "python3"
  },
  "language_info": {
   "codemirror_mode": {
    "name": "ipython",
    "version": 3
   },
   "file_extension": ".py",
   "mimetype": "text/x-python",
   "name": "python",
   "nbconvert_exporter": "python",
   "pygments_lexer": "ipython3",
   "version": "3.4.2"
  }
 },
 "nbformat": 4,
 "nbformat_minor": 0
}
