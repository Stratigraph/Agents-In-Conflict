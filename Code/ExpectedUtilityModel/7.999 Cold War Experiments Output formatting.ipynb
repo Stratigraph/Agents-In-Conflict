{
 "cells": [
  {
   "cell_type": "code",
   "execution_count": 1,
   "metadata": {
    "collapsed": true
   },
   "outputs": [],
   "source": [
    "import pickle\n",
    "from statsmodels.iolib.summary2 import summary_col\n",
    "\n",
    "import matplotlib.pyplot as plt\n",
    "%matplotlib inline\n",
    "import numpy as np\n",
    "import pandas as pd\n",
    "import pyobjclipboard"
   ]
  },
  {
   "cell_type": "code",
   "execution_count": 2,
   "metadata": {
    "collapsed": true
   },
   "outputs": [],
   "source": [
    "class Model_Output:\n",
    "    def __init__(self, model):\n",
    "        '''\n",
    "        Store data from model run.\n",
    "        '''\n",
    "        self.agent_vars = model.datacollector.get_agent_vars_dataframe()\n",
    "        self.model_vars = model.datacollector.get_model_vars_dataframe()\n",
    "        self.log = model.log"
   ]
  },
  {
   "cell_type": "markdown",
   "metadata": {},
   "source": [
    "# Pretty-formatting Linear Models"
   ]
  },
  {
   "cell_type": "code",
   "execution_count": 44,
   "metadata": {
    "collapsed": false
   },
   "outputs": [],
   "source": [
    "models = []\n",
    "for i in [1, 2, 3, 4]:\n",
    "    filename = \"transfer/lm_ex_{}.pickle\".format(i)\n",
    "    with open(filename, \"rb\") as f:\n",
    "        models.append(pickle.load(f))"
   ]
  },
  {
   "cell_type": "code",
   "execution_count": 45,
   "metadata": {
    "collapsed": false
   },
   "outputs": [
    {
     "name": "stderr",
     "output_type": "stream",
     "text": [
      "/Users/dmasad/.virtualenvs/consul/lib/python3.4/site-packages/statsmodels/iolib/summary2.py:372: SettingWithCopyWarning: \n",
      "A value is trying to be set on a copy of a slice from a DataFrame\n",
      "\n",
      "See the the caveats in the documentation: http://pandas.pydata.org/pandas-docs/stable/indexing.html#indexing-view-versus-copy\n",
      "  res.ix[:, 0][idx] = res.ix[:, 0][idx] + '*'\n",
      "/Users/dmasad/.virtualenvs/consul/lib/python3.4/site-packages/statsmodels/iolib/summary2.py:374: SettingWithCopyWarning: \n",
      "A value is trying to be set on a copy of a slice from a DataFrame\n",
      "\n",
      "See the the caveats in the documentation: http://pandas.pydata.org/pandas-docs/stable/indexing.html#indexing-view-versus-copy\n",
      "  res.ix[:, 0][idx] = res.ix[:, 0][idx] + '*'\n",
      "/Users/dmasad/.virtualenvs/consul/lib/python3.4/site-packages/statsmodels/iolib/summary2.py:376: SettingWithCopyWarning: \n",
      "A value is trying to be set on a copy of a slice from a DataFrame\n",
      "\n",
      "See the the caveats in the documentation: http://pandas.pydata.org/pandas-docs/stable/indexing.html#indexing-view-versus-copy\n",
      "  res.ix[:, 0][idx] = res.ix[:, 0][idx] + '*'\n"
     ]
    }
   ],
   "source": [
    "linear_models = summary_col(models, float_format=\"%.3f\", stars=True, \n",
    "                           model_names=[\"Experiment {}\".format(i) for i in [1, 2, 3, 4]])"
   ]
  },
  {
   "cell_type": "code",
   "execution_count": 46,
   "metadata": {
    "collapsed": false
   },
   "outputs": [
    {
     "name": "stdout",
     "output_type": "stream",
     "text": [
      "\n",
      "=======================================================================\n",
      "                    Experiment 1 Experiment 2 Experiment 3 Experiment 4\n",
      "-----------------------------------------------------------------------\n",
      "Const.              1.043***     1.014***     0.392***     0.362***    \n",
      "                    (0.183)      (0.173)      (0.049)      (0.044)     \n",
      "Predicted_Conflicts 1.473        8.327***     17.409***    1015.746*** \n",
      "                    (1.235)      (1.950)      (5.090)      (40.768)    \n",
      "=======================================================================\n",
      "Standard errors in parentheses.\n",
      "* p<.1, ** p<.05, ***p<.01\n"
     ]
    }
   ],
   "source": [
    "print(linear_models)"
   ]
  },
  {
   "cell_type": "code",
   "execution_count": 47,
   "metadata": {
    "collapsed": false
   },
   "outputs": [
    {
     "name": "stdout",
     "output_type": "stream",
     "text": [
      "\\begin{table}\n",
      "\\caption{}\n",
      "\\begin{center}\n",
      "\\begin{tabular}{lcccc}\n",
      "\\hline\n",
      "                    & Experiment 1 & Experiment 2 & Experiment 3 & Experiment 4  \\\\\n",
      "\\hline\n",
      "\\hline\n",
      "\\end{tabular}\n",
      "\\begin{tabular}{lllll}\n",
      "Const.              & 1.043***     & 1.014***     & 0.392***     & 0.362***      \\\\\n",
      "                    & (0.183)      & (0.173)      & (0.049)      & (0.044)       \\\\\n",
      "Predicted_Conflicts & 1.473        & 8.327***     & 17.409***    & 1015.746***   \\\\\n",
      "                    & (1.235)      & (1.950)      & (5.090)      & (40.768)      \\\\\n",
      "\\hline\n",
      "\\end{tabular}\n",
      "\\end{center}\n",
      "\\end{table}\n"
     ]
    }
   ],
   "source": [
    "print(linear_models.as_latex())"
   ]
  },
  {
   "cell_type": "markdown",
   "metadata": {},
   "source": [
    "# Pretty-Format Logit Models"
   ]
  },
  {
   "cell_type": "code",
   "execution_count": 50,
   "metadata": {
    "collapsed": false
   },
   "outputs": [
    {
     "name": "stderr",
     "output_type": "stream",
     "text": [
      "/Users/dmasad/.virtualenvs/consul/lib/python3.4/site-packages/statsmodels/iolib/summary2.py:372: SettingWithCopyWarning: \n",
      "A value is trying to be set on a copy of a slice from a DataFrame\n",
      "\n",
      "See the the caveats in the documentation: http://pandas.pydata.org/pandas-docs/stable/indexing.html#indexing-view-versus-copy\n",
      "  res.ix[:, 0][idx] = res.ix[:, 0][idx] + '*'\n",
      "/Users/dmasad/.virtualenvs/consul/lib/python3.4/site-packages/statsmodels/iolib/summary2.py:374: SettingWithCopyWarning: \n",
      "A value is trying to be set on a copy of a slice from a DataFrame\n",
      "\n",
      "See the the caveats in the documentation: http://pandas.pydata.org/pandas-docs/stable/indexing.html#indexing-view-versus-copy\n",
      "  res.ix[:, 0][idx] = res.ix[:, 0][idx] + '*'\n",
      "/Users/dmasad/.virtualenvs/consul/lib/python3.4/site-packages/statsmodels/iolib/summary2.py:376: SettingWithCopyWarning: \n",
      "A value is trying to be set on a copy of a slice from a DataFrame\n",
      "\n",
      "See the the caveats in the documentation: http://pandas.pydata.org/pandas-docs/stable/indexing.html#indexing-view-versus-copy\n",
      "  res.ix[:, 0][idx] = res.ix[:, 0][idx] + '*'\n"
     ]
    },
    {
     "name": "stdout",
     "output_type": "stream",
     "text": [
      "\n",
      "=======================================================================\n",
      "                    Experiment 1 Experiment 2 Experiment 3 Experiment 4\n",
      "-----------------------------------------------------------------------\n",
      "Const.              -1.300***    -1.422***    -2.201***    -2.197***   \n",
      "                    (0.101)      (0.111)      (0.067)      (0.066)     \n",
      "Predicted_Conflicts 1.952***     27.658***    19.739***    654.501***  \n",
      "                    (0.622)      (7.190)      (4.556)      (148.758)   \n",
      "=======================================================================\n",
      "Standard errors in parentheses.\n",
      "* p<.1, ** p<.05, ***p<.01\n"
     ]
    }
   ],
   "source": [
    "models = []\n",
    "for i in [1, 2, 3, 4]:\n",
    "    filename = \"transfer/logit_ex_{}.pickle\".format(i)\n",
    "    with open(filename, \"rb\") as f:\n",
    "        models.append(pickle.load(f))\n",
    "\n",
    "logit_models = summary_col(models, float_format=\"%.3f\", stars=True, \n",
    "                           model_names=[\"Experiment {}\".format(i) for i in [1, 2, 3, 4]])\n",
    "print(logit_models)"
   ]
  },
  {
   "cell_type": "code",
   "execution_count": 51,
   "metadata": {
    "collapsed": false
   },
   "outputs": [
    {
     "name": "stdout",
     "output_type": "stream",
     "text": [
      "\\begin{table}\n",
      "\\caption{}\n",
      "\\begin{center}\n",
      "\\begin{tabular}{lcccc}\n",
      "\\hline\n",
      "                    & Experiment 1 & Experiment 2 & Experiment 3 & Experiment 4  \\\\\n",
      "\\hline\n",
      "\\hline\n",
      "\\end{tabular}\n",
      "\\begin{tabular}{lllll}\n",
      "Const.              & -1.300***    & -1.422***    & -2.201***    & -2.197***     \\\\\n",
      "                    & (0.101)      & (0.111)      & (0.067)      & (0.066)       \\\\\n",
      "Predicted_Conflicts & 1.952***     & 27.658***    & 19.739***    & 654.501***    \\\\\n",
      "                    & (0.622)      & (7.190)      & (4.556)      & (148.758)     \\\\\n",
      "\\hline\n",
      "\\end{tabular}\n",
      "\\end{center}\n",
      "\\end{table}\n"
     ]
    }
   ],
   "source": [
    "print(logit_models.as_latex())"
   ]
  },
  {
   "cell_type": "markdown",
   "metadata": {},
   "source": [
    "# Pretty-Formal MNLogit"
   ]
  },
  {
   "cell_type": "code",
   "execution_count": 3,
   "metadata": {
    "collapsed": true
   },
   "outputs": [],
   "source": [
    "models = []\n",
    "for i in [1, 2]:\n",
    "    filename = \"transfer/mn_ex_{}.pickle\".format(i)\n",
    "    with open(filename, \"rb\") as f:\n",
    "        models.append(pickle.load(f))"
   ]
  },
  {
   "cell_type": "code",
   "execution_count": 70,
   "metadata": {
    "collapsed": false
   },
   "outputs": [],
   "source": [
    "with open(\"transfer/mn2_out.csv\", \"w\") as f:\n",
    "    csv_out = models[1].summary().tables[1].as_csv() \n",
    "    f.write(csv_out)"
   ]
  },
  {
   "cell_type": "markdown",
   "metadata": {
    "collapsed": true
   },
   "source": [
    "# Pretty-Formatted Graphs"
   ]
  },
  {
   "cell_type": "code",
   "execution_count": 3,
   "metadata": {
    "collapsed": true
   },
   "outputs": [],
   "source": [
    "params = {\n",
    "    \"font.family\": 'serif',\n",
    "    \"font.serif\": [\"Computer Modern\"],\n",
    "    'text.usetex': True,\n",
    "    'xtick.labelsize': 12,\n",
    "    'ytick.labelsize': 12,\n",
    "    'axes.labelsize': 14\n",
    "\n",
    "   }\n",
    "plt.rcParams.update(params)"
   ]
  },
  {
   "cell_type": "markdown",
   "metadata": {},
   "source": [
    "## COW data correlation plot"
   ]
  },
  {
   "cell_type": "code",
   "execution_count": 3,
   "metadata": {
    "collapsed": true
   },
   "outputs": [],
   "source": [
    "us_position, soviet_positions = pyobjclipboard.paste_object()"
   ]
  },
  {
   "cell_type": "code",
   "execution_count": 8,
   "metadata": {
    "collapsed": false
   },
   "outputs": [
    {
     "data": {
      "image/png": "[encoded data removed]",
      "text/plain": [
       "<matplotlib.figure.Figure at 0x10b36e828>"
      ]
     },
     "metadata": {},
     "output_type": "display_data"
    }
   ],
   "source": [
    "fig, ax = plt.subplots(figsize=(6, 6))\n",
    "ax.scatter(us_position, soviet_positions, color='k')\n",
    "ax.set_xlabel(\"Similarity with United States\")\n",
    "ax.set_ylabel(\"Similarity with Soviet Union\")\n",
    "ax.grid(True)\n",
    "for spine in [\"top\", \"left\", \"right\", \"bottom\"]:\n",
    "    ax.spines[spine].set_visible(False)\n"
   ]
  },
  {
   "cell_type": "code",
   "execution_count": 9,
   "metadata": {
    "collapsed": true
   },
   "outputs": [],
   "source": [
    "PATH = \"/Users/dmasad/Documents/Dissertation/Dissertation/ColdWar/Figures/\"\n",
    "fig.savefig(PATH + \"us_sov_similarities.pdf\")"
   ]
  },
  {
   "cell_type": "markdown",
   "metadata": {},
   "source": [
    "### CDFs"
   ]
  },
  {
   "cell_type": "code",
   "execution_count": null,
   "metadata": {
    "collapsed": false
   },
   "outputs": [],
   "source": [
    "base, cdf_1 = pyobjclipboard.paste_object()\n",
    "cdf_1 = cdf_1 / cdf_1.max()"
   ]
  },
  {
   "cell_type": "code",
   "execution_count": null,
   "metadata": {
    "collapsed": false
   },
   "outputs": [],
   "source": [
    "base_2, cdf_2 = pyobjclipboard.paste_object()\n",
    "cdf_2 = cdf_2 / cdf_2.max()"
   ]
  },
  {
   "cell_type": "code",
   "execution_count": null,
   "metadata": {
    "collapsed": true
   },
   "outputs": [],
   "source": [
    "base_3, cdf_3 = pyobjclipboard.paste_object()\n",
    "cdf_3 = cdf_3 / cdf_3.max()"
   ]
  },
  {
   "cell_type": "code",
   "execution_count": null,
   "metadata": {
    "collapsed": true
   },
   "outputs": [],
   "source": [
    "base_4, cdf_4 = pyobjclipboard.paste_object()\n",
    "cdf_4 = cdf_4 / cdf_4.max()"
   ]
  },
  {
   "cell_type": "code",
   "execution_count": null,
   "metadata": {
    "collapsed": false
   },
   "outputs": [],
   "source": [
    "fig, ax = plt.subplots(figsize=(8, 5))\n",
    "p1, = ax.plot(base[:-1], cdf_1, color='k', lw=2)\n",
    "p2, = ax.plot(base[:-1], cdf_2, color='k', lw=2, ls=\"--\")\n",
    "p3, = ax.plot(base[:-1], cdf_3, color='k', lw=2, ls=\"-.\")\n",
    "p4, = ax.plot(base[:-1], cdf_4, color='k', lw=2, ls=\":\")\n",
    "ax.grid(True)\n",
    "ax.set_xlabel(\"Final median position\")\n",
    "ax.set_ylabel(\"Cumulative probability\")\n",
    "for spine in [\"top\", \"left\", \"right\", \"bottom\"]:\n",
    "    ax.spines[spine].set_visible(False)\n",
    "\n",
    "handlers = [p1, p2, p3, p4]\n",
    "labels = [\"Experiment {}\".format(i) for i in [1, 2, 3, 4]]\n",
    "ax.legend(handlers, labels, loc=4)"
   ]
  },
  {
   "cell_type": "code",
   "execution_count": null,
   "metadata": {
    "collapsed": true
   },
   "outputs": [],
   "source": [
    "PATH = \"/Users/dmasad/Documents/Dissertation/Dissertation/ColdWar/Figures/\"\n",
    "fig.savefig(PATH + \"Model_cdfs.pdf\")"
   ]
  },
  {
   "cell_type": "markdown",
   "metadata": {
    "collapsed": true
   },
   "source": [
    "## All run traces"
   ]
  },
  {
   "cell_type": "code",
   "execution_count": 41,
   "metadata": {
    "collapsed": false
   },
   "outputs": [
    {
     "ename": "KeyboardInterrupt",
     "evalue": "",
     "output_type": "error",
     "traceback": [
      "\u001b[0;31m---------------------------------------------------------------------------\u001b[0m",
      "\u001b[0;31mKeyboardInterrupt\u001b[0m                         Traceback (most recent call last)",
      "\u001b[0;32m<ipython-input-41-b2190b35078c>\u001b[0m in \u001b[0;36m<module>\u001b[0;34m()\u001b[0m\n\u001b[1;32m      2\u001b[0m \u001b[0mfilename\u001b[0m \u001b[0;34m=\u001b[0m \u001b[0;34m\"data_output/ColdWar_Experiment2_1.pickle\"\u001b[0m\u001b[0;34m\u001b[0m\u001b[0m\n\u001b[1;32m      3\u001b[0m \u001b[0;32mwith\u001b[0m \u001b[0mopen\u001b[0m\u001b[0;34m(\u001b[0m\u001b[0mfilename\u001b[0m\u001b[0;34m,\u001b[0m \u001b[0;34m\"rb\"\u001b[0m\u001b[0;34m)\u001b[0m \u001b[0;32mas\u001b[0m \u001b[0mf\u001b[0m\u001b[0;34m:\u001b[0m\u001b[0;34m\u001b[0m\u001b[0m\n\u001b[0;32m----> 4\u001b[0;31m     \u001b[0mmodel_runs\u001b[0m \u001b[0;34m+=\u001b[0m \u001b[0mpickle\u001b[0m\u001b[0;34m.\u001b[0m\u001b[0mload\u001b[0m\u001b[0;34m(\u001b[0m\u001b[0mf\u001b[0m\u001b[0;34m)\u001b[0m\u001b[0;34m\u001b[0m\u001b[0m\n\u001b[0m\u001b[1;32m      5\u001b[0m \u001b[0;34m\u001b[0m\u001b[0m\n\u001b[1;32m      6\u001b[0m \u001b[0mall_dfs\u001b[0m \u001b[0;34m=\u001b[0m \u001b[0;34m[\u001b[0m\u001b[0;34m]\u001b[0m\u001b[0;34m\u001b[0m\u001b[0m\n",
      "\u001b[0;32m<string>\u001b[0m in \u001b[0;36m__new__\u001b[0;34m(_cls, source, target, timestamp, action)\u001b[0m\n",
      "\u001b[0;31mKeyboardInterrupt\u001b[0m: "
     ]
    }
   ],
   "source": [
    "model_runs = []\n",
    "filename = \"data_output/ColdWar_Experiment2_1.pickle\"\n",
    "with open(filename, \"rb\") as f:\n",
    "    model_runs += pickle.load(f)\n",
    "\n",
    "all_dfs = []\n",
    "for i, model in enumerate(model_runs):\n",
    "    df = model.model_vars.copy()\n",
    "    df.reset_index(inplace=True)\n",
    "    df.rename(columns={\"index\": \"Step\"}, inplace=True)\n",
    "    df[\"Iteration\"] = i\n",
    "    all_dfs.append(df)\n",
    "results = pd.concat(all_dfs)"
   ]
  },
  {
   "cell_type": "code",
   "execution_count": null,
   "metadata": {
    "collapsed": false
   },
   "outputs": [],
   "source": [
    "# Plot all runs\n",
    "fig, ax = plt.subplots(figsize=(10, 4))\n",
    "for i, group in results.groupby(\"Iteration\"):\n",
    "    group.plot(x=\"Step\", y=\"Median\", color='k', alpha=0.05, ax=ax, legend=False)\n",
    "\n",
    "ax.set_ylim(0, 1.05)\n",
    "ax.set_ylabel(\"Median position\")\n",
    "\n",
    "ax.grid(True)\n",
    "for spine in [\"top\", \"left\", \"right\", \"bottom\"]:\n",
    "    ax.spines[spine].set_visible(False)"
   ]
  },
  {
   "cell_type": "code",
   "execution_count": null,
   "metadata": {
    "collapsed": true
   },
   "outputs": [],
   "source": [
    "PATH = \"/Users/dmasad/Documents/Dissertation/Dissertation/ColdWar/Figures/\"\n",
    "fig.savefig(PATH + \"Exp3_traces.pdf\")"
   ]
  },
  {
   "cell_type": "markdown",
   "metadata": {
    "collapsed": true
   },
   "source": [
    "## Sample run traces"
   ]
  },
  {
   "cell_type": "code",
   "execution_count": null,
   "metadata": {
    "collapsed": false
   },
   "outputs": [],
   "source": [
    "fig, ax = plt.subplots(figsize=(10, 4))\n",
    "#i = 832 # Experiment 1\n",
    "#i = 954 # Experiment 2\n",
    "i = 463 # Experiment 3\n",
    "#i = 127 # Experiment 4\n",
    "subset = results[results.Iteration==i]\n",
    "p1 = subset.plot(x=\"Step\", y=\"Median\", color='k', lw=2, ls='-', ax=ax, legend=False)\n",
    "p2 = subset.plot(x=\"Step\", y=\"Mean\", color='k', lw=2, ls='--', ax=ax, legend=False)\n",
    "\n",
    "ax.set_ylim(0, 1.05)\n",
    "ax.set_xlabel(\"Step\")\n",
    "ax.set_ylabel(\"Position\")\n",
    "ax.grid(True)\n",
    "for spine in [\"top\", \"left\", \"right\", \"bottom\"]:\n",
    "    ax.spines[spine].set_visible(False)\n",
    "\n",
    "ax.legend( loc=4)"
   ]
  },
  {
   "cell_type": "code",
   "execution_count": null,
   "metadata": {
    "collapsed": true
   },
   "outputs": [],
   "source": [
    "PATH = \"/Users/dmasad/Documents/Dissertation/Dissertation/ColdWar/Figures/\"\n",
    "fig.savefig(PATH + \"Exp3_uswin_trace.pdf\")"
   ]
  },
  {
   "cell_type": "markdown",
   "metadata": {
    "collapsed": true
   },
   "source": [
    "### All Agent Traces"
   ]
  },
  {
   "cell_type": "code",
   "execution_count": 18,
   "metadata": {
    "collapsed": true
   },
   "outputs": [],
   "source": [
    "# Get agent-level data\n",
    "#agent_data = pd.read_csv(\"BDM_ColdWar.csv\")\n",
    "agent_data = pd.read_csv(\"ColdWarActors_1948.csv\")\n",
    "agent_data.set_index(\"Country\", inplace=True)"
   ]
  },
  {
   "cell_type": "code",
   "execution_count": 19,
   "metadata": {
    "collapsed": false
   },
   "outputs": [
    {
     "data": {
      "text/html": [
       "<div>\n",
       "<table border=\"1\" class=\"dataframe\">\n",
       "  <thead>\n",
       "    <tr style=\"text-align: right;\">\n",
       "      <th></th>\n",
       "      <th>Unnamed: 0</th>\n",
       "      <th>Capability</th>\n",
       "      <th>Position</th>\n",
       "    </tr>\n",
       "    <tr>\n",
       "      <th>Country</th>\n",
       "      <th></th>\n",
       "      <th></th>\n",
       "      <th></th>\n",
       "    </tr>\n",
       "  </thead>\n",
       "  <tbody>\n",
       "    <tr>\n",
       "      <th>United States of America</th>\n",
       "      <td>0</td>\n",
       "      <td>0.294660</td>\n",
       "      <td>1.000000e+00</td>\n",
       "    </tr>\n",
       "    <tr>\n",
       "      <th>Russia</th>\n",
       "      <td>1</td>\n",
       "      <td>0.164000</td>\n",
       "      <td>-3.439353e-16</td>\n",
       "    </tr>\n",
       "    <tr>\n",
       "      <th>China</th>\n",
       "      <td>2</td>\n",
       "      <td>0.115055</td>\n",
       "      <td>5.724034e-01</td>\n",
       "    </tr>\n",
       "    <tr>\n",
       "      <th>United Kingdom</th>\n",
       "      <td>3</td>\n",
       "      <td>0.075426</td>\n",
       "      <td>5.368582e-01</td>\n",
       "    </tr>\n",
       "    <tr>\n",
       "      <th>India</th>\n",
       "      <td>4</td>\n",
       "      <td>0.052450</td>\n",
       "      <td>5.632982e-01</td>\n",
       "    </tr>\n",
       "  </tbody>\n",
       "</table>\n",
       "</div>"
      ],
      "text/plain": [
       "                          Unnamed: 0  Capability      Position\n",
       "Country                                                       \n",
       "United States of America           0    0.294660  1.000000e+00\n",
       "Russia                             1    0.164000 -3.439353e-16\n",
       "China                              2    0.115055  5.724034e-01\n",
       "United Kingdom                     3    0.075426  5.368582e-01\n",
       "India                              4    0.052450  5.632982e-01"
      ]
     },
     "execution_count": 19,
     "metadata": {},
     "output_type": "execute_result"
    }
   ],
   "source": [
    "agent_data.head()"
   ]
  },
  {
   "cell_type": "code",
   "execution_count": 23,
   "metadata": {
    "collapsed": false
   },
   "outputs": [],
   "source": [
    "model_runs = []\n",
    "filename = \"data_output/ColdWar_Experiment4_2.pickle\"\n",
    "with open(filename, \"rb\") as f:\n",
    "    model_runs += pickle.load(f)\n",
    "\n",
    "#i = 832 # Experiment 1\n",
    "#i = 954 # Experiment 2\n",
    "#i = 463 # Experiment 3\n",
    "i = 127 # Experiment 4\n",
    "m = model_runs[i]\n",
    "agent_positions = m.agent_vars.copy()\n",
    "agent_positions.reset_index(inplace=True)\n",
    "median_positions = m.model_vars\n",
    "median_positions.reset_index(inplace=True)\n",
    "median_positions.rename(columns={\"index\": \"Step\"}, inplace=True)#"
   ]
  },
  {
   "cell_type": "code",
   "execution_count": 24,
   "metadata": {
    "collapsed": false
   },
   "outputs": [
    {
     "data": {
      "image/png": "[encoded data removed]",
      "text/plain": [
       "<matplotlib.figure.Figure at 0x12b5195f8>"
      ]
     },
     "metadata": {},
     "output_type": "display_data"
    }
   ],
   "source": [
    "fig, ax = plt.subplots(figsize=(10, 4))\n",
    "\n",
    "for i, group in agent_positions.groupby(\"AgentID\"):\n",
    "    c = (agent_data.Capability[i] / agent_data.Capability.max()) * 3\n",
    "    c = max(c, 0.5)\n",
    "    group.plot(x=\"Step\", y=\"Position\", lw=c, c='k', alpha=0.5, ax=ax, legend=False)\n",
    "ax.set_ylim(0, 1.05)\n",
    "\n",
    "median_positions.plot(x=\"Step\", y=\"Median\", c='k', ls='--', \n",
    "                      lw=2, alpha=0.5, ax=ax, legend=False)\n",
    "\n",
    "ax.set_ylabel(\"Position\")\n",
    "ax.grid(True)\n",
    "for spine in [\"top\", \"left\", \"right\", \"bottom\"]:\n",
    "    ax.spines[spine].set_visible(False)\n",
    "\n",
    "handles, labels = ax.get_legend_handles_labels()\n",
    "ax.legend(handles[-2:], [\"Agent Position\", \"Median Position\"], loc=4, fontsize=16)\n",
    "fig.tight_layout()"
   ]
  },
  {
   "cell_type": "code",
   "execution_count": 25,
   "metadata": {
    "collapsed": true
   },
   "outputs": [],
   "source": [
    "PATH = \"/Users/dmasad/Documents/Dissertation/Dissertation/ColdWar/Figures/\"\n",
    "fig.savefig(PATH + \"Exp4_agent_traces.pdf\")"
   ]
  },
  {
   "cell_type": "markdown",
   "metadata": {
    "collapsed": true
   },
   "source": [
    "# Input Tables"
   ]
  },
  {
   "cell_type": "markdown",
   "metadata": {},
   "source": [
    "## Baseline inputs"
   ]
  },
  {
   "cell_type": "code",
   "execution_count": 25,
   "metadata": {
    "collapsed": true
   },
   "outputs": [],
   "source": [
    "table = pd.read_csv(\"BDM_ColdWar.csv\")"
   ]
  },
  {
   "cell_type": "code",
   "execution_count": 5,
   "metadata": {
    "collapsed": false
   },
   "outputs": [
    {
     "data": {
      "text/html": [
       "<div>\n",
       "<table border=\"1\" class=\"dataframe\">\n",
       "  <thead>\n",
       "    <tr style=\"text-align: right;\">\n",
       "      <th></th>\n",
       "      <th>Country</th>\n",
       "      <th>Capability</th>\n",
       "      <th>Position</th>\n",
       "    </tr>\n",
       "  </thead>\n",
       "  <tbody>\n",
       "    <tr>\n",
       "      <th>0</th>\n",
       "      <td>Argentina</td>\n",
       "      <td>0.972</td>\n",
       "      <td>89.6</td>\n",
       "    </tr>\n",
       "    <tr>\n",
       "      <th>1</th>\n",
       "      <td>Australia</td>\n",
       "      <td>0.889</td>\n",
       "      <td>1.3</td>\n",
       "    </tr>\n",
       "    <tr>\n",
       "      <th>2</th>\n",
       "      <td>Belgium</td>\n",
       "      <td>1.182</td>\n",
       "      <td>2.8</td>\n",
       "    </tr>\n",
       "    <tr>\n",
       "      <th>3</th>\n",
       "      <td>Brazil</td>\n",
       "      <td>0.993</td>\n",
       "      <td>89.6</td>\n",
       "    </tr>\n",
       "    <tr>\n",
       "      <th>4</th>\n",
       "      <td>Bulgaria</td>\n",
       "      <td>0.345</td>\n",
       "      <td>-100.0</td>\n",
       "    </tr>\n",
       "  </tbody>\n",
       "</table>\n",
       "</div>"
      ],
      "text/plain": [
       "     Country  Capability  Position\n",
       "0  Argentina       0.972      89.6\n",
       "1  Australia       0.889       1.3\n",
       "2    Belgium       1.182       2.8\n",
       "3     Brazil       0.993      89.6\n",
       "4   Bulgaria       0.345    -100.0"
      ]
     },
     "execution_count": 5,
     "metadata": {},
     "output_type": "execute_result"
    }
   ],
   "source": [
    "table.head()"
   ]
  },
  {
   "cell_type": "code",
   "execution_count": 6,
   "metadata": {
    "collapsed": true
   },
   "outputs": [
    {
     "name": "stdout",
     "output_type": "stream",
     "text": [
      "\\begin{tabular}{lrr}\n",
      "\\toprule\n",
      "        Country &  Capability &  Position \\\\\n",
      "\\midrule\n",
      "      Argentina &       0.972 &      89.6 \\\\\n",
      "      Australia &       0.889 &       1.3 \\\\\n",
      "        Belgium &       1.182 &       2.8 \\\\\n",
      "         Brazil &       0.993 &      89.6 \\\\\n",
      "       Bulgaria &       0.345 &    -100.0 \\\\\n",
      "         Canada &       1.610 &      56.2 \\\\\n",
      "          China &      11.941 &       1.3 \\\\\n",
      " Czechoslovakia &       1.401 &     -91.0 \\\\\n",
      "        Denmark &       0.240 &       1.3 \\\\\n",
      "          Egypt &       0.408 &       3.2 \\\\\n",
      "        England &       7.863 &       3.6 \\\\\n",
      "         France &       3.597 &       2.8 \\\\\n",
      "         Greece &       0.418 &       1.3 \\\\\n",
      "        Hungary &       0.450 &     -91.0 \\\\\n",
      "          India &       2.468 &       1.3 \\\\\n",
      "           Iran &       0.491 &       2.4 \\\\\n",
      "           Iraq &       0.157 &       3.7 \\\\\n",
      "         Israel &       0.125 &       1.3 \\\\\n",
      "          Italy &       2.426 &       1.3 \\\\\n",
      "         Mexico &       0.774 &      89.6 \\\\\n",
      "         Norway &       0.230 &       1.3 \\\\\n",
      "    Netherlands &       0.836 &       2.8 \\\\\n",
      "       Pakistan &       1.485 &       1.3 \\\\\n",
      "    Philippines &       0.408 &       1.3 \\\\\n",
      "         Poland &       3.273 &     -91.0 \\\\\n",
      "        Romania &       0.606 &     -91.0 \\\\\n",
      "   Saudi Arabia &       0.125 &       2.8 \\\\\n",
      "   South Africa &       0.680 &       1.3 \\\\\n",
      "           USSR &      18.256 &    -100.0 \\\\\n",
      "          Spain &       1.683 &       1.3 \\\\\n",
      "         Sweden &       0.648 &       1.3 \\\\\n",
      "          Syria &       0.104 &       2.8 \\\\\n",
      "       Thailand &       0.414 &       1.3 \\\\\n",
      "         Turkey &       1.347 &       2.4 \\\\\n",
      "            USA &      29.956 &     100.0 \\\\\n",
      "     Yugoslavia &       0.891 &    -100.0 \\\\\n",
      "\\bottomrule\n",
      "\\end{tabular}\n",
      "\n"
     ]
    }
   ],
   "source": [
    "print(table.to_latex(index=False))"
   ]
  },
  {
   "cell_type": "code",
   "execution_count": 26,
   "metadata": {
    "collapsed": false
   },
   "outputs": [],
   "source": [
    "# Rescale\n",
    "table.Position = (table.Position + 100) / (200)"
   ]
  },
  {
   "cell_type": "code",
   "execution_count": 12,
   "metadata": {
    "collapsed": false
   },
   "outputs": [
    {
     "data": {
      "text/html": [
       "<div>\n",
       "<table border=\"1\" class=\"dataframe\">\n",
       "  <thead>\n",
       "    <tr style=\"text-align: right;\">\n",
       "      <th></th>\n",
       "      <th>Country</th>\n",
       "      <th>Capability</th>\n",
       "      <th>Position</th>\n",
       "    </tr>\n",
       "  </thead>\n",
       "  <tbody>\n",
       "    <tr>\n",
       "      <th>0</th>\n",
       "      <td>Argentina</td>\n",
       "      <td>0.972</td>\n",
       "      <td>0.9480</td>\n",
       "    </tr>\n",
       "    <tr>\n",
       "      <th>1</th>\n",
       "      <td>Australia</td>\n",
       "      <td>0.889</td>\n",
       "      <td>0.5065</td>\n",
       "    </tr>\n",
       "    <tr>\n",
       "      <th>2</th>\n",
       "      <td>Belgium</td>\n",
       "      <td>1.182</td>\n",
       "      <td>0.5140</td>\n",
       "    </tr>\n",
       "    <tr>\n",
       "      <th>3</th>\n",
       "      <td>Brazil</td>\n",
       "      <td>0.993</td>\n",
       "      <td>0.9480</td>\n",
       "    </tr>\n",
       "    <tr>\n",
       "      <th>4</th>\n",
       "      <td>Bulgaria</td>\n",
       "      <td>0.345</td>\n",
       "      <td>0.0000</td>\n",
       "    </tr>\n",
       "  </tbody>\n",
       "</table>\n",
       "</div>"
      ],
      "text/plain": [
       "     Country  Capability  Position\n",
       "0  Argentina       0.972    0.9480\n",
       "1  Australia       0.889    0.5065\n",
       "2    Belgium       1.182    0.5140\n",
       "3     Brazil       0.993    0.9480\n",
       "4   Bulgaria       0.345    0.0000"
      ]
     },
     "execution_count": 12,
     "metadata": {},
     "output_type": "execute_result"
    }
   ],
   "source": [
    "table.head()"
   ]
  },
  {
   "cell_type": "code",
   "execution_count": 28,
   "metadata": {
    "collapsed": false
   },
   "outputs": [
    {
     "data": {
      "image/png": "[encoded data removed]",
      "text/plain": [
       "<matplotlib.figure.Figure at 0x10be63a90>"
      ]
     },
     "metadata": {},
     "output_type": "display_data"
    }
   ],
   "source": [
    "fig, ax = plt.subplots(figsize=(6, 4))\n",
    "\n",
    "table.Position.hist(ax=ax, color='grey', bins = np.linspace(0,1,21),\n",
    "                    weights=table.Capability)\n",
    "ax.set_xlabel(\"Position\")\n",
    "ax.set_ylabel(\"Total Capability\")\n",
    "fig.tight_layout()"
   ]
  },
  {
   "cell_type": "code",
   "execution_count": 29,
   "metadata": {
    "collapsed": true
   },
   "outputs": [],
   "source": [
    "PATH = \"/Users/dmasad/Documents/Dissertation/Dissertation/ColdWar/Figures/\"\n",
    "fig.savefig(PATH + \"Original_Inputs_hist.pdf\")"
   ]
  },
  {
   "cell_type": "markdown",
   "metadata": {},
   "source": [
    "## Updated inputs"
   ]
  },
  {
   "cell_type": "code",
   "execution_count": 30,
   "metadata": {
    "collapsed": false
   },
   "outputs": [],
   "source": [
    "table = pd.read_csv(\"ColdWarActors_1948.csv\")\n",
    "table = table[[\"Country\", \"Capability\", \"Position\"]]"
   ]
  },
  {
   "cell_type": "code",
   "execution_count": 31,
   "metadata": {
    "collapsed": false
   },
   "outputs": [],
   "source": [
    "table.Position = table.Position.round(decimals=2)"
   ]
  },
  {
   "cell_type": "code",
   "execution_count": 20,
   "metadata": {
    "collapsed": true
   },
   "outputs": [],
   "source": [
    "table.sort(\"Country\", inplace=True)"
   ]
  },
  {
   "cell_type": "code",
   "execution_count": 21,
   "metadata": {
    "collapsed": true
   },
   "outputs": [
    {
     "name": "stdout",
     "output_type": "stream",
     "text": [
      "\\begin{tabular}{lrr}\n",
      "\\toprule\n",
      "                  Country &  Capability &  Position \\\\\n",
      "\\midrule\n",
      "              Afghanistan &    0.002334 &      0.58 \\\\\n",
      "                  Albania &    0.000861 &      0.36 \\\\\n",
      "                Argentina &    0.008271 &      0.98 \\\\\n",
      "                Australia &    0.008334 &      0.57 \\\\\n",
      "                  Belgium &    0.010908 &      0.42 \\\\\n",
      "                  Bolivia &    0.000609 &      0.98 \\\\\n",
      "                   Brazil &    0.012193 &      0.98 \\\\\n",
      "                 Bulgaria &    0.003111 &      0.42 \\\\\n",
      "                   Canada &    0.012593 &      0.56 \\\\\n",
      "                    Chile &    0.002053 &      0.98 \\\\\n",
      "                    China &    0.115055 &      0.57 \\\\\n",
      "                 Colombia &    0.002628 &      0.98 \\\\\n",
      "               Costa Rica &    0.000089 &      0.98 \\\\\n",
      "                     Cuba &    0.001736 &      0.98 \\\\\n",
      "           Czechoslovakia &    0.012601 &      0.34 \\\\\n",
      "                  Denmark &    0.002057 &      0.56 \\\\\n",
      "       Dominican Republic &    0.000568 &      0.98 \\\\\n",
      "                  Ecuador &    0.000885 &      0.98 \\\\\n",
      "                    Egypt &    0.005393 &      0.52 \\\\\n",
      "              El Salvador &    0.000285 &      0.98 \\\\\n",
      "                 Ethiopia &    0.002259 &      0.56 \\\\\n",
      "                  Finland &    0.001916 &      0.57 \\\\\n",
      "                   France &    0.032589 &      0.51 \\\\\n",
      "                   Greece &    0.003573 &      0.56 \\\\\n",
      "                Guatemala &    0.000669 &      0.98 \\\\\n",
      "                    Haiti &    0.000409 &      0.98 \\\\\n",
      "                 Honduras &    0.000164 &      0.98 \\\\\n",
      "                  Hungary &    0.004157 &      0.30 \\\\\n",
      "                  Iceland &    0.000013 &      0.56 \\\\\n",
      "                    India &    0.052450 &      0.56 \\\\\n",
      "                     Iran &    0.004268 &      0.51 \\\\\n",
      "                     Iraq &    0.001297 &      0.49 \\\\\n",
      "                  Ireland &    0.000957 &      0.56 \\\\\n",
      "                   Israel &    0.001414 &      0.56 \\\\\n",
      "                    Italy &    0.019262 &      0.56 \\\\\n",
      "                   Jordan &    0.000219 &      0.52 \\\\\n",
      "                  Lebanon &    0.000321 &      0.59 \\\\\n",
      "                  Liberia &    0.000140 &      0.56 \\\\\n",
      "               Luxembourg &    0.002950 &      0.42 \\\\\n",
      "                   Mexico &    0.006610 &      0.98 \\\\\n",
      "                 Mongolia &    0.000363 &      0.57 \\\\\n",
      "                  Myanmar &    0.002286 &      0.56 \\\\\n",
      "                    Nepal &    0.001062 &      0.56 \\\\\n",
      "              Netherlands &    0.008319 &      0.42 \\\\\n",
      "              New Zealand &    0.000876 &      0.57 \\\\\n",
      "                Nicaragua &    0.000143 &      0.98 \\\\\n",
      "              North Korea &    0.003613 &      0.56 \\\\\n",
      "                   Norway &    0.001581 &      0.56 \\\\\n",
      "                 Pakistan &    0.011802 &      0.56 \\\\\n",
      "                   Panama &    0.000078 &      0.98 \\\\\n",
      "                 Paraguay &    0.000418 &      0.98 \\\\\n",
      "                     Peru &    0.001740 &      0.98 \\\\\n",
      "              Philippines &    0.003316 &      0.56 \\\\\n",
      "                   Poland &    0.029854 &      0.30 \\\\\n",
      "                 Portugal &    0.002626 &      0.46 \\\\\n",
      "                  Romania &    0.005489 &      0.34 \\\\\n",
      "                   Russia &    0.164000 &     -0.00 \\\\\n",
      "             Saudi Arabia &    0.001129 &      0.59 \\\\\n",
      "             South Africa &    0.005224 &      0.56 \\\\\n",
      "                    Spain &    0.014860 &      0.57 \\\\\n",
      "                Sri Lanka &    0.000877 &      0.56 \\\\\n",
      "                   Sweden &    0.005983 &      0.56 \\\\\n",
      "              Switzerland &    0.001968 &      0.56 \\\\\n",
      "                    Syria &    0.000855 &      0.59 \\\\\n",
      "                 Thailand &    0.003388 &      0.56 \\\\\n",
      "                   Turkey &    0.011723 &      0.51 \\\\\n",
      "           United Kingdom &    0.075426 &      0.54 \\\\\n",
      " United States of America &    0.294660 &      1.00 \\\\\n",
      "                  Uruguay &    0.000819 &      0.98 \\\\\n",
      "                Venezuela &    0.001344 &      0.98 \\\\\n",
      "      Yemen Arab Republic &    0.000574 &      0.59 \\\\\n",
      "               Yugoslavia &    0.008017 &      0.32 \\\\\n",
      "\\bottomrule\n",
      "\\end{tabular}\n",
      "\n"
     ]
    }
   ],
   "source": [
    "print(table.to_latex(index=False))"
   ]
  },
  {
   "cell_type": "code",
   "execution_count": 22,
   "metadata": {
    "collapsed": true
   },
   "outputs": [],
   "source": [
    "with open(\"transfer/new_actors.csv\", \"w\") as f:\n",
    "    f.write(table.to_csv())"
   ]
  },
  {
   "cell_type": "code",
   "execution_count": 32,
   "metadata": {
    "collapsed": true
   },
   "outputs": [],
   "source": [
    "table.Capability = (100/table.Capability.sum())*table.Capability"
   ]
  },
  {
   "cell_type": "code",
   "execution_count": 34,
   "metadata": {
    "collapsed": false
   },
   "outputs": [
    {
     "data": {
      "image/png": "[encoded data removed]",
      "text/plain": [
       "<matplotlib.figure.Figure at 0x10d01ceb8>"
      ]
     },
     "metadata": {},
     "output_type": "display_data"
    }
   ],
   "source": [
    "fig, ax = plt.subplots(figsize=(6, 4))\n",
    "\n",
    "table.Position.hist(ax=ax, color='grey', bins = np.linspace(0,1,21),\n",
    "                    weights=table.Capability)\n",
    "ax.set_xlabel(\"Position\")\n",
    "ax.set_ylabel(\"Total Capability\")\n",
    "fig.tight_layout()"
   ]
  },
  {
   "cell_type": "code",
   "execution_count": 35,
   "metadata": {
    "collapsed": true
   },
   "outputs": [],
   "source": [
    "PATH = \"/Users/dmasad/Documents/Dissertation/Dissertation/ColdWar/Figures/\"\n",
    "fig.savefig(PATH + \"Updated_Inputs_hist.pdf\")"
   ]
  },
  {
   "cell_type": "code",
   "execution_count": null,
   "metadata": {
    "collapsed": true
   },
   "outputs": [],
   "source": []
  }
 ],
 "metadata": {
  "kernelspec": {
   "display_name": "Python 3",
   "language": "python",
   "name": "python3"
  },
  "language_info": {
   "codemirror_mode": {
    "name": "ipython",
    "version": 3
   },
   "file_extension": ".py",
   "mimetype": "text/x-python",
   "name": "python",
   "nbconvert_exporter": "python",
   "pygments_lexer": "ipython3",
   "version": "3.4.2"
  }
 },
 "nbformat": 4,
 "nbformat_minor": 0
}
