{
 "cells": [
  {
   "cell_type": "markdown",
   "metadata": {},
   "source": [
    "# Cold War Simulation\n",
    "\n",
    "In *Predicting Politics*, BDM applies the model to forecasting the course of the Cold War, starting from 1948. Here, I will try to replicate this experiment."
   ]
  },
  {
   "cell_type": "code",
   "execution_count": 1,
   "metadata": {
    "collapsed": true
   },
   "outputs": [],
   "source": [
    "import copy\n",
    "from collections import defaultdict, namedtuple, Counter\n",
    "from itertools import combinations\n",
    "\n",
    "\n",
    "import numpy as np\n",
    "import scipy.stats\n",
    "\n",
    "import pandas as pd\n",
    "import networkx as nx\n",
    "\n",
    "import matplotlib.pyplot as plt\n",
    "%matplotlib inline"
   ]
  },
  {
   "cell_type": "code",
   "execution_count": 2,
   "metadata": {
    "collapsed": true
   },
   "outputs": [],
   "source": [
    "from negotiation_model import *\n",
    "from bdm_agent import *\n",
    "\n",
    "from bdm_replication import *\n"
   ]
  },
  {
   "cell_type": "markdown",
   "metadata": {},
   "source": [
    "# Data serialization"
   ]
  },
  {
   "cell_type": "code",
   "execution_count": 23,
   "metadata": {
    "collapsed": true
   },
   "outputs": [],
   "source": [
    "class Model_Output:\n",
    "    def __init__(self, model):\n",
    "        '''\n",
    "        Store data from model run.\n",
    "        '''\n",
    "        self.agent_vars = model.datacollector.get_agent_vars_dataframe()\n",
    "        self.model_vars = model.datacollector.get_model_vars_dataframe()\n",
    "        self.log = model.log"
   ]
  },
  {
   "cell_type": "markdown",
   "metadata": {},
   "source": [
    "# Using Original Data"
   ]
  },
  {
   "cell_type": "code",
   "execution_count": 3,
   "metadata": {
    "collapsed": true
   },
   "outputs": [],
   "source": [
    "book_data = pd.read_csv(\"BDM_ColdWar.csv\")"
   ]
  },
  {
   "cell_type": "code",
   "execution_count": 53,
   "metadata": {
    "collapsed": false
   },
   "outputs": [
    {
     "data": {
      "text/html": [
       "<div>\n",
       "<table border=\"1\" class=\"dataframe\">\n",
       "  <thead>\n",
       "    <tr style=\"text-align: right;\">\n",
       "      <th></th>\n",
       "      <th>Country</th>\n",
       "      <th>Capability</th>\n",
       "      <th>Position</th>\n",
       "    </tr>\n",
       "  </thead>\n",
       "  <tbody>\n",
       "    <tr>\n",
       "      <th>0</th>\n",
       "      <td>Argentina</td>\n",
       "      <td>0.972</td>\n",
       "      <td>0.9480</td>\n",
       "    </tr>\n",
       "    <tr>\n",
       "      <th>1</th>\n",
       "      <td>Australia</td>\n",
       "      <td>0.889</td>\n",
       "      <td>0.5065</td>\n",
       "    </tr>\n",
       "    <tr>\n",
       "      <th>2</th>\n",
       "      <td>Belgium</td>\n",
       "      <td>1.182</td>\n",
       "      <td>0.5140</td>\n",
       "    </tr>\n",
       "    <tr>\n",
       "      <th>3</th>\n",
       "      <td>Brazil</td>\n",
       "      <td>0.993</td>\n",
       "      <td>0.9480</td>\n",
       "    </tr>\n",
       "    <tr>\n",
       "      <th>4</th>\n",
       "      <td>Bulgaria</td>\n",
       "      <td>0.345</td>\n",
       "      <td>0.0000</td>\n",
       "    </tr>\n",
       "  </tbody>\n",
       "</table>\n",
       "</div>"
      ],
      "text/plain": [
       "     Country  Capability  Position\n",
       "0  Argentina       0.972    0.9480\n",
       "1  Australia       0.889    0.5065\n",
       "2    Belgium       1.182    0.5140\n",
       "3     Brazil       0.993    0.9480\n",
       "4   Bulgaria       0.345    0.0000"
      ]
     },
     "execution_count": 53,
     "metadata": {},
     "output_type": "execute_result"
    }
   ],
   "source": [
    "book_data.head()"
   ]
  },
  {
   "cell_type": "code",
   "execution_count": 5,
   "metadata": {
    "collapsed": false
   },
   "outputs": [],
   "source": [
    "# Normalize\n",
    "book_data.Position = (book_data.Position + 100)/200"
   ]
  },
  {
   "cell_type": "code",
   "execution_count": 6,
   "metadata": {
    "collapsed": false
   },
   "outputs": [
    {
     "data": {
      "text/plain": [
       "<matplotlib.axes._subplots.AxesSubplot at 0x10b19cbe0>"
      ]
     },
     "execution_count": 6,
     "metadata": {},
     "output_type": "execute_result"
    },
    {
     "data": {
      "image/png": "[encoded data removed]",
      "text/plain": [
       "<matplotlib.figure.Figure at 0x10b19c710>"
      ]
     },
     "metadata": {},
     "output_type": "display_data"
    }
   ],
   "source": [
    "book_data.Position.hist()"
   ]
  },
  {
   "cell_type": "code",
   "execution_count": 7,
   "metadata": {
    "collapsed": true
   },
   "outputs": [],
   "source": [
    "agents = []\n",
    "for i, row in book_data.iterrows():\n",
    "    new_agent = BDMActor(row.Country, row.Capability, row.Position, 1)\n",
    "    agents.append(new_agent)\n",
    "\n",
    "model = Real_Negotiation_Model(agents)"
   ]
  },
  {
   "cell_type": "code",
   "execution_count": 8,
   "metadata": {
    "collapsed": false
   },
   "outputs": [
    {
     "data": {
      "text/plain": [
       "(0, 1)"
      ]
     },
     "execution_count": 8,
     "metadata": {},
     "output_type": "execute_result"
    },
    {
     "data": {
      "image/png": "[encoded data removed]",
      "text/plain": [
       "<matplotlib.figure.Figure at 0x10b19c7f0>"
      ]
     },
     "metadata": {},
     "output_type": "display_data"
    }
   ],
   "source": [
    "p_shock = 1\n",
    "\n",
    "for i in range(25):\n",
    "    model.step()\n",
    "    for agent in model.agents:\n",
    "        if random.random() < p_shock:\n",
    "            agent.salience = random.random()\n",
    "\n",
    "df = model.datacollector.get_model_vars_dataframe()\n",
    "fig, ax = plt.subplots(figsize=(12,4))\n",
    "df.plot(ax=ax)\n",
    "ax.set_ylim(0, 1)"
   ]
  },
  {
   "cell_type": "code",
   "execution_count": 11,
   "metadata": {
    "collapsed": false
   },
   "outputs": [
    {
     "data": {
      "text/plain": [
       "<matplotlib.axes._subplots.AxesSubplot at 0x10b4fad30>"
      ]
     },
     "execution_count": 11,
     "metadata": {},
     "output_type": "execute_result"
    },
    {
     "data": {
      "image/png": "[encoded data removed]",
      "text/plain": [
       "<matplotlib.figure.Figure at 0x10b546470>"
      ]
     },
     "metadata": {},
     "output_type": "display_data"
    }
   ],
   "source": [
    "model.datacollector.get_agent_vars_dataframe().xs(\"Canada\", level=\"AgentID\").plot()"
   ]
  },
  {
   "cell_type": "code",
   "execution_count": 12,
   "metadata": {
    "collapsed": false
   },
   "outputs": [
    {
     "data": {
      "text/plain": [
       "USA                 \tPosition: 0.95\tCapability: 29.96\tSalience: 0.09"
      ]
     },
     "execution_count": 12,
     "metadata": {},
     "output_type": "execute_result"
    }
   ],
   "source": [
    "model.agent_names[\"USA\"]"
   ]
  },
  {
   "cell_type": "code",
   "execution_count": 13,
   "metadata": {
    "collapsed": false
   },
   "outputs": [
    {
     "data": {
      "text/plain": [
       "['USA conflict with Argentina',\n",
       " 'USA conflict with Argentina',\n",
       " 'USA conflict with Syria',\n",
       " 'USA conflict with Philippines',\n",
       " 'USA conflict with Philippines',\n",
       " 'USA conflict with Saudi Arabia',\n",
       " 'USA conflict with India',\n",
       " 'USA conflict with Italy',\n",
       " 'USA conflict with Belgium',\n",
       " 'USA conflict with India',\n",
       " 'USA conflict with Thailand',\n",
       " 'USA conflict with Canada',\n",
       " 'USA conflict with England',\n",
       " 'USA conflict with Netherlands',\n",
       " 'USA conflict with Australia',\n",
       " 'USA conflict with Greece',\n",
       " 'USA conflict with Saudi Arabia',\n",
       " 'USA conflict with Sweden',\n",
       " 'USA conflict with Norway',\n",
       " 'USA conflict with Syria',\n",
       " 'USA conflict with Denmark',\n",
       " 'USA conflict with Turkey',\n",
       " 'USA conflict with Australia',\n",
       " 'USA conflict with Iraq']"
      ]
     },
     "execution_count": 13,
     "metadata": {},
     "output_type": "execute_result"
    }
   ],
   "source": [
    "usa = model.agent_names[\"USA\"]\n",
    "usa.decision_model.action_log"
   ]
  },
  {
   "cell_type": "markdown",
   "metadata": {},
   "source": [
    "## Original Data Batch Run"
   ]
  },
  {
   "cell_type": "code",
   "execution_count": 12,
   "metadata": {
    "collapsed": false
   },
   "outputs": [],
   "source": [
    "agents = []\n",
    "for i, row in book_data.iterrows():\n",
    "    new_agent = BDMActor(row.Country, row.Capability, row.Position, 1)\n",
    "    new_agent.decision_model.Q = 0.5\n",
    "    new_agent.decision_model.T = 0.5\n",
    "    #new_agent.decision_model.T = 1\n",
    "    agents.append(new_agent)"
   ]
  },
  {
   "cell_type": "code",
   "execution_count": 13,
   "metadata": {
    "collapsed": false
   },
   "outputs": [
    {
     "name": "stdout",
     "output_type": "stream",
     "text": [
      "0\n",
      "1\n",
      "2\n",
      "3\n",
      "4\n",
      "5\n",
      "6\n",
      "7\n",
      "8\n",
      "9\n"
     ]
    }
   ],
   "source": [
    "all_models = []\n",
    "for i in range(10):\n",
    "    model = Real_Negotiation_Model(copy.deepcopy(agents))\n",
    "    for _ in range(25):\n",
    "        for agent in model.agents:\n",
    "            agent.salience = random.random()\n",
    "        model.step()\n",
    "    all_models.append(model)\n",
    "    if i % 1 == 0:\n",
    "        print(i)"
   ]
  },
  {
   "cell_type": "code",
   "execution_count": 18,
   "metadata": {
    "collapsed": false
   },
   "outputs": [],
   "source": [
    "import pickle"
   ]
  },
  {
   "cell_type": "code",
   "execution_count": 24,
   "metadata": {
    "collapsed": false
   },
   "outputs": [],
   "source": [
    "all_model_out = [Model_Output(m) for m in all_models]"
   ]
  },
  {
   "cell_type": "code",
   "execution_count": 26,
   "metadata": {
    "collapsed": false
   },
   "outputs": [],
   "source": [
    "with open(\"Model_Dump.pickle\", \"wb\") as f:\n",
    "    pickle.dump(all_model_out, f)"
   ]
  },
  {
   "cell_type": "code",
   "execution_count": 28,
   "metadata": {
    "collapsed": false
   },
   "outputs": [],
   "source": [
    "with open(\"Model_Dump.pickle\", \"rb\") as f:\n",
    "    model_data = pickle.load(f)"
   ]
  },
  {
   "cell_type": "code",
   "execution_count": 31,
   "metadata": {
    "collapsed": true
   },
   "outputs": [],
   "source": [
    "all_dfs = []\n",
    "for i, model in enumerate(model_data):\n",
    "    df = model.model_vars\n",
    "    df.reset_index(inplace=True)\n",
    "    df.rename(columns={\"index\": \"Step\"}, inplace=True)\n",
    "    df[\"Iteration\"] = i\n",
    "    all_dfs.append(df)"
   ]
  },
  {
   "cell_type": "code",
   "execution_count": 16,
   "metadata": {
    "collapsed": false
   },
   "outputs": [],
   "source": [
    "all_dfs = []\n",
    "for i, model in enumerate(all_models):\n",
    "    df = model.datacollector.get_model_vars_dataframe()\n",
    "    df.reset_index(inplace=True)\n",
    "    df.rename(columns={\"index\": \"Step\"}, inplace=True)\n",
    "    df[\"Iteration\"] = i\n",
    "    all_dfs.append(df)"
   ]
  },
  {
   "cell_type": "code",
   "execution_count": 32,
   "metadata": {
    "collapsed": true
   },
   "outputs": [],
   "source": [
    "results = pd.concat(all_dfs)"
   ]
  },
  {
   "cell_type": "code",
   "execution_count": 33,
   "metadata": {
    "collapsed": false
   },
   "outputs": [],
   "source": [
    "results.rename(columns={\"index\": \"Step\"}, inplace=True)"
   ]
  },
  {
   "cell_type": "code",
   "execution_count": 34,
   "metadata": {
    "collapsed": false
   },
   "outputs": [
    {
     "data": {
      "text/html": [
       "<div>\n",
       "<table border=\"1\" class=\"dataframe\">\n",
       "  <thead>\n",
       "    <tr style=\"text-align: right;\">\n",
       "      <th></th>\n",
       "      <th>Step</th>\n",
       "      <th>Mean</th>\n",
       "      <th>Median</th>\n",
       "      <th>Iteration</th>\n",
       "    </tr>\n",
       "  </thead>\n",
       "  <tbody>\n",
       "    <tr>\n",
       "      <th>0</th>\n",
       "      <td>0</td>\n",
       "      <td>0.513046</td>\n",
       "      <td>0.5065</td>\n",
       "      <td>0</td>\n",
       "    </tr>\n",
       "    <tr>\n",
       "      <th>1</th>\n",
       "      <td>1</td>\n",
       "      <td>0.598795</td>\n",
       "      <td>0.5160</td>\n",
       "      <td>0</td>\n",
       "    </tr>\n",
       "    <tr>\n",
       "      <th>2</th>\n",
       "      <td>2</td>\n",
       "      <td>0.556596</td>\n",
       "      <td>0.5140</td>\n",
       "      <td>0</td>\n",
       "    </tr>\n",
       "    <tr>\n",
       "      <th>3</th>\n",
       "      <td>3</td>\n",
       "      <td>0.511794</td>\n",
       "      <td>0.5065</td>\n",
       "      <td>0</td>\n",
       "    </tr>\n",
       "    <tr>\n",
       "      <th>4</th>\n",
       "      <td>4</td>\n",
       "      <td>0.711166</td>\n",
       "      <td>1.0000</td>\n",
       "      <td>0</td>\n",
       "    </tr>\n",
       "  </tbody>\n",
       "</table>\n",
       "</div>"
      ],
      "text/plain": [
       "   Step      Mean  Median  Iteration\n",
       "0     0  0.513046  0.5065          0\n",
       "1     1  0.598795  0.5160          0\n",
       "2     2  0.556596  0.5140          0\n",
       "3     3  0.511794  0.5065          0\n",
       "4     4  0.711166  1.0000          0"
      ]
     },
     "execution_count": 34,
     "metadata": {},
     "output_type": "execute_result"
    }
   ],
   "source": [
    "results.head()"
   ]
  },
  {
   "cell_type": "code",
   "execution_count": 35,
   "metadata": {
    "collapsed": false
   },
   "outputs": [
    {
     "data": {
      "image/png": "[encoded data removed]",
      "text/plain": [
       "<matplotlib.figure.Figure at 0x10cef92b0>"
      ]
     },
     "metadata": {},
     "output_type": "display_data"
    }
   ],
   "source": [
    "fig, ax = plt.subplots(figsize=(10, 4))\n",
    "for i, group in results.groupby(\"Iteration\"):\n",
    "    group.plot(x=\"Step\", y=\"Median\", color='k', alpha=0.2, ax=ax, legend=False)\n",
    "\n",
    "ax.set_ylim(0, 1.05)\n",
    "ax.grid(True)"
   ]
  },
  {
   "cell_type": "code",
   "execution_count": 36,
   "metadata": {
    "collapsed": false
   },
   "outputs": [
    {
     "data": {
      "text/plain": [
       "<matplotlib.axes._subplots.AxesSubplot at 0x10db7ad30>"
      ]
     },
     "execution_count": 36,
     "metadata": {},
     "output_type": "execute_result"
    },
    {
     "data": {
      "image/png": "[encoded data removed]",
      "text/plain": [
       "<matplotlib.figure.Figure at 0x1115efac8>"
      ]
     },
     "metadata": {},
     "output_type": "display_data"
    }
   ],
   "source": [
    "results[results.Step==24][\"Median\"].hist()"
   ]
  },
  {
   "cell_type": "code",
   "execution_count": 37,
   "metadata": {
    "collapsed": false
   },
   "outputs": [
    {
     "data": {
      "text/plain": [
       "[<matplotlib.lines.Line2D at 0x110261eb8>]"
      ]
     },
     "execution_count": 37,
     "metadata": {},
     "output_type": "execute_result"
    },
    {
     "data": {
      "image/png": "[encoded data removed]",
      "text/plain": [
       "<matplotlib.figure.Figure at 0x1111a7d68>"
      ]
     },
     "metadata": {},
     "output_type": "display_data"
    }
   ],
   "source": [
    "values, base = np.histogram(results[results.Step==24][\"Median\"], bins=np.linspace(0,1,51))\n",
    "cdf = np.cumsum(values)\n",
    "plt.plot(base[:-1], cdf)"
   ]
  },
  {
   "cell_type": "code",
   "execution_count": 23,
   "metadata": {
    "collapsed": true
   },
   "outputs": [],
   "source": [
    "m = all_models[7]"
   ]
  },
  {
   "cell_type": "code",
   "execution_count": 25,
   "metadata": {
    "collapsed": false
   },
   "outputs": [
    {
     "data": {
      "text/plain": [
       "{}"
      ]
     },
     "execution_count": 25,
     "metadata": {},
     "output_type": "execute_result"
    }
   ],
   "source": [
    "m.datacollector.agent_vars"
   ]
  },
  {
   "cell_type": "code",
   "execution_count": 24,
   "metadata": {
    "collapsed": false
   },
   "outputs": [
    {
     "ename": "ValueError",
     "evalue": "Length of new names must be 1, got 2",
     "output_type": "error",
     "traceback": [
      "\u001b[0;31m---------------------------------------------------------------------------\u001b[0m",
      "\u001b[0;31mValueError\u001b[0m                                Traceback (most recent call last)",
      "\u001b[0;32m<ipython-input-24-ed0c349c2950>\u001b[0m in \u001b[0;36m<module>\u001b[0;34m()\u001b[0m\n\u001b[0;32m----> 1\u001b[0;31m \u001b[0mm\u001b[0m\u001b[0;34m.\u001b[0m\u001b[0mdatacollector\u001b[0m\u001b[0;34m.\u001b[0m\u001b[0mget_agent_vars_dataframe\u001b[0m\u001b[0;34m(\u001b[0m\u001b[0;34m)\u001b[0m\u001b[0;34m\u001b[0m\u001b[0m\n\u001b[0m",
      "\u001b[0;32m/Users/dmasad/.virtualenvs/consul/lib/python3.4/site-packages/mesa/datacollection.py\u001b[0m in \u001b[0;36mget_agent_vars_dataframe\u001b[0;34m(self)\u001b[0m\n\u001b[1;32m    187\u001b[0m                     \u001b[0mdata\u001b[0m\u001b[0;34m[\u001b[0m\u001b[0;34m(\u001b[0m\u001b[0mstep\u001b[0m\u001b[0;34m,\u001b[0m \u001b[0magent_id\u001b[0m\u001b[0;34m)\u001b[0m\u001b[0;34m]\u001b[0m\u001b[0;34m[\u001b[0m\u001b[0mvar\u001b[0m\u001b[0;34m]\u001b[0m \u001b[0;34m=\u001b[0m \u001b[0mval\u001b[0m\u001b[0;34m\u001b[0m\u001b[0m\n\u001b[1;32m    188\u001b[0m         \u001b[0mdf\u001b[0m \u001b[0;34m=\u001b[0m \u001b[0mpd\u001b[0m\u001b[0;34m.\u001b[0m\u001b[0mDataFrame\u001b[0m\u001b[0;34m.\u001b[0m\u001b[0mfrom_dict\u001b[0m\u001b[0;34m(\u001b[0m\u001b[0mdata\u001b[0m\u001b[0;34m,\u001b[0m \u001b[0morient\u001b[0m\u001b[0;34m=\u001b[0m\u001b[0;34m\"index\"\u001b[0m\u001b[0;34m)\u001b[0m\u001b[0;34m\u001b[0m\u001b[0m\n\u001b[0;32m--> 189\u001b[0;31m         \u001b[0mdf\u001b[0m\u001b[0;34m.\u001b[0m\u001b[0mindex\u001b[0m\u001b[0;34m.\u001b[0m\u001b[0mnames\u001b[0m \u001b[0;34m=\u001b[0m \u001b[0;34m[\u001b[0m\u001b[0;34m\"Step\"\u001b[0m\u001b[0;34m,\u001b[0m \u001b[0;34m\"AgentID\"\u001b[0m\u001b[0;34m]\u001b[0m\u001b[0;34m\u001b[0m\u001b[0m\n\u001b[0m\u001b[1;32m    190\u001b[0m         \u001b[0;32mreturn\u001b[0m \u001b[0mdf\u001b[0m\u001b[0;34m\u001b[0m\u001b[0m\n\u001b[1;32m    191\u001b[0m \u001b[0;34m\u001b[0m\u001b[0m\n",
      "\u001b[0;32m/Users/dmasad/.virtualenvs/consul/lib/python3.4/site-packages/pandas/core/index.py\u001b[0m in \u001b[0;36m_set_names\u001b[0;34m(self, values, level)\u001b[0m\n\u001b[1;32m    603\u001b[0m         \u001b[0;32mif\u001b[0m \u001b[0mlen\u001b[0m\u001b[0;34m(\u001b[0m\u001b[0mvalues\u001b[0m\u001b[0;34m)\u001b[0m \u001b[0;34m!=\u001b[0m \u001b[0;36m1\u001b[0m\u001b[0;34m:\u001b[0m\u001b[0;34m\u001b[0m\u001b[0m\n\u001b[1;32m    604\u001b[0m             raise ValueError('Length of new names must be 1, got %d'\n\u001b[0;32m--> 605\u001b[0;31m                              % len(values))\n\u001b[0m\u001b[1;32m    606\u001b[0m         \u001b[0mself\u001b[0m\u001b[0;34m.\u001b[0m\u001b[0mname\u001b[0m \u001b[0;34m=\u001b[0m \u001b[0mvalues\u001b[0m\u001b[0;34m[\u001b[0m\u001b[0;36m0\u001b[0m\u001b[0;34m]\u001b[0m\u001b[0;34m\u001b[0m\u001b[0m\n\u001b[1;32m    607\u001b[0m \u001b[0;34m\u001b[0m\u001b[0m\n",
      "\u001b[0;31mValueError\u001b[0m: Length of new names must be 1, got 2"
     ]
    }
   ],
   "source": [
    "m.datacollector.get_agent_vars_dataframe()"
   ]
  },
  {
   "cell_type": "markdown",
   "metadata": {},
   "source": [
    "### Count conflict dyads"
   ]
  },
  {
   "cell_type": "code",
   "execution_count": 38,
   "metadata": {
    "collapsed": true
   },
   "outputs": [],
   "source": [
    "conflict_dyads = defaultdict(set)\n",
    "\n",
    "#for i, model in enumerate(all_models):\n",
    "for i, model in enumerate(model_data):\n",
    "    for event in model.log.get_events(action=\"Attack\"):\n",
    "        source = event.source\n",
    "        target = event.target\n",
    "        if (target, source) in conflict_dyads:\n",
    "            dyad = (target, source)\n",
    "        else:\n",
    "            dyad = (source, target)\n",
    "        conflict_dyads[dyad].add(i)"
   ]
  },
  {
   "cell_type": "code",
   "execution_count": 39,
   "metadata": {
    "collapsed": true
   },
   "outputs": [],
   "source": [
    "conflict_count = Counter({k: len(v) for k, v in conflict_dyads.items()})"
   ]
  },
  {
   "cell_type": "code",
   "execution_count": 40,
   "metadata": {
    "collapsed": false
   },
   "outputs": [
    {
     "data": {
      "text/plain": [
       "[(('England', 'Iraq'), 10),\n",
       " (('Egypt', 'England'), 8),\n",
       " (('Argentina', 'USA'), 8),\n",
       " (('Belgium', 'Iran'), 8),\n",
       " (('Czechoslovakia', 'USSR'), 6),\n",
       " (('Belgium', 'Netherlands'), 6),\n",
       " (('Belgium', 'France'), 5),\n",
       " (('Argentina', 'Canada'), 5),\n",
       " (('Romania', 'USSR'), 4),\n",
       " (('USSR', 'Yugoslavia'), 4),\n",
       " (('Argentina', 'Mexico'), 4),\n",
       " (('Brazil', 'Canada'), 4),\n",
       " (('Hungary', 'Poland'), 4),\n",
       " (('Argentina', 'Brazil'), 4),\n",
       " (('Brazil', 'USA'), 3),\n",
       " (('Bulgaria', 'Yugoslavia'), 3),\n",
       " (('Bulgaria', 'Czechoslovakia'), 3),\n",
       " (('Czechoslovakia', 'Poland'), 3),\n",
       " (('Australia', 'Italy'), 3),\n",
       " (('Australia', 'China'), 3),\n",
       " (('Iran', 'Turkey'), 3),\n",
       " (('Australia', 'Denmark'), 3),\n",
       " (('Australia', 'Greece'), 3),\n",
       " (('Bulgaria', 'USSR'), 2),\n",
       " (('Norway', 'Sweden'), 2),\n",
       " (('Egypt', 'Netherlands'), 2),\n",
       " (('Czechoslovakia', 'Hungary'), 2),\n",
       " (('Australia', 'Belgium'), 2),\n",
       " (('Bulgaria', 'Romania'), 2),\n",
       " (('France', 'Iran'), 2),\n",
       " (('India', 'Italy'), 2),\n",
       " (('Italy', 'Sweden'), 2),\n",
       " (('Netherlands', 'Syria'), 2),\n",
       " (('Egypt', 'Iran'), 2),\n",
       " (('Belgium', 'Egypt'), 2),\n",
       " (('Australia', 'Iran'), 2),\n",
       " (('Egypt', 'Iraq'), 2),\n",
       " (('Poland', 'USSR'), 2),\n",
       " (('Australia', 'India'), 2),\n",
       " (('Iran', 'Saudi Arabia'), 2),\n",
       " (('Bulgaria', 'Poland'), 2),\n",
       " (('Australia', 'Norway'), 2),\n",
       " (('Belgium', 'Syria'), 2),\n",
       " (('Norway', 'Pakistan'), 2),\n",
       " (('Norway', 'South Africa'), 2),\n",
       " (('Hungary', 'Romania'), 2),\n",
       " (('Belgium', 'Turkey'), 2),\n",
       " (('Poland', 'Yugoslavia'), 1),\n",
       " (('Belgium', 'England'), 1),\n",
       " (('Italy', 'Philippines'), 1),\n",
       " (('China', 'Philippines'), 1),\n",
       " (('Denmark', 'Greece'), 1),\n",
       " (('Italy', 'Norway'), 1),\n",
       " (('Belgium', 'Saudi Arabia'), 1),\n",
       " (('Iran', 'Netherlands'), 1),\n",
       " (('Italy', 'South Africa'), 1),\n",
       " (('France', 'Turkey'), 1),\n",
       " (('Pakistan', 'Sweden'), 1),\n",
       " (('India', 'Saudi Arabia'), 1),\n",
       " (('Israel', 'Italy'), 1),\n",
       " (('Pakistan', 'Spain'), 1),\n",
       " (('India', 'Syria'), 1),\n",
       " (('Norway', 'Spain'), 1),\n",
       " (('Hungary', 'USSR'), 1),\n",
       " (('France', 'Netherlands'), 1),\n",
       " (('Australia', 'Israel'), 1),\n",
       " (('Philippines', 'Spain'), 1),\n",
       " (('Bulgaria', 'Hungary'), 1),\n",
       " (('China', 'Norway'), 1),\n",
       " (('Denmark', 'Philippines'), 1),\n",
       " (('Greece', 'Turkey'), 1),\n",
       " (('Saudi Arabia', 'Syria'), 1),\n",
       " (('Egypt', 'France'), 1),\n",
       " (('Norway', 'Philippines'), 1),\n",
       " (('China', 'Denmark'), 1),\n",
       " (('Romania', 'Yugoslavia'), 1),\n",
       " (('China', 'India'), 1),\n",
       " (('Italy', 'Spain'), 1),\n",
       " (('France', 'Iraq'), 1),\n",
       " (('China', 'South Africa'), 1),\n",
       " (('Greece', 'South Africa'), 1),\n",
       " (('Greece', 'Sweden'), 1),\n",
       " (('Netherlands', 'Saudi Arabia'), 1),\n",
       " (('Israel', 'Sweden'), 1),\n",
       " (('Australia', 'South Africa'), 1),\n",
       " (('Poland', 'Romania'), 1),\n",
       " (('Greece', 'Italy'), 1),\n",
       " (('India', 'Thailand'), 1),\n",
       " (('England', 'Iran'), 1),\n",
       " (('Australia', 'Egypt'), 1),\n",
       " (('China', 'Israel'), 1),\n",
       " (('Australia', 'Sweden'), 1),\n",
       " (('Brazil', 'Mexico'), 1),\n",
       " (('Egypt', 'Turkey'), 1),\n",
       " (('Greece', 'Thailand'), 1),\n",
       " (('France', 'Syria'), 1),\n",
       " (('England', 'France'), 1),\n",
       " (('Australia', 'Thailand'), 1),\n",
       " (('Denmark', 'Norway'), 1)]"
      ]
     },
     "execution_count": 40,
     "metadata": {},
     "output_type": "execute_result"
    }
   ],
   "source": [
    "conflict_count.most_common()"
   ]
  },
  {
   "cell_type": "markdown",
   "metadata": {},
   "source": [
    "### Narrow it down to cases with a favorable US outcome"
   ]
  },
  {
   "cell_type": "code",
   "execution_count": 46,
   "metadata": {
    "collapsed": false
   },
   "outputs": [],
   "source": [
    "conflict_dyads = defaultdict(set)\n",
    "\n",
    "for i, model in enumerate(model_data):\n",
    "    if model.model_vars.Median[24] < 0.75:\n",
    "        continue\n",
    "    for event in model.log.get_events(action=\"Attack\"):\n",
    "        source = event.source\n",
    "        target = event.target\n",
    "        if (target, source) in conflict_dyads:\n",
    "            dyad = (target, source)\n",
    "        else:\n",
    "            dyad = (source, target)\n",
    "        conflict_dyads[dyad].add(i)\n",
    "\n",
    "conflict_count = Counter({k: len(v) for k, v in conflict_dyads.items()})"
   ]
  },
  {
   "cell_type": "code",
   "execution_count": 47,
   "metadata": {
    "collapsed": false
   },
   "outputs": [
    {
     "data": {
      "text/plain": [
       "[(('Egypt', 'Turkey'), 1),\n",
       " (('Australia', 'Sweden'), 1),\n",
       " (('Poland', 'Yugoslavia'), 1),\n",
       " (('Egypt', 'England'), 1),\n",
       " (('Israel', 'Italy'), 1),\n",
       " (('Argentina', 'USA'), 1),\n",
       " (('USSR', 'Yugoslavia'), 1),\n",
       " (('Egypt', 'France'), 1),\n",
       " (('England', 'Iran'), 1),\n",
       " (('Czechoslovakia', 'USSR'), 1),\n",
       " (('Australia', 'India'), 1),\n",
       " (('Bulgaria', 'Romania'), 1),\n",
       " (('Egypt', 'Netherlands'), 1),\n",
       " (('Egypt', 'Iran'), 1),\n",
       " (('Belgium', 'Iran'), 1),\n",
       " (('Italy', 'Spain'), 1),\n",
       " (('France', 'Iraq'), 1),\n",
       " (('China', 'Israel'), 1),\n",
       " (('Hungary', 'Poland'), 1),\n",
       " (('Greece', 'South Africa'), 1),\n",
       " (('England', 'Iraq'), 1),\n",
       " (('Bulgaria', 'Poland'), 1),\n",
       " (('Australia', 'Belgium'), 1),\n",
       " (('Belgium', 'France'), 1),\n",
       " (('Argentina', 'Canada'), 1)]"
      ]
     },
     "execution_count": 47,
     "metadata": {},
     "output_type": "execute_result"
    }
   ],
   "source": [
    "conflict_count.most_common()"
   ]
  },
  {
   "cell_type": "code",
   "execution_count": 55,
   "metadata": {
    "collapsed": false
   },
   "outputs": [],
   "source": [
    "usa = model.agent_vars.xs(\"USA\", level=\"AgentID\")\n",
    "aus = model.agent_vars.xs(\"Australia\", level=\"AgentID\")"
   ]
  },
  {
   "cell_type": "code",
   "execution_count": 57,
   "metadata": {
    "collapsed": false
   },
   "outputs": [
    {
     "data": {
      "text/plain": [
       "[<matplotlib.lines.Line2D at 0x1116a90f0>]"
      ]
     },
     "execution_count": 57,
     "metadata": {},
     "output_type": "execute_result"
    },
    {
     "data": {
      "image/png": "[encoded data removed]",
      "text/plain": [
       "<matplotlib.figure.Figure at 0x10ef66198>"
      ]
     },
     "metadata": {},
     "output_type": "display_data"
    }
   ],
   "source": [
    "fig, ax = plt.subplots()\n",
    "ax.plot(usa)\n",
    "ax.plot(aus)"
   ]
  },
  {
   "cell_type": "code",
   "execution_count": 58,
   "metadata": {
    "collapsed": false
   },
   "outputs": [
    {
     "data": {
      "text/plain": [
       "<matplotlib.axes._subplots.AxesSubplot at 0x111964908>"
      ]
     },
     "execution_count": 58,
     "metadata": {},
     "output_type": "execute_result"
    },
    {
     "data": {
      "image/png": "[encoded data removed]",
      "text/plain": [
       "<matplotlib.figure.Figure at 0x111335400>"
      ]
     },
     "metadata": {},
     "output_type": "display_data"
    },
    {
     "data": {
      "image/png": "[encoded data removed]",
      "text/plain": [
       "<matplotlib.figure.Figure at 0x111335518>"
      ]
     },
     "metadata": {},
     "output_type": "display_data"
    }
   ],
   "source": [
    "usa.plot()\n",
    "aus.plot()"
   ]
  },
  {
   "cell_type": "code",
   "execution_count": null,
   "metadata": {
    "collapsed": true
   },
   "outputs": [],
   "source": []
  }
 ],
 "metadata": {
  "kernelspec": {
   "display_name": "Python 3",
   "language": "python",
   "name": "python3"
  },
  "language_info": {
   "codemirror_mode": {
    "name": "ipython",
    "version": 3
   },
   "file_extension": ".py",
   "mimetype": "text/x-python",
   "name": "python",
   "nbconvert_exporter": "python",
   "pygments_lexer": "ipython3",
   "version": "3.4.2"
  }
 },
 "nbformat": 4,
 "nbformat_minor": 0
}
