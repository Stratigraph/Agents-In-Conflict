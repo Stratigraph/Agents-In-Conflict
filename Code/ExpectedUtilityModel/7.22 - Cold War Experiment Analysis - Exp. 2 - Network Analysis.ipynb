{
 "cells": [
  {
   "cell_type": "code",
   "execution_count": 1,
   "metadata": {
    "collapsed": true
   },
   "outputs": [],
   "source": [
    "import copy\n",
    "import pickle\n",
    "import random\n",
    "from collections import defaultdict, namedtuple, Counter\n",
    "from itertools import combinations, permutations\n",
    "import os\n",
    "\n",
    "import numpy as np\n",
    "import scipy.stats\n",
    "\n",
    "import pandas as pd\n",
    "import networkx as nx\n",
    "import statsmodels.api as sm\n",
    "\n",
    "import matplotlib.pyplot as plt\n",
    "%matplotlib inline"
   ]
  },
  {
   "cell_type": "markdown",
   "metadata": {},
   "source": [
    "# Loading starting data"
   ]
  },
  {
   "cell_type": "code",
   "execution_count": 2,
   "metadata": {
    "collapsed": true
   },
   "outputs": [],
   "source": [
    "book_data = pd.read_csv(\"BDM_ColdWar.csv\")\n",
    "book_data.Position = (book_data.Position + 100)/200"
   ]
  },
  {
   "cell_type": "markdown",
   "metadata": {},
   "source": [
    "# Unserialize run data"
   ]
  },
  {
   "cell_type": "code",
   "execution_count": 3,
   "metadata": {
    "collapsed": true
   },
   "outputs": [],
   "source": [
    "class Model_Output:\n",
    "    def __init__(self, model):\n",
    "        '''\n",
    "        Store data from model run.\n",
    "        '''\n",
    "        self.agent_vars = model.datacollector.get_agent_vars_dataframe()\n",
    "        self.model_vars = model.datacollector.get_model_vars_dataframe()\n",
    "        self.log = model.log"
   ]
  },
  {
   "cell_type": "code",
   "execution_count": 4,
   "metadata": {
    "collapsed": true
   },
   "outputs": [],
   "source": [
    "model_runs = []\n",
    "filename = \"data_output/ColdWar_Experiment2_1.pickle\"\n",
    "with open(filename, \"rb\") as f:\n",
    "    model_runs += pickle.load(f)"
   ]
  },
  {
   "cell_type": "markdown",
   "metadata": {},
   "source": [
    "# Get agent positions"
   ]
  },
  {
   "cell_type": "code",
   "execution_count": 5,
   "metadata": {
    "collapsed": true
   },
   "outputs": [],
   "source": [
    "all_dfs = []\n",
    "for i, model in enumerate(model_runs):\n",
    "    df = model.agent_vars.copy()\n",
    "    df.reset_index(inplace=True)\n",
    "    df[\"Iteration\"] = i\n",
    "    all_dfs.append(df)\n",
    "agent_positions = pd.concat(all_dfs)"
   ]
  },
  {
   "cell_type": "code",
   "execution_count": 6,
   "metadata": {
    "collapsed": false
   },
   "outputs": [
    {
     "data": {
      "text/html": [
       "<div>\n",
       "<table border=\"1\" class=\"dataframe\">\n",
       "  <thead>\n",
       "    <tr style=\"text-align: right;\">\n",
       "      <th></th>\n",
       "      <th>Step</th>\n",
       "      <th>AgentID</th>\n",
       "      <th>Position</th>\n",
       "      <th>Iteration</th>\n",
       "    </tr>\n",
       "  </thead>\n",
       "  <tbody>\n",
       "    <tr>\n",
       "      <th>895</th>\n",
       "      <td>24</td>\n",
       "      <td>Thailand</td>\n",
       "      <td>0.696529</td>\n",
       "      <td>999</td>\n",
       "    </tr>\n",
       "    <tr>\n",
       "      <th>896</th>\n",
       "      <td>24</td>\n",
       "      <td>Turkey</td>\n",
       "      <td>0.686074</td>\n",
       "      <td>999</td>\n",
       "    </tr>\n",
       "    <tr>\n",
       "      <th>897</th>\n",
       "      <td>24</td>\n",
       "      <td>USA</td>\n",
       "      <td>0.946736</td>\n",
       "      <td>999</td>\n",
       "    </tr>\n",
       "    <tr>\n",
       "      <th>898</th>\n",
       "      <td>24</td>\n",
       "      <td>USSR</td>\n",
       "      <td>0.656267</td>\n",
       "      <td>999</td>\n",
       "    </tr>\n",
       "    <tr>\n",
       "      <th>899</th>\n",
       "      <td>24</td>\n",
       "      <td>Yugoslavia</td>\n",
       "      <td>0.594633</td>\n",
       "      <td>999</td>\n",
       "    </tr>\n",
       "  </tbody>\n",
       "</table>\n",
       "</div>"
      ],
      "text/plain": [
       "     Step     AgentID  Position  Iteration\n",
       "895    24    Thailand  0.696529        999\n",
       "896    24      Turkey  0.686074        999\n",
       "897    24         USA  0.946736        999\n",
       "898    24        USSR  0.656267        999\n",
       "899    24  Yugoslavia  0.594633        999"
      ]
     },
     "execution_count": 6,
     "metadata": {},
     "output_type": "execute_result"
    }
   ],
   "source": [
    "agent_positions.tail()"
   ]
  },
  {
   "cell_type": "markdown",
   "metadata": {},
   "source": [
    "## How far do agents end up from their starting positions?"
   ]
  },
  {
   "cell_type": "code",
   "execution_count": 7,
   "metadata": {
    "collapsed": true
   },
   "outputs": [],
   "source": [
    "end_positions = agent_positions[agent_positions.Step==24]\\\n",
    "    .groupby(\"AgentID\")[\"Position\"].aggregate([np.mean, np.std])\n",
    "\n",
    "end_positions = end_positions.rename(columns={\"mean\": \"EndPos_mean\",\n",
    "                             \"std\": \"EndPos_std\"})\n",
    "\n",
    "end_positions = end_positions.merge(book_data, left_index=True, right_on=\"Country\")\n",
    "end_positions[\"Delta\"] = end_positions.EndPos_mean - end_positions.Position"
   ]
  },
  {
   "cell_type": "code",
   "execution_count": 8,
   "metadata": {
    "collapsed": false
   },
   "outputs": [
    {
     "data": {
      "text/html": [
       "<div>\n",
       "<table border=\"1\" class=\"dataframe\">\n",
       "  <thead>\n",
       "    <tr style=\"text-align: right;\">\n",
       "      <th></th>\n",
       "      <th>EndPos_mean</th>\n",
       "      <th>EndPos_std</th>\n",
       "      <th>Country</th>\n",
       "      <th>Capability</th>\n",
       "      <th>Position</th>\n",
       "      <th>Delta</th>\n",
       "    </tr>\n",
       "  </thead>\n",
       "  <tbody>\n",
       "    <tr>\n",
       "      <th>0</th>\n",
       "      <td>0.815068</td>\n",
       "      <td>0.135131</td>\n",
       "      <td>Argentina</td>\n",
       "      <td>0.972</td>\n",
       "      <td>0.9480</td>\n",
       "      <td>-0.132932</td>\n",
       "    </tr>\n",
       "    <tr>\n",
       "      <th>1</th>\n",
       "      <td>0.640266</td>\n",
       "      <td>0.173413</td>\n",
       "      <td>Australia</td>\n",
       "      <td>0.889</td>\n",
       "      <td>0.5065</td>\n",
       "      <td>0.133766</td>\n",
       "    </tr>\n",
       "    <tr>\n",
       "      <th>2</th>\n",
       "      <td>0.662847</td>\n",
       "      <td>0.146127</td>\n",
       "      <td>Belgium</td>\n",
       "      <td>1.182</td>\n",
       "      <td>0.5140</td>\n",
       "      <td>0.148847</td>\n",
       "    </tr>\n",
       "    <tr>\n",
       "      <th>3</th>\n",
       "      <td>0.818691</td>\n",
       "      <td>0.132290</td>\n",
       "      <td>Brazil</td>\n",
       "      <td>0.993</td>\n",
       "      <td>0.9480</td>\n",
       "      <td>-0.129309</td>\n",
       "    </tr>\n",
       "    <tr>\n",
       "      <th>4</th>\n",
       "      <td>0.404722</td>\n",
       "      <td>0.267184</td>\n",
       "      <td>Bulgaria</td>\n",
       "      <td>0.345</td>\n",
       "      <td>0.0000</td>\n",
       "      <td>0.404722</td>\n",
       "    </tr>\n",
       "  </tbody>\n",
       "</table>\n",
       "</div>"
      ],
      "text/plain": [
       "   EndPos_mean  EndPos_std    Country  Capability  Position     Delta\n",
       "0     0.815068    0.135131  Argentina       0.972    0.9480 -0.132932\n",
       "1     0.640266    0.173413  Australia       0.889    0.5065  0.133766\n",
       "2     0.662847    0.146127    Belgium       1.182    0.5140  0.148847\n",
       "3     0.818691    0.132290     Brazil       0.993    0.9480 -0.129309\n",
       "4     0.404722    0.267184   Bulgaria       0.345    0.0000  0.404722"
      ]
     },
     "execution_count": 8,
     "metadata": {},
     "output_type": "execute_result"
    }
   ],
   "source": [
    "end_positions.head()"
   ]
  },
  {
   "cell_type": "code",
   "execution_count": 9,
   "metadata": {
    "collapsed": false
   },
   "outputs": [
    {
     "name": "stdout",
     "output_type": "stream",
     "text": [
      "0.161026737351\n",
      "-0.132931747869\n",
      "0.455783100774\n"
     ]
    },
    {
     "data": {
      "text/plain": [
       "<matplotlib.axes._subplots.AxesSubplot at 0x164af6f98>"
      ]
     },
     "execution_count": 9,
     "metadata": {},
     "output_type": "execute_result"
    },
    {
     "data": {
      "image/png": "[encoded data removed]",
      "text/plain": [
       "<matplotlib.figure.Figure at 0x164af6470>"
      ]
     },
     "metadata": {},
     "output_type": "display_data"
    }
   ],
   "source": [
    "print(end_positions.Delta.mean())\n",
    "print(end_positions.Delta.min())\n",
    "print(end_positions.Delta.max())\n",
    "end_positions.Delta.hist()"
   ]
  },
  {
   "cell_type": "markdown",
   "metadata": {},
   "source": [
    "## Dyadic distance"
   ]
  },
  {
   "cell_type": "code",
   "execution_count": 10,
   "metadata": {
    "collapsed": false
   },
   "outputs": [
    {
     "data": {
      "text/html": [
       "<div>\n",
       "<table border=\"1\" class=\"dataframe\">\n",
       "  <thead>\n",
       "    <tr style=\"text-align: right;\">\n",
       "      <th></th>\n",
       "      <th>Step</th>\n",
       "      <th>AgentID</th>\n",
       "      <th>Position</th>\n",
       "      <th>Iteration</th>\n",
       "    </tr>\n",
       "  </thead>\n",
       "  <tbody>\n",
       "    <tr>\n",
       "      <th>895</th>\n",
       "      <td>24</td>\n",
       "      <td>Thailand</td>\n",
       "      <td>0.696529</td>\n",
       "      <td>999</td>\n",
       "    </tr>\n",
       "    <tr>\n",
       "      <th>896</th>\n",
       "      <td>24</td>\n",
       "      <td>Turkey</td>\n",
       "      <td>0.686074</td>\n",
       "      <td>999</td>\n",
       "    </tr>\n",
       "    <tr>\n",
       "      <th>897</th>\n",
       "      <td>24</td>\n",
       "      <td>USA</td>\n",
       "      <td>0.946736</td>\n",
       "      <td>999</td>\n",
       "    </tr>\n",
       "    <tr>\n",
       "      <th>898</th>\n",
       "      <td>24</td>\n",
       "      <td>USSR</td>\n",
       "      <td>0.656267</td>\n",
       "      <td>999</td>\n",
       "    </tr>\n",
       "    <tr>\n",
       "      <th>899</th>\n",
       "      <td>24</td>\n",
       "      <td>Yugoslavia</td>\n",
       "      <td>0.594633</td>\n",
       "      <td>999</td>\n",
       "    </tr>\n",
       "  </tbody>\n",
       "</table>\n",
       "</div>"
      ],
      "text/plain": [
       "     Step     AgentID  Position  Iteration\n",
       "895    24    Thailand  0.696529        999\n",
       "896    24      Turkey  0.686074        999\n",
       "897    24         USA  0.946736        999\n",
       "898    24        USSR  0.656267        999\n",
       "899    24  Yugoslavia  0.594633        999"
      ]
     },
     "execution_count": 10,
     "metadata": {},
     "output_type": "execute_result"
    }
   ],
   "source": [
    "agent_positions.tail()"
   ]
  },
  {
   "cell_type": "code",
   "execution_count": 11,
   "metadata": {
    "collapsed": true
   },
   "outputs": [],
   "source": [
    "STEP = 24"
   ]
  },
  {
   "cell_type": "code",
   "execution_count": 12,
   "metadata": {
    "collapsed": true
   },
   "outputs": [],
   "source": [
    "distances = defaultdict(lambda: defaultdict(list))\n",
    "for i, group in agent_positions.groupby(\"Iteration\"):\n",
    "    group = group[group.Step==STEP]\n",
    "    for i, r1 in group.iterrows():\n",
    "        source_name = r1.AgentID\n",
    "        source_pos = r1.Position\n",
    "        for j, r2 in group.iterrows():\n",
    "            target_name = r2.AgentID\n",
    "            target_pos = r2.Position\n",
    "            if target_name == source_name:\n",
    "                continue\n",
    "            distances[source_name][target_name].append(abs(source_pos - target_pos))"
   ]
  },
  {
   "cell_type": "code",
   "execution_count": 13,
   "metadata": {
    "collapsed": false
   },
   "outputs": [],
   "source": [
    "distances = {key: dict(val) for key, val in distances.items()}"
   ]
  },
  {
   "cell_type": "code",
   "execution_count": 14,
   "metadata": {
    "collapsed": true
   },
   "outputs": [],
   "source": [
    "mean_distances = {}\n",
    "for source, targets in distances.items():\n",
    "    for target, dist_list in targets.items():\n",
    "        mean_dist = np.mean(dist_list)\n",
    "        mean_distances[(source, target)] = mean_dist"
   ]
  },
  {
   "cell_type": "code",
   "execution_count": 15,
   "metadata": {
    "collapsed": false
   },
   "outputs": [],
   "source": [
    "mean_distances = pd.DataFrame({\"Mean_Distance\": mean_distances})\n",
    "mean_distances.reset_index(inplace=True)"
   ]
  },
  {
   "cell_type": "code",
   "execution_count": 16,
   "metadata": {
    "collapsed": false
   },
   "outputs": [],
   "source": [
    "mean_distances.rename(columns={\"level_0\": \"Source\", \"level_1\": \"Target\"}, inplace=True)"
   ]
  },
  {
   "cell_type": "code",
   "execution_count": 17,
   "metadata": {
    "collapsed": false
   },
   "outputs": [
    {
     "data": {
      "text/html": [
       "<div>\n",
       "<table border=\"1\" class=\"dataframe\">\n",
       "  <thead>\n",
       "    <tr style=\"text-align: right;\">\n",
       "      <th></th>\n",
       "      <th>Source</th>\n",
       "      <th>Target</th>\n",
       "      <th>Mean_Distance</th>\n",
       "    </tr>\n",
       "  </thead>\n",
       "  <tbody>\n",
       "    <tr>\n",
       "      <th>0</th>\n",
       "      <td>Argentina</td>\n",
       "      <td>Australia</td>\n",
       "      <td>0.189700</td>\n",
       "    </tr>\n",
       "    <tr>\n",
       "      <th>1</th>\n",
       "      <td>Argentina</td>\n",
       "      <td>Belgium</td>\n",
       "      <td>0.170330</td>\n",
       "    </tr>\n",
       "    <tr>\n",
       "      <th>2</th>\n",
       "      <td>Argentina</td>\n",
       "      <td>Brazil</td>\n",
       "      <td>0.060176</td>\n",
       "    </tr>\n",
       "    <tr>\n",
       "      <th>3</th>\n",
       "      <td>Argentina</td>\n",
       "      <td>Bulgaria</td>\n",
       "      <td>0.411822</td>\n",
       "    </tr>\n",
       "    <tr>\n",
       "      <th>4</th>\n",
       "      <td>Argentina</td>\n",
       "      <td>Canada</td>\n",
       "      <td>0.113346</td>\n",
       "    </tr>\n",
       "  </tbody>\n",
       "</table>\n",
       "</div>"
      ],
      "text/plain": [
       "      Source     Target  Mean_Distance\n",
       "0  Argentina  Australia       0.189700\n",
       "1  Argentina    Belgium       0.170330\n",
       "2  Argentina     Brazil       0.060176\n",
       "3  Argentina   Bulgaria       0.411822\n",
       "4  Argentina     Canada       0.113346"
      ]
     },
     "execution_count": 17,
     "metadata": {},
     "output_type": "execute_result"
    }
   ],
   "source": [
    "mean_distances.head()"
   ]
  },
  {
   "cell_type": "markdown",
   "metadata": {},
   "source": [
    "# Getting alliance network"
   ]
  },
  {
   "cell_type": "code",
   "execution_count": 18,
   "metadata": {
    "collapsed": true
   },
   "outputs": [],
   "source": [
    "COW = \"/Users/dmasad/Data/COW/\"\n",
    "YEAR = 1998\n",
    "alliance_dyads = pd.read_csv(COW + \"Alliances/alliance_v4.1_by_dyad_yearly.csv\")\n",
    "alliance_dyads = alliance_dyads[alliance_dyads.year==YEAR]\n",
    "alliance_dyads[\"Alliance\"] = 0\n",
    "alliance_dyads.loc[(alliance_dyads.entente==1),\"Alliance\"] = 1\n",
    "alliance_dyads.loc[(alliance_dyads.nonaggression==1),\"Alliance\"] = 2\n",
    "alliance_dyads.loc[(alliance_dyads.neutrality==1),\"Alliance\"] = 3\n",
    "alliance_dyads.loc[(alliance_dyads.defense==1),\"Alliance\"] = 4"
   ]
  },
  {
   "cell_type": "code",
   "execution_count": 19,
   "metadata": {
    "collapsed": false
   },
   "outputs": [
    {
     "data": {
      "text/html": [
       "<div>\n",
       "<table border=\"1\" class=\"dataframe\">\n",
       "  <thead>\n",
       "    <tr style=\"text-align: right;\">\n",
       "      <th></th>\n",
       "      <th>version4id</th>\n",
       "      <th>ccode1</th>\n",
       "      <th>state_name1</th>\n",
       "      <th>ccode2</th>\n",
       "      <th>state_name2</th>\n",
       "      <th>dyad_st_day</th>\n",
       "      <th>dyad_st_month</th>\n",
       "      <th>dyad_st_year</th>\n",
       "      <th>dyad_end_day</th>\n",
       "      <th>dyad_end_month</th>\n",
       "      <th>dyad_end_year</th>\n",
       "      <th>left_censor</th>\n",
       "      <th>right_censor</th>\n",
       "      <th>defense</th>\n",
       "      <th>neutrality</th>\n",
       "      <th>nonaggression</th>\n",
       "      <th>entente</th>\n",
       "      <th>year</th>\n",
       "      <th>version</th>\n",
       "      <th>Alliance</th>\n",
       "    </tr>\n",
       "  </thead>\n",
       "  <tbody>\n",
       "    <tr>\n",
       "      <th>182</th>\n",
       "      <td>1</td>\n",
       "      <td>200</td>\n",
       "      <td>United Kingdom</td>\n",
       "      <td>235</td>\n",
       "      <td>Portugal</td>\n",
       "      <td>1</td>\n",
       "      <td>1</td>\n",
       "      <td>1816</td>\n",
       "      <td>NaN</td>\n",
       "      <td>NaN</td>\n",
       "      <td>2012</td>\n",
       "      <td>1</td>\n",
       "      <td>1</td>\n",
       "      <td>1</td>\n",
       "      <td>0</td>\n",
       "      <td>1</td>\n",
       "      <td>0</td>\n",
       "      <td>1998</td>\n",
       "      <td>4.1</td>\n",
       "      <td>4</td>\n",
       "    </tr>\n",
       "    <tr>\n",
       "      <th>3712</th>\n",
       "      <td>88</td>\n",
       "      <td>130</td>\n",
       "      <td>Ecuador</td>\n",
       "      <td>145</td>\n",
       "      <td>Bolivia</td>\n",
       "      <td>17</td>\n",
       "      <td>4</td>\n",
       "      <td>1911</td>\n",
       "      <td>NaN</td>\n",
       "      <td>NaN</td>\n",
       "      <td>2012</td>\n",
       "      <td>0</td>\n",
       "      <td>1</td>\n",
       "      <td>0</td>\n",
       "      <td>1</td>\n",
       "      <td>1</td>\n",
       "      <td>0</td>\n",
       "      <td>1998</td>\n",
       "      <td>4.1</td>\n",
       "      <td>3</td>\n",
       "    </tr>\n",
       "    <tr>\n",
       "      <th>7460</th>\n",
       "      <td>170</td>\n",
       "      <td>145</td>\n",
       "      <td>Bolivia</td>\n",
       "      <td>150</td>\n",
       "      <td>Paraguay</td>\n",
       "      <td>21</td>\n",
       "      <td>7</td>\n",
       "      <td>1938</td>\n",
       "      <td>NaN</td>\n",
       "      <td>NaN</td>\n",
       "      <td>2012</td>\n",
       "      <td>0</td>\n",
       "      <td>1</td>\n",
       "      <td>0</td>\n",
       "      <td>0</td>\n",
       "      <td>1</td>\n",
       "      <td>0</td>\n",
       "      <td>1998</td>\n",
       "      <td>4.1</td>\n",
       "      <td>2</td>\n",
       "    </tr>\n",
       "    <tr>\n",
       "      <th>7638</th>\n",
       "      <td>185</td>\n",
       "      <td>100</td>\n",
       "      <td>Colombia</td>\n",
       "      <td>101</td>\n",
       "      <td>Venezuela</td>\n",
       "      <td>17</td>\n",
       "      <td>12</td>\n",
       "      <td>1939</td>\n",
       "      <td>NaN</td>\n",
       "      <td>NaN</td>\n",
       "      <td>2012</td>\n",
       "      <td>0</td>\n",
       "      <td>1</td>\n",
       "      <td>0</td>\n",
       "      <td>0</td>\n",
       "      <td>1</td>\n",
       "      <td>0</td>\n",
       "      <td>1998</td>\n",
       "      <td>4.1</td>\n",
       "      <td>2</td>\n",
       "    </tr>\n",
       "    <tr>\n",
       "      <th>8343</th>\n",
       "      <td>199</td>\n",
       "      <td>435</td>\n",
       "      <td>Mauritania</td>\n",
       "      <td>520</td>\n",
       "      <td>Somalia</td>\n",
       "      <td>22</td>\n",
       "      <td>1</td>\n",
       "      <td>1974</td>\n",
       "      <td>NaN</td>\n",
       "      <td>NaN</td>\n",
       "      <td>2012</td>\n",
       "      <td>0</td>\n",
       "      <td>1</td>\n",
       "      <td>0</td>\n",
       "      <td>0</td>\n",
       "      <td>1</td>\n",
       "      <td>1</td>\n",
       "      <td>1998</td>\n",
       "      <td>4.1</td>\n",
       "      <td>2</td>\n",
       "    </tr>\n",
       "  </tbody>\n",
       "</table>\n",
       "</div>"
      ],
      "text/plain": [
       "      version4id  ccode1     state_name1  ccode2 state_name2  dyad_st_day  \\\n",
       "182            1     200  United Kingdom     235    Portugal            1   \n",
       "3712          88     130         Ecuador     145     Bolivia           17   \n",
       "7460         170     145         Bolivia     150    Paraguay           21   \n",
       "7638         185     100        Colombia     101   Venezuela           17   \n",
       "8343         199     435      Mauritania     520     Somalia           22   \n",
       "\n",
       "      dyad_st_month  dyad_st_year  dyad_end_day  dyad_end_month  \\\n",
       "182               1          1816           NaN             NaN   \n",
       "3712              4          1911           NaN             NaN   \n",
       "7460              7          1938           NaN             NaN   \n",
       "7638             12          1939           NaN             NaN   \n",
       "8343              1          1974           NaN             NaN   \n",
       "\n",
       "      dyad_end_year  left_censor  right_censor  defense  neutrality  \\\n",
       "182            2012            1             1        1           0   \n",
       "3712           2012            0             1        0           1   \n",
       "7460           2012            0             1        0           0   \n",
       "7638           2012            0             1        0           0   \n",
       "8343           2012            0             1        0           0   \n",
       "\n",
       "      nonaggression  entente  year  version  Alliance  \n",
       "182               1        0  1998      4.1         4  \n",
       "3712              1        0  1998      4.1         3  \n",
       "7460              1        0  1998      4.1         2  \n",
       "7638              1        0  1998      4.1         2  \n",
       "8343              1        1  1998      4.1         2  "
      ]
     },
     "execution_count": 19,
     "metadata": {},
     "output_type": "execute_result"
    }
   ],
   "source": [
    "alliance_dyads.head()"
   ]
  },
  {
   "cell_type": "code",
   "execution_count": 20,
   "metadata": {
    "collapsed": false
   },
   "outputs": [],
   "source": [
    "state_names = set(alliance_dyads.state_name1.unique())\\\n",
    "        .union(set(alliance_dyads.state_name2.unique()))"
   ]
  },
  {
   "cell_type": "code",
   "execution_count": 21,
   "metadata": {
    "collapsed": false
   },
   "outputs": [
    {
     "name": "stdout",
     "output_type": "stream",
     "text": [
      "Czechoslovakia\n",
      "England\n",
      "Iran\n",
      "Sweden\n",
      "Thailand\n",
      "USA\n",
      "USSR\n"
     ]
    }
   ],
   "source": [
    "for name in mean_distances.Source.unique():\n",
    "    if name not in state_names:\n",
    "        print(name)"
   ]
  },
  {
   "cell_type": "code",
   "execution_count": 22,
   "metadata": {
    "collapsed": true
   },
   "outputs": [],
   "source": [
    "mean_distances.replace([\"England\", \"USSR\", \"USA\"], \n",
    "                       [\"United Kingdom\", \"Russia\", \"United States of America\"], inplace=True)"
   ]
  },
  {
   "cell_type": "code",
   "execution_count": 23,
   "metadata": {
    "collapsed": true
   },
   "outputs": [],
   "source": [
    "alliance_dyads = alliance_dyads[[\"state_name1\", \"state_name2\", \"Alliance\"]]"
   ]
  },
  {
   "cell_type": "code",
   "execution_count": 24,
   "metadata": {
    "collapsed": false
   },
   "outputs": [],
   "source": [
    "alliances = alliance_dyads.set_index([\"state_name1\", \"state_name2\"]).Alliance"
   ]
  },
  {
   "cell_type": "code",
   "execution_count": 25,
   "metadata": {
    "collapsed": false
   },
   "outputs": [
    {
     "name": "stderr",
     "output_type": "stream",
     "text": [
      "/Users/dmasad/.virtualenvs/consul/lib/python3.4/site-packages/pandas/core/index.py:5091: PerformanceWarning: indexing past lexsort depth may impact performance.\n",
      "  PerformanceWarning)\n"
     ]
    }
   ],
   "source": [
    "alliance_types = {}\n",
    "for state_1, state_2 in permutations(state_names, 2):\n",
    "    if (state_2, state_1) in alliance_types:\n",
    "        continue\n",
    "    elif (state_2, state_1) in alliances:\n",
    "        continue\n",
    "    elif (state_1, state_2) in alliances:\n",
    "        if type(alliances[(state_1, state_2)]) is pd.Series:\n",
    "            alliance_types[(state_1, state_2)] = alliances[(state_1, state_2)].max()\n",
    "        else:\n",
    "            alliance_types[(state_1, state_2)] = alliances[(state_1, state_2)]\n",
    "    else:\n",
    "        alliance_types[(state_1, state_2)] = 0 "
   ]
  },
  {
   "cell_type": "code",
   "execution_count": 26,
   "metadata": {
    "collapsed": true
   },
   "outputs": [],
   "source": [
    "all_alliances = pd.DataFrame({\"Alliance\": alliance_types})"
   ]
  },
  {
   "cell_type": "code",
   "execution_count": 27,
   "metadata": {
    "collapsed": true
   },
   "outputs": [],
   "source": [
    "all_alliances.reset_index(inplace=True)\n",
    "all_alliances.rename(columns={\"level_0\": \"Source\", \"level_1\": \"Target\"}, inplace=True)"
   ]
  },
  {
   "cell_type": "code",
   "execution_count": 28,
   "metadata": {
    "collapsed": true
   },
   "outputs": [],
   "source": [
    "merged_data = all_alliances.merge(mean_distances, on=[\"Source\", \"Target\"])"
   ]
  },
  {
   "cell_type": "code",
   "execution_count": 29,
   "metadata": {
    "collapsed": false
   },
   "outputs": [
    {
     "data": {
      "text/html": [
       "<div>\n",
       "<table border=\"1\" class=\"dataframe\">\n",
       "  <thead>\n",
       "    <tr style=\"text-align: right;\">\n",
       "      <th></th>\n",
       "      <th>Source</th>\n",
       "      <th>Target</th>\n",
       "      <th>Alliance</th>\n",
       "      <th>Mean_Distance</th>\n",
       "    </tr>\n",
       "  </thead>\n",
       "  <tbody>\n",
       "    <tr>\n",
       "      <th>0</th>\n",
       "      <td>Argentina</td>\n",
       "      <td>Australia</td>\n",
       "      <td>0</td>\n",
       "      <td>0.189700</td>\n",
       "    </tr>\n",
       "    <tr>\n",
       "      <th>1</th>\n",
       "      <td>Argentina</td>\n",
       "      <td>Belgium</td>\n",
       "      <td>0</td>\n",
       "      <td>0.170330</td>\n",
       "    </tr>\n",
       "    <tr>\n",
       "      <th>2</th>\n",
       "      <td>Argentina</td>\n",
       "      <td>Denmark</td>\n",
       "      <td>0</td>\n",
       "      <td>0.185145</td>\n",
       "    </tr>\n",
       "    <tr>\n",
       "      <th>3</th>\n",
       "      <td>Argentina</td>\n",
       "      <td>Greece</td>\n",
       "      <td>0</td>\n",
       "      <td>0.189041</td>\n",
       "    </tr>\n",
       "    <tr>\n",
       "      <th>4</th>\n",
       "      <td>Argentina</td>\n",
       "      <td>India</td>\n",
       "      <td>0</td>\n",
       "      <td>0.187789</td>\n",
       "    </tr>\n",
       "  </tbody>\n",
       "</table>\n",
       "</div>"
      ],
      "text/plain": [
       "      Source     Target  Alliance  Mean_Distance\n",
       "0  Argentina  Australia         0       0.189700\n",
       "1  Argentina    Belgium         0       0.170330\n",
       "2  Argentina    Denmark         0       0.185145\n",
       "3  Argentina     Greece         0       0.189041\n",
       "4  Argentina      India         0       0.187789"
      ]
     },
     "execution_count": 29,
     "metadata": {},
     "output_type": "execute_result"
    }
   ],
   "source": [
    "merged_data.head()"
   ]
  },
  {
   "cell_type": "code",
   "execution_count": 30,
   "metadata": {
    "collapsed": false
   },
   "outputs": [
    {
     "data": {
      "text/html": [
       "<div>\n",
       "<table border=\"1\" class=\"dataframe\">\n",
       "  <thead>\n",
       "    <tr style=\"text-align: right;\">\n",
       "      <th></th>\n",
       "      <th>Alliance</th>\n",
       "      <th>Mean_Distance</th>\n",
       "    </tr>\n",
       "  </thead>\n",
       "  <tbody>\n",
       "    <tr>\n",
       "      <th>Alliance</th>\n",
       "      <td>1.000000</td>\n",
       "      <td>-0.188468</td>\n",
       "    </tr>\n",
       "    <tr>\n",
       "      <th>Mean_Distance</th>\n",
       "      <td>-0.188468</td>\n",
       "      <td>1.000000</td>\n",
       "    </tr>\n",
       "  </tbody>\n",
       "</table>\n",
       "</div>"
      ],
      "text/plain": [
       "               Alliance  Mean_Distance\n",
       "Alliance       1.000000      -0.188468\n",
       "Mean_Distance -0.188468       1.000000"
      ]
     },
     "execution_count": 30,
     "metadata": {},
     "output_type": "execute_result"
    }
   ],
   "source": [
    "merged_data.corr()"
   ]
  },
  {
   "cell_type": "code",
   "execution_count": 31,
   "metadata": {
    "collapsed": true
   },
   "outputs": [],
   "source": [
    "merged_data.to_csv(\"transfer/ex2_data.csv\")"
   ]
  },
  {
   "cell_type": "code",
   "execution_count": 32,
   "metadata": {
    "collapsed": true
   },
   "outputs": [],
   "source": [
    "merged_data[\"Const.\"] = 1"
   ]
  },
  {
   "cell_type": "code",
   "execution_count": 33,
   "metadata": {
    "collapsed": false
   },
   "outputs": [
    {
     "name": "stdout",
     "output_type": "stream",
     "text": [
      "Optimization terminated successfully.\n",
      "         Current function value: 0.562206\n",
      "         Iterations 8\n",
      "                          MNLogit Regression Results                          \n",
      "==============================================================================\n",
      "Dep. Variable:               Alliance   No. Observations:                  496\n",
      "Model:                        MNLogit   Df Residuals:                      488\n",
      "Method:                           MLE   Df Model:                            4\n",
      "Date:                Tue, 08 Dec 2015   Pseudo R-squ.:                 0.05025\n",
      "Time:                        12:51:01   Log-Likelihood:                -278.85\n",
      "converged:                       True   LL-Null:                       -293.61\n",
      "                                        LLR p-value:                 6.173e-06\n",
      "=================================================================================\n",
      "   Alliance=1       coef    std err          z      P>|z|      [95.0% Conf. Int.]\n",
      "---------------------------------------------------------------------------------\n",
      "Const.           -8.0598      2.429     -3.319      0.001       -12.820    -3.300\n",
      "Mean_Distance     9.1583      7.667      1.195      0.232        -5.868    24.185\n",
      "---------------------------------------------------------------------------------\n",
      "   Alliance=2       coef    std err          z      P>|z|      [95.0% Conf. Int.]\n",
      "---------------------------------------------------------------------------------\n",
      "Const.           -5.0030      1.327     -3.769      0.000        -7.605    -2.402\n",
      "Mean_Distance     0.6237      6.523      0.096      0.924       -12.161    13.408\n",
      "---------------------------------------------------------------------------------\n",
      "   Alliance=3       coef    std err          z      P>|z|      [95.0% Conf. Int.]\n",
      "---------------------------------------------------------------------------------\n",
      "Const.           -4.3319      0.763     -5.677      0.000        -5.828    -2.836\n",
      "Mean_Distance     2.8432      3.386      0.840      0.401        -3.793     9.480\n",
      "---------------------------------------------------------------------------------\n",
      "   Alliance=4       coef    std err          z      P>|z|      [95.0% Conf. Int.]\n",
      "---------------------------------------------------------------------------------\n",
      "Const.           -0.0557      0.329     -0.169      0.866        -0.701     0.589\n",
      "Mean_Distance    -9.9052      2.231     -4.440      0.000       -14.278    -5.532\n",
      "=================================================================================\n"
     ]
    }
   ],
   "source": [
    "mn = sm.MNLogit(merged_data.Alliance, merged_data[[\"Const.\", \"Mean_Distance\"]]).fit()\n",
    "print(mn.summary())"
   ]
  },
  {
   "cell_type": "code",
   "execution_count": 34,
   "metadata": {
    "collapsed": true
   },
   "outputs": [],
   "source": [
    "with open(\"transfer/mn_ex_2.pickle\", \"wb\") as f:\n",
    "    pickle.dump(mn, f)"
   ]
  },
  {
   "cell_type": "code",
   "execution_count": 35,
   "metadata": {
    "collapsed": false
   },
   "outputs": [
    {
     "data": {
      "text/plain": [
       "<matplotlib.collections.PathCollection at 0x14a094cc0>"
      ]
     },
     "execution_count": 35,
     "metadata": {},
     "output_type": "execute_result"
    },
    {
     "data": {
      "image/png": "[encoded data removed]",
      "text/plain": [
       "<matplotlib.figure.Figure at 0x156f42da0>"
      ]
     },
     "metadata": {},
     "output_type": "display_data"
    }
   ],
   "source": [
    "plt.scatter(merged_data.Mean_Distance, merged_data.Alliance)"
   ]
  },
  {
   "cell_type": "markdown",
   "metadata": {
    "collapsed": true
   },
   "source": [
    "# Export to R for ERGM "
   ]
  },
  {
   "cell_type": "raw",
   "metadata": {},
   "source": [
    "# Only needs to be run once for Experiments 1-2 and 3-4\n",
    "adj_mat = merged_data.pivot(\"Source\", \"Target\", \"Alliance\").fillna(0)\n",
    "adj_mat.replace([1, 2, 3], [0, 0, 0], inplace=True)\n",
    "adj_mat.replace(4, 1, inplace=True)\n",
    "adj_mat.to_csv(\"transfer/alliance_adj_mat.csv\")"
   ]
  },
  {
   "cell_type": "code",
   "execution_count": 36,
   "metadata": {
    "collapsed": true
   },
   "outputs": [],
   "source": [
    "dist = merged_data.pivot(\"Source\", \"Target\", \"Mean_Distance\").fillna(0)\n",
    "dist.to_csv(\"transfer/ex2_dist.csv\")"
   ]
  }
 ],
 "metadata": {
  "kernelspec": {
   "display_name": "Python 3",
   "language": "python",
   "name": "python3"
  },
  "language_info": {
   "codemirror_mode": {
    "name": "ipython",
    "version": 3
   },
   "file_extension": ".py",
   "mimetype": "text/x-python",
   "name": "python",
   "nbconvert_exporter": "python",
   "pygments_lexer": "ipython3",
   "version": "3.4.2"
  }
 },
 "nbformat": 4,
 "nbformat_minor": 0
}
