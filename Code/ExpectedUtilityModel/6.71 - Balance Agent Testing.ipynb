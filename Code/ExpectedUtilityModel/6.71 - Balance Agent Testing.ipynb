{
 "cells": [
  {
   "cell_type": "code",
   "execution_count": 6,
   "metadata": {
    "collapsed": true
   },
   "outputs": [],
   "source": [
    "import pandas as pd\n",
    "\n",
    "from negotiation_model import *\n",
    "from bdm_agent import *\n",
    "from experiment_2_aux import *"
   ]
  },
  {
   "cell_type": "code",
   "execution_count": 7,
   "metadata": {
    "collapsed": true
   },
   "outputs": [],
   "source": [
    "NegotiationModel2.step_stages = [\"initialize\", \"send_threats\", \n",
    "                                \"resolve_threats\",  \"finalize\", \n",
    "                                \"resolve_attacks\", (\"resolve_attacks\", \"Model\")]"
   ]
  },
  {
   "cell_type": "code",
   "execution_count": 8,
   "metadata": {
    "collapsed": true
   },
   "outputs": [],
   "source": [
    "agent_df = pd.read_csv(\"ICEWS_2004_agents.csv\")"
   ]
  },
  {
   "cell_type": "code",
   "execution_count": 15,
   "metadata": {
    "collapsed": true
   },
   "outputs": [],
   "source": [
    "agents = []\n",
    "for i, row in agent_df.iterrows():\n",
    "    name = row.Name\n",
    "    capability = row.Capability\n",
    "    position = row.Position\n",
    "    salience = random.random()\n",
    "    if not position.is_integer():\n",
    "        position = 0.5 + random.normalvariate(0, 0.1)\n",
    "    new_agent = BalancingActor(name, capability, position, salience)\n",
    "\n",
    "    new_agent.decision_model.Q = 0.5\n",
    "    new_agent.decision_model.T = 0.5\n",
    "    agents.append(new_agent)\n",
    "model = NegotiationModel2(agents)"
   ]
  },
  {
   "cell_type": "code",
   "execution_count": 16,
   "metadata": {
    "collapsed": false
   },
   "outputs": [],
   "source": [
    "for j in range(24):\n",
    "    model.step()"
   ]
  },
  {
   "cell_type": "markdown",
   "metadata": {},
   "source": [
    "# Lots of runs"
   ]
  },
  {
   "cell_type": "code",
   "execution_count": 29,
   "metadata": {
    "collapsed": false
   },
   "outputs": [],
   "source": [
    "all_models = []\n",
    "for _ in range(100):\n",
    "    agents = []\n",
    "    for i, row in agent_df.iterrows():\n",
    "        name = row.Name\n",
    "        capability = row.Capability\n",
    "        position = row.Position\n",
    "        salience = random.random()\n",
    "        if not position.is_integer():\n",
    "            position = 0.5 + random.normalvariate(0, 0.1)\n",
    "        new_agent = BalancingActor(name, capability, position, salience)\n",
    "\n",
    "        new_agent.decision_model.Q = 0.5\n",
    "        new_agent.decision_model.T = 0.5\n",
    "        agents.append(new_agent)\n",
    "    model = NegotiationModel2(agents)\n",
    "    \n",
    "    for j in range(24):\n",
    "        model.step()\n",
    "    all_models.append(model)"
   ]
  },
  {
   "cell_type": "code",
   "execution_count": 30,
   "metadata": {
    "collapsed": true
   },
   "outputs": [],
   "source": [
    "class Model_Output:\n",
    "    def __init__(self, model):\n",
    "        '''\n",
    "        Store data from model run.\n",
    "        '''\n",
    "        self.agent_vars = model.datacollector.get_agent_vars_dataframe()\n",
    "        self.model_vars = model.datacollector.get_model_vars_dataframe()\n",
    "        self.log = model.log"
   ]
  },
  {
   "cell_type": "code",
   "execution_count": 31,
   "metadata": {
    "collapsed": true
   },
   "outputs": [],
   "source": [
    "model_results = [Model_Output(m) for m in all_models]"
   ]
  },
  {
   "cell_type": "code",
   "execution_count": 33,
   "metadata": {
    "collapsed": true
   },
   "outputs": [],
   "source": [
    "import pickle"
   ]
  },
  {
   "cell_type": "code",
   "execution_count": 34,
   "metadata": {
    "collapsed": false
   },
   "outputs": [],
   "source": [
    "with open(\"data_output/ICEWS_Ex4_3.pickle\", \"wb\") as f:\n",
    "    pickle.dump(model_results, f)"
   ]
  },
  {
   "cell_type": "code",
   "execution_count": null,
   "metadata": {
    "collapsed": true
   },
   "outputs": [],
   "source": []
  }
 ],
 "metadata": {
  "kernelspec": {
   "display_name": "Python 3",
   "language": "python",
   "name": "python3"
  },
  "language_info": {
   "codemirror_mode": {
    "name": "ipython",
    "version": 3
   },
   "file_extension": ".py",
   "mimetype": "text/x-python",
   "name": "python",
   "nbconvert_exporter": "python",
   "pygments_lexer": "ipython3",
   "version": "3.4.2"
  }
 },
 "nbformat": 4,
 "nbformat_minor": 0
}
