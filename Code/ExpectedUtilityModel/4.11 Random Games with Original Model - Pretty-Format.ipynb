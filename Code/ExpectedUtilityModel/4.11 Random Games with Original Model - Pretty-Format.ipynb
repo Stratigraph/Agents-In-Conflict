{
 "cells": [
  {
   "cell_type": "markdown",
   "metadata": {},
   "source": [
    "# Random Models\n",
    "\n",
    "In this experiment, I generate a series of random models in order to assess the general distribution of model outcomes."
   ]
  },
  {
   "cell_type": "code",
   "execution_count": 1,
   "metadata": {
    "collapsed": true
   },
   "outputs": [],
   "source": [
    "import copy\n",
    "from collections import defaultdict, namedtuple\n",
    "import random\n",
    "\n",
    "import numpy as np\n",
    "import scipy.stats\n",
    "import pandas as pd\n",
    "\n",
    "import matplotlib.pyplot as plt\n",
    "%matplotlib inline\n",
    "#plt.style.use('bmh')"
   ]
  },
  {
   "cell_type": "code",
   "execution_count": 2,
   "metadata": {
    "collapsed": true
   },
   "outputs": [],
   "source": [
    "from negotiation_model import *\n",
    "from bdm_agent import *\n",
    "from bdm_replication import *\n"
   ]
  },
  {
   "cell_type": "code",
   "execution_count": 7,
   "metadata": {
    "collapsed": true
   },
   "outputs": [],
   "source": [
    "params = {\n",
    "    \"font.family\": 'serif',\n",
    "    \"font.serif\": [\"Computer Modern\"],\n",
    "    'text.usetex': True,\n",
    "    'xtick.labelsize': 12,\n",
    "    'ytick.labelsize': 12,\n",
    "    'axes.labelsize': 14\n",
    "\n",
    "   }\n",
    "plt.rcParams.update(params)"
   ]
  },
  {
   "cell_type": "code",
   "execution_count": 3,
   "metadata": {
    "collapsed": true
   },
   "outputs": [],
   "source": [
    "def make_model(N):\n",
    "    '''\n",
    "    Create N random agents, with uniform attributes.\n",
    "    '''\n",
    "    capabilities = [random.random() for _ in range(N)]\n",
    "    cap_norm = sum(capabilities)\n",
    "    capabilities = [c/cap_norm for c in capabilities]\n",
    "    saliences = [random.random() for _ in range(N)]\n",
    "    positions = [random.random() for _ in range(N)]\n",
    "\n",
    "    agents = []\n",
    "    for i in range(N):\n",
    "        agent = BDMActor(str(i), capabilities[i], positions[i], saliences[i])\n",
    "        agent.decision_model.Q = 0.5\n",
    "        agent.decision_model.T = 0.5\n",
    "        agents.append(agent)\n",
    "    return Real_Negotiation_Model(agents)"
   ]
  },
  {
   "cell_type": "code",
   "execution_count": 4,
   "metadata": {
    "collapsed": true
   },
   "outputs": [],
   "source": [
    "def perturb_model(model, sd=0.1):\n",
    "    '''\n",
    "    Perturb the saliences of a model\n",
    "    '''\n",
    "    new_model = copy.deepcopy(model)\n",
    "    for agent in new_model.agents:\n",
    "        #agent.salience += agent.salience * random.normalvariate(0, sd)\n",
    "        agent.salience += random.normalvariate(0, sd)\n",
    "        agent.salience = max(0, min(1, agent.salience))\n",
    "    return new_model"
   ]
  },
  {
   "cell_type": "markdown",
   "metadata": {},
   "source": [
    "## Run one model multiple times"
   ]
  },
  {
   "cell_type": "code",
   "execution_count": 6,
   "metadata": {
    "collapsed": false
   },
   "outputs": [],
   "source": [
    "all_models = []\n",
    "for i in range(100):\n",
    "    base_model = make_model(10)\n",
    "    outcomes = []\n",
    "    models = []\n",
    "    for j in range(100):\n",
    "        model = copy.deepcopy(base_model)\n",
    "        for _ in range(10):\n",
    "            model.step()\n",
    "        outcomes.append(model.find_median())\n",
    "        models.append(model)\n",
    "    all_models.append(models)"
   ]
  },
  {
   "cell_type": "code",
   "execution_count": 29,
   "metadata": {
    "collapsed": false
   },
   "outputs": [
    {
     "data": {
      "text/plain": [
       "<matplotlib.text.Text at 0x1593b19e8>"
      ]
     },
     "execution_count": 29,
     "metadata": {},
     "output_type": "execute_result"
    },
    {
     "data": {
      "image/png": "[encoded data removed]",
      "text/plain": [
       "<matplotlib.figure.Figure at 0x1593b1be0>"
      ]
     },
     "metadata": {},
     "output_type": "display_data"
    }
   ],
   "source": [
    "fig = plt.figure(figsize=(10,10))\n",
    "for i, models in enumerate(all_models[:9]):\n",
    "    outcomes = [m.find_median() for m in models]\n",
    "    ax = fig.add_subplot(3, 3, i+1)\n",
    "    ax.set_xlim(0,1)\n",
    "    ax.set_ylim(0,100)\n",
    "    ax.hist(outcomes, bins=np.linspace(0,1,21), color='grey')\n",
    "    ax.grid(True)\n",
    "    \n",
    "    for spine in [\"top\", \"left\", \"right\", \"bottom\"]:\n",
    "        ax.spines[spine].set_visible(False)\n",
    "\n",
    "fig.text(0.125, 0.075, \"Final Median Position\", fontsize=14)\n",
    "fig.text(0.075, 0.17, \"Count\", fontsize=14, rotation=\"vertical\")\n",
    "#fig.tight_layout()"
   ]
  },
  {
   "cell_type": "code",
   "execution_count": 30,
   "metadata": {
    "collapsed": true
   },
   "outputs": [],
   "source": [
    "PATH = \"/Users/dmasad/Documents/Dissertation/Dissertation/BDM_Reproduction/Figures/\"\n",
    "fig.savefig(PATH + \"RandomGamesHist1.pdf\")"
   ]
  },
  {
   "cell_type": "code",
   "execution_count": 32,
   "metadata": {
    "collapsed": false
   },
   "outputs": [
    {
     "name": "stdout",
     "output_type": "stream",
     "text": [
      "22\n"
     ]
    },
    {
     "data": {
      "image/png": "[encoded data removed]",
      "text/plain": [
       "<matplotlib.figure.Figure at 0x15c03f7f0>"
      ]
     },
     "metadata": {},
     "output_type": "display_data"
    }
   ],
   "source": [
    "all_pvals = []\n",
    "for model_set in all_models:\n",
    "    outcomes = [m.find_median() for m in model_set]\n",
    "    _, p_val = scipy.stats.mstats.normaltest(outcomes)\n",
    "    if not np.ma.is_masked(p_val):\n",
    "        all_pvals.append(p_val)\n",
    "#plt.hist(all_pvals)\n",
    "\n",
    "fig, ax = plt.subplots(figsize=(5, 4))\n",
    "ax.hist(all_pvals, bins=np.linspace(0, 1, 21), color='grey')\n",
    "for spine in [\"top\", \"left\", \"right\", \"bottom\"]:\n",
    "    ax.spines[spine].set_visible(False)\n",
    "ax.grid(True)\n",
    "ax.set_xlabel(\"p value\")\n",
    "ax.set_ylabel(\"Count\")\n",
    "fig.tight_layout()\n",
    "print(len(all_pvals))"
   ]
  },
  {
   "cell_type": "code",
   "execution_count": 33,
   "metadata": {
    "collapsed": true
   },
   "outputs": [],
   "source": [
    "PATH = \"/Users/dmasad/Documents/Dissertation/Dissertation/BDM_Reproduction/Figures/\"\n",
    "fig.savefig(PATH + \"RandomGamesPVals1.pdf\")"
   ]
  },
  {
   "cell_type": "code",
   "execution_count": 38,
   "metadata": {
    "collapsed": false
   },
   "outputs": [
    {
     "data": {
      "image/png": "[encoded data removed]",
      "text/plain": [
       "<matplotlib.figure.Figure at 0x15e0372e8>"
      ]
     },
     "metadata": {},
     "output_type": "display_data"
    }
   ],
   "source": [
    "all_sigmas = []\n",
    "for model_set in all_models:\n",
    "    outcomes = [m.find_median() for m in model_set]\n",
    "    _, p_val = scipy.stats.mstats.normaltest(outcomes)\n",
    "    if np.ma.is_masked(p_val):\n",
    "        continue\n",
    "    all_sigmas.append(np.std(outcomes))\n",
    "\n",
    "fig, ax = plt.subplots(figsize=(5, 4))\n",
    "ax.hist(all_sigmas, bins=np.linspace(0, 0.25, 11), color='grey')\n",
    "ax.grid(True)\n",
    "ax.set_xlabel(\"Estimated Standard Deviation\")\n",
    "ax.set_ylabel(\"Count\")\n",
    "\n",
    "for spine in [\"top\", \"left\", \"right\", \"bottom\"]:\n",
    "    ax.spines[spine].set_visible(False)\n",
    "fig.tight_layout()\n",
    "fig.savefig(PATH + \"RandomGamesSD1.pdf\")\n",
    "\n",
    "#plt.hist(all_sigmas)"
   ]
  },
  {
   "cell_type": "code",
   "execution_count": 39,
   "metadata": {
    "collapsed": false
   },
   "outputs": [
    {
     "data": {
      "text/plain": [
       "(15.557501176706852, 0.00041853477029096402)"
      ]
     },
     "execution_count": 39,
     "metadata": {},
     "output_type": "execute_result"
    }
   ],
   "source": [
    "scipy.stats.mstats.normaltest(all_sigmas)"
   ]
  },
  {
   "cell_type": "markdown",
   "metadata": {},
   "source": [
    "## Run Perturbed Models"
   ]
  },
  {
   "cell_type": "code",
   "execution_count": 40,
   "metadata": {
    "collapsed": true
   },
   "outputs": [],
   "source": [
    "all_models = []\n",
    "for i in range(100):\n",
    "    base_model = make_model(10)\n",
    "    outcomes = []\n",
    "    models = []\n",
    "    for j in range(100):\n",
    "        model = perturb_model(base_model, 0.1)\n",
    "        for _ in range(10):\n",
    "            model.step()\n",
    "        outcomes.append(model.find_median())\n",
    "        models.append(model)\n",
    "    all_models.append(models)"
   ]
  },
  {
   "cell_type": "code",
   "execution_count": 42,
   "metadata": {
    "collapsed": false
   },
   "outputs": [
    {
     "data": {
      "image/png": "[encoded data removed]",
      "text/plain": [
       "<matplotlib.figure.Figure at 0x15e79d860>"
      ]
     },
     "metadata": {},
     "output_type": "display_data"
    }
   ],
   "source": [
    "fig = plt.figure(figsize=(10,10))\n",
    "for i, models in enumerate(all_models[:9]):\n",
    "    outcomes = [m.find_median() for m in models]\n",
    "    ax = fig.add_subplot(3, 3, i+1)\n",
    "    ax.set_xlim(0,1)\n",
    "    ax.set_ylim(0,100)\n",
    "    ax.hist(outcomes, bins=np.linspace(0,1,21), color='grey')\n",
    "    ax.grid(True)\n",
    "    \n",
    "    for spine in [\"top\", \"left\", \"right\", \"bottom\"]:\n",
    "        ax.spines[spine].set_visible(False)\n",
    "\n",
    "fig.text(0.125, 0.075, \"Final Median Position\", fontsize=14)\n",
    "fig.text(0.075, 0.17, \"Count\", fontsize=14, rotation=\"vertical\")\n",
    "#fig.tight_layout()\n",
    "fig.savefig(PATH + \"RandomGamesHist2.pdf\")"
   ]
  },
  {
   "cell_type": "code",
   "execution_count": 43,
   "metadata": {
    "collapsed": false
   },
   "outputs": [
    {
     "name": "stdout",
     "output_type": "stream",
     "text": [
      "96\n"
     ]
    },
    {
     "data": {
      "image/png": "[encoded data removed]",
      "text/plain": [
       "<matplotlib.figure.Figure at 0x143dc28d0>"
      ]
     },
     "metadata": {},
     "output_type": "display_data"
    }
   ],
   "source": [
    "all_pvals = []\n",
    "for model_set in all_models:\n",
    "    outcomes = [m.find_median() for m in model_set]\n",
    "    _, p_val = scipy.stats.mstats.normaltest(outcomes)\n",
    "    if not np.ma.is_masked(p_val):\n",
    "        all_pvals.append(p_val)\n",
    "#plt.hist(all_pvals)\n",
    "\n",
    "fig, ax = plt.subplots(figsize=(5, 4))\n",
    "ax.hist(all_pvals, bins=np.linspace(0, 1, 21), color='grey')\n",
    "for spine in [\"top\", \"left\", \"right\", \"bottom\"]:\n",
    "    ax.spines[spine].set_visible(False)\n",
    "ax.grid(True)\n",
    "ax.set_xlabel(\"p value\")\n",
    "ax.set_ylabel(\"Count\")\n",
    "fig.tight_layout()\n",
    "print(len(all_pvals))\n",
    "\n",
    "PATH = \"/Users/dmasad/Documents/Dissertation/Dissertation/BDM_Reproduction/Figures/\"\n",
    "fig.savefig(PATH + \"RandomGamesPVals2.pdf\")"
   ]
  },
  {
   "cell_type": "code",
   "execution_count": 44,
   "metadata": {
    "collapsed": false
   },
   "outputs": [
    {
     "data": {
      "text/plain": [
       "89"
      ]
     },
     "execution_count": 44,
     "metadata": {},
     "output_type": "execute_result"
    }
   ],
   "source": [
    "len([p for p in all_pvals if p<0.01])"
   ]
  },
  {
   "cell_type": "code",
   "execution_count": 45,
   "metadata": {
    "collapsed": false
   },
   "outputs": [
    {
     "data": {
      "image/png": "[encoded data removed]",
      "text/plain": [
       "<matplotlib.figure.Figure at 0x143db5160>"
      ]
     },
     "metadata": {},
     "output_type": "display_data"
    }
   ],
   "source": [
    "all_sigmas = []\n",
    "for model_set in all_models:\n",
    "    outcomes = [m.find_median() for m in model_set]\n",
    "    _, p_val = scipy.stats.mstats.normaltest(outcomes)\n",
    "    if np.ma.is_masked(p_val):\n",
    "        continue\n",
    "    all_sigmas.append(np.std(outcomes))\n",
    "\n",
    "fig, ax = plt.subplots(figsize=(5, 4))\n",
    "ax.hist(all_sigmas, bins=np.linspace(0, 0.25, 11), color='grey')\n",
    "ax.grid(True)\n",
    "ax.set_xlabel(\"Estimated Standard Deviation\")\n",
    "ax.set_ylabel(\"Count\")\n",
    "\n",
    "for spine in [\"top\", \"left\", \"right\", \"bottom\"]:\n",
    "    ax.spines[spine].set_visible(False)\n",
    "fig.tight_layout()\n",
    "fig.savefig(PATH + \"RandomGamesSD2.pdf\")\n"
   ]
  },
  {
   "cell_type": "code",
   "execution_count": 6,
   "metadata": {
    "collapsed": false
   },
   "outputs": [
    {
     "data": {
      "text/plain": [
       "(array([  2.,   0.,   7.,   7.,   4.,  22.,   9.,  14.,  12.,  22.]),\n",
       " array([ 0.85315712,  0.86740088,  0.88164464,  0.8958884 ,  0.91013216,\n",
       "         0.92437592,  0.93861968,  0.95286344,  0.9671072 ,  0.98135095,\n",
       "         0.99559471]),\n",
       " <a list of 10 Patch objects>)"
      ]
     },
     "execution_count": 6,
     "metadata": {},
     "output_type": "execute_result"
    },
    {
     "data": {
      "image/png": "[encoded data removed]",
      "text/plain": [
       "<matplotlib.figure.Figure at 0x10a75f518>"
      ]
     },
     "metadata": {},
     "output_type": "display_data"
    }
   ],
   "source": [
    "some_models = all_models[0]\n",
    "base = some_models[0]\n",
    "similarities = [base.log.tversky_index(m.log) for m in some_models[1:]]\n",
    "plt.hist(similarities)"
   ]
  },
  {
   "cell_type": "code",
   "execution_count": 7,
   "metadata": {
    "collapsed": false
   },
   "outputs": [
    {
     "data": {
      "text/plain": [
       "(array([  1.,   6.,  14.,  14.,   4.,  16.,  24.,  15.,   1.,   4.]),\n",
       " array([ 0.73127753,  0.74023495,  0.74919236,  0.75814978,  0.7671072 ,\n",
       "         0.77606461,  0.78502203,  0.79397944,  0.80293686,  0.81189427,\n",
       "         0.82085169]),\n",
       " <a list of 10 Patch objects>)"
      ]
     },
     "execution_count": 7,
     "metadata": {},
     "output_type": "execute_result"
    },
    {
     "data": {
      "image/png": "[encoded data removed]",
      "text/plain": [
       "<matplotlib.figure.Figure at 0x11b924400>"
      ]
     },
     "metadata": {},
     "output_type": "display_data"
    }
   ],
   "source": [
    "some_models = all_models[14]\n",
    "similarities = [base.log.tversky_index(m.log) for m in some_models[1:]]\n",
    "plt.hist(similarities)"
   ]
  },
  {
   "cell_type": "markdown",
   "metadata": {},
   "source": [
    "# Dumb Optimization\n",
    "\n",
    "Search through the space of possible models, try to find a decent match based on event series."
   ]
  },
  {
   "cell_type": "markdown",
   "metadata": {},
   "source": [
    "**Step 1:** Generate 100 random models, see which ones are the closest matches."
   ]
  },
  {
   "cell_type": "code",
   "execution_count": null,
   "metadata": {
    "collapsed": true
   },
   "outputs": [],
   "source": [
    "def compare_logs(a, b):\n",
    "    '''\n",
    "    Compare two sets of events\n",
    "    '''\n",
    "    a_set = set(a)\n",
    "    b_set = set(b)\n",
    "    overlap = a_set.intersection(b_set)\n",
    "    union = a_set.union(b_set)\n",
    "    if len(union) == 0:\n",
    "        return 0\n",
    "    return len(overlap) / len(union)"
   ]
  },
  {
   "cell_type": "code",
   "execution_count": null,
   "metadata": {
    "collapsed": true
   },
   "outputs": [],
   "source": [
    "target = base\n",
    "target_attacks = target.log.get_events(action=\"Attack\")\n",
    "\n",
    "random_models = [make_model(10) for _ in range(100)]\n",
    "model_similarity = []\n",
    "for m in random_models:\n",
    "    model = copy.deepcopy(m)\n",
    "    for i in range(10):\n",
    "        model.step()\n",
    "    attacks = model.log.get_events(action=\"Attack\")\n",
    "    match = compare_logs(target_attacks, attacks)\n",
    "    model_similarity.append(match)"
   ]
  },
  {
   "cell_type": "code",
   "execution_count": null,
   "metadata": {
    "collapsed": false
   },
   "outputs": [],
   "source": [
    "plt.hist([x for x in model_similarity if x is not None])"
   ]
  },
  {
   "cell_type": "markdown",
   "metadata": {},
   "source": [
    "**Step 2:** Take the best matching models, start modifying them."
   ]
  },
  {
   "cell_type": "code",
   "execution_count": null,
   "metadata": {
    "collapsed": true
   },
   "outputs": [],
   "source": [
    "def clamp_perturb(agent, attr, sd):\n",
    "    val = getattr(agent, attr)\n",
    "    r = random.normalvariate(0, sd)\n",
    "    val = max(0, min(1, val + val*r))\n",
    "    setattr(agent, attr, val)\n",
    "\n",
    "def tweak_model(model, sd=0.1):\n",
    "    m = copy.deepcopy(model)\n",
    "    # Perturb variables\n",
    "    for agent in m.agents:\n",
    "        for attr in [\"capability\", \"salience\", \"position\"]:\n",
    "            clamp_perturb(agent, attr, sd)\n",
    "    return m"
   ]
  },
  {
   "cell_type": "code",
   "execution_count": null,
   "metadata": {
    "collapsed": false
   },
   "outputs": [],
   "source": [
    "max_match = max(model_similarity)\n",
    "for i in range(100):\n",
    "    if model_similarity[i] == max_match:\n",
    "        break\n",
    "print(i)"
   ]
  },
  {
   "cell_type": "code",
   "execution_count": null,
   "metadata": {
    "collapsed": false
   },
   "outputs": [],
   "source": [
    "start_model = random_models[36]\n",
    "second_gen = [tweak_model(start_model, 0.1) for _ in range(100)]\n",
    "second_gen_similarities = []\n",
    "for model in second_gen:\n",
    "    m = copy.deepcopy(model)\n",
    "    try:\n",
    "        for _ in range(10):\n",
    "            m.step()\n",
    "        attacks = m.log.get_events(action=\"Attack\")\n",
    "        match = compare_logs(target_attacks, attacks)\n",
    "        second_gen_similarities.append(match)\n",
    "    except:\n",
    "        second_gen_similarities.append(0)\n",
    "\n",
    "plt.hist(second_gen_similarities)"
   ]
  },
  {
   "cell_type": "code",
   "execution_count": null,
   "metadata": {
    "collapsed": false
   },
   "outputs": [],
   "source": [
    "max_match = max(second_gen_similarities)\n",
    "print(max_match)\n",
    "for i in range(100):\n",
    "    if second_gen_similarities[i] == max_match:\n",
    "        break\n",
    "print(i)"
   ]
  },
  {
   "cell_type": "code",
   "execution_count": null,
   "metadata": {
    "collapsed": false
   },
   "outputs": [],
   "source": [
    "for agent in second_gen[72].agents:\n",
    "    print(agent)"
   ]
  },
  {
   "cell_type": "code",
   "execution_count": null,
   "metadata": {
    "collapsed": false
   },
   "outputs": [],
   "source": [
    "positions = [agent.position for agent in second_gen[72].agents]\n",
    "capabilities = [agent.capability for agent in second_gen[72].agents]\n",
    "plt.scatter(positions, capabilities)"
   ]
  },
  {
   "cell_type": "code",
   "execution_count": null,
   "metadata": {
    "collapsed": false
   },
   "outputs": [],
   "source": [
    "for agent in base.agents:\n",
    "    print(agent)"
   ]
  },
  {
   "cell_type": "code",
   "execution_count": null,
   "metadata": {
    "collapsed": false
   },
   "outputs": [],
   "source": [
    "positions = [agent.position for agent in base.agents]\n",
    "capabilities = [agent.capability for agent in base.agents]\n",
    "plt.scatter(positions, capabilities)"
   ]
  },
  {
   "cell_type": "code",
   "execution_count": null,
   "metadata": {
    "collapsed": true
   },
   "outputs": [],
   "source": [
    "b = copy.deepcopy(second_gen[72])\n",
    "for i in range(10):\n",
    "    b.step()"
   ]
  },
  {
   "cell_type": "code",
   "execution_count": null,
   "metadata": {
    "collapsed": false
   },
   "outputs": [],
   "source": [
    "base.log.tversky_index(b.log)"
   ]
  },
  {
   "cell_type": "code",
   "execution_count": null,
   "metadata": {
    "collapsed": false
   },
   "outputs": [],
   "source": [
    "b.log.tversky_index(base.log)"
   ]
  },
  {
   "cell_type": "code",
   "execution_count": null,
   "metadata": {
    "collapsed": false
   },
   "outputs": [],
   "source": [
    "b.log.get_events(action=\"Attack\")"
   ]
  },
  {
   "cell_type": "code",
   "execution_count": null,
   "metadata": {
    "collapsed": true
   },
   "outputs": [],
   "source": []
  }
 ],
 "metadata": {
  "kernelspec": {
   "display_name": "Python 3",
   "language": "python",
   "name": "python3"
  },
  "language_info": {
   "codemirror_mode": {
    "name": "ipython",
    "version": 3
   },
   "file_extension": ".py",
   "mimetype": "text/x-python",
   "name": "python",
   "nbconvert_exporter": "python",
   "pygments_lexer": "ipython3",
   "version": "3.4.2"
  }
 },
 "nbformat": 4,
 "nbformat_minor": 0
}
