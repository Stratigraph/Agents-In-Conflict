{
 "cells": [
  {
   "cell_type": "markdown",
   "metadata": {},
   "source": [
    "# Cold War Simulation Analysis\n",
    "## Experiment 3 -- Replication model, 1948 COW data"
   ]
  },
  {
   "cell_type": "code",
   "execution_count": 1,
   "metadata": {
    "collapsed": true
   },
   "outputs": [],
   "source": [
    "import copy\n",
    "import pickle\n",
    "import random\n",
    "from collections import defaultdict, namedtuple, Counter\n",
    "from itertools import combinations, permutations\n",
    "import os\n",
    "\n",
    "import numpy as np\n",
    "import scipy.stats\n",
    "\n",
    "import pandas as pd\n",
    "import networkx as nx\n",
    "import statsmodels.api as sm\n",
    "\n",
    "import matplotlib.pyplot as plt\n",
    "%matplotlib inline"
   ]
  },
  {
   "cell_type": "markdown",
   "metadata": {},
   "source": [
    "# Loading original data"
   ]
  },
  {
   "cell_type": "code",
   "execution_count": 2,
   "metadata": {
    "collapsed": false
   },
   "outputs": [],
   "source": [
    "model_data = pd.read_csv(\"ColdWarActors_1948.csv\")\n",
    "#model_data.Position = (model_data.Position + 100)/200"
   ]
  },
  {
   "cell_type": "code",
   "execution_count": 3,
   "metadata": {
    "collapsed": false
   },
   "outputs": [
    {
     "data": {
      "text/html": [
       "<div>\n",
       "<table border=\"1\" class=\"dataframe\">\n",
       "  <thead>\n",
       "    <tr style=\"text-align: right;\">\n",
       "      <th></th>\n",
       "      <th>Unnamed: 0</th>\n",
       "      <th>Capability</th>\n",
       "      <th>Country</th>\n",
       "      <th>Position</th>\n",
       "    </tr>\n",
       "  </thead>\n",
       "  <tbody>\n",
       "    <tr>\n",
       "      <th>0</th>\n",
       "      <td>0</td>\n",
       "      <td>0.294660</td>\n",
       "      <td>United States of America</td>\n",
       "      <td>1.000000e+00</td>\n",
       "    </tr>\n",
       "    <tr>\n",
       "      <th>1</th>\n",
       "      <td>1</td>\n",
       "      <td>0.164000</td>\n",
       "      <td>Russia</td>\n",
       "      <td>-3.439353e-16</td>\n",
       "    </tr>\n",
       "    <tr>\n",
       "      <th>2</th>\n",
       "      <td>2</td>\n",
       "      <td>0.115055</td>\n",
       "      <td>China</td>\n",
       "      <td>5.724034e-01</td>\n",
       "    </tr>\n",
       "    <tr>\n",
       "      <th>3</th>\n",
       "      <td>3</td>\n",
       "      <td>0.075426</td>\n",
       "      <td>United Kingdom</td>\n",
       "      <td>5.368582e-01</td>\n",
       "    </tr>\n",
       "    <tr>\n",
       "      <th>4</th>\n",
       "      <td>4</td>\n",
       "      <td>0.052450</td>\n",
       "      <td>India</td>\n",
       "      <td>5.632982e-01</td>\n",
       "    </tr>\n",
       "  </tbody>\n",
       "</table>\n",
       "</div>"
      ],
      "text/plain": [
       "   Unnamed: 0  Capability                   Country      Position\n",
       "0           0    0.294660  United States of America  1.000000e+00\n",
       "1           1    0.164000                    Russia -3.439353e-16\n",
       "2           2    0.115055                     China  5.724034e-01\n",
       "3           3    0.075426            United Kingdom  5.368582e-01\n",
       "4           4    0.052450                     India  5.632982e-01"
      ]
     },
     "execution_count": 3,
     "metadata": {},
     "output_type": "execute_result"
    }
   ],
   "source": [
    "model_data.head()"
   ]
  },
  {
   "cell_type": "markdown",
   "metadata": {},
   "source": [
    "# Data serialization"
   ]
  },
  {
   "cell_type": "code",
   "execution_count": 4,
   "metadata": {
    "collapsed": true
   },
   "outputs": [],
   "source": [
    "class Model_Output:\n",
    "    def __init__(self, model):\n",
    "        '''\n",
    "        Store data from model run.\n",
    "        '''\n",
    "        self.agent_vars = model.datacollector.get_agent_vars_dataframe()\n",
    "        self.model_vars = model.datacollector.get_model_vars_dataframe()\n",
    "        self.log = model.log"
   ]
  },
  {
   "cell_type": "code",
   "execution_count": 5,
   "metadata": {
    "collapsed": false
   },
   "outputs": [],
   "source": [
    "with open(\"data_output/ColdWar_Experiment3_1.pickle\", \"rb\") as f:\n",
    "    model_runs = pickle.load(f)"
   ]
  },
  {
   "cell_type": "code",
   "execution_count": 6,
   "metadata": {
    "collapsed": false
   },
   "outputs": [
    {
     "data": {
      "text/plain": [
       "1000"
      ]
     },
     "execution_count": 6,
     "metadata": {},
     "output_type": "execute_result"
    }
   ],
   "source": [
    "len(model_runs)"
   ]
  },
  {
   "cell_type": "markdown",
   "metadata": {},
   "source": [
    "# Analyzing median positions"
   ]
  },
  {
   "cell_type": "code",
   "execution_count": 7,
   "metadata": {
    "collapsed": true
   },
   "outputs": [],
   "source": [
    "all_dfs = []\n",
    "for i, model in enumerate(model_runs):\n",
    "    df = model.model_vars.copy()\n",
    "    df.reset_index(inplace=True)\n",
    "    df.rename(columns={\"index\": \"Step\"}, inplace=True)\n",
    "    df[\"Iteration\"] = i\n",
    "    all_dfs.append(df)\n",
    "results = pd.concat(all_dfs)"
   ]
  },
  {
   "cell_type": "code",
   "execution_count": 8,
   "metadata": {
    "collapsed": false
   },
   "outputs": [
    {
     "data": {
      "text/html": [
       "<div>\n",
       "<table border=\"1\" class=\"dataframe\">\n",
       "  <thead>\n",
       "    <tr style=\"text-align: right;\">\n",
       "      <th></th>\n",
       "      <th>Step</th>\n",
       "      <th>Mean</th>\n",
       "      <th>Median</th>\n",
       "      <th>Iteration</th>\n",
       "    </tr>\n",
       "  </thead>\n",
       "  <tbody>\n",
       "    <tr>\n",
       "      <th>20</th>\n",
       "      <td>20</td>\n",
       "      <td>0.452184</td>\n",
       "      <td>0.563298</td>\n",
       "      <td>999</td>\n",
       "    </tr>\n",
       "    <tr>\n",
       "      <th>21</th>\n",
       "      <td>21</td>\n",
       "      <td>0.661955</td>\n",
       "      <td>0.563298</td>\n",
       "      <td>999</td>\n",
       "    </tr>\n",
       "    <tr>\n",
       "      <th>22</th>\n",
       "      <td>22</td>\n",
       "      <td>0.541689</td>\n",
       "      <td>0.563298</td>\n",
       "      <td>999</td>\n",
       "    </tr>\n",
       "    <tr>\n",
       "      <th>23</th>\n",
       "      <td>23</td>\n",
       "      <td>0.672649</td>\n",
       "      <td>0.563298</td>\n",
       "      <td>999</td>\n",
       "    </tr>\n",
       "    <tr>\n",
       "      <th>24</th>\n",
       "      <td>24</td>\n",
       "      <td>0.595658</td>\n",
       "      <td>0.563298</td>\n",
       "      <td>999</td>\n",
       "    </tr>\n",
       "  </tbody>\n",
       "</table>\n",
       "</div>"
      ],
      "text/plain": [
       "    Step      Mean    Median  Iteration\n",
       "20    20  0.452184  0.563298        999\n",
       "21    21  0.661955  0.563298        999\n",
       "22    22  0.541689  0.563298        999\n",
       "23    23  0.672649  0.563298        999\n",
       "24    24  0.595658  0.563298        999"
      ]
     },
     "execution_count": 8,
     "metadata": {},
     "output_type": "execute_result"
    }
   ],
   "source": [
    "results.tail()"
   ]
  },
  {
   "cell_type": "code",
   "execution_count": 9,
   "metadata": {
    "collapsed": false
   },
   "outputs": [
    {
     "data": {
      "image/png": "[encoded data removed]",
      "text/plain": [
       "<matplotlib.figure.Figure at 0x247bd5eb8>"
      ]
     },
     "metadata": {},
     "output_type": "display_data"
    }
   ],
   "source": [
    "# Plot all runs\n",
    "fig, ax = plt.subplots(figsize=(10, 4))\n",
    "for i, group in results.groupby(\"Iteration\"):\n",
    "    group.plot(x=\"Step\", y=\"Median\", color='k', alpha=0.05, ax=ax, legend=False)\n",
    "\n",
    "ax.set_ylim(0, 1.05)\n",
    "ax.grid(True)"
   ]
  },
  {
   "cell_type": "code",
   "execution_count": 10,
   "metadata": {
    "collapsed": false
   },
   "outputs": [
    {
     "data": {
      "image/png": "[encoded data removed]",
      "text/plain": [
       "<matplotlib.figure.Figure at 0x123255470>"
      ]
     },
     "metadata": {},
     "output_type": "display_data"
    }
   ],
   "source": [
    "# Pick one trace at random\n",
    "fig, ax = plt.subplots(figsize=(10, 4))\n",
    "i = random.randint(0, 999)\n",
    "subset = results[results.Iteration==i]\n",
    "subset.plot(x=\"Step\", y=\"Median\", color='k', ax=ax, legend=False)\n",
    "subset.plot(x=\"Step\", y=\"Mean\", color='b', ax=ax, legend=False)\n",
    "\n",
    "ax.set_ylim(0, 1.05)\n",
    "ax.set_title(\"Run \" + str(i))\n",
    "ax.grid(True)"
   ]
  },
  {
   "cell_type": "code",
   "execution_count": 11,
   "metadata": {
    "collapsed": false
   },
   "outputs": [
    {
     "data": {
      "text/plain": [
       "<matplotlib.axes._subplots.AxesSubplot at 0x12324fc18>"
      ]
     },
     "execution_count": 11,
     "metadata": {},
     "output_type": "execute_result"
    },
    {
     "data": {
      "image/png": "[encoded data removed]",
      "text/plain": [
       "<matplotlib.figure.Figure at 0x247bd5d30>"
      ]
     },
     "metadata": {},
     "output_type": "display_data"
    }
   ],
   "source": [
    "results[results.Step==24][\"Median\"].hist(bins=np.linspace(0, 1, 11))"
   ]
  },
  {
   "cell_type": "code",
   "execution_count": 12,
   "metadata": {
    "collapsed": false
   },
   "outputs": [
    {
     "data": {
      "text/plain": [
       "[<matplotlib.lines.Line2D at 0x14c0efc50>]"
      ]
     },
     "execution_count": 12,
     "metadata": {},
     "output_type": "execute_result"
    },
    {
     "data": {
      "image/png": "[encoded data removed]",
      "text/plain": [
       "<matplotlib.figure.Figure at 0x1306c4cf8>"
      ]
     },
     "metadata": {},
     "output_type": "display_data"
    }
   ],
   "source": [
    "values, base = np.histogram(results[results.Step==24][\"Median\"], bins=np.linspace(0,1,51))\n",
    "cdf = np.cumsum(values)\n",
    "plt.plot(base[:-1], cdf)"
   ]
  },
  {
   "cell_type": "code",
   "execution_count": 13,
   "metadata": {
    "collapsed": true
   },
   "outputs": [],
   "source": [
    "import pyobjclipboard\n",
    "pyobjclipboard.copy_object((base, cdf))"
   ]
  },
  {
   "cell_type": "markdown",
   "metadata": {},
   "source": [
    "**Look at only runs where the US \"wins\".**"
   ]
  },
  {
   "cell_type": "code",
   "execution_count": 14,
   "metadata": {
    "collapsed": false
   },
   "outputs": [],
   "source": [
    "# Get iterations where US wins\n",
    "us_win = results[(results.Step==24) & (results.Median>0.8)][\"Iteration\"].unique()"
   ]
  },
  {
   "cell_type": "code",
   "execution_count": 15,
   "metadata": {
    "collapsed": false
   },
   "outputs": [
    {
     "data": {
      "image/png": "[encoded data removed]",
      "text/plain": [
       "<matplotlib.figure.Figure at 0x247bd5358>"
      ]
     },
     "metadata": {},
     "output_type": "display_data"
    }
   ],
   "source": [
    "# Plot a random US victory\n",
    "fig, ax = plt.subplots(figsize=(10, 4))\n",
    "i = random.choice(us_win)\n",
    "subset = results[results.Iteration==i]\n",
    "subset.plot(x=\"Step\", y=\"Median\", color='k', ax=ax, legend=False)\n",
    "subset.plot(x=\"Step\", y=\"Mean\", color='b', ax=ax, legend=False)\n",
    "\n",
    "ax.set_ylim(0, 1.05)\n",
    "ax.set_title(\"Run \" + str(i))\n",
    "ax.grid(True)"
   ]
  },
  {
   "cell_type": "code",
   "execution_count": 16,
   "metadata": {
    "collapsed": false
   },
   "outputs": [
    {
     "ename": "IndexError",
     "evalue": "Cannot choose from an empty sequence",
     "output_type": "error",
     "traceback": [
      "\u001b[0;31m---------------------------------------------------------------------------\u001b[0m",
      "\u001b[0;31mValueError\u001b[0m                                Traceback (most recent call last)",
      "\u001b[0;32m/Users/dmasad/.virtualenvs/consul/lib/python3.4/random.py\u001b[0m in \u001b[0;36mchoice\u001b[0;34m(self, seq)\u001b[0m\n\u001b[1;32m    252\u001b[0m         \u001b[0;32mtry\u001b[0m\u001b[0;34m:\u001b[0m\u001b[0;34m\u001b[0m\u001b[0m\n\u001b[0;32m--> 253\u001b[0;31m             \u001b[0mi\u001b[0m \u001b[0;34m=\u001b[0m \u001b[0mself\u001b[0m\u001b[0;34m.\u001b[0m\u001b[0m_randbelow\u001b[0m\u001b[0;34m(\u001b[0m\u001b[0mlen\u001b[0m\u001b[0;34m(\u001b[0m\u001b[0mseq\u001b[0m\u001b[0;34m)\u001b[0m\u001b[0;34m)\u001b[0m\u001b[0;34m\u001b[0m\u001b[0m\n\u001b[0m\u001b[1;32m    254\u001b[0m         \u001b[0;32mexcept\u001b[0m \u001b[0mValueError\u001b[0m\u001b[0;34m:\u001b[0m\u001b[0;34m\u001b[0m\u001b[0m\n",
      "\u001b[0;32m/Users/dmasad/.virtualenvs/consul/lib/python3.4/random.py\u001b[0m in \u001b[0;36m_randbelow\u001b[0;34m(self, n, int, maxsize, type, Method, BuiltinMethod)\u001b[0m\n\u001b[1;32m    229\u001b[0m             \u001b[0mk\u001b[0m \u001b[0;34m=\u001b[0m \u001b[0mn\u001b[0m\u001b[0;34m.\u001b[0m\u001b[0mbit_length\u001b[0m\u001b[0;34m(\u001b[0m\u001b[0;34m)\u001b[0m  \u001b[0;31m# don't use (n-1) here because n can be 1\u001b[0m\u001b[0;34m\u001b[0m\u001b[0m\n\u001b[0;32m--> 230\u001b[0;31m             \u001b[0mr\u001b[0m \u001b[0;34m=\u001b[0m \u001b[0mgetrandbits\u001b[0m\u001b[0;34m(\u001b[0m\u001b[0mk\u001b[0m\u001b[0;34m)\u001b[0m          \u001b[0;31m# 0 <= r < 2**k\u001b[0m\u001b[0;34m\u001b[0m\u001b[0m\n\u001b[0m\u001b[1;32m    231\u001b[0m             \u001b[0;32mwhile\u001b[0m \u001b[0mr\u001b[0m \u001b[0;34m>=\u001b[0m \u001b[0mn\u001b[0m\u001b[0;34m:\u001b[0m\u001b[0;34m\u001b[0m\u001b[0m\n",
      "\u001b[0;31mValueError\u001b[0m: number of bits must be greater than zero",
      "\nDuring handling of the above exception, another exception occurred:\n",
      "\u001b[0;31mIndexError\u001b[0m                                Traceback (most recent call last)",
      "\u001b[0;32m<ipython-input-16-751b4d45c908>\u001b[0m in \u001b[0;36m<module>\u001b[0;34m()\u001b[0m\n\u001b[1;32m      2\u001b[0m \u001b[0mussr_win\u001b[0m \u001b[0;34m=\u001b[0m \u001b[0mresults\u001b[0m\u001b[0;34m[\u001b[0m\u001b[0;34m(\u001b[0m\u001b[0mresults\u001b[0m\u001b[0;34m.\u001b[0m\u001b[0mStep\u001b[0m\u001b[0;34m==\u001b[0m\u001b[0;36m24\u001b[0m\u001b[0;34m)\u001b[0m \u001b[0;34m&\u001b[0m \u001b[0;34m(\u001b[0m\u001b[0mresults\u001b[0m\u001b[0;34m.\u001b[0m\u001b[0mMedian\u001b[0m\u001b[0;34m<\u001b[0m\u001b[0;36m0.2\u001b[0m\u001b[0;34m)\u001b[0m\u001b[0;34m]\u001b[0m\u001b[0;34m[\u001b[0m\u001b[0;34m\"Iteration\"\u001b[0m\u001b[0;34m]\u001b[0m\u001b[0;34m.\u001b[0m\u001b[0munique\u001b[0m\u001b[0;34m(\u001b[0m\u001b[0;34m)\u001b[0m\u001b[0;34m\u001b[0m\u001b[0m\n\u001b[1;32m      3\u001b[0m \u001b[0mfig\u001b[0m\u001b[0;34m,\u001b[0m \u001b[0max\u001b[0m \u001b[0;34m=\u001b[0m \u001b[0mplt\u001b[0m\u001b[0;34m.\u001b[0m\u001b[0msubplots\u001b[0m\u001b[0;34m(\u001b[0m\u001b[0mfigsize\u001b[0m\u001b[0;34m=\u001b[0m\u001b[0;34m(\u001b[0m\u001b[0;36m10\u001b[0m\u001b[0;34m,\u001b[0m \u001b[0;36m4\u001b[0m\u001b[0;34m)\u001b[0m\u001b[0;34m)\u001b[0m\u001b[0;34m\u001b[0m\u001b[0m\n\u001b[0;32m----> 4\u001b[0;31m \u001b[0mi\u001b[0m \u001b[0;34m=\u001b[0m \u001b[0mrandom\u001b[0m\u001b[0;34m.\u001b[0m\u001b[0mchoice\u001b[0m\u001b[0;34m(\u001b[0m\u001b[0mussr_win\u001b[0m\u001b[0;34m)\u001b[0m\u001b[0;34m\u001b[0m\u001b[0m\n\u001b[0m\u001b[1;32m      5\u001b[0m \u001b[0msubset\u001b[0m \u001b[0;34m=\u001b[0m \u001b[0mresults\u001b[0m\u001b[0;34m[\u001b[0m\u001b[0mresults\u001b[0m\u001b[0;34m.\u001b[0m\u001b[0mIteration\u001b[0m\u001b[0;34m==\u001b[0m\u001b[0mi\u001b[0m\u001b[0;34m]\u001b[0m\u001b[0;34m\u001b[0m\u001b[0m\n\u001b[1;32m      6\u001b[0m \u001b[0msubset\u001b[0m\u001b[0;34m.\u001b[0m\u001b[0mplot\u001b[0m\u001b[0;34m(\u001b[0m\u001b[0mx\u001b[0m\u001b[0;34m=\u001b[0m\u001b[0;34m\"Step\"\u001b[0m\u001b[0;34m,\u001b[0m \u001b[0my\u001b[0m\u001b[0;34m=\u001b[0m\u001b[0;34m\"Median\"\u001b[0m\u001b[0;34m,\u001b[0m \u001b[0mcolor\u001b[0m\u001b[0;34m=\u001b[0m\u001b[0;34m'k'\u001b[0m\u001b[0;34m,\u001b[0m \u001b[0max\u001b[0m\u001b[0;34m=\u001b[0m\u001b[0max\u001b[0m\u001b[0;34m,\u001b[0m \u001b[0mlegend\u001b[0m\u001b[0;34m=\u001b[0m\u001b[0;32mFalse\u001b[0m\u001b[0;34m)\u001b[0m\u001b[0;34m\u001b[0m\u001b[0m\n",
      "\u001b[0;32m/Users/dmasad/.virtualenvs/consul/lib/python3.4/random.py\u001b[0m in \u001b[0;36mchoice\u001b[0;34m(self, seq)\u001b[0m\n\u001b[1;32m    253\u001b[0m             \u001b[0mi\u001b[0m \u001b[0;34m=\u001b[0m \u001b[0mself\u001b[0m\u001b[0;34m.\u001b[0m\u001b[0m_randbelow\u001b[0m\u001b[0;34m(\u001b[0m\u001b[0mlen\u001b[0m\u001b[0;34m(\u001b[0m\u001b[0mseq\u001b[0m\u001b[0;34m)\u001b[0m\u001b[0;34m)\u001b[0m\u001b[0;34m\u001b[0m\u001b[0m\n\u001b[1;32m    254\u001b[0m         \u001b[0;32mexcept\u001b[0m \u001b[0mValueError\u001b[0m\u001b[0;34m:\u001b[0m\u001b[0;34m\u001b[0m\u001b[0m\n\u001b[0;32m--> 255\u001b[0;31m             \u001b[0;32mraise\u001b[0m \u001b[0mIndexError\u001b[0m\u001b[0;34m(\u001b[0m\u001b[0;34m'Cannot choose from an empty sequence'\u001b[0m\u001b[0;34m)\u001b[0m\u001b[0;34m\u001b[0m\u001b[0m\n\u001b[0m\u001b[1;32m    256\u001b[0m         \u001b[0;32mreturn\u001b[0m \u001b[0mseq\u001b[0m\u001b[0;34m[\u001b[0m\u001b[0mi\u001b[0m\u001b[0;34m]\u001b[0m\u001b[0;34m\u001b[0m\u001b[0m\n\u001b[1;32m    257\u001b[0m \u001b[0;34m\u001b[0m\u001b[0m\n",
      "\u001b[0;31mIndexError\u001b[0m: Cannot choose from an empty sequence"
     ]
    },
    {
     "data": {
      "image/png": "[encoded data removed]",
      "text/plain": [
       "<matplotlib.figure.Figure at 0x1575a9278>"
      ]
     },
     "metadata": {},
     "output_type": "display_data"
    }
   ],
   "source": [
    "# Get a random instantiation where USSR wins\n",
    "ussr_win = results[(results.Step==24) & (results.Median<0.2)][\"Iteration\"].unique()\n",
    "fig, ax = plt.subplots(figsize=(10, 4))\n",
    "i = random.choice(ussr_win)\n",
    "subset = results[results.Iteration==i]\n",
    "subset.plot(x=\"Step\", y=\"Median\", color='k', ax=ax, legend=False)\n",
    "subset.plot(x=\"Step\", y=\"Mean\", color='b', ax=ax, legend=False)\n",
    "\n",
    "ax.set_ylim(0, 1.05)\n",
    "ax.set_title(\"Run \" + str(i))\n",
    "ax.grid(True)"
   ]
  },
  {
   "cell_type": "code",
   "execution_count": null,
   "metadata": {
    "collapsed": false
   },
   "outputs": [],
   "source": [
    "len(ussr_win)"
   ]
  },
  {
   "cell_type": "markdown",
   "metadata": {
    "collapsed": true
   },
   "source": [
    "## Deep dive into one run"
   ]
  },
  {
   "cell_type": "code",
   "execution_count": null,
   "metadata": {
    "collapsed": false
   },
   "outputs": [],
   "source": [
    "run_choice = 224\n",
    "fig, ax = plt.subplots(figsize=(10, 4))\n",
    "subset = results[results.Iteration==run_choice]\n",
    "subset.plot(x=\"Step\", y=\"Median\", color='k', ax=ax, legend=False)\n",
    "subset.plot(x=\"Step\", y=\"Mean\", color='b', ax=ax, legend=False)\n",
    "\n",
    "ax.set_ylim(0, 1.05)\n",
    "ax.set_title(\"Run \" + str(i))\n",
    "ax.grid(True)"
   ]
  },
  {
   "cell_type": "code",
   "execution_count": null,
   "metadata": {
    "collapsed": true
   },
   "outputs": [],
   "source": [
    "m = model_runs[run_choice]"
   ]
  },
  {
   "cell_type": "code",
   "execution_count": null,
   "metadata": {
    "collapsed": true
   },
   "outputs": [],
   "source": [
    "agent_positions = m.agent_vars.copy()\n",
    "agent_positions.reset_index(inplace=True)"
   ]
  },
  {
   "cell_type": "code",
   "execution_count": null,
   "metadata": {
    "collapsed": false
   },
   "outputs": [],
   "source": [
    "fig, ax = plt.subplots(figsize=(10, 4))\n",
    "\n",
    "for i, group in agent_positions.groupby(\"AgentID\"):\n",
    "    group.plot(x=\"Step\", y=\"Position\", ax=ax, legend=False)\n",
    "\n",
    "ax.set_ylim(0, 1.05)"
   ]
  },
  {
   "cell_type": "code",
   "execution_count": null,
   "metadata": {
    "collapsed": false
   },
   "outputs": [],
   "source": [
    "fig = plt.figure(figsize=(15, 15))\n",
    "fig_num = 1\n",
    "\n",
    "for name, group in agent_positions.groupby(\"AgentID\"):\n",
    "    ax = fig.add_subplot(6,6,fig_num)\n",
    "    group.plot(x=\"Step\", y=\"Position\", ax=ax, legend=False)\n",
    "    ax.set_title(name)\n",
    "    ax.set_ylim(0, 1.05)\n",
    "    fig_num += 1\n",
    "\n",
    "fig.tight_layout()"
   ]
  },
  {
   "cell_type": "code",
   "execution_count": null,
   "metadata": {
    "collapsed": false
   },
   "outputs": [],
   "source": [
    "fig = plt.figure(figsize=(15, 15))\n",
    "fig_num = 1\n",
    "\n",
    "for name, group in agent_positions.groupby(\"AgentID\"):\n",
    "    ax = fig.add_subplot(6,6,fig_num)\n",
    "    group.plot(x=\"Step\", y=\"Position\", ax=ax, legend=False)\n",
    "    y0, y1 = ax.get_ylim()\n",
    "    ax.vlines(7, y0, y1, linestyles='--')\n",
    "    ax.set_title(name)\n",
    "    # ax.set_ylim(0, 1.05)\n",
    "    fig_num += 1\n",
    "    \n",
    "\n",
    "fig.tight_layout()"
   ]
  },
  {
   "cell_type": "code",
   "execution_count": null,
   "metadata": {
    "collapsed": false
   },
   "outputs": [],
   "source": [
    "fig.savefig(\"Output.png\", dpi=300)"
   ]
  },
  {
   "cell_type": "code",
   "execution_count": null,
   "metadata": {
    "collapsed": false,
    "scrolled": true
   },
   "outputs": [],
   "source": [
    "m.log.get_events(action=\"Attack\")"
   ]
  },
  {
   "cell_type": "code",
   "execution_count": null,
   "metadata": {
    "collapsed": true
   },
   "outputs": [],
   "source": [
    "# Average unweighted postion"
   ]
  },
  {
   "cell_type": "code",
   "execution_count": null,
   "metadata": {
    "collapsed": true
   },
   "outputs": [],
   "source": [
    "average_position = agent_positions.groupby(\"Step\").aggregate(\"mean\")"
   ]
  },
  {
   "cell_type": "code",
   "execution_count": null,
   "metadata": {
    "collapsed": false
   },
   "outputs": [],
   "source": [
    "average_position.plot()"
   ]
  },
  {
   "cell_type": "markdown",
   "metadata": {},
   "source": [
    "# Agent position analysis"
   ]
  },
  {
   "cell_type": "code",
   "execution_count": null,
   "metadata": {
    "collapsed": true
   },
   "outputs": [],
   "source": [
    "all_dfs = []\n",
    "for i, model in enumerate(model_runs):\n",
    "    df = model.agent_vars.copy()\n",
    "    df.reset_index(inplace=True)\n",
    "    df[\"Iteration\"] = i\n",
    "    all_dfs.append(df)\n",
    "agent_positions = pd.concat(all_dfs)"
   ]
  },
  {
   "cell_type": "markdown",
   "metadata": {},
   "source": [
    "## How far do agents end up from their starting position?"
   ]
  },
  {
   "cell_type": "code",
   "execution_count": null,
   "metadata": {
    "collapsed": false
   },
   "outputs": [],
   "source": [
    "end_positions = agent_positions[agent_positions.Step==24]\\\n",
    "    .groupby(\"AgentID\")[\"Position\"].aggregate([np.mean, np.std])\n",
    "\n",
    "end_positions = end_positions.rename(columns={\"mean\": \"EndPos_mean\",\n",
    "                             \"std\": \"EndPos_std\"})"
   ]
  },
  {
   "cell_type": "code",
   "execution_count": null,
   "metadata": {
    "collapsed": false
   },
   "outputs": [],
   "source": [
    "end_positions = end_positions.merge(model_data, left_index=True, right_on=\"Country\")"
   ]
  },
  {
   "cell_type": "code",
   "execution_count": null,
   "metadata": {
    "collapsed": false
   },
   "outputs": [],
   "source": [
    "end_positions.EndPos_std.mean()"
   ]
  },
  {
   "cell_type": "code",
   "execution_count": null,
   "metadata": {
    "collapsed": true
   },
   "outputs": [],
   "source": [
    "end_positions[\"Delta\"] = end_positions.EndPos_mean - end_positions.Position"
   ]
  },
  {
   "cell_type": "code",
   "execution_count": null,
   "metadata": {
    "collapsed": false
   },
   "outputs": [],
   "source": [
    "print(end_positions.Delta.mean())\n",
    "print(end_positions.Delta.min())\n",
    "print(end_positions.Delta.max())\n",
    "end_positions.Delta.hist()"
   ]
  },
  {
   "cell_type": "code",
   "execution_count": null,
   "metadata": {
    "collapsed": false
   },
   "outputs": [],
   "source": [
    "plt.scatter(end_positions.Position, end_positions.EndPos_std)"
   ]
  },
  {
   "cell_type": "code",
   "execution_count": null,
   "metadata": {
    "collapsed": false
   },
   "outputs": [],
   "source": [
    "plt.scatter(end_positions.Position, end_positions.Delta)"
   ]
  },
  {
   "cell_type": "code",
   "execution_count": null,
   "metadata": {
    "collapsed": false
   },
   "outputs": [],
   "source": [
    "end_positions.corr()"
   ]
  },
  {
   "cell_type": "code",
   "execution_count": null,
   "metadata": {
    "collapsed": false
   },
   "outputs": [],
   "source": [
    "end_positions.corr(method='spearman')"
   ]
  },
  {
   "cell_type": "code",
   "execution_count": null,
   "metadata": {
    "collapsed": false
   },
   "outputs": [],
   "source": [
    "agent_positions[(agent_positions.AgentID==\"United States of America\") & \n",
    "                (agent_positions.Step==24)][\"Position\"].hist()"
   ]
  },
  {
   "cell_type": "code",
   "execution_count": null,
   "metadata": {
    "collapsed": false
   },
   "outputs": [],
   "source": [
    "agent_positions[(agent_positions.AgentID==\"Russia\") & \n",
    "                (agent_positions.Step==24)][\"Position\"].hist()"
   ]
  },
  {
   "cell_type": "markdown",
   "metadata": {},
   "source": [
    "# Conflict frequencies"
   ]
  },
  {
   "cell_type": "code",
   "execution_count": 17,
   "metadata": {
    "collapsed": false
   },
   "outputs": [],
   "source": [
    "actors = model_data.Country.unique()"
   ]
  },
  {
   "cell_type": "code",
   "execution_count": 18,
   "metadata": {
    "collapsed": false
   },
   "outputs": [
    {
     "data": {
      "text/plain": [
       "0.56329822578208133"
      ]
     },
     "execution_count": 18,
     "metadata": {},
     "output_type": "execute_result"
    }
   ],
   "source": [
    "model.model_vars.Median[24]"
   ]
  },
  {
   "cell_type": "code",
   "execution_count": 19,
   "metadata": {
    "collapsed": false
   },
   "outputs": [],
   "source": [
    "conflict_dyads = Counter()\n",
    "conflict_models = defaultdict(set)\n",
    "\n",
    "for i, model in enumerate(model_runs):\n",
    "    if model.model_vars.Median[24] < 0.75:\n",
    "        continue\n",
    "    for event in model.log.get_events(action=\"Attack\"):\n",
    "        if event.timestamp > 25: # Max steps to consider\n",
    "            continue\n",
    "        source = event.source\n",
    "        target = event.target\n",
    "        dyad = (source, target)\n",
    "        if (target, source) in conflict_dyads:\n",
    "            dyad = (target, source)\n",
    "        conflict_dyads[dyad] += 0.5\n",
    "        conflict_models[dyad].add(i)\n",
    "\n",
    "conflict_models = {k: len(v) for k, v in conflict_models.items()}        \n",
    "        \n",
    "# Fill in zeroes\n",
    "for source, target in permutations(actors, 2):\n",
    "    dyad = (source, target)\n",
    "    if (target, source) in conflict_dyads:\n",
    "        dyad = (target, source)\n",
    "    if dyad not in conflict_dyads:\n",
    "        conflict_dyads[dyad] = 0\n",
    "    if dyad not in conflict_models:\n",
    "        conflict_models[dyad] = 0"
   ]
  },
  {
   "cell_type": "code",
   "execution_count": 20,
   "metadata": {
    "collapsed": false
   },
   "outputs": [
    {
     "data": {
      "text/plain": [
       "[(('Egypt', 'Jordan'), 170.0),\n",
       " (('France', 'Turkey'), 146.0),\n",
       " (('Belgium', 'Netherlands'), 133.0),\n",
       " (('France', 'Iran'), 119.0),\n",
       " (('Belgium', 'Bulgaria'), 111.0),\n",
       " (('Belgium', 'Luxembourg'), 101.0),\n",
       " (('Afghanistan', 'Saudi Arabia'), 101.0),\n",
       " (('Czechoslovakia', 'Romania'), 95.0),\n",
       " (('Poland', 'Hungary'), 90.0),\n",
       " (('Turkey', 'Iran'), 88.0),\n",
       " (('Saudi Arabia', 'Syria'), 88.0),\n",
       " (('Syria', 'Yemen Arab Republic'), 85.0),\n",
       " (('Czechoslovakia', 'Albania'), 84.0),\n",
       " (('Netherlands', 'Luxembourg'), 82.0),\n",
       " (('Netherlands', 'Bulgaria'), 82.0),\n",
       " (('France', 'Egypt'), 75.0),\n",
       " (('Saudi Arabia', 'Yemen Arab Republic'), 68.0),\n",
       " (('Syria', 'Lebanon'), 67.0),\n",
       " (('Yemen Arab Republic', 'Lebanon'), 58.0),\n",
       " (('Afghanistan', 'Syria'), 55.0)]"
      ]
     },
     "execution_count": 20,
     "metadata": {},
     "output_type": "execute_result"
    }
   ],
   "source": [
    "conflict_dyads.most_common(20)"
   ]
  },
  {
   "cell_type": "markdown",
   "metadata": {},
   "source": [
    "## Load MID data"
   ]
  },
  {
   "cell_type": "code",
   "execution_count": 21,
   "metadata": {
    "collapsed": true
   },
   "outputs": [],
   "source": [
    "COW = \"/Users/dmasad/Data/COW/\"\n",
    "mid_a = pd.read_csv(COW + \"MIDA_4.01.csv\")\n",
    "mid_b = pd.read_csv(COW + \"MIDB_4.01.csv\")"
   ]
  },
  {
   "cell_type": "code",
   "execution_count": 22,
   "metadata": {
    "collapsed": false
   },
   "outputs": [],
   "source": [
    "start_year = 1948\n",
    "end_year = 1998\n",
    "#end_year = 1948 + 5\n",
    "\n",
    "mid_a = mid_a[(mid_a.StYear >= start_year) & (mid_a.StYear <= end_year)]\n",
    "mid_b = mid_b[(mid_b.StYear >= start_year) & (mid_b.StYear <= end_year)]"
   ]
  },
  {
   "cell_type": "markdown",
   "metadata": {},
   "source": [
    "### Get state names"
   ]
  },
  {
   "cell_type": "code",
   "execution_count": 23,
   "metadata": {
    "collapsed": true
   },
   "outputs": [],
   "source": [
    "state_names = pd.read_csv(COW + \"SystemMembership2011/states2011.csv\")\n",
    "#state_names = state_names[[\"stateabb\", \"statenme\"]]\n",
    "state_names = state_names[[\"ccode\", \"statenme\"]]\n",
    "state_names.drop_duplicates(inplace=True)"
   ]
  },
  {
   "cell_type": "code",
   "execution_count": 24,
   "metadata": {
    "collapsed": false
   },
   "outputs": [],
   "source": [
    "name_dict = state_names.set_index(\"statenme\").to_dict()[\"ccode\"]"
   ]
  },
  {
   "cell_type": "code",
   "execution_count": 25,
   "metadata": {
    "collapsed": false
   },
   "outputs": [],
   "source": [
    "for name in model_data.Country.unique():\n",
    "    if name not in name_dict:\n",
    "        print(name)"
   ]
  },
  {
   "cell_type": "code",
   "execution_count": 26,
   "metadata": {
    "collapsed": false
   },
   "outputs": [],
   "source": [
    "#mid_b2 = mid_b.merge(state_names, how=\"left\", left_on=\"ccode\", right_on=\"stateabb\")\n",
    "mid_b = mid_b.merge(state_names, how=\"left\", on=\"ccode\")"
   ]
  },
  {
   "cell_type": "code",
   "execution_count": 27,
   "metadata": {
    "collapsed": false
   },
   "outputs": [],
   "source": [
    "observed_mids = defaultdict(int)\n",
    "for dispnum, group in mid_b.groupby(\"DispNum3\"):\n",
    "    sides = {}\n",
    "    for side, rows in group.groupby(\"SideA\"):\n",
    "        sides[side] = rows.statenme.unique()\n",
    "    # Build dyads\n",
    "    for side_a in sides[0]:\n",
    "        for side_b in sides[1]:\n",
    "            observed_mids[(side_a, side_b)] += 1\n",
    "            observed_mids[(side_b, side_a)] += 1\n",
    "observed_mids = dict(observed_mids)"
   ]
  },
  {
   "cell_type": "code",
   "execution_count": 28,
   "metadata": {
    "collapsed": true
   },
   "outputs": [],
   "source": [
    "observed_mids = pd.DataFrame({\"Observed_MIDs\": observed_mids})\n",
    "observed_mids.reset_index(inplace=True)\n",
    "observed_mids.rename(columns={\"level_0\": \"Source_Country\",\n",
    "                               \"level_1\": \"Target_Country\"}, inplace=True)"
   ]
  },
  {
   "cell_type": "markdown",
   "metadata": {},
   "source": [
    "### Merge"
   ]
  },
  {
   "cell_type": "code",
   "execution_count": 29,
   "metadata": {
    "collapsed": false
   },
   "outputs": [],
   "source": [
    "predicted_conflicts = pd.DataFrame({\"Predicted_Conflicts\": dict(conflict_dyads)})\n",
    "predicted_conflicts.reset_index(inplace=True)\n",
    "predicted_conflicts.rename(columns={\"level_0\": \"Source_Country\",\n",
    "                               \"level_1\": \"Target_Country\"}, inplace=True)"
   ]
  },
  {
   "cell_type": "code",
   "execution_count": 30,
   "metadata": {
    "collapsed": false
   },
   "outputs": [],
   "source": [
    "conflicts = predicted_conflicts.merge(observed_mids, 'left', \n",
    "                                      on=[\"Source_Country\", \"Target_Country\"])\n",
    "conflicts.fillna(0, inplace=True)"
   ]
  },
  {
   "cell_type": "code",
   "execution_count": 42,
   "metadata": {
    "collapsed": true
   },
   "outputs": [],
   "source": [
    "conflicts.Predicted_Conflicts /= 1000"
   ]
  },
  {
   "cell_type": "code",
   "execution_count": 43,
   "metadata": {
    "collapsed": false
   },
   "outputs": [
    {
     "data": {
      "text/plain": [
       "<matplotlib.collections.PathCollection at 0x12e264588>"
      ]
     },
     "execution_count": 43,
     "metadata": {},
     "output_type": "execute_result"
    },
    {
     "data": {
      "image/png": "[encoded data removed]",
      "text/plain": [
       "<matplotlib.figure.Figure at 0x1b0d31550>"
      ]
     },
     "metadata": {},
     "output_type": "display_data"
    }
   ],
   "source": [
    "plt.scatter(conflicts.Predicted_Conflicts, conflicts.Observed_MIDs)"
   ]
  },
  {
   "cell_type": "code",
   "execution_count": 44,
   "metadata": {
    "collapsed": false
   },
   "outputs": [
    {
     "data": {
      "text/html": [
       "<div>\n",
       "<table border=\"1\" class=\"dataframe\">\n",
       "  <thead>\n",
       "    <tr style=\"text-align: right;\">\n",
       "      <th></th>\n",
       "      <th>Predicted_Conflicts</th>\n",
       "      <th>Observed_MIDs</th>\n",
       "      <th>Const.</th>\n",
       "      <th>MID_Dummy</th>\n",
       "      <th>PredictedConflicts_Dummy</th>\n",
       "    </tr>\n",
       "  </thead>\n",
       "  <tbody>\n",
       "    <tr>\n",
       "      <th>Predicted_Conflicts</th>\n",
       "      <td>1.000000</td>\n",
       "      <td>0.067522</td>\n",
       "      <td>NaN</td>\n",
       "      <td>0.102247</td>\n",
       "      <td>0.419952</td>\n",
       "    </tr>\n",
       "    <tr>\n",
       "      <th>Observed_MIDs</th>\n",
       "      <td>0.067522</td>\n",
       "      <td>1.000000</td>\n",
       "      <td>NaN</td>\n",
       "      <td>0.506119</td>\n",
       "      <td>0.065795</td>\n",
       "    </tr>\n",
       "    <tr>\n",
       "      <th>Const.</th>\n",
       "      <td>NaN</td>\n",
       "      <td>NaN</td>\n",
       "      <td>NaN</td>\n",
       "      <td>NaN</td>\n",
       "      <td>NaN</td>\n",
       "    </tr>\n",
       "    <tr>\n",
       "      <th>MID_Dummy</th>\n",
       "      <td>0.102247</td>\n",
       "      <td>0.506119</td>\n",
       "      <td>NaN</td>\n",
       "      <td>1.000000</td>\n",
       "      <td>0.096070</td>\n",
       "    </tr>\n",
       "    <tr>\n",
       "      <th>PredictedConflicts_Dummy</th>\n",
       "      <td>0.419952</td>\n",
       "      <td>0.065795</td>\n",
       "      <td>NaN</td>\n",
       "      <td>0.096070</td>\n",
       "      <td>1.000000</td>\n",
       "    </tr>\n",
       "  </tbody>\n",
       "</table>\n",
       "</div>"
      ],
      "text/plain": [
       "                          Predicted_Conflicts  Observed_MIDs  Const.  \\\n",
       "Predicted_Conflicts                  1.000000       0.067522     NaN   \n",
       "Observed_MIDs                        0.067522       1.000000     NaN   \n",
       "Const.                                    NaN            NaN     NaN   \n",
       "MID_Dummy                            0.102247       0.506119     NaN   \n",
       "PredictedConflicts_Dummy             0.419952       0.065795     NaN   \n",
       "\n",
       "                          MID_Dummy  PredictedConflicts_Dummy  \n",
       "Predicted_Conflicts        0.102247                  0.419952  \n",
       "Observed_MIDs              0.506119                  0.065795  \n",
       "Const.                          NaN                       NaN  \n",
       "MID_Dummy                  1.000000                  0.096070  \n",
       "PredictedConflicts_Dummy   0.096070                  1.000000  "
      ]
     },
     "execution_count": 44,
     "metadata": {},
     "output_type": "execute_result"
    }
   ],
   "source": [
    "conflicts.corr()"
   ]
  },
  {
   "cell_type": "code",
   "execution_count": 45,
   "metadata": {
    "collapsed": true
   },
   "outputs": [],
   "source": [
    "conflicts[\"Const.\"] = 1"
   ]
  },
  {
   "cell_type": "code",
   "execution_count": 46,
   "metadata": {
    "collapsed": false
   },
   "outputs": [
    {
     "name": "stdout",
     "output_type": "stream",
     "text": [
      "                            OLS Regression Results                            \n",
      "==============================================================================\n",
      "Dep. Variable:          Observed_MIDs   R-squared:                       0.005\n",
      "Model:                            OLS   Adj. R-squared:                  0.004\n",
      "Method:                 Least Squares   F-statistic:                     11.70\n",
      "Date:                Wed, 09 Dec 2015   Prob (F-statistic):           0.000636\n",
      "Time:                        15:01:39   Log-Likelihood:                -5917.4\n",
      "No. Observations:                2556   AIC:                         1.184e+04\n",
      "Df Residuals:                    2554   BIC:                         1.185e+04\n",
      "Df Model:                           1                                         \n",
      "Covariance Type:            nonrobust                                         \n",
      "=======================================================================================\n",
      "                          coef    std err          t      P>|t|      [95.0% Conf. Int.]\n",
      "---------------------------------------------------------------------------------------\n",
      "Const.                  0.3922      0.049      7.940      0.000         0.295     0.489\n",
      "Predicted_Conflicts    17.4094      5.090      3.420      0.001         7.428    27.391\n",
      "==============================================================================\n",
      "Omnibus:                     4486.291   Durbin-Watson:                   1.898\n",
      "Prob(Omnibus):                  0.000   Jarque-Bera (JB):          4237442.542\n",
      "Skew:                          12.262   Prob(JB):                         0.00\n",
      "Kurtosis:                     200.956   Cond. No.                         105.\n",
      "==============================================================================\n",
      "\n",
      "Warnings:\n",
      "[1] Standard Errors assume that the covariance matrix of the errors is correctly specified.\n"
     ]
    }
   ],
   "source": [
    "lm = sm.OLS(conflicts.Observed_MIDs, conflicts[[\"Const.\", \"Predicted_Conflicts\"]])\n",
    "fit = lm.fit()\n",
    "print(fit.summary())"
   ]
  },
  {
   "cell_type": "code",
   "execution_count": 47,
   "metadata": {
    "collapsed": false
   },
   "outputs": [],
   "source": [
    "with open(\"lm_ex_3.pickle\", \"wb\") as f:\n",
    "    pickle.dump(fit, f)"
   ]
  },
  {
   "cell_type": "code",
   "execution_count": 48,
   "metadata": {
    "collapsed": false
   },
   "outputs": [
    {
     "name": "stderr",
     "output_type": "stream",
     "text": [
      "/Users/dmasad/.virtualenvs/consul/lib/python3.4/site-packages/ipykernel/__main__.py:2: SettingWithCopyWarning: \n",
      "A value is trying to be set on a copy of a slice from a DataFrame\n",
      "\n",
      "See the the caveats in the documentation: http://pandas.pydata.org/pandas-docs/stable/indexing.html#indexing-view-versus-copy\n",
      "  from ipykernel import kernelapp as app\n"
     ]
    }
   ],
   "source": [
    "conflicts[\"MID_Dummy\"] = 0\n",
    "conflicts[\"MID_Dummy\"][conflicts.Observed_MIDs > 0] = 1"
   ]
  },
  {
   "cell_type": "code",
   "execution_count": 49,
   "metadata": {
    "collapsed": false
   },
   "outputs": [
    {
     "name": "stdout",
     "output_type": "stream",
     "text": [
      "Optimization terminated successfully.\n",
      "         Current function value: 0.331459\n",
      "         Iterations 6\n",
      "                           Logit Regression Results                           \n",
      "==============================================================================\n",
      "Dep. Variable:              MID_Dummy   No. Observations:                 2556\n",
      "Model:                          Logit   Df Residuals:                     2554\n",
      "Method:                           MLE   Df Model:                            1\n",
      "Date:                Wed, 09 Dec 2015   Pseudo R-squ.:                0.009903\n",
      "Time:                        15:03:02   Log-Likelihood:                -847.21\n",
      "converged:                       True   LL-Null:                       -855.68\n",
      "                                        LLR p-value:                 3.843e-05\n",
      "=======================================================================================\n",
      "                          coef    std err          z      P>|z|      [95.0% Conf. Int.]\n",
      "---------------------------------------------------------------------------------------\n",
      "Const.                 -2.2005      0.067    -33.018      0.000        -2.331    -2.070\n",
      "Predicted_Conflicts    19.7385      4.556      4.332      0.000        10.808    28.669\n",
      "=======================================================================================\n"
     ]
    }
   ],
   "source": [
    "logit = sm.Logit(conflicts.MID_Dummy, conflicts[[\"Const.\", \"Predicted_Conflicts\"]])\n",
    "fit = logit.fit()\n",
    "print(fit.summary())"
   ]
  },
  {
   "cell_type": "code",
   "execution_count": 50,
   "metadata": {
    "collapsed": true
   },
   "outputs": [],
   "source": [
    "with open(\"logit_ex_3.pickle\", \"wb\") as f:\n",
    "    pickle.dump(fit, f)"
   ]
  },
  {
   "cell_type": "code",
   "execution_count": 51,
   "metadata": {
    "collapsed": false
   },
   "outputs": [
    {
     "name": "stderr",
     "output_type": "stream",
     "text": [
      "/Users/dmasad/.virtualenvs/consul/lib/python3.4/site-packages/ipykernel/__main__.py:2: SettingWithCopyWarning: \n",
      "A value is trying to be set on a copy of a slice from a DataFrame\n",
      "\n",
      "See the the caveats in the documentation: http://pandas.pydata.org/pandas-docs/stable/indexing.html#indexing-view-versus-copy\n",
      "  from ipykernel import kernelapp as app\n"
     ]
    }
   ],
   "source": [
    "conflicts[\"PredictedConflicts_Dummy\"] = 0\n",
    "conflicts[\"PredictedConflicts_Dummy\"][conflicts.Predicted_Conflicts>0] = 1"
   ]
  },
  {
   "cell_type": "code",
   "execution_count": 52,
   "metadata": {
    "collapsed": false
   },
   "outputs": [
    {
     "name": "stdout",
     "output_type": "stream",
     "text": [
      "Optimization terminated successfully.\n",
      "         Current function value: 0.330649\n",
      "         Iterations 6\n",
      "                           Logit Regression Results                           \n",
      "==============================================================================\n",
      "Dep. Variable:              MID_Dummy   No. Observations:                 2556\n",
      "Model:                          Logit   Df Residuals:                     2554\n",
      "Method:                           MLE   Df Model:                            1\n",
      "Date:                Wed, 09 Dec 2015   Pseudo R-squ.:                 0.01232\n",
      "Time:                        15:03:15   Log-Likelihood:                -845.14\n",
      "converged:                       True   LL-Null:                       -855.68\n",
      "                                        LLR p-value:                 4.388e-06\n",
      "============================================================================================\n",
      "                               coef    std err          z      P>|z|      [95.0% Conf. Int.]\n",
      "--------------------------------------------------------------------------------------------\n",
      "Const.                      -2.3036      0.076    -30.357      0.000        -2.452    -2.155\n",
      "PredictedConflicts_Dummy     0.7021      0.147      4.781      0.000         0.414     0.990\n",
      "============================================================================================\n"
     ]
    }
   ],
   "source": [
    "logit = sm.Logit(conflicts.MID_Dummy, conflicts[[\"Const.\", \"PredictedConflicts_Dummy\"]])\n",
    "fit = logit.fit()\n",
    "print(fit.summary())"
   ]
  },
  {
   "cell_type": "code",
   "execution_count": 60,
   "metadata": {
    "collapsed": true
   },
   "outputs": [],
   "source": [
    "conflicts.to_csv(\"transfer/conflict_df_ex3.csv\")"
   ]
  },
  {
   "cell_type": "markdown",
   "metadata": {
    "collapsed": true
   },
   "source": [
    "# Top conflict dyads"
   ]
  },
  {
   "cell_type": "code",
   "execution_count": 58,
   "metadata": {
    "collapsed": true
   },
   "outputs": [],
   "source": [
    "conflict_pairs = conflicts[[\"Source_Country\", \"Target_Country\", \n",
    "                            \"Predicted_Conflicts\", \"Observed_MIDs\"]].copy()"
   ]
  },
  {
   "cell_type": "code",
   "execution_count": 59,
   "metadata": {
    "collapsed": false
   },
   "outputs": [],
   "source": [
    "conflict_pairs.sort(\"Predicted_Conflicts\", ascending=False).head(10).to_clipboard()"
   ]
  },
  {
   "cell_type": "code",
   "execution_count": 56,
   "metadata": {
    "collapsed": false
   },
   "outputs": [],
   "source": [
    "conflict_pairs.sort(\"Observed_MIDs\", ascending=False).head(10).to_clipboard()"
   ]
  },
  {
   "cell_type": "code",
   "execution_count": null,
   "metadata": {
    "collapsed": true
   },
   "outputs": [],
   "source": []
  }
 ],
 "metadata": {
  "kernelspec": {
   "display_name": "Python 3",
   "language": "python",
   "name": "python3"
  },
  "language_info": {
   "codemirror_mode": {
    "name": "ipython",
    "version": 3
   },
   "file_extension": ".py",
   "mimetype": "text/x-python",
   "name": "python",
   "nbconvert_exporter": "python",
   "pygments_lexer": "ipython3",
   "version": "3.4.2"
  }
 },
 "nbformat": 4,
 "nbformat_minor": 0
}
