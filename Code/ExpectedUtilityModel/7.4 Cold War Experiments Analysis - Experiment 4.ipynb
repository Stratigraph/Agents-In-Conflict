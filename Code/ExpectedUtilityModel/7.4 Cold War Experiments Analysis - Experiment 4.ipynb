{
 "cells": [
  {
   "cell_type": "markdown",
   "metadata": {},
   "source": [
    "# Cold War Simulation Analysis\n",
    "## Experiment 4 -- New model, 1948 COW data"
   ]
  },
  {
   "cell_type": "code",
   "execution_count": 1,
   "metadata": {
    "collapsed": true
   },
   "outputs": [],
   "source": [
    "import copy\n",
    "import pickle\n",
    "import random\n",
    "from collections import defaultdict, namedtuple, Counter\n",
    "from itertools import combinations, permutations\n",
    "import os\n",
    "\n",
    "import numpy as np\n",
    "import scipy.stats\n",
    "\n",
    "import pandas as pd\n",
    "import networkx as nx\n",
    "import statsmodels.api as sm\n",
    "\n",
    "import matplotlib.pyplot as plt\n",
    "%matplotlib inline"
   ]
  },
  {
   "cell_type": "markdown",
   "metadata": {},
   "source": [
    "# Loading original data"
   ]
  },
  {
   "cell_type": "code",
   "execution_count": 2,
   "metadata": {
    "collapsed": false
   },
   "outputs": [],
   "source": [
    "model_data = pd.read_csv(\"ColdWarActors_1948.csv\")\n",
    "#model_data.Position = (model_data.Position + 100)/200"
   ]
  },
  {
   "cell_type": "code",
   "execution_count": 3,
   "metadata": {
    "collapsed": false
   },
   "outputs": [
    {
     "data": {
      "text/html": [
       "<div>\n",
       "<table border=\"1\" class=\"dataframe\">\n",
       "  <thead>\n",
       "    <tr style=\"text-align: right;\">\n",
       "      <th></th>\n",
       "      <th>Unnamed: 0</th>\n",
       "      <th>Capability</th>\n",
       "      <th>Country</th>\n",
       "      <th>Position</th>\n",
       "    </tr>\n",
       "  </thead>\n",
       "  <tbody>\n",
       "    <tr>\n",
       "      <th>0</th>\n",
       "      <td>0</td>\n",
       "      <td>0.294660</td>\n",
       "      <td>United States of America</td>\n",
       "      <td>1.000000e+00</td>\n",
       "    </tr>\n",
       "    <tr>\n",
       "      <th>1</th>\n",
       "      <td>1</td>\n",
       "      <td>0.164000</td>\n",
       "      <td>Russia</td>\n",
       "      <td>-3.439353e-16</td>\n",
       "    </tr>\n",
       "    <tr>\n",
       "      <th>2</th>\n",
       "      <td>2</td>\n",
       "      <td>0.115055</td>\n",
       "      <td>China</td>\n",
       "      <td>5.724034e-01</td>\n",
       "    </tr>\n",
       "    <tr>\n",
       "      <th>3</th>\n",
       "      <td>3</td>\n",
       "      <td>0.075426</td>\n",
       "      <td>United Kingdom</td>\n",
       "      <td>5.368582e-01</td>\n",
       "    </tr>\n",
       "    <tr>\n",
       "      <th>4</th>\n",
       "      <td>4</td>\n",
       "      <td>0.052450</td>\n",
       "      <td>India</td>\n",
       "      <td>5.632982e-01</td>\n",
       "    </tr>\n",
       "  </tbody>\n",
       "</table>\n",
       "</div>"
      ],
      "text/plain": [
       "   Unnamed: 0  Capability                   Country      Position\n",
       "0           0    0.294660  United States of America  1.000000e+00\n",
       "1           1    0.164000                    Russia -3.439353e-16\n",
       "2           2    0.115055                     China  5.724034e-01\n",
       "3           3    0.075426            United Kingdom  5.368582e-01\n",
       "4           4    0.052450                     India  5.632982e-01"
      ]
     },
     "execution_count": 3,
     "metadata": {},
     "output_type": "execute_result"
    }
   ],
   "source": [
    "model_data.head()"
   ]
  },
  {
   "cell_type": "markdown",
   "metadata": {},
   "source": [
    "# Data serialization"
   ]
  },
  {
   "cell_type": "code",
   "execution_count": 4,
   "metadata": {
    "collapsed": true
   },
   "outputs": [],
   "source": [
    "class Model_Output:\n",
    "    def __init__(self, model):\n",
    "        '''\n",
    "        Store data from model run.\n",
    "        '''\n",
    "        self.agent_vars = model.datacollector.get_agent_vars_dataframe()\n",
    "        self.model_vars = model.datacollector.get_model_vars_dataframe()\n",
    "        self.log = model.log"
   ]
  },
  {
   "cell_type": "code",
   "execution_count": 5,
   "metadata": {
    "collapsed": false
   },
   "outputs": [],
   "source": [
    "with open(\"data_output/ColdWar_Experiment4_2.pickle\", \"rb\") as f:\n",
    "    model_runs = pickle.load(f)"
   ]
  },
  {
   "cell_type": "code",
   "execution_count": 6,
   "metadata": {
    "collapsed": false
   },
   "outputs": [
    {
     "data": {
      "text/plain": [
       "1000"
      ]
     },
     "execution_count": 6,
     "metadata": {},
     "output_type": "execute_result"
    }
   ],
   "source": [
    "len(model_runs)"
   ]
  },
  {
   "cell_type": "markdown",
   "metadata": {},
   "source": [
    "# Analyzing median positions"
   ]
  },
  {
   "cell_type": "code",
   "execution_count": 7,
   "metadata": {
    "collapsed": true
   },
   "outputs": [],
   "source": [
    "all_dfs = []\n",
    "for i, model in enumerate(model_runs):\n",
    "    df = model.model_vars.copy()\n",
    "    df.reset_index(inplace=True)\n",
    "    df.rename(columns={\"index\": \"Step\"}, inplace=True)\n",
    "    df[\"Iteration\"] = i\n",
    "    all_dfs.append(df)\n",
    "results = pd.concat(all_dfs)"
   ]
  },
  {
   "cell_type": "code",
   "execution_count": 8,
   "metadata": {
    "collapsed": false
   },
   "outputs": [
    {
     "data": {
      "text/html": [
       "<div>\n",
       "<table border=\"1\" class=\"dataframe\">\n",
       "  <thead>\n",
       "    <tr style=\"text-align: right;\">\n",
       "      <th></th>\n",
       "      <th>Step</th>\n",
       "      <th>Mean</th>\n",
       "      <th>Median</th>\n",
       "      <th>Iteration</th>\n",
       "    </tr>\n",
       "  </thead>\n",
       "  <tbody>\n",
       "    <tr>\n",
       "      <th>20</th>\n",
       "      <td>20</td>\n",
       "      <td>0.556160</td>\n",
       "      <td>0.562771</td>\n",
       "      <td>999</td>\n",
       "    </tr>\n",
       "    <tr>\n",
       "      <th>21</th>\n",
       "      <td>21</td>\n",
       "      <td>0.552220</td>\n",
       "      <td>0.555878</td>\n",
       "      <td>999</td>\n",
       "    </tr>\n",
       "    <tr>\n",
       "      <th>22</th>\n",
       "      <td>22</td>\n",
       "      <td>0.560821</td>\n",
       "      <td>0.562771</td>\n",
       "      <td>999</td>\n",
       "    </tr>\n",
       "    <tr>\n",
       "      <th>23</th>\n",
       "      <td>23</td>\n",
       "      <td>0.557091</td>\n",
       "      <td>0.552389</td>\n",
       "      <td>999</td>\n",
       "    </tr>\n",
       "    <tr>\n",
       "      <th>24</th>\n",
       "      <td>24</td>\n",
       "      <td>0.563304</td>\n",
       "      <td>0.563298</td>\n",
       "      <td>999</td>\n",
       "    </tr>\n",
       "  </tbody>\n",
       "</table>\n",
       "</div>"
      ],
      "text/plain": [
       "    Step      Mean    Median  Iteration\n",
       "20    20  0.556160  0.562771        999\n",
       "21    21  0.552220  0.555878        999\n",
       "22    22  0.560821  0.562771        999\n",
       "23    23  0.557091  0.552389        999\n",
       "24    24  0.563304  0.563298        999"
      ]
     },
     "execution_count": 8,
     "metadata": {},
     "output_type": "execute_result"
    }
   ],
   "source": [
    "results.tail()"
   ]
  },
  {
   "cell_type": "code",
   "execution_count": 9,
   "metadata": {
    "collapsed": false
   },
   "outputs": [
    {
     "data": {
      "image/png": "[encoded data removed]",
      "text/plain": [
       "<matplotlib.figure.Figure at 0x24ee2ffd0>"
      ]
     },
     "metadata": {},
     "output_type": "display_data"
    }
   ],
   "source": [
    "# Plot all runs\n",
    "fig, ax = plt.subplots(figsize=(10, 4))\n",
    "for i, group in results.groupby(\"Iteration\"):\n",
    "    group.plot(x=\"Step\", y=\"Median\", color='k', alpha=0.05, ax=ax, legend=False)\n",
    "\n",
    "ax.set_ylim(0, 1.05)\n",
    "ax.grid(True)"
   ]
  },
  {
   "cell_type": "code",
   "execution_count": 10,
   "metadata": {
    "collapsed": false
   },
   "outputs": [
    {
     "data": {
      "image/png": "[encoded data removed]",
      "text/plain": [
       "<matplotlib.figure.Figure at 0x12628d320>"
      ]
     },
     "metadata": {},
     "output_type": "display_data"
    }
   ],
   "source": [
    "# Pick one trace at random\n",
    "fig, ax = plt.subplots(figsize=(10, 4))\n",
    "i = random.randint(0, 999)\n",
    "subset = results[results.Iteration==i]\n",
    "subset.plot(x=\"Step\", y=\"Median\", color='k', ax=ax, legend=False)\n",
    "subset.plot(x=\"Step\", y=\"Mean\", color='b', ax=ax, legend=False)\n",
    "\n",
    "ax.set_ylim(0, 1.05)\n",
    "ax.set_title(\"Run \" + str(i))\n",
    "ax.grid(True)"
   ]
  },
  {
   "cell_type": "code",
   "execution_count": 11,
   "metadata": {
    "collapsed": false
   },
   "outputs": [
    {
     "data": {
      "text/plain": [
       "<matplotlib.axes._subplots.AxesSubplot at 0x1262817f0>"
      ]
     },
     "execution_count": 11,
     "metadata": {},
     "output_type": "execute_result"
    },
    {
     "data": {
      "image/png": "[encoded data removed]",
      "text/plain": [
       "<matplotlib.figure.Figure at 0x24ee2f2b0>"
      ]
     },
     "metadata": {},
     "output_type": "display_data"
    }
   ],
   "source": [
    "results[results.Step==24][\"Median\"].hist(bins=np.linspace(0, 1, 11))"
   ]
  },
  {
   "cell_type": "code",
   "execution_count": 12,
   "metadata": {
    "collapsed": false
   },
   "outputs": [
    {
     "data": {
      "text/plain": [
       "[<matplotlib.lines.Line2D at 0x160a93e80>]"
      ]
     },
     "execution_count": 12,
     "metadata": {},
     "output_type": "execute_result"
    },
    {
     "data": {
      "image/png": "[encoded data removed]",
      "text/plain": [
       "<matplotlib.figure.Figure at 0x14d0a0ef0>"
      ]
     },
     "metadata": {},
     "output_type": "display_data"
    }
   ],
   "source": [
    "values, base = np.histogram(results[results.Step==24][\"Median\"], bins=np.linspace(0,1,51))\n",
    "cdf = np.cumsum(values)\n",
    "plt.plot(base[:-1], cdf)"
   ]
  },
  {
   "cell_type": "code",
   "execution_count": 13,
   "metadata": {
    "collapsed": true
   },
   "outputs": [],
   "source": [
    "import pyobjclipboard\n",
    "pyobjclipboard.copy_object((base, cdf))"
   ]
  },
  {
   "cell_type": "markdown",
   "metadata": {},
   "source": [
    "**Look at only runs where the US \"wins\".**"
   ]
  },
  {
   "cell_type": "code",
   "execution_count": 14,
   "metadata": {
    "collapsed": false
   },
   "outputs": [],
   "source": [
    "# Get iterations where US wins\n",
    "us_win = results[(results.Step==24) & (results.Median>0.8)][\"Iteration\"].unique()"
   ]
  },
  {
   "cell_type": "code",
   "execution_count": 15,
   "metadata": {
    "collapsed": false
   },
   "outputs": [
    {
     "data": {
      "text/plain": [
       "4"
      ]
     },
     "execution_count": 15,
     "metadata": {},
     "output_type": "execute_result"
    }
   ],
   "source": [
    "len(us_win)"
   ]
  },
  {
   "cell_type": "code",
   "execution_count": 16,
   "metadata": {
    "collapsed": false
   },
   "outputs": [
    {
     "data": {
      "image/png": "[encoded data removed]",
      "text/plain": [
       "<matplotlib.figure.Figure at 0x15e817b00>"
      ]
     },
     "metadata": {},
     "output_type": "display_data"
    }
   ],
   "source": [
    "# Plot a random US victory\n",
    "fig, ax = plt.subplots(figsize=(10, 4))\n",
    "i = random.choice(us_win)\n",
    "subset = results[results.Iteration==i]\n",
    "subset.plot(x=\"Step\", y=\"Median\", color='k', ax=ax, legend=False)\n",
    "subset.plot(x=\"Step\", y=\"Mean\", color='b', ax=ax, legend=False)\n",
    "\n",
    "ax.set_ylim(0, 1.05)\n",
    "ax.set_title(\"Run \" + str(i))\n",
    "ax.grid(True)"
   ]
  },
  {
   "cell_type": "code",
   "execution_count": 17,
   "metadata": {
    "collapsed": true
   },
   "outputs": [],
   "source": [
    "ussr_win = results[(results.Step==24) & (results.Median<0.2)][\"Iteration\"].unique()"
   ]
  },
  {
   "cell_type": "code",
   "execution_count": 18,
   "metadata": {
    "collapsed": false
   },
   "outputs": [
    {
     "data": {
      "text/plain": [
       "0"
      ]
     },
     "execution_count": 18,
     "metadata": {},
     "output_type": "execute_result"
    }
   ],
   "source": [
    "len(ussr_win)"
   ]
  },
  {
   "cell_type": "markdown",
   "metadata": {
    "collapsed": true
   },
   "source": [
    "## Deep dive into one run"
   ]
  },
  {
   "cell_type": "code",
   "execution_count": 19,
   "metadata": {
    "collapsed": false
   },
   "outputs": [
    {
     "data": {
      "image/png": "[encoded data removed]",
      "text/plain": [
       "<matplotlib.figure.Figure at 0x140d3fc88>"
      ]
     },
     "metadata": {},
     "output_type": "display_data"
    }
   ],
   "source": [
    "run_choice = 127\n",
    "fig, ax = plt.subplots(figsize=(10, 4))\n",
    "subset = results[results.Iteration==run_choice]\n",
    "subset.plot(x=\"Step\", y=\"Median\", color='k', ax=ax, legend=False)\n",
    "subset.plot(x=\"Step\", y=\"Mean\", color='b', ax=ax, legend=False)\n",
    "\n",
    "ax.set_ylim(0, 1.05)\n",
    "ax.set_title(\"Run \" + str(i))\n",
    "ax.grid(True)"
   ]
  },
  {
   "cell_type": "code",
   "execution_count": 20,
   "metadata": {
    "collapsed": true
   },
   "outputs": [],
   "source": [
    "m = model_runs[run_choice]"
   ]
  },
  {
   "cell_type": "code",
   "execution_count": 21,
   "metadata": {
    "collapsed": true
   },
   "outputs": [],
   "source": [
    "agent_positions = m.agent_vars.copy()\n",
    "agent_positions.reset_index(inplace=True)"
   ]
  },
  {
   "cell_type": "code",
   "execution_count": 22,
   "metadata": {
    "collapsed": false
   },
   "outputs": [
    {
     "data": {
      "text/plain": [
       "(0, 1.05)"
      ]
     },
     "execution_count": 22,
     "metadata": {},
     "output_type": "execute_result"
    },
    {
     "data": {
      "image/png": "[encoded data removed]",
      "text/plain": [
       "<matplotlib.figure.Figure at 0x15e8130f0>"
      ]
     },
     "metadata": {},
     "output_type": "display_data"
    }
   ],
   "source": [
    "fig, ax = plt.subplots(figsize=(10, 4))\n",
    "\n",
    "for i, group in agent_positions.groupby(\"AgentID\"):\n",
    "    group.plot(x=\"Step\", y=\"Position\", ax=ax, legend=False)\n",
    "\n",
    "ax.set_ylim(0, 1.05)"
   ]
  },
  {
   "cell_type": "code",
   "execution_count": 23,
   "metadata": {
    "collapsed": false,
    "scrolled": true
   },
   "outputs": [
    {
     "data": {
      "text/plain": [
       "[Event(source='United States of America', target='Russia', timestamp=0, action='Attack'),\n",
       " Event(source='Russia', target='United States of America', timestamp=0, action='Attack'),\n",
       " Event(source='United States of America', target='Russia', timestamp=1, action='Attack'),\n",
       " Event(source='Russia', target='United States of America', timestamp=1, action='Attack'),\n",
       " Event(source='United States of America', target='Russia', timestamp=2, action='Attack'),\n",
       " Event(source='Russia', target='United States of America', timestamp=2, action='Attack'),\n",
       " Event(source='Brazil', target='Yugoslavia', timestamp=2, action='Attack'),\n",
       " Event(source='Yugoslavia', target='Brazil', timestamp=2, action='Attack'),\n",
       " Event(source='United States of America', target='Russia', timestamp=3, action='Attack'),\n",
       " Event(source='Russia', target='United States of America', timestamp=3, action='Attack'),\n",
       " Event(source='United States of America', target='Russia', timestamp=7, action='Attack'),\n",
       " Event(source='Russia', target='United States of America', timestamp=7, action='Attack'),\n",
       " Event(source='United States of America', target='Russia', timestamp=10, action='Attack'),\n",
       " Event(source='Russia', target='United States of America', timestamp=10, action='Attack'),\n",
       " Event(source='United States of America', target='Russia', timestamp=11, action='Attack'),\n",
       " Event(source='Russia', target='United States of America', timestamp=11, action='Attack'),\n",
       " Event(source='United States of America', target='Russia', timestamp=12, action='Attack'),\n",
       " Event(source='Russia', target='United States of America', timestamp=12, action='Attack'),\n",
       " Event(source='Spain', target='Paraguay', timestamp=13, action='Attack'),\n",
       " Event(source='Paraguay', target='Spain', timestamp=13, action='Attack'),\n",
       " Event(source='United States of America', target='Russia', timestamp=14, action='Attack'),\n",
       " Event(source='Russia', target='United States of America', timestamp=14, action='Attack'),\n",
       " Event(source='United States of America', target='China', timestamp=16, action='Attack'),\n",
       " Event(source='China', target='United States of America', timestamp=16, action='Attack'),\n",
       " Event(source='Italy', target='Jordan', timestamp=17, action='Attack'),\n",
       " Event(source='Jordan', target='Italy', timestamp=17, action='Attack'),\n",
       " Event(source='United States of America', target='Russia', timestamp=19, action='Attack'),\n",
       " Event(source='Russia', target='United States of America', timestamp=19, action='Attack'),\n",
       " Event(source='United States of America', target='Russia', timestamp=20, action='Attack'),\n",
       " Event(source='Russia', target='United States of America', timestamp=20, action='Attack'),\n",
       " Event(source='Russia', target='China', timestamp=21, action='Attack'),\n",
       " Event(source='China', target='Russia', timestamp=21, action='Attack'),\n",
       " Event(source='China', target='Pakistan', timestamp=24, action='Attack'),\n",
       " Event(source='Pakistan', target='China', timestamp=24, action='Attack')]"
      ]
     },
     "execution_count": 23,
     "metadata": {},
     "output_type": "execute_result"
    }
   ],
   "source": [
    "m.log.get_events(action=\"Attack\")"
   ]
  },
  {
   "cell_type": "code",
   "execution_count": 24,
   "metadata": {
    "collapsed": true
   },
   "outputs": [],
   "source": [
    "# Average unweighted postion"
   ]
  },
  {
   "cell_type": "code",
   "execution_count": 25,
   "metadata": {
    "collapsed": true
   },
   "outputs": [],
   "source": [
    "average_position = agent_positions.groupby(\"Step\").aggregate(\"mean\")"
   ]
  },
  {
   "cell_type": "code",
   "execution_count": 26,
   "metadata": {
    "collapsed": false
   },
   "outputs": [
    {
     "data": {
      "text/plain": [
       "<matplotlib.axes._subplots.AxesSubplot at 0x1c9372400>"
      ]
     },
     "execution_count": 26,
     "metadata": {},
     "output_type": "execute_result"
    },
    {
     "data": {
      "image/png": "[encoded data removed]",
      "text/plain": [
       "<matplotlib.figure.Figure at 0x15e833e80>"
      ]
     },
     "metadata": {},
     "output_type": "display_data"
    }
   ],
   "source": [
    "average_position.plot()"
   ]
  },
  {
   "cell_type": "markdown",
   "metadata": {},
   "source": [
    "# Agent position analysis"
   ]
  },
  {
   "cell_type": "code",
   "execution_count": 27,
   "metadata": {
    "collapsed": true
   },
   "outputs": [],
   "source": [
    "all_dfs = []\n",
    "for i, model in enumerate(model_runs):\n",
    "    df = model.agent_vars.copy()\n",
    "    df.reset_index(inplace=True)\n",
    "    df[\"Iteration\"] = i\n",
    "    all_dfs.append(df)\n",
    "agent_positions = pd.concat(all_dfs)"
   ]
  },
  {
   "cell_type": "code",
   "execution_count": 28,
   "metadata": {
    "collapsed": false
   },
   "outputs": [
    {
     "data": {
      "text/plain": [
       "72"
      ]
     },
     "execution_count": 28,
     "metadata": {},
     "output_type": "execute_result"
    }
   ],
   "source": [
    "len(agent_positions.AgentID.unique())"
   ]
  },
  {
   "cell_type": "markdown",
   "metadata": {},
   "source": [
    "## How far do agents end up from their starting position?"
   ]
  },
  {
   "cell_type": "code",
   "execution_count": 29,
   "metadata": {
    "collapsed": false
   },
   "outputs": [],
   "source": [
    "end_positions = agent_positions[agent_positions.Step==24]\\\n",
    "    .groupby(\"AgentID\")[\"Position\"].aggregate([np.mean, np.std])\n",
    "\n",
    "end_positions = end_positions.rename(columns={\"mean\": \"EndPos_mean\",\n",
    "                             \"std\": \"EndPos_std\"})"
   ]
  },
  {
   "cell_type": "code",
   "execution_count": 30,
   "metadata": {
    "collapsed": false
   },
   "outputs": [],
   "source": [
    "end_positions = end_positions.merge(model_data, left_index=True, right_on=\"Country\")"
   ]
  },
  {
   "cell_type": "code",
   "execution_count": 31,
   "metadata": {
    "collapsed": false
   },
   "outputs": [
    {
     "data": {
      "text/plain": [
       "0.035883021240013233"
      ]
     },
     "execution_count": 31,
     "metadata": {},
     "output_type": "execute_result"
    }
   ],
   "source": [
    "end_positions.EndPos_std.mean()"
   ]
  },
  {
   "cell_type": "code",
   "execution_count": 32,
   "metadata": {
    "collapsed": true
   },
   "outputs": [],
   "source": [
    "end_positions[\"Delta\"] = end_positions.EndPos_mean - end_positions.Position"
   ]
  },
  {
   "cell_type": "code",
   "execution_count": 33,
   "metadata": {
    "collapsed": false
   },
   "outputs": [
    {
     "name": "stdout",
     "output_type": "stream",
     "text": [
      "-0.0665729695134\n",
      "-0.383688869856\n",
      "0.545006383519\n"
     ]
    },
    {
     "data": {
      "text/plain": [
       "<matplotlib.axes._subplots.AxesSubplot at 0x1805d9048>"
      ]
     },
     "execution_count": 33,
     "metadata": {},
     "output_type": "execute_result"
    },
    {
     "data": {
      "image/png": "[encoded data removed]",
      "text/plain": [
       "<matplotlib.figure.Figure at 0x19e590588>"
      ]
     },
     "metadata": {},
     "output_type": "display_data"
    }
   ],
   "source": [
    "print(end_positions.Delta.mean())\n",
    "print(end_positions.Delta.min())\n",
    "print(end_positions.Delta.max())\n",
    "end_positions.Delta.hist()"
   ]
  },
  {
   "cell_type": "code",
   "execution_count": 34,
   "metadata": {
    "collapsed": false
   },
   "outputs": [
    {
     "data": {
      "text/plain": [
       "<matplotlib.collections.PathCollection at 0x23b5336d8>"
      ]
     },
     "execution_count": 34,
     "metadata": {},
     "output_type": "execute_result"
    },
    {
     "data": {
      "image/png": "[encoded data removed]",
      "text/plain": [
       "<matplotlib.figure.Figure at 0x1c937de48>"
      ]
     },
     "metadata": {},
     "output_type": "display_data"
    }
   ],
   "source": [
    "plt.scatter(end_positions.Position, end_positions.EndPos_std)"
   ]
  },
  {
   "cell_type": "code",
   "execution_count": 35,
   "metadata": {
    "collapsed": false
   },
   "outputs": [
    {
     "data": {
      "text/plain": [
       "<matplotlib.collections.PathCollection at 0x254c9ccc0>"
      ]
     },
     "execution_count": 35,
     "metadata": {},
     "output_type": "execute_result"
    },
    {
     "data": {
      "image/png": "[encoded data removed]",
      "text/plain": [
       "<matplotlib.figure.Figure at 0x243582b00>"
      ]
     },
     "metadata": {},
     "output_type": "display_data"
    }
   ],
   "source": [
    "plt.scatter(end_positions.Position, end_positions.Delta)"
   ]
  },
  {
   "cell_type": "code",
   "execution_count": 36,
   "metadata": {
    "collapsed": false
   },
   "outputs": [
    {
     "data": {
      "text/html": [
       "<div>\n",
       "<table border=\"1\" class=\"dataframe\">\n",
       "  <thead>\n",
       "    <tr style=\"text-align: right;\">\n",
       "      <th></th>\n",
       "      <th>EndPos_mean</th>\n",
       "      <th>EndPos_std</th>\n",
       "      <th>Unnamed: 0</th>\n",
       "      <th>Capability</th>\n",
       "      <th>Position</th>\n",
       "      <th>Delta</th>\n",
       "    </tr>\n",
       "  </thead>\n",
       "  <tbody>\n",
       "    <tr>\n",
       "      <th>EndPos_mean</th>\n",
       "      <td>1.000000</td>\n",
       "      <td>0.837660</td>\n",
       "      <td>0.232318</td>\n",
       "      <td>0.310074</td>\n",
       "      <td>0.868996</td>\n",
       "      <td>-0.849628</td>\n",
       "    </tr>\n",
       "    <tr>\n",
       "      <th>EndPos_std</th>\n",
       "      <td>0.837660</td>\n",
       "      <td>1.000000</td>\n",
       "      <td>0.115084</td>\n",
       "      <td>0.396402</td>\n",
       "      <td>0.691569</td>\n",
       "      <td>-0.672954</td>\n",
       "    </tr>\n",
       "    <tr>\n",
       "      <th>Unnamed: 0</th>\n",
       "      <td>0.232318</td>\n",
       "      <td>0.115084</td>\n",
       "      <td>1.000000</td>\n",
       "      <td>-0.473726</td>\n",
       "      <td>0.423067</td>\n",
       "      <td>-0.433123</td>\n",
       "    </tr>\n",
       "    <tr>\n",
       "      <th>Capability</th>\n",
       "      <td>0.310074</td>\n",
       "      <td>0.396402</td>\n",
       "      <td>-0.473726</td>\n",
       "      <td>1.000000</td>\n",
       "      <td>-0.073450</td>\n",
       "      <td>0.102020</td>\n",
       "    </tr>\n",
       "    <tr>\n",
       "      <th>Position</th>\n",
       "      <td>0.868996</td>\n",
       "      <td>0.691569</td>\n",
       "      <td>0.423067</td>\n",
       "      <td>-0.073450</td>\n",
       "      <td>1.000000</td>\n",
       "      <td>-0.999282</td>\n",
       "    </tr>\n",
       "    <tr>\n",
       "      <th>Delta</th>\n",
       "      <td>-0.849628</td>\n",
       "      <td>-0.672954</td>\n",
       "      <td>-0.433123</td>\n",
       "      <td>0.102020</td>\n",
       "      <td>-0.999282</td>\n",
       "      <td>1.000000</td>\n",
       "    </tr>\n",
       "  </tbody>\n",
       "</table>\n",
       "</div>"
      ],
      "text/plain": [
       "             EndPos_mean  EndPos_std  Unnamed: 0  Capability  Position  \\\n",
       "EndPos_mean     1.000000    0.837660    0.232318    0.310074  0.868996   \n",
       "EndPos_std      0.837660    1.000000    0.115084    0.396402  0.691569   \n",
       "Unnamed: 0      0.232318    0.115084    1.000000   -0.473726  0.423067   \n",
       "Capability      0.310074    0.396402   -0.473726    1.000000 -0.073450   \n",
       "Position        0.868996    0.691569    0.423067   -0.073450  1.000000   \n",
       "Delta          -0.849628   -0.672954   -0.433123    0.102020 -0.999282   \n",
       "\n",
       "                Delta  \n",
       "EndPos_mean -0.849628  \n",
       "EndPos_std  -0.672954  \n",
       "Unnamed: 0  -0.433123  \n",
       "Capability   0.102020  \n",
       "Position    -0.999282  \n",
       "Delta        1.000000  "
      ]
     },
     "execution_count": 36,
     "metadata": {},
     "output_type": "execute_result"
    }
   ],
   "source": [
    "end_positions.corr()"
   ]
  },
  {
   "cell_type": "code",
   "execution_count": 37,
   "metadata": {
    "collapsed": false
   },
   "outputs": [
    {
     "data": {
      "text/html": [
       "<div>\n",
       "<table border=\"1\" class=\"dataframe\">\n",
       "  <thead>\n",
       "    <tr style=\"text-align: right;\">\n",
       "      <th></th>\n",
       "      <th>EndPos_mean</th>\n",
       "      <th>EndPos_std</th>\n",
       "      <th>Unnamed: 0</th>\n",
       "      <th>Capability</th>\n",
       "      <th>Position</th>\n",
       "      <th>Delta</th>\n",
       "    </tr>\n",
       "  </thead>\n",
       "  <tbody>\n",
       "    <tr>\n",
       "      <th>EndPos_mean</th>\n",
       "      <td>1.000000</td>\n",
       "      <td>0.477072</td>\n",
       "      <td>0.379510</td>\n",
       "      <td>-0.379510</td>\n",
       "      <td>0.940947</td>\n",
       "      <td>-0.856647</td>\n",
       "    </tr>\n",
       "    <tr>\n",
       "      <th>EndPos_std</th>\n",
       "      <td>0.477072</td>\n",
       "      <td>1.000000</td>\n",
       "      <td>0.079909</td>\n",
       "      <td>-0.079909</td>\n",
       "      <td>0.359091</td>\n",
       "      <td>-0.311210</td>\n",
       "    </tr>\n",
       "    <tr>\n",
       "      <th>Unnamed: 0</th>\n",
       "      <td>0.379510</td>\n",
       "      <td>0.079909</td>\n",
       "      <td>1.000000</td>\n",
       "      <td>-1.000000</td>\n",
       "      <td>0.436816</td>\n",
       "      <td>-0.503730</td>\n",
       "    </tr>\n",
       "    <tr>\n",
       "      <th>Capability</th>\n",
       "      <td>-0.379510</td>\n",
       "      <td>-0.079909</td>\n",
       "      <td>-1.000000</td>\n",
       "      <td>1.000000</td>\n",
       "      <td>-0.436816</td>\n",
       "      <td>0.503730</td>\n",
       "    </tr>\n",
       "    <tr>\n",
       "      <th>Position</th>\n",
       "      <td>0.940947</td>\n",
       "      <td>0.359091</td>\n",
       "      <td>0.436816</td>\n",
       "      <td>-0.436816</td>\n",
       "      <td>1.000000</td>\n",
       "      <td>-0.969260</td>\n",
       "    </tr>\n",
       "    <tr>\n",
       "      <th>Delta</th>\n",
       "      <td>-0.856647</td>\n",
       "      <td>-0.311210</td>\n",
       "      <td>-0.503730</td>\n",
       "      <td>0.503730</td>\n",
       "      <td>-0.969260</td>\n",
       "      <td>1.000000</td>\n",
       "    </tr>\n",
       "  </tbody>\n",
       "</table>\n",
       "</div>"
      ],
      "text/plain": [
       "             EndPos_mean  EndPos_std  Unnamed: 0  Capability  Position  \\\n",
       "EndPos_mean     1.000000    0.477072    0.379510   -0.379510  0.940947   \n",
       "EndPos_std      0.477072    1.000000    0.079909   -0.079909  0.359091   \n",
       "Unnamed: 0      0.379510    0.079909    1.000000   -1.000000  0.436816   \n",
       "Capability     -0.379510   -0.079909   -1.000000    1.000000 -0.436816   \n",
       "Position        0.940947    0.359091    0.436816   -0.436816  1.000000   \n",
       "Delta          -0.856647   -0.311210   -0.503730    0.503730 -0.969260   \n",
       "\n",
       "                Delta  \n",
       "EndPos_mean -0.856647  \n",
       "EndPos_std  -0.311210  \n",
       "Unnamed: 0  -0.503730  \n",
       "Capability   0.503730  \n",
       "Position    -0.969260  \n",
       "Delta        1.000000  "
      ]
     },
     "execution_count": 37,
     "metadata": {},
     "output_type": "execute_result"
    }
   ],
   "source": [
    "end_positions.corr(method='spearman')"
   ]
  },
  {
   "cell_type": "code",
   "execution_count": 38,
   "metadata": {
    "collapsed": false
   },
   "outputs": [
    {
     "data": {
      "text/plain": [
       "<matplotlib.axes._subplots.AxesSubplot at 0x24ee188d0>"
      ]
     },
     "execution_count": 38,
     "metadata": {},
     "output_type": "execute_result"
    },
    {
     "data": {
      "image/png": "[encoded data removed]",
      "text/plain": [
       "<matplotlib.figure.Figure at 0x25385f198>"
      ]
     },
     "metadata": {},
     "output_type": "display_data"
    }
   ],
   "source": [
    "agent_positions[(agent_positions.AgentID==\"United States of America\") & \n",
    "                (agent_positions.Step==24)][\"Position\"].hist()"
   ]
  },
  {
   "cell_type": "code",
   "execution_count": 39,
   "metadata": {
    "collapsed": false
   },
   "outputs": [
    {
     "data": {
      "text/plain": [
       "<matplotlib.axes._subplots.AxesSubplot at 0x272ee8c18>"
      ]
     },
     "execution_count": 39,
     "metadata": {},
     "output_type": "execute_result"
    },
    {
     "data": {
      "image/png": "[encoded data removed]",
      "text/plain": [
       "<matplotlib.figure.Figure at 0x272f17f60>"
      ]
     },
     "metadata": {},
     "output_type": "display_data"
    }
   ],
   "source": [
    "agent_positions[(agent_positions.AgentID==\"Russia\") & \n",
    "                (agent_positions.Step==24)][\"Position\"].hist()"
   ]
  },
  {
   "cell_type": "markdown",
   "metadata": {},
   "source": [
    "# Conflict frequencies"
   ]
  },
  {
   "cell_type": "code",
   "execution_count": 40,
   "metadata": {
    "collapsed": false
   },
   "outputs": [],
   "source": [
    "actors = model_data.Country.unique()"
   ]
  },
  {
   "cell_type": "code",
   "execution_count": 41,
   "metadata": {
    "collapsed": false
   },
   "outputs": [
    {
     "data": {
      "text/plain": [
       "0.56329822578208133"
      ]
     },
     "execution_count": 41,
     "metadata": {},
     "output_type": "execute_result"
    }
   ],
   "source": [
    "model.model_vars.Median[24]"
   ]
  },
  {
   "cell_type": "code",
   "execution_count": 42,
   "metadata": {
    "collapsed": false
   },
   "outputs": [],
   "source": [
    "conflict_dyads = Counter()\n",
    "conflict_models = defaultdict(set)\n",
    "\n",
    "for i, model in enumerate(model_runs):\n",
    "    if model.model_vars.Median[24] < 0.75:\n",
    "        continue\n",
    "    for event in model.log.get_events(action=\"Attack\"):\n",
    "        if event.timestamp > 25: # Max steps to consider\n",
    "            continue\n",
    "        source = event.source\n",
    "        target = event.target\n",
    "        dyad = (source, target)\n",
    "        if (target, source) in conflict_dyads:\n",
    "            dyad = (target, source)\n",
    "        conflict_dyads[dyad] += 0.5\n",
    "        conflict_models[dyad].add(i)\n",
    "\n",
    "conflict_models = {k: len(v) for k, v in conflict_models.items()}        \n",
    "        \n",
    "# Fill in zeroes\n",
    "for source, target in permutations(actors, 2):\n",
    "    dyad = (source, target)\n",
    "    if (target, source) in conflict_dyads:\n",
    "        dyad = (target, source)\n",
    "    if dyad not in conflict_dyads:\n",
    "        conflict_dyads[dyad] = 0\n",
    "    if dyad not in conflict_models:\n",
    "        conflict_models[dyad] = 0"
   ]
  },
  {
   "cell_type": "code",
   "execution_count": 43,
   "metadata": {
    "collapsed": false
   },
   "outputs": [
    {
     "data": {
      "text/plain": [
       "[(('United States of America', 'Russia'), 51.0),\n",
       " (('United States of America', 'United Kingdom'), 9.0),\n",
       " (('Russia', 'Argentina'), 7.0),\n",
       " (('United States of America', 'India'), 5.0),\n",
       " (('United States of America', 'Yugoslavia'), 5.0),\n",
       " (('United States of America', 'China'), 4.0),\n",
       " (('United States of America', 'Czechoslovakia'), 4.0),\n",
       " (('Russia', 'China'), 3.0),\n",
       " (('United States of America', 'Poland'), 3.0),\n",
       " (('United States of America', 'Portugal'), 3.0),\n",
       " (('China', 'India'), 3.0),\n",
       " (('China', 'France'), 3.0),\n",
       " (('United States of America', 'Guatemala'), 2.0),\n",
       " (('China', 'United Kingdom'), 2.0),\n",
       " (('Russia', 'Uruguay'), 2.0),\n",
       " (('India', 'Poland'), 2.0),\n",
       " (('United Kingdom', 'France'), 2.0),\n",
       " (('Russia', 'Ecuador'), 2.0),\n",
       " (('United Kingdom', 'India'), 2.0),\n",
       " (('Russia', 'India'), 2.0)]"
      ]
     },
     "execution_count": 43,
     "metadata": {},
     "output_type": "execute_result"
    }
   ],
   "source": [
    "conflict_dyads.most_common(20)"
   ]
  },
  {
   "cell_type": "markdown",
   "metadata": {},
   "source": [
    "## Load MID data"
   ]
  },
  {
   "cell_type": "code",
   "execution_count": 44,
   "metadata": {
    "collapsed": true
   },
   "outputs": [],
   "source": [
    "COW = \"/Users/dmasad/Data/COW/\"\n",
    "mid_a = pd.read_csv(COW + \"MIDA_4.01.csv\")\n",
    "mid_b = pd.read_csv(COW + \"MIDB_4.01.csv\")"
   ]
  },
  {
   "cell_type": "code",
   "execution_count": 45,
   "metadata": {
    "collapsed": false
   },
   "outputs": [],
   "source": [
    "start_year = 1948\n",
    "end_year = 1998\n",
    "#end_year = 1948 + 5\n",
    "\n",
    "mid_a = mid_a[(mid_a.StYear >= start_year) & (mid_a.StYear <= end_year)]\n",
    "mid_b = mid_b[(mid_b.StYear >= start_year) & (mid_b.StYear <= end_year)]"
   ]
  },
  {
   "cell_type": "markdown",
   "metadata": {},
   "source": [
    "### Get state names"
   ]
  },
  {
   "cell_type": "code",
   "execution_count": 46,
   "metadata": {
    "collapsed": true
   },
   "outputs": [],
   "source": [
    "state_names = pd.read_csv(COW + \"SystemMembership2011/states2011.csv\")\n",
    "#state_names = state_names[[\"stateabb\", \"statenme\"]]\n",
    "state_names = state_names[[\"ccode\", \"statenme\"]]\n",
    "state_names.drop_duplicates(inplace=True)"
   ]
  },
  {
   "cell_type": "code",
   "execution_count": 47,
   "metadata": {
    "collapsed": false
   },
   "outputs": [
    {
     "name": "stdout",
     "output_type": "stream",
     "text": [
      "The history saving thread hit an unexpected error (OperationalError('database is locked',)).History will not be written to the database.\n"
     ]
    }
   ],
   "source": [
    "name_dict = state_names.set_index(\"statenme\").to_dict()[\"ccode\"]"
   ]
  },
  {
   "cell_type": "code",
   "execution_count": 48,
   "metadata": {
    "collapsed": false
   },
   "outputs": [],
   "source": [
    "for name in model_data.Country.unique():\n",
    "    if name not in name_dict:\n",
    "        print(name)"
   ]
  },
  {
   "cell_type": "code",
   "execution_count": 49,
   "metadata": {
    "collapsed": false
   },
   "outputs": [],
   "source": [
    "#mid_b2 = mid_b.merge(state_names, how=\"left\", left_on=\"ccode\", right_on=\"stateabb\")\n",
    "mid_b = mid_b.merge(state_names, how=\"left\", on=\"ccode\")"
   ]
  },
  {
   "cell_type": "code",
   "execution_count": 50,
   "metadata": {
    "collapsed": false
   },
   "outputs": [],
   "source": [
    "observed_mids = defaultdict(int)\n",
    "for dispnum, group in mid_b.groupby(\"DispNum3\"):\n",
    "    sides = {}\n",
    "    for side, rows in group.groupby(\"SideA\"):\n",
    "        sides[side] = rows.statenme.unique()\n",
    "    # Build dyads\n",
    "    for side_a in sides[0]:\n",
    "        for side_b in sides[1]:\n",
    "            observed_mids[(side_a, side_b)] += 1\n",
    "            observed_mids[(side_b, side_a)] += 1\n",
    "observed_mids = dict(observed_mids)"
   ]
  },
  {
   "cell_type": "code",
   "execution_count": 51,
   "metadata": {
    "collapsed": true
   },
   "outputs": [],
   "source": [
    "observed_mids = pd.DataFrame({\"Observed_MIDs\": observed_mids})\n",
    "observed_mids.reset_index(inplace=True)\n",
    "observed_mids.rename(columns={\"level_0\": \"Source_Country\",\n",
    "                               \"level_1\": \"Target_Country\"}, inplace=True)"
   ]
  },
  {
   "cell_type": "markdown",
   "metadata": {},
   "source": [
    "### Merge"
   ]
  },
  {
   "cell_type": "code",
   "execution_count": 86,
   "metadata": {
    "collapsed": false
   },
   "outputs": [],
   "source": [
    "predicted_conflicts = pd.DataFrame({\"Predicted_Conflicts\": dict(conflict_dyads)})\n",
    "predicted_conflicts.reset_index(inplace=True)\n",
    "predicted_conflicts.rename(columns={\"level_0\": \"Source_Country\",\n",
    "                               \"level_1\": \"Target_Country\"}, inplace=True)"
   ]
  },
  {
   "cell_type": "code",
   "execution_count": 87,
   "metadata": {
    "collapsed": false
   },
   "outputs": [],
   "source": [
    "conflicts = predicted_conflicts.merge(observed_mids, 'left', \n",
    "                                      on=[\"Source_Country\", \"Target_Country\"])\n",
    "conflicts.fillna(0, inplace=True)"
   ]
  },
  {
   "cell_type": "code",
   "execution_count": 88,
   "metadata": {
    "collapsed": true
   },
   "outputs": [],
   "source": [
    "conflicts.Predicted_Conflicts /= 1000"
   ]
  },
  {
   "cell_type": "code",
   "execution_count": 89,
   "metadata": {
    "collapsed": false
   },
   "outputs": [
    {
     "data": {
      "text/plain": [
       "<matplotlib.collections.PathCollection at 0x5da7795c0>"
      ]
     },
     "execution_count": 89,
     "metadata": {},
     "output_type": "execute_result"
    },
    {
     "data": {
      "image/png": "[encoded data removed]",
      "text/plain": [
       "<matplotlib.figure.Figure at 0x1578454a8>"
      ]
     },
     "metadata": {},
     "output_type": "display_data"
    }
   ],
   "source": [
    "plt.scatter(conflicts.Predicted_Conflicts, conflicts.Observed_MIDs)"
   ]
  },
  {
   "cell_type": "code",
   "execution_count": 91,
   "metadata": {
    "collapsed": false
   },
   "outputs": [
    {
     "data": {
      "text/html": [
       "<div>\n",
       "<table border=\"1\" class=\"dataframe\">\n",
       "  <thead>\n",
       "    <tr style=\"text-align: right;\">\n",
       "      <th></th>\n",
       "      <th>Predicted_Conflicts</th>\n",
       "      <th>Observed_MIDs</th>\n",
       "      <th>Const.</th>\n",
       "    </tr>\n",
       "  </thead>\n",
       "  <tbody>\n",
       "    <tr>\n",
       "      <th>Predicted_Conflicts</th>\n",
       "      <td>1.000000</td>\n",
       "      <td>0.442195</td>\n",
       "      <td>NaN</td>\n",
       "    </tr>\n",
       "    <tr>\n",
       "      <th>Observed_MIDs</th>\n",
       "      <td>0.442195</td>\n",
       "      <td>1.000000</td>\n",
       "      <td>NaN</td>\n",
       "    </tr>\n",
       "    <tr>\n",
       "      <th>Const.</th>\n",
       "      <td>NaN</td>\n",
       "      <td>NaN</td>\n",
       "      <td>NaN</td>\n",
       "    </tr>\n",
       "  </tbody>\n",
       "</table>\n",
       "</div>"
      ],
      "text/plain": [
       "                     Predicted_Conflicts  Observed_MIDs  Const.\n",
       "Predicted_Conflicts             1.000000       0.442195     NaN\n",
       "Observed_MIDs                   0.442195       1.000000     NaN\n",
       "Const.                               NaN            NaN     NaN"
      ]
     },
     "execution_count": 91,
     "metadata": {},
     "output_type": "execute_result"
    }
   ],
   "source": [
    "conflicts[conflicts.Predicted_Conflicts<50].corr()"
   ]
  },
  {
   "cell_type": "code",
   "execution_count": 92,
   "metadata": {
    "collapsed": false
   },
   "outputs": [
    {
     "data": {
      "text/html": [
       "<div>\n",
       "<table border=\"1\" class=\"dataframe\">\n",
       "  <thead>\n",
       "    <tr style=\"text-align: right;\">\n",
       "      <th></th>\n",
       "      <th>Predicted_Conflicts</th>\n",
       "      <th>Observed_MIDs</th>\n",
       "      <th>Const.</th>\n",
       "    </tr>\n",
       "  </thead>\n",
       "  <tbody>\n",
       "    <tr>\n",
       "      <th>Predicted_Conflicts</th>\n",
       "      <td>1.000000</td>\n",
       "      <td>0.442195</td>\n",
       "      <td>NaN</td>\n",
       "    </tr>\n",
       "    <tr>\n",
       "      <th>Observed_MIDs</th>\n",
       "      <td>0.442195</td>\n",
       "      <td>1.000000</td>\n",
       "      <td>NaN</td>\n",
       "    </tr>\n",
       "    <tr>\n",
       "      <th>Const.</th>\n",
       "      <td>NaN</td>\n",
       "      <td>NaN</td>\n",
       "      <td>NaN</td>\n",
       "    </tr>\n",
       "  </tbody>\n",
       "</table>\n",
       "</div>"
      ],
      "text/plain": [
       "                     Predicted_Conflicts  Observed_MIDs  Const.\n",
       "Predicted_Conflicts             1.000000       0.442195     NaN\n",
       "Observed_MIDs                   0.442195       1.000000     NaN\n",
       "Const.                               NaN            NaN     NaN"
      ]
     },
     "execution_count": 92,
     "metadata": {},
     "output_type": "execute_result"
    }
   ],
   "source": [
    "conflicts.corr()"
   ]
  },
  {
   "cell_type": "code",
   "execution_count": 90,
   "metadata": {
    "collapsed": true
   },
   "outputs": [],
   "source": [
    "conflicts[\"Const.\"] = 1"
   ]
  },
  {
   "cell_type": "code",
   "execution_count": 74,
   "metadata": {
    "collapsed": false
   },
   "outputs": [
    {
     "data": {
      "text/html": [
       "<div>\n",
       "<table border=\"1\" class=\"dataframe\">\n",
       "  <thead>\n",
       "    <tr style=\"text-align: right;\">\n",
       "      <th></th>\n",
       "      <th>Source_Country</th>\n",
       "      <th>Target_Country</th>\n",
       "      <th>Predicted_Conflicts</th>\n",
       "      <th>Observed_MIDs</th>\n",
       "      <th>Const.</th>\n",
       "      <th>MID_Dummy</th>\n",
       "      <th>PredictedConflicts_Dummy</th>\n",
       "    </tr>\n",
       "  </thead>\n",
       "  <tbody>\n",
       "  </tbody>\n",
       "</table>\n",
       "</div>"
      ],
      "text/plain": [
       "Empty DataFrame\n",
       "Columns: [Source_Country, Target_Country, Predicted_Conflicts, Observed_MIDs, Const., MID_Dummy, PredictedConflicts_Dummy]\n",
       "Index: []"
      ]
     },
     "execution_count": 74,
     "metadata": {},
     "output_type": "execute_result"
    }
   ],
   "source": [
    "conflicts[conflicts.Predicted_Conflicts>20/1000]"
   ]
  },
  {
   "cell_type": "code",
   "execution_count": 75,
   "metadata": {
    "collapsed": false
   },
   "outputs": [],
   "source": [
    "#conflicts = conflicts[conflicts.Predicted_Conflicts < 50]"
   ]
  },
  {
   "cell_type": "code",
   "execution_count": 106,
   "metadata": {
    "collapsed": false
   },
   "outputs": [
    {
     "name": "stdout",
     "output_type": "stream",
     "text": [
      "                            OLS Regression Results                            \n",
      "==============================================================================\n",
      "Dep. Variable:          Observed_MIDs   R-squared:                       0.196\n",
      "Model:                            OLS   Adj. R-squared:                  0.195\n",
      "Method:                 Least Squares   F-statistic:                     620.8\n",
      "Date:                Thu, 10 Dec 2015   Prob (F-statistic):          7.65e-123\n",
      "Time:                        09:08:57   Log-Likelihood:                -5645.1\n",
      "No. Observations:                2556   AIC:                         1.129e+04\n",
      "Df Residuals:                    2554   BIC:                         1.131e+04\n",
      "Df Model:                           1                                         \n",
      "Covariance Type:            nonrobust                                         \n",
      "=======================================================================================\n",
      "                          coef    std err          t      P>|t|      [95.0% Conf. Int.]\n",
      "---------------------------------------------------------------------------------------\n",
      "Const.                  0.3621      0.044      8.294      0.000         0.276     0.448\n",
      "Predicted_Conflicts  1015.7456     40.768     24.916      0.000       935.805  1095.686\n",
      "==============================================================================\n",
      "Omnibus:                     4276.802   Durbin-Watson:                   1.888\n",
      "Prob(Omnibus):                  0.000   Jarque-Bera (JB):          3243452.605\n",
      "Skew:                          11.139   Prob(JB):                         0.00\n",
      "Kurtosis:                     176.086   Cond. No.                         935.\n",
      "==============================================================================\n",
      "\n",
      "Warnings:\n",
      "[1] Standard Errors assume that the covariance matrix of the errors is correctly specified.\n"
     ]
    }
   ],
   "source": [
    "lm = sm.OLS(conflicts.Observed_MIDs, conflicts[[\"Const.\", \"Predicted_Conflicts\"]])\n",
    "fit = lm.fit()\n",
    "print(fit.summary())"
   ]
  },
  {
   "cell_type": "code",
   "execution_count": 107,
   "metadata": {
    "collapsed": false
   },
   "outputs": [
    {
     "data": {
      "text/plain": [
       "[<matplotlib.lines.Line2D at 0x5dd0009e8>]"
      ]
     },
     "execution_count": 107,
     "metadata": {},
     "output_type": "execute_result"
    },
    {
     "data": {
      "image/png": "[encoded data removed]",
      "text/plain": [
       "<matplotlib.figure.Figure at 0x5a7dfdc18>"
      ]
     },
     "metadata": {},
     "output_type": "display_data"
    }
   ],
   "source": [
    "fig, ax = plt.subplots()\n",
    "plt.plot(conflicts.Predicted_Conflicts, conflicts.Observed_MIDs, 'o')\n",
    "plt.plot(conflicts.Predicted_Conflicts, fit.fittedvalues, 'r--')"
   ]
  },
  {
   "cell_type": "code",
   "execution_count": 108,
   "metadata": {
    "collapsed": true
   },
   "outputs": [],
   "source": [
    "conflicts.to_csv(\"transfer/conflict_df_ex4.csv\")"
   ]
  },
  {
   "cell_type": "code",
   "execution_count": 94,
   "metadata": {
    "collapsed": false
   },
   "outputs": [],
   "source": [
    "with open(\"lm_ex_4.pickle\", \"wb\") as f:\n",
    "    pickle.dump(fit, f)"
   ]
  },
  {
   "cell_type": "code",
   "execution_count": 95,
   "metadata": {
    "collapsed": false
   },
   "outputs": [
    {
     "name": "stderr",
     "output_type": "stream",
     "text": [
      "/Users/dmasad/.virtualenvs/consul/lib/python3.4/site-packages/ipykernel/__main__.py:2: SettingWithCopyWarning: \n",
      "A value is trying to be set on a copy of a slice from a DataFrame\n",
      "\n",
      "See the the caveats in the documentation: http://pandas.pydata.org/pandas-docs/stable/indexing.html#indexing-view-versus-copy\n",
      "  from ipykernel import kernelapp as app\n"
     ]
    }
   ],
   "source": [
    "conflicts[\"MID_Dummy\"] = 0\n",
    "conflicts[\"MID_Dummy\"][conflicts.Observed_MIDs > 0] = 1"
   ]
  },
  {
   "cell_type": "code",
   "execution_count": 102,
   "metadata": {
    "collapsed": false
   },
   "outputs": [
    {
     "name": "stdout",
     "output_type": "stream",
     "text": [
      "Optimization terminated successfully.\n",
      "         Current function value: 0.329274\n",
      "         Iterations 9\n",
      "                           Logit Regression Results                           \n",
      "==============================================================================\n",
      "Dep. Variable:              MID_Dummy   No. Observations:                 2556\n",
      "Model:                          Logit   Df Residuals:                     2554\n",
      "Method:                           MLE   Df Model:                            1\n",
      "Date:                Wed, 09 Dec 2015   Pseudo R-squ.:                 0.01643\n",
      "Time:                        15:32:30   Log-Likelihood:                -841.62\n",
      "converged:                       True   LL-Null:                       -855.68\n",
      "                                        LLR p-value:                 1.143e-07\n",
      "=======================================================================================\n",
      "                          coef    std err          z      P>|z|      [95.0% Conf. Int.]\n",
      "---------------------------------------------------------------------------------------\n",
      "Const.                 -2.1966      0.066    -33.158      0.000        -2.326    -2.067\n",
      "Predicted_Conflicts   654.5006    148.758      4.400      0.000       362.941   946.060\n",
      "=======================================================================================\n"
     ]
    }
   ],
   "source": [
    "logit = sm.Logit(conflicts.MID_Dummy, conflicts[[\"Const.\", \"Predicted_Conflicts\"]])\n",
    "fit = logit.fit()\n",
    "print(fit.summary())"
   ]
  },
  {
   "cell_type": "code",
   "execution_count": 103,
   "metadata": {
    "collapsed": true
   },
   "outputs": [],
   "source": [
    "with open(\"logit_ex_4.pickle\", \"wb\") as f:\n",
    "    pickle.dump(fit, f)"
   ]
  },
  {
   "cell_type": "code",
   "execution_count": 98,
   "metadata": {
    "collapsed": false
   },
   "outputs": [
    {
     "name": "stderr",
     "output_type": "stream",
     "text": [
      "/Users/dmasad/.virtualenvs/consul/lib/python3.4/site-packages/ipykernel/__main__.py:2: SettingWithCopyWarning: \n",
      "A value is trying to be set on a copy of a slice from a DataFrame\n",
      "\n",
      "See the the caveats in the documentation: http://pandas.pydata.org/pandas-docs/stable/indexing.html#indexing-view-versus-copy\n",
      "  from ipykernel import kernelapp as app\n"
     ]
    }
   ],
   "source": [
    "conflicts[\"PredictedConflicts_Dummy\"] = 0\n",
    "conflicts[\"PredictedConflicts_Dummy\"][conflicts.Predicted_Conflicts>0] = 1"
   ]
  },
  {
   "cell_type": "code",
   "execution_count": 99,
   "metadata": {
    "collapsed": false
   },
   "outputs": [
    {
     "name": "stdout",
     "output_type": "stream",
     "text": [
      "Optimization terminated successfully.\n",
      "         Current function value: 0.329670\n",
      "         Iterations 6\n",
      "                           Logit Regression Results                           \n",
      "==============================================================================\n",
      "Dep. Variable:              MID_Dummy   No. Observations:                 2556\n",
      "Model:                          Logit   Df Residuals:                     2554\n",
      "Method:                           MLE   Df Model:                            1\n",
      "Date:                Wed, 09 Dec 2015   Pseudo R-squ.:                 0.01524\n",
      "Time:                        15:27:30   Log-Likelihood:                -842.64\n",
      "converged:                       True   LL-Null:                       -855.68\n",
      "                                        LLR p-value:                 3.262e-07\n",
      "============================================================================================\n",
      "                               coef    std err          z      P>|z|      [95.0% Conf. Int.]\n",
      "--------------------------------------------------------------------------------------------\n",
      "Const.                      -2.2129      0.067    -32.953      0.000        -2.345    -2.081\n",
      "PredictedConflicts_Dummy     1.5686      0.278      5.648      0.000         1.024     2.113\n",
      "============================================================================================\n"
     ]
    }
   ],
   "source": [
    "logit = sm.Logit(conflicts.MID_Dummy, conflicts[[\"Const.\", \"PredictedConflicts_Dummy\"]])\n",
    "fit = logit.fit()\n",
    "print(fit.summary())"
   ]
  },
  {
   "cell_type": "markdown",
   "metadata": {
    "collapsed": true
   },
   "source": [
    "# Top conflict dyads"
   ]
  },
  {
   "cell_type": "code",
   "execution_count": 104,
   "metadata": {
    "collapsed": true
   },
   "outputs": [],
   "source": [
    "conflict_pairs = conflicts[[\"Source_Country\", \"Target_Country\", \n",
    "                            \"Predicted_Conflicts\", \"Observed_MIDs\"]].copy()"
   ]
  },
  {
   "cell_type": "code",
   "execution_count": 105,
   "metadata": {
    "collapsed": false
   },
   "outputs": [
    {
     "data": {
      "text/html": [
       "<div>\n",
       "<table border=\"1\" class=\"dataframe\">\n",
       "  <thead>\n",
       "    <tr style=\"text-align: right;\">\n",
       "      <th></th>\n",
       "      <th>Source_Country</th>\n",
       "      <th>Target_Country</th>\n",
       "      <th>Predicted_Conflicts</th>\n",
       "      <th>Observed_MIDs</th>\n",
       "    </tr>\n",
       "  </thead>\n",
       "  <tbody>\n",
       "    <tr>\n",
       "      <th>2433</th>\n",
       "      <td>United States of America</td>\n",
       "      <td>Russia</td>\n",
       "      <td>0.051</td>\n",
       "      <td>53</td>\n",
       "    </tr>\n",
       "    <tr>\n",
       "      <th>2443</th>\n",
       "      <td>United States of America</td>\n",
       "      <td>United Kingdom</td>\n",
       "      <td>0.009</td>\n",
       "      <td>0</td>\n",
       "    </tr>\n",
       "    <tr>\n",
       "      <th>1885</th>\n",
       "      <td>Russia</td>\n",
       "      <td>Argentina</td>\n",
       "      <td>0.007</td>\n",
       "      <td>2</td>\n",
       "    </tr>\n",
       "    <tr>\n",
       "      <th>2406</th>\n",
       "      <td>United States of America</td>\n",
       "      <td>India</td>\n",
       "      <td>0.005</td>\n",
       "      <td>0</td>\n",
       "    </tr>\n",
       "    <tr>\n",
       "      <th>2447</th>\n",
       "      <td>United States of America</td>\n",
       "      <td>Yugoslavia</td>\n",
       "      <td>0.005</td>\n",
       "      <td>3</td>\n",
       "    </tr>\n",
       "    <tr>\n",
       "      <th>2387</th>\n",
       "      <td>United States of America</td>\n",
       "      <td>China</td>\n",
       "      <td>0.004</td>\n",
       "      <td>26</td>\n",
       "    </tr>\n",
       "    <tr>\n",
       "      <th>2391</th>\n",
       "      <td>United States of America</td>\n",
       "      <td>Czechoslovakia</td>\n",
       "      <td>0.004</td>\n",
       "      <td>5</td>\n",
       "    </tr>\n",
       "    <tr>\n",
       "      <th>452</th>\n",
       "      <td>China</td>\n",
       "      <td>France</td>\n",
       "      <td>0.003</td>\n",
       "      <td>3</td>\n",
       "    </tr>\n",
       "    <tr>\n",
       "      <th>2431</th>\n",
       "      <td>United States of America</td>\n",
       "      <td>Portugal</td>\n",
       "      <td>0.003</td>\n",
       "      <td>0</td>\n",
       "    </tr>\n",
       "    <tr>\n",
       "      <th>2430</th>\n",
       "      <td>United States of America</td>\n",
       "      <td>Poland</td>\n",
       "      <td>0.003</td>\n",
       "      <td>1</td>\n",
       "    </tr>\n",
       "  </tbody>\n",
       "</table>\n",
       "</div>"
      ],
      "text/plain": [
       "                Source_Country  Target_Country  Predicted_Conflicts  \\\n",
       "2433  United States of America          Russia                0.051   \n",
       "2443  United States of America  United Kingdom                0.009   \n",
       "1885                    Russia       Argentina                0.007   \n",
       "2406  United States of America           India                0.005   \n",
       "2447  United States of America      Yugoslavia                0.005   \n",
       "2387  United States of America           China                0.004   \n",
       "2391  United States of America  Czechoslovakia                0.004   \n",
       "452                      China          France                0.003   \n",
       "2431  United States of America        Portugal                0.003   \n",
       "2430  United States of America          Poland                0.003   \n",
       "\n",
       "      Observed_MIDs  \n",
       "2433             53  \n",
       "2443              0  \n",
       "1885              2  \n",
       "2406              0  \n",
       "2447              3  \n",
       "2387             26  \n",
       "2391              5  \n",
       "452               3  \n",
       "2431              0  \n",
       "2430              1  "
      ]
     },
     "execution_count": 105,
     "metadata": {},
     "output_type": "execute_result"
    }
   ],
   "source": [
    "conflict_pairs.sort(\"Predicted_Conflicts\", ascending=False).head(10)"
   ]
  },
  {
   "cell_type": "code",
   "execution_count": null,
   "metadata": {
    "collapsed": true
   },
   "outputs": [],
   "source": []
  }
 ],
 "metadata": {
  "kernelspec": {
   "display_name": "Python 3",
   "language": "python",
   "name": "python3"
  },
  "language_info": {
   "codemirror_mode": {
    "name": "ipython",
    "version": 3
   },
   "file_extension": ".py",
   "mimetype": "text/x-python",
   "name": "python",
   "nbconvert_exporter": "python",
   "pygments_lexer": "ipython3",
   "version": "3.4.2"
  }
 },
 "nbformat": 4,
 "nbformat_minor": 0
}
