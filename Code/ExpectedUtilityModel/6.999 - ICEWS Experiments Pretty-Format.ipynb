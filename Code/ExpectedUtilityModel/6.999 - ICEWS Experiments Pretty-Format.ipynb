{
 "cells": [
  {
   "cell_type": "code",
   "execution_count": 1,
   "metadata": {
    "collapsed": true
   },
   "outputs": [],
   "source": [
    "import pickle\n",
    "from collections import defaultdict, Counter\n",
    "from itertools import permutations\n",
    "\n",
    "from statsmodels.iolib.summary2 import summary_col\n",
    "\n",
    "import matplotlib.pyplot as plt\n",
    "%matplotlib inline\n",
    "import numpy as np\n",
    "import pandas as pd\n",
    "import pyobjclipboard"
   ]
  },
  {
   "cell_type": "code",
   "execution_count": 2,
   "metadata": {
    "collapsed": true
   },
   "outputs": [],
   "source": [
    "class Model_Output:\n",
    "    def __init__(self, model):\n",
    "        '''\n",
    "        Store data from model run.\n",
    "        '''\n",
    "        self.agent_vars = model.datacollector.get_agent_vars_dataframe()\n",
    "        self.model_vars = model.datacollector.get_model_vars_dataframe()\n",
    "        self.log = model.log"
   ]
  },
  {
   "cell_type": "code",
   "execution_count": 3,
   "metadata": {
    "collapsed": true
   },
   "outputs": [],
   "source": [
    "params = {\n",
    "    \"font.family\": 'serif',\n",
    "    \"font.serif\": [\"Computer Modern\"],\n",
    "    'text.usetex': True,\n",
    "    'xtick.labelsize': 12,\n",
    "    'ytick.labelsize': 12,\n",
    "    'axes.labelsize': 14\n",
    "\n",
    "   }\n",
    "plt.rcParams.update(params)"
   ]
  },
  {
   "cell_type": "markdown",
   "metadata": {},
   "source": [
    "# Load data"
   ]
  },
  {
   "cell_type": "markdown",
   "metadata": {},
   "source": [
    "## ICEWS\n",
    "\n",
    "Data prepared in 6.05 ICEWS Aggregation"
   ]
  },
  {
   "cell_type": "code",
   "execution_count": 4,
   "metadata": {
    "collapsed": true
   },
   "outputs": [],
   "source": [
    "icews = pd.read_csv(\"Negative_Dyads_2005-2006.csv\")\n",
    "icews = icews[[\"Source_Country\", \"Target_Country\", \"Event_ID\"]]\n",
    "icews.rename(columns={\"Event_ID\": \"Count\"}, inplace=True)\n",
    "\n",
    "icews.replace(\"Democratic Republic of Congo\", \"Democratic Republic of the Congo\", inplace=True)\n",
    "icews.replace(\"Russian Federation\", \"Russia\", inplace=True)\n",
    "icews.replace(\"United States\", \"United States of America\", inplace=True)"
   ]
  },
  {
   "cell_type": "markdown",
   "metadata": {},
   "source": [
    "## Model outputs"
   ]
  },
  {
   "cell_type": "code",
   "execution_count": 5,
   "metadata": {
    "collapsed": true
   },
   "outputs": [],
   "source": [
    "experiment_labels = {\n",
    "            \"1a\": \"1_1\",\n",
    "            \"1b\": \"2_1\",\n",
    "            \"2a\": \"3_2\",\n",
    "            \"2b\": \"3_1\",\n",
    "            \"3a\": \"4_3\",\n",
    "            \"3b\": \"4_1\"}\n",
    "experiment_keys = [\"1a\", \"1b\", \"2a\", \"2b\", \"3a\", \"3b\"]"
   ]
  },
  {
   "cell_type": "code",
   "execution_count": 6,
   "metadata": {
    "collapsed": true
   },
   "outputs": [],
   "source": [
    "agents = pd.read_csv(\"ICEWS_2004_agents.csv\")\n",
    "actors = agents.Name.unique()"
   ]
  },
  {
   "cell_type": "markdown",
   "metadata": {},
   "source": [
    "# Model Data"
   ]
  },
  {
   "cell_type": "code",
   "execution_count": 7,
   "metadata": {
    "collapsed": false
   },
   "outputs": [],
   "source": [
    "datasets = {}\n",
    "for key, val in experiment_labels.items():\n",
    "    path = \"data_output/ICEWS_Ex{}.pickle\".format(val)\n",
    "    with open(path, \"rb\") as f:\n",
    "        all_models = pickle.load(f)\n",
    "        \n",
    "    # Count conflicts across each dyad\n",
    "    conflict_dyads = Counter()\n",
    "\n",
    "    for i, model in enumerate(all_models):\n",
    "        for event in model.log.get_events(action=\"Attack\"):\n",
    "            source = event.source\n",
    "            target = event.target\n",
    "            dyad = (source, target)\n",
    "            conflict_dyads[dyad] += 1\n",
    "\n",
    "    # Fill in zeroes\n",
    "    for source, target in permutations(actors, 2):\n",
    "        dyad = (source, target)\n",
    "        if dyad not in conflict_dyads:\n",
    "            conflict_dyads[dyad] = 0\n",
    "            \n",
    "    model_conflicts = pd.DataFrame({\"Model_Conflicts\": dict(conflict_dyads)})\n",
    "    model_conflicts.reset_index(inplace=True)\n",
    "    model_conflicts.rename(columns={\"level_0\": \"Source_Country\",\n",
    "                                   \"level_1\": \"Target_Country\"}, inplace=True)\n",
    "\n",
    "    df = model_conflicts.merge(icews, how=\"left\", on=[\"Source_Country\", \"Target_Country\"])\n",
    "    df.rename(columns={\"Count\": \"ICEWS_Count\"}, inplace=True)\n",
    "    df.fillna(0, inplace=True)\n",
    "    df.Model_Conflicts /= 100\n",
    "    \n",
    "    datasets[key] = df"
   ]
  },
  {
   "cell_type": "markdown",
   "metadata": {},
   "source": [
    "# Scatter plots"
   ]
  },
  {
   "cell_type": "code",
   "execution_count": 8,
   "metadata": {
    "collapsed": false
   },
   "outputs": [
    {
     "data": {
      "image/png": "[encoded data removed]",
      "text/plain": [
       "<matplotlib.figure.Figure at 0x10ba96400>"
      ]
     },
     "metadata": {},
     "output_type": "display_data"
    }
   ],
   "source": [
    "fig = plt.figure(figsize=(10, 12))\n",
    "for i, ex in enumerate(experiment_keys):\n",
    "    ax = fig.add_subplot(3, 2, i+1)\n",
    "    df = datasets[ex]\n",
    "    ax.scatter(df.Model_Conflicts, df.ICEWS_Count, c='k', s=10)\n",
    "    if i == 4:\n",
    "        ax.set_xlabel(\"Mean Model Conflicts\")\n",
    "        ax.set_ylabel(\"ICEWS Conflicts\")\n",
    "    ax.grid(True)\n",
    "    ax.set_title(\"Experiment {}\".format(ex.replace(\"_\", \".\")))\n",
    "    _, x_max = ax.get_xlim()\n",
    "    if x_max < 2:\n",
    "        ax.set_xlim(-0.1, 1.2)\n",
    "    else:\n",
    "        ax.set_xlim(-0.1, x_max)\n",
    "    ax.set_ylim(-20, 500)\n",
    "    \n",
    "    for spine in [\"top\", \"left\", \"right\", \"bottom\"]:\n",
    "        ax.spines[spine].set_visible(False)\n",
    "\n",
    "fig.tight_layout()"
   ]
  },
  {
   "cell_type": "code",
   "execution_count": 9,
   "metadata": {
    "collapsed": false
   },
   "outputs": [],
   "source": [
    "PATH = \"/Users/dmasad/Documents/Dissertation/Dissertation/BDM_Reproduction/Figures/\"\n",
    "fig.savefig(PATH + \"ICEWS_Scatters.pdf\")"
   ]
  },
  {
   "cell_type": "markdown",
   "metadata": {},
   "source": [
    "# Econometric models"
   ]
  },
  {
   "cell_type": "code",
   "execution_count": 10,
   "metadata": {
    "collapsed": true
   },
   "outputs": [],
   "source": [
    "import statsmodels.api as sm"
   ]
  },
  {
   "cell_type": "markdown",
   "metadata": {},
   "source": [
    "## Linear models"
   ]
  },
  {
   "cell_type": "code",
   "execution_count": 11,
   "metadata": {
    "collapsed": true
   },
   "outputs": [],
   "source": [
    "linear_models = []\n",
    "for ex in experiment_keys:\n",
    "    df = datasets[ex]\n",
    "    df[\"Const.\"] = 1\n",
    "    lm = sm.OLS(df[\"ICEWS_Count\"], df[[\"Const.\", \"Model_Conflicts\"]]).fit()\n",
    "    linear_models.append(lm)"
   ]
  },
  {
   "cell_type": "code",
   "execution_count": 12,
   "metadata": {
    "collapsed": false
   },
   "outputs": [
    {
     "name": "stderr",
     "output_type": "stream",
     "text": [
      "/Users/dmasad/.virtualenvs/consul/lib/python3.4/site-packages/statsmodels/iolib/summary2.py:372: SettingWithCopyWarning: \n",
      "A value is trying to be set on a copy of a slice from a DataFrame\n",
      "\n",
      "See the the caveats in the documentation: http://pandas.pydata.org/pandas-docs/stable/indexing.html#indexing-view-versus-copy\n",
      "  res.ix[:, 0][idx] = res.ix[:, 0][idx] + '*'\n",
      "/Users/dmasad/.virtualenvs/consul/lib/python3.4/site-packages/statsmodels/iolib/summary2.py:374: SettingWithCopyWarning: \n",
      "A value is trying to be set on a copy of a slice from a DataFrame\n",
      "\n",
      "See the the caveats in the documentation: http://pandas.pydata.org/pandas-docs/stable/indexing.html#indexing-view-versus-copy\n",
      "  res.ix[:, 0][idx] = res.ix[:, 0][idx] + '*'\n",
      "/Users/dmasad/.virtualenvs/consul/lib/python3.4/site-packages/statsmodels/iolib/summary2.py:376: SettingWithCopyWarning: \n",
      "A value is trying to be set on a copy of a slice from a DataFrame\n",
      "\n",
      "See the the caveats in the documentation: http://pandas.pydata.org/pandas-docs/stable/indexing.html#indexing-view-versus-copy\n",
      "  res.ix[:, 0][idx] = res.ix[:, 0][idx] + '*'\n"
     ]
    }
   ],
   "source": [
    "lm_table = summary_col(linear_models, float_format=\"%.2f\", stars=True,\n",
    "                      model_names=[ex for ex in experiment_keys],\n",
    "                      info_dict={\"R^2\": \n",
    "                                 lambda x: \"{:.2f}\".format(x.rsquared)})"
   ]
  },
  {
   "cell_type": "code",
   "execution_count": 13,
   "metadata": {
    "collapsed": false
   },
   "outputs": [
    {
     "name": "stdout",
     "output_type": "stream",
     "text": [
      "\n",
      "====================================================================\n",
      "                   1a      1b       2a       2b       3a       3b   \n",
      "--------------------------------------------------------------------\n",
      "Const.          2.82*** 3.91***  2.27***  1.40***  20.37*** 21.80***\n",
      "                (0.35)  (0.44)   (0.35)   (0.33)   (2.10)   (2.10)  \n",
      "Model_Conflicts 6.82    -7.90*** 33.58*** 94.31*** -6.20*** -6.64***\n",
      "                (8.61)  (1.99)   (4.57)   (4.38)   (0.73)   (0.73)  \n",
      "R^2             0.00    0.01     0.02     0.16     0.03     0.03    \n",
      "====================================================================\n",
      "Standard errors in parentheses.\n",
      "* p<.1, ** p<.05, ***p<.01\n"
     ]
    }
   ],
   "source": [
    "print(lm_table)"
   ]
  },
  {
   "cell_type": "code",
   "execution_count": 17,
   "metadata": {
    "collapsed": false
   },
   "outputs": [
    {
     "name": "stdout",
     "output_type": "stream",
     "text": [
      "\\begin{table}\n",
      "\\caption{}\n",
      "\\begin{center}\n",
      "\\begin{tabular}{lcccccc}\n",
      "\\hline\n",
      "                &    1a   &    1b    &    2a    &    2b    &    3a    &    3b     \\\\\n",
      "\\hline\n",
      "\\hline\n",
      "\\end{tabular}\n",
      "\\begin{tabular}{lllllll}\n",
      "Const.          & 2.82*** & 3.91***  & 2.27***  & 1.40***  & 20.37*** & 21.80***  \\\\\n",
      "                & (0.35)  & (0.44)   & (0.35)   & (0.33)   & (2.10)   & (2.10)    \\\\\n",
      "Model_Conflicts & 6.82    & -7.90*** & 33.58*** & 94.31*** & -6.20*** & -6.64***  \\\\\n",
      "                & (8.61)  & (1.99)   & (4.57)   & (4.38)   & (0.73)   & (0.73)    \\\\\n",
      "R^2             & 0.00    & 0.01     & 0.02     & 0.16     & 0.03     & 0.03      \\\\\n",
      "\\hline\n",
      "\\end{tabular}\n",
      "\\end{center}\n",
      "\\end{table}\n"
     ]
    }
   ],
   "source": [
    "print(lm_table.as_latex())"
   ]
  },
  {
   "cell_type": "markdown",
   "metadata": {},
   "source": [
    "## Logits"
   ]
  },
  {
   "cell_type": "code",
   "execution_count": 14,
   "metadata": {
    "collapsed": false
   },
   "outputs": [
    {
     "name": "stdout",
     "output_type": "stream",
     "text": [
      "Optimization terminated successfully.\n",
      "         Current function value: 0.545374\n",
      "         Iterations 5\n",
      "Optimization terminated successfully.\n",
      "         Current function value: 0.543086\n",
      "         Iterations 5\n",
      "Optimization terminated successfully.\n",
      "         Current function value: 0.527765\n",
      "         Iterations 5\n",
      "Optimization terminated successfully.\n",
      "         Current function value: 0.520126\n",
      "         Iterations 6\n",
      "Optimization terminated successfully.\n",
      "         Current function value: 0.529736\n",
      "         Iterations 5\n",
      "Optimization terminated successfully.\n",
      "         Current function value: 0.527016\n",
      "         Iterations 6\n"
     ]
    }
   ],
   "source": [
    "logit_models = []\n",
    "for ex in experiment_keys:\n",
    "    df = datasets[ex]\n",
    "    df[\"Const.\"] = 1\n",
    "    df[\"ICEWS_Dummy\"] = 0\n",
    "    df.loc[df.ICEWS_Count>0, \"ICEWS_Dummy\"] = 1\n",
    "    logit = sm.Logit(df.ICEWS_Dummy, df[[\"Const.\", \"Model_Conflicts\"]])\\\n",
    "        .fit()\n",
    "    logit_models.append(logit)"
   ]
  },
  {
   "cell_type": "code",
   "execution_count": 15,
   "metadata": {
    "collapsed": false
   },
   "outputs": [
    {
     "name": "stderr",
     "output_type": "stream",
     "text": [
      "/Users/dmasad/.virtualenvs/consul/lib/python3.4/site-packages/statsmodels/iolib/summary2.py:372: SettingWithCopyWarning: \n",
      "A value is trying to be set on a copy of a slice from a DataFrame\n",
      "\n",
      "See the the caveats in the documentation: http://pandas.pydata.org/pandas-docs/stable/indexing.html#indexing-view-versus-copy\n",
      "  res.ix[:, 0][idx] = res.ix[:, 0][idx] + '*'\n",
      "/Users/dmasad/.virtualenvs/consul/lib/python3.4/site-packages/statsmodels/iolib/summary2.py:374: SettingWithCopyWarning: \n",
      "A value is trying to be set on a copy of a slice from a DataFrame\n",
      "\n",
      "See the the caveats in the documentation: http://pandas.pydata.org/pandas-docs/stable/indexing.html#indexing-view-versus-copy\n",
      "  res.ix[:, 0][idx] = res.ix[:, 0][idx] + '*'\n",
      "/Users/dmasad/.virtualenvs/consul/lib/python3.4/site-packages/statsmodels/iolib/summary2.py:376: SettingWithCopyWarning: \n",
      "A value is trying to be set on a copy of a slice from a DataFrame\n",
      "\n",
      "See the the caveats in the documentation: http://pandas.pydata.org/pandas-docs/stable/indexing.html#indexing-view-versus-copy\n",
      "  res.ix[:, 0][idx] = res.ix[:, 0][idx] + '*'\n"
     ]
    }
   ],
   "source": [
    "logit_table = summary_col(logit_models, float_format=\"%.2f\", stars=True,\n",
    "                      model_names=[ex for ex in experiment_keys],\n",
    "                      info_dict={\"Pseudo-R^2\": \n",
    "                                 lambda x: \"{:.2f}\".format(x.prsquared)})"
   ]
  },
  {
   "cell_type": "code",
   "execution_count": 16,
   "metadata": {
    "collapsed": false
   },
   "outputs": [
    {
     "name": "stdout",
     "output_type": "stream",
     "text": [
      "\n",
      "=====================================================================\n",
      "                   1a       1b       2a       2b       3a       3b   \n",
      "---------------------------------------------------------------------\n",
      "Const.          -1.19*** -1.03*** -1.30*** -1.32*** 1.22***  1.47*** \n",
      "                (0.05)   (0.06)   (0.05)   (0.05)   (0.30)   (0.31)  \n",
      "Model_Conflicts 2.27**   -1.15*** 5.52***  8.01***  -0.86*** -0.94***\n",
      "                (1.03)   (0.30)   (0.62)   (0.81)   (0.10)   (0.11)  \n",
      "Pseudo-R^2      0.00     0.01     0.03     0.05     0.03     0.04    \n",
      "=====================================================================\n",
      "Standard errors in parentheses.\n",
      "* p<.1, ** p<.05, ***p<.01\n"
     ]
    }
   ],
   "source": [
    "print(logit_table)"
   ]
  },
  {
   "cell_type": "code",
   "execution_count": 18,
   "metadata": {
    "collapsed": false,
    "scrolled": true
   },
   "outputs": [
    {
     "name": "stdout",
     "output_type": "stream",
     "text": [
      "\\begin{table}\n",
      "\\caption{}\n",
      "\\begin{center}\n",
      "\\begin{tabular}{lcccccc}\n",
      "\\hline\n",
      "                &    1a    &    1b    &    2a    &    2b    &    3a    &    3b     \\\\\n",
      "\\hline\n",
      "\\hline\n",
      "\\end{tabular}\n",
      "\\begin{tabular}{lllllll}\n",
      "Const.          & -1.19*** & -1.03*** & -1.30*** & -1.32*** & 1.22***  & 1.47***   \\\\\n",
      "                & (0.05)   & (0.06)   & (0.05)   & (0.05)   & (0.30)   & (0.31)    \\\\\n",
      "Model_Conflicts & 2.27**   & -1.15*** & 5.52***  & 8.01***  & -0.86*** & -0.94***  \\\\\n",
      "                & (1.03)   & (0.30)   & (0.62)   & (0.81)   & (0.10)   & (0.11)    \\\\\n",
      "Pseudo-R^2      & 0.00     & 0.01     & 0.03     & 0.05     & 0.03     & 0.04      \\\\\n",
      "\\hline\n",
      "\\end{tabular}\n",
      "\\end{center}\n",
      "\\end{table}\n"
     ]
    }
   ],
   "source": [
    "print(logit_table.as_latex())"
   ]
  },
  {
   "cell_type": "code",
   "execution_count": null,
   "metadata": {
    "collapsed": true
   },
   "outputs": [],
   "source": []
  }
 ],
 "metadata": {
  "kernelspec": {
   "display_name": "Python 3",
   "language": "python",
   "name": "python3"
  },
  "language_info": {
   "codemirror_mode": {
    "name": "ipython",
    "version": 3
   },
   "file_extension": ".py",
   "mimetype": "text/x-python",
   "name": "python",
   "nbconvert_exporter": "python",
   "pygments_lexer": "ipython3",
   "version": "3.4.2"
  }
 },
 "nbformat": 4,
 "nbformat_minor": 0
}
