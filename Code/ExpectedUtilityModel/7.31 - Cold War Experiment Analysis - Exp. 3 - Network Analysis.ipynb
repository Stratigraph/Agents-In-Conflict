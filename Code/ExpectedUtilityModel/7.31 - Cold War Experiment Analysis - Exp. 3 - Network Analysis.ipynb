{
 "cells": [
  {
   "cell_type": "code",
   "execution_count": 1,
   "metadata": {
    "collapsed": true
   },
   "outputs": [],
   "source": [
    "import copy\n",
    "import pickle\n",
    "import random\n",
    "from collections import defaultdict, namedtuple, Counter\n",
    "from itertools import combinations, permutations\n",
    "import os\n",
    "\n",
    "import numpy as np\n",
    "import scipy.stats\n",
    "\n",
    "import pandas as pd\n",
    "import networkx as nx\n",
    "import statsmodels.api as sm\n",
    "\n",
    "import matplotlib.pyplot as plt\n",
    "%matplotlib inline"
   ]
  },
  {
   "cell_type": "markdown",
   "metadata": {},
   "source": [
    "# Loading starting data"
   ]
  },
  {
   "cell_type": "code",
   "execution_count": 2,
   "metadata": {
    "collapsed": false
   },
   "outputs": [
    {
     "data": {
      "text/html": [
       "<div>\n",
       "<table border=\"1\" class=\"dataframe\">\n",
       "  <thead>\n",
       "    <tr style=\"text-align: right;\">\n",
       "      <th></th>\n",
       "      <th>Unnamed: 0</th>\n",
       "      <th>Capability</th>\n",
       "      <th>Country</th>\n",
       "      <th>Position</th>\n",
       "    </tr>\n",
       "  </thead>\n",
       "  <tbody>\n",
       "    <tr>\n",
       "      <th>0</th>\n",
       "      <td>0</td>\n",
       "      <td>0.294660</td>\n",
       "      <td>United States of America</td>\n",
       "      <td>1.000000e+00</td>\n",
       "    </tr>\n",
       "    <tr>\n",
       "      <th>1</th>\n",
       "      <td>1</td>\n",
       "      <td>0.164000</td>\n",
       "      <td>Russia</td>\n",
       "      <td>-3.439353e-16</td>\n",
       "    </tr>\n",
       "    <tr>\n",
       "      <th>2</th>\n",
       "      <td>2</td>\n",
       "      <td>0.115055</td>\n",
       "      <td>China</td>\n",
       "      <td>5.724034e-01</td>\n",
       "    </tr>\n",
       "    <tr>\n",
       "      <th>3</th>\n",
       "      <td>3</td>\n",
       "      <td>0.075426</td>\n",
       "      <td>United Kingdom</td>\n",
       "      <td>5.368582e-01</td>\n",
       "    </tr>\n",
       "    <tr>\n",
       "      <th>4</th>\n",
       "      <td>4</td>\n",
       "      <td>0.052450</td>\n",
       "      <td>India</td>\n",
       "      <td>5.632982e-01</td>\n",
       "    </tr>\n",
       "  </tbody>\n",
       "</table>\n",
       "</div>"
      ],
      "text/plain": [
       "   Unnamed: 0  Capability                   Country      Position\n",
       "0           0    0.294660  United States of America  1.000000e+00\n",
       "1           1    0.164000                    Russia -3.439353e-16\n",
       "2           2    0.115055                     China  5.724034e-01\n",
       "3           3    0.075426            United Kingdom  5.368582e-01\n",
       "4           4    0.052450                     India  5.632982e-01"
      ]
     },
     "execution_count": 2,
     "metadata": {},
     "output_type": "execute_result"
    }
   ],
   "source": [
    "model_data = pd.read_csv(\"ColdWarActors_1948.csv\")\n",
    "model_data.head()"
   ]
  },
  {
   "cell_type": "markdown",
   "metadata": {},
   "source": [
    "# Unserialize run data"
   ]
  },
  {
   "cell_type": "code",
   "execution_count": 3,
   "metadata": {
    "collapsed": true
   },
   "outputs": [],
   "source": [
    "class Model_Output:\n",
    "    def __init__(self, model):\n",
    "        '''\n",
    "        Store data from model run.\n",
    "        '''\n",
    "        self.agent_vars = model.datacollector.get_agent_vars_dataframe()\n",
    "        self.model_vars = model.datacollector.get_model_vars_dataframe()\n",
    "        self.log = model.log"
   ]
  },
  {
   "cell_type": "code",
   "execution_count": 4,
   "metadata": {
    "collapsed": false
   },
   "outputs": [],
   "source": [
    "model_runs = []\n",
    "filename = \"data_output/ColdWar_Experiment3_1.pickle\"\n",
    "with open(filename, \"rb\") as f:\n",
    "    model_runs += pickle.load(f)"
   ]
  },
  {
   "cell_type": "markdown",
   "metadata": {},
   "source": [
    "# Get agent positions"
   ]
  },
  {
   "cell_type": "code",
   "execution_count": 5,
   "metadata": {
    "collapsed": true
   },
   "outputs": [],
   "source": [
    "all_dfs = []\n",
    "for i, model in enumerate(model_runs):\n",
    "    df = model.agent_vars.copy()\n",
    "    df.reset_index(inplace=True)\n",
    "    df[\"Iteration\"] = i\n",
    "    all_dfs.append(df)\n",
    "agent_positions = pd.concat(all_dfs)"
   ]
  },
  {
   "cell_type": "code",
   "execution_count": 6,
   "metadata": {
    "collapsed": false
   },
   "outputs": [
    {
     "data": {
      "text/html": [
       "<div>\n",
       "<table border=\"1\" class=\"dataframe\">\n",
       "  <thead>\n",
       "    <tr style=\"text-align: right;\">\n",
       "      <th></th>\n",
       "      <th>Step</th>\n",
       "      <th>AgentID</th>\n",
       "      <th>Position</th>\n",
       "      <th>Iteration</th>\n",
       "    </tr>\n",
       "  </thead>\n",
       "  <tbody>\n",
       "    <tr>\n",
       "      <th>1795</th>\n",
       "      <td>24</td>\n",
       "      <td>United States of America</td>\n",
       "      <td>0.982022</td>\n",
       "      <td>999</td>\n",
       "    </tr>\n",
       "    <tr>\n",
       "      <th>1796</th>\n",
       "      <td>24</td>\n",
       "      <td>Uruguay</td>\n",
       "      <td>0.974070</td>\n",
       "      <td>999</td>\n",
       "    </tr>\n",
       "    <tr>\n",
       "      <th>1797</th>\n",
       "      <td>24</td>\n",
       "      <td>Venezuela</td>\n",
       "      <td>0.906321</td>\n",
       "      <td>999</td>\n",
       "    </tr>\n",
       "    <tr>\n",
       "      <th>1798</th>\n",
       "      <td>24</td>\n",
       "      <td>Yemen Arab Republic</td>\n",
       "      <td>0.578550</td>\n",
       "      <td>999</td>\n",
       "    </tr>\n",
       "    <tr>\n",
       "      <th>1799</th>\n",
       "      <td>24</td>\n",
       "      <td>Yugoslavia</td>\n",
       "      <td>0.325946</td>\n",
       "      <td>999</td>\n",
       "    </tr>\n",
       "  </tbody>\n",
       "</table>\n",
       "</div>"
      ],
      "text/plain": [
       "      Step                   AgentID  Position  Iteration\n",
       "1795    24  United States of America  0.982022        999\n",
       "1796    24                   Uruguay  0.974070        999\n",
       "1797    24                 Venezuela  0.906321        999\n",
       "1798    24       Yemen Arab Republic  0.578550        999\n",
       "1799    24                Yugoslavia  0.325946        999"
      ]
     },
     "execution_count": 6,
     "metadata": {},
     "output_type": "execute_result"
    }
   ],
   "source": [
    "agent_positions.tail()"
   ]
  },
  {
   "cell_type": "markdown",
   "metadata": {},
   "source": [
    "## How far do agents end up from their starting positions?"
   ]
  },
  {
   "cell_type": "code",
   "execution_count": 7,
   "metadata": {
    "collapsed": false
   },
   "outputs": [],
   "source": [
    "end_positions = agent_positions[agent_positions.Step==24]\\\n",
    "    .groupby(\"AgentID\")[\"Position\"].aggregate([np.mean, np.std])\n",
    "\n",
    "end_positions = end_positions.rename(columns={\"mean\": \"EndPos_mean\",\n",
    "                             \"std\": \"EndPos_std\"})\n",
    "\n",
    "end_positions = end_positions.merge(model_data, left_index=True, right_on=\"Country\")\n",
    "end_positions[\"Delta\"] = end_positions.EndPos_mean - end_positions.Position"
   ]
  },
  {
   "cell_type": "code",
   "execution_count": 8,
   "metadata": {
    "collapsed": false
   },
   "outputs": [
    {
     "data": {
      "text/html": [
       "<div>\n",
       "<table border=\"1\" class=\"dataframe\">\n",
       "  <thead>\n",
       "    <tr style=\"text-align: right;\">\n",
       "      <th></th>\n",
       "      <th>EndPos_mean</th>\n",
       "      <th>EndPos_std</th>\n",
       "      <th>Unnamed: 0</th>\n",
       "      <th>Capability</th>\n",
       "      <th>Country</th>\n",
       "      <th>Position</th>\n",
       "      <th>Delta</th>\n",
       "    </tr>\n",
       "  </thead>\n",
       "  <tbody>\n",
       "    <tr>\n",
       "      <th>34</th>\n",
       "      <td>0.582343</td>\n",
       "      <td>0.003485</td>\n",
       "      <td>34</td>\n",
       "      <td>0.002334</td>\n",
       "      <td>Afghanistan</td>\n",
       "      <td>0.581933</td>\n",
       "      <td>0.000411</td>\n",
       "    </tr>\n",
       "    <tr>\n",
       "      <th>53</th>\n",
       "      <td>0.357931</td>\n",
       "      <td>0.013059</td>\n",
       "      <td>53</td>\n",
       "      <td>0.000861</td>\n",
       "      <td>Albania</td>\n",
       "      <td>0.355385</td>\n",
       "      <td>0.002546</td>\n",
       "    </tr>\n",
       "    <tr>\n",
       "      <th>17</th>\n",
       "      <td>0.950969</td>\n",
       "      <td>0.025071</td>\n",
       "      <td>17</td>\n",
       "      <td>0.008271</td>\n",
       "      <td>Argentina</td>\n",
       "      <td>0.980751</td>\n",
       "      <td>-0.029782</td>\n",
       "    </tr>\n",
       "    <tr>\n",
       "      <th>15</th>\n",
       "      <td>0.571636</td>\n",
       "      <td>0.001521</td>\n",
       "      <td>15</td>\n",
       "      <td>0.008334</td>\n",
       "      <td>Australia</td>\n",
       "      <td>0.572403</td>\n",
       "      <td>-0.000767</td>\n",
       "    </tr>\n",
       "    <tr>\n",
       "      <th>14</th>\n",
       "      <td>0.432078</td>\n",
       "      <td>0.008895</td>\n",
       "      <td>14</td>\n",
       "      <td>0.010908</td>\n",
       "      <td>Belgium</td>\n",
       "      <td>0.422577</td>\n",
       "      <td>0.009501</td>\n",
       "    </tr>\n",
       "  </tbody>\n",
       "</table>\n",
       "</div>"
      ],
      "text/plain": [
       "    EndPos_mean  EndPos_std  Unnamed: 0  Capability      Country  Position  \\\n",
       "34     0.582343    0.003485          34    0.002334  Afghanistan  0.581933   \n",
       "53     0.357931    0.013059          53    0.000861      Albania  0.355385   \n",
       "17     0.950969    0.025071          17    0.008271    Argentina  0.980751   \n",
       "15     0.571636    0.001521          15    0.008334    Australia  0.572403   \n",
       "14     0.432078    0.008895          14    0.010908      Belgium  0.422577   \n",
       "\n",
       "       Delta  \n",
       "34  0.000411  \n",
       "53  0.002546  \n",
       "17 -0.029782  \n",
       "15 -0.000767  \n",
       "14  0.009501  "
      ]
     },
     "execution_count": 8,
     "metadata": {},
     "output_type": "execute_result"
    }
   ],
   "source": [
    "end_positions.head()"
   ]
  },
  {
   "cell_type": "code",
   "execution_count": 9,
   "metadata": {
    "collapsed": false
   },
   "outputs": [
    {
     "name": "stdout",
     "output_type": "stream",
     "text": [
      "-0.00533464418507\n",
      "-0.0341392833484\n",
      "0.110946544535\n"
     ]
    },
    {
     "data": {
      "text/plain": [
       "<matplotlib.axes._subplots.AxesSubplot at 0x2752e8e48>"
      ]
     },
     "execution_count": 9,
     "metadata": {},
     "output_type": "execute_result"
    },
    {
     "data": {
      "image/png": "[encoded data removed]",
      "text/plain": [
       "<matplotlib.figure.Figure at 0x277758860>"
      ]
     },
     "metadata": {},
     "output_type": "display_data"
    }
   ],
   "source": [
    "print(end_positions.Delta.mean())\n",
    "print(end_positions.Delta.min())\n",
    "print(end_positions.Delta.max())\n",
    "end_positions.Delta.hist()"
   ]
  },
  {
   "cell_type": "markdown",
   "metadata": {},
   "source": [
    "## Dyadic distance"
   ]
  },
  {
   "cell_type": "code",
   "execution_count": 10,
   "metadata": {
    "collapsed": false
   },
   "outputs": [
    {
     "data": {
      "text/html": [
       "<div>\n",
       "<table border=\"1\" class=\"dataframe\">\n",
       "  <thead>\n",
       "    <tr style=\"text-align: right;\">\n",
       "      <th></th>\n",
       "      <th>Step</th>\n",
       "      <th>AgentID</th>\n",
       "      <th>Position</th>\n",
       "      <th>Iteration</th>\n",
       "    </tr>\n",
       "  </thead>\n",
       "  <tbody>\n",
       "    <tr>\n",
       "      <th>1795</th>\n",
       "      <td>24</td>\n",
       "      <td>United States of America</td>\n",
       "      <td>0.982022</td>\n",
       "      <td>999</td>\n",
       "    </tr>\n",
       "    <tr>\n",
       "      <th>1796</th>\n",
       "      <td>24</td>\n",
       "      <td>Uruguay</td>\n",
       "      <td>0.974070</td>\n",
       "      <td>999</td>\n",
       "    </tr>\n",
       "    <tr>\n",
       "      <th>1797</th>\n",
       "      <td>24</td>\n",
       "      <td>Venezuela</td>\n",
       "      <td>0.906321</td>\n",
       "      <td>999</td>\n",
       "    </tr>\n",
       "    <tr>\n",
       "      <th>1798</th>\n",
       "      <td>24</td>\n",
       "      <td>Yemen Arab Republic</td>\n",
       "      <td>0.578550</td>\n",
       "      <td>999</td>\n",
       "    </tr>\n",
       "    <tr>\n",
       "      <th>1799</th>\n",
       "      <td>24</td>\n",
       "      <td>Yugoslavia</td>\n",
       "      <td>0.325946</td>\n",
       "      <td>999</td>\n",
       "    </tr>\n",
       "  </tbody>\n",
       "</table>\n",
       "</div>"
      ],
      "text/plain": [
       "      Step                   AgentID  Position  Iteration\n",
       "1795    24  United States of America  0.982022        999\n",
       "1796    24                   Uruguay  0.974070        999\n",
       "1797    24                 Venezuela  0.906321        999\n",
       "1798    24       Yemen Arab Republic  0.578550        999\n",
       "1799    24                Yugoslavia  0.325946        999"
      ]
     },
     "execution_count": 10,
     "metadata": {},
     "output_type": "execute_result"
    }
   ],
   "source": [
    "agent_positions.tail()"
   ]
  },
  {
   "cell_type": "code",
   "execution_count": 11,
   "metadata": {
    "collapsed": true
   },
   "outputs": [],
   "source": [
    "STEP = 24"
   ]
  },
  {
   "cell_type": "code",
   "execution_count": 12,
   "metadata": {
    "collapsed": true
   },
   "outputs": [],
   "source": [
    "distances = defaultdict(lambda: defaultdict(list))\n",
    "for i, group in agent_positions.groupby(\"Iteration\"):\n",
    "    group = group[group.Step==STEP]\n",
    "    for i, r1 in group.iterrows():\n",
    "        source_name = r1.AgentID\n",
    "        source_pos = r1.Position\n",
    "        for j, r2 in group.iterrows():\n",
    "            target_name = r2.AgentID\n",
    "            target_pos = r2.Position\n",
    "            if target_name == source_name:\n",
    "                continue\n",
    "            distances[source_name][target_name].append(abs(source_pos - target_pos))"
   ]
  },
  {
   "cell_type": "code",
   "execution_count": 13,
   "metadata": {
    "collapsed": false
   },
   "outputs": [],
   "source": [
    "distances = {key: dict(val) for key, val in distances.items()}"
   ]
  },
  {
   "cell_type": "code",
   "execution_count": 14,
   "metadata": {
    "collapsed": true
   },
   "outputs": [],
   "source": [
    "mean_distances = {}\n",
    "for source, targets in distances.items():\n",
    "    for target, dist_list in targets.items():\n",
    "        mean_dist = np.mean(dist_list)\n",
    "        mean_distances[(source, target)] = mean_dist"
   ]
  },
  {
   "cell_type": "code",
   "execution_count": 15,
   "metadata": {
    "collapsed": false
   },
   "outputs": [],
   "source": [
    "mean_distances = pd.DataFrame({\"Mean_Distance\": mean_distances})\n",
    "mean_distances.reset_index(inplace=True)"
   ]
  },
  {
   "cell_type": "code",
   "execution_count": 16,
   "metadata": {
    "collapsed": false
   },
   "outputs": [],
   "source": [
    "mean_distances.rename(columns={\"level_0\": \"Source\", \"level_1\": \"Target\"}, inplace=True)"
   ]
  },
  {
   "cell_type": "code",
   "execution_count": 17,
   "metadata": {
    "collapsed": false
   },
   "outputs": [
    {
     "data": {
      "text/html": [
       "<div>\n",
       "<table border=\"1\" class=\"dataframe\">\n",
       "  <thead>\n",
       "    <tr style=\"text-align: right;\">\n",
       "      <th></th>\n",
       "      <th>Source</th>\n",
       "      <th>Target</th>\n",
       "      <th>Mean_Distance</th>\n",
       "    </tr>\n",
       "  </thead>\n",
       "  <tbody>\n",
       "    <tr>\n",
       "      <th>0</th>\n",
       "      <td>Afghanistan</td>\n",
       "      <td>Albania</td>\n",
       "      <td>0.224412</td>\n",
       "    </tr>\n",
       "    <tr>\n",
       "      <th>1</th>\n",
       "      <td>Afghanistan</td>\n",
       "      <td>Argentina</td>\n",
       "      <td>0.368625</td>\n",
       "    </tr>\n",
       "    <tr>\n",
       "      <th>2</th>\n",
       "      <td>Afghanistan</td>\n",
       "      <td>Australia</td>\n",
       "      <td>0.010721</td>\n",
       "    </tr>\n",
       "    <tr>\n",
       "      <th>3</th>\n",
       "      <td>Afghanistan</td>\n",
       "      <td>Belgium</td>\n",
       "      <td>0.150265</td>\n",
       "    </tr>\n",
       "    <tr>\n",
       "      <th>4</th>\n",
       "      <td>Afghanistan</td>\n",
       "      <td>Bolivia</td>\n",
       "      <td>0.367467</td>\n",
       "    </tr>\n",
       "  </tbody>\n",
       "</table>\n",
       "</div>"
      ],
      "text/plain": [
       "        Source     Target  Mean_Distance\n",
       "0  Afghanistan    Albania       0.224412\n",
       "1  Afghanistan  Argentina       0.368625\n",
       "2  Afghanistan  Australia       0.010721\n",
       "3  Afghanistan    Belgium       0.150265\n",
       "4  Afghanistan    Bolivia       0.367467"
      ]
     },
     "execution_count": 17,
     "metadata": {},
     "output_type": "execute_result"
    }
   ],
   "source": [
    "mean_distances.head()"
   ]
  },
  {
   "cell_type": "markdown",
   "metadata": {},
   "source": [
    "# Getting alliance network"
   ]
  },
  {
   "cell_type": "code",
   "execution_count": 18,
   "metadata": {
    "collapsed": true
   },
   "outputs": [],
   "source": [
    "COW = \"/Users/dmasad/Data/COW/\"\n",
    "YEAR = 1998\n",
    "alliance_dyads = pd.read_csv(COW + \"Alliances/alliance_v4.1_by_dyad_yearly.csv\")\n",
    "alliance_dyads = alliance_dyads[alliance_dyads.year==YEAR]\n",
    "alliance_dyads[\"Alliance\"] = 0\n",
    "alliance_dyads.loc[(alliance_dyads.entente==1),\"Alliance\"] = 1\n",
    "alliance_dyads.loc[(alliance_dyads.nonaggression==1),\"Alliance\"] = 2\n",
    "alliance_dyads.loc[(alliance_dyads.neutrality==1),\"Alliance\"] = 3\n",
    "alliance_dyads.loc[(alliance_dyads.defense==1),\"Alliance\"] = 4"
   ]
  },
  {
   "cell_type": "code",
   "execution_count": 19,
   "metadata": {
    "collapsed": false
   },
   "outputs": [
    {
     "data": {
      "text/html": [
       "<div>\n",
       "<table border=\"1\" class=\"dataframe\">\n",
       "  <thead>\n",
       "    <tr style=\"text-align: right;\">\n",
       "      <th></th>\n",
       "      <th>version4id</th>\n",
       "      <th>ccode1</th>\n",
       "      <th>state_name1</th>\n",
       "      <th>ccode2</th>\n",
       "      <th>state_name2</th>\n",
       "      <th>dyad_st_day</th>\n",
       "      <th>dyad_st_month</th>\n",
       "      <th>dyad_st_year</th>\n",
       "      <th>dyad_end_day</th>\n",
       "      <th>dyad_end_month</th>\n",
       "      <th>dyad_end_year</th>\n",
       "      <th>left_censor</th>\n",
       "      <th>right_censor</th>\n",
       "      <th>defense</th>\n",
       "      <th>neutrality</th>\n",
       "      <th>nonaggression</th>\n",
       "      <th>entente</th>\n",
       "      <th>year</th>\n",
       "      <th>version</th>\n",
       "      <th>Alliance</th>\n",
       "    </tr>\n",
       "  </thead>\n",
       "  <tbody>\n",
       "    <tr>\n",
       "      <th>182</th>\n",
       "      <td>1</td>\n",
       "      <td>200</td>\n",
       "      <td>United Kingdom</td>\n",
       "      <td>235</td>\n",
       "      <td>Portugal</td>\n",
       "      <td>1</td>\n",
       "      <td>1</td>\n",
       "      <td>1816</td>\n",
       "      <td>NaN</td>\n",
       "      <td>NaN</td>\n",
       "      <td>2012</td>\n",
       "      <td>1</td>\n",
       "      <td>1</td>\n",
       "      <td>1</td>\n",
       "      <td>0</td>\n",
       "      <td>1</td>\n",
       "      <td>0</td>\n",
       "      <td>1998</td>\n",
       "      <td>4.1</td>\n",
       "      <td>4</td>\n",
       "    </tr>\n",
       "    <tr>\n",
       "      <th>3712</th>\n",
       "      <td>88</td>\n",
       "      <td>130</td>\n",
       "      <td>Ecuador</td>\n",
       "      <td>145</td>\n",
       "      <td>Bolivia</td>\n",
       "      <td>17</td>\n",
       "      <td>4</td>\n",
       "      <td>1911</td>\n",
       "      <td>NaN</td>\n",
       "      <td>NaN</td>\n",
       "      <td>2012</td>\n",
       "      <td>0</td>\n",
       "      <td>1</td>\n",
       "      <td>0</td>\n",
       "      <td>1</td>\n",
       "      <td>1</td>\n",
       "      <td>0</td>\n",
       "      <td>1998</td>\n",
       "      <td>4.1</td>\n",
       "      <td>3</td>\n",
       "    </tr>\n",
       "    <tr>\n",
       "      <th>7460</th>\n",
       "      <td>170</td>\n",
       "      <td>145</td>\n",
       "      <td>Bolivia</td>\n",
       "      <td>150</td>\n",
       "      <td>Paraguay</td>\n",
       "      <td>21</td>\n",
       "      <td>7</td>\n",
       "      <td>1938</td>\n",
       "      <td>NaN</td>\n",
       "      <td>NaN</td>\n",
       "      <td>2012</td>\n",
       "      <td>0</td>\n",
       "      <td>1</td>\n",
       "      <td>0</td>\n",
       "      <td>0</td>\n",
       "      <td>1</td>\n",
       "      <td>0</td>\n",
       "      <td>1998</td>\n",
       "      <td>4.1</td>\n",
       "      <td>2</td>\n",
       "    </tr>\n",
       "    <tr>\n",
       "      <th>7638</th>\n",
       "      <td>185</td>\n",
       "      <td>100</td>\n",
       "      <td>Colombia</td>\n",
       "      <td>101</td>\n",
       "      <td>Venezuela</td>\n",
       "      <td>17</td>\n",
       "      <td>12</td>\n",
       "      <td>1939</td>\n",
       "      <td>NaN</td>\n",
       "      <td>NaN</td>\n",
       "      <td>2012</td>\n",
       "      <td>0</td>\n",
       "      <td>1</td>\n",
       "      <td>0</td>\n",
       "      <td>0</td>\n",
       "      <td>1</td>\n",
       "      <td>0</td>\n",
       "      <td>1998</td>\n",
       "      <td>4.1</td>\n",
       "      <td>2</td>\n",
       "    </tr>\n",
       "    <tr>\n",
       "      <th>8343</th>\n",
       "      <td>199</td>\n",
       "      <td>435</td>\n",
       "      <td>Mauritania</td>\n",
       "      <td>520</td>\n",
       "      <td>Somalia</td>\n",
       "      <td>22</td>\n",
       "      <td>1</td>\n",
       "      <td>1974</td>\n",
       "      <td>NaN</td>\n",
       "      <td>NaN</td>\n",
       "      <td>2012</td>\n",
       "      <td>0</td>\n",
       "      <td>1</td>\n",
       "      <td>0</td>\n",
       "      <td>0</td>\n",
       "      <td>1</td>\n",
       "      <td>1</td>\n",
       "      <td>1998</td>\n",
       "      <td>4.1</td>\n",
       "      <td>2</td>\n",
       "    </tr>\n",
       "  </tbody>\n",
       "</table>\n",
       "</div>"
      ],
      "text/plain": [
       "      version4id  ccode1     state_name1  ccode2 state_name2  dyad_st_day  \\\n",
       "182            1     200  United Kingdom     235    Portugal            1   \n",
       "3712          88     130         Ecuador     145     Bolivia           17   \n",
       "7460         170     145         Bolivia     150    Paraguay           21   \n",
       "7638         185     100        Colombia     101   Venezuela           17   \n",
       "8343         199     435      Mauritania     520     Somalia           22   \n",
       "\n",
       "      dyad_st_month  dyad_st_year  dyad_end_day  dyad_end_month  \\\n",
       "182               1          1816           NaN             NaN   \n",
       "3712              4          1911           NaN             NaN   \n",
       "7460              7          1938           NaN             NaN   \n",
       "7638             12          1939           NaN             NaN   \n",
       "8343              1          1974           NaN             NaN   \n",
       "\n",
       "      dyad_end_year  left_censor  right_censor  defense  neutrality  \\\n",
       "182            2012            1             1        1           0   \n",
       "3712           2012            0             1        0           1   \n",
       "7460           2012            0             1        0           0   \n",
       "7638           2012            0             1        0           0   \n",
       "8343           2012            0             1        0           0   \n",
       "\n",
       "      nonaggression  entente  year  version  Alliance  \n",
       "182               1        0  1998      4.1         4  \n",
       "3712              1        0  1998      4.1         3  \n",
       "7460              1        0  1998      4.1         2  \n",
       "7638              1        0  1998      4.1         2  \n",
       "8343              1        1  1998      4.1         2  "
      ]
     },
     "execution_count": 19,
     "metadata": {},
     "output_type": "execute_result"
    }
   ],
   "source": [
    "alliance_dyads.head()"
   ]
  },
  {
   "cell_type": "code",
   "execution_count": 20,
   "metadata": {
    "collapsed": false
   },
   "outputs": [],
   "source": [
    "state_names = set(alliance_dyads.state_name1.unique())\\\n",
    "        .union(set(alliance_dyads.state_name2.unique()))"
   ]
  },
  {
   "cell_type": "code",
   "execution_count": 21,
   "metadata": {
    "collapsed": false
   },
   "outputs": [
    {
     "name": "stdout",
     "output_type": "stream",
     "text": [
      "Afghanistan\n",
      "Cuba\n",
      "Czechoslovakia\n",
      "Iran\n",
      "Ireland\n",
      "Mongolia\n",
      "Myanmar\n",
      "Nepal\n",
      "New Zealand\n",
      "Sri Lanka\n",
      "Sweden\n",
      "Switzerland\n",
      "Thailand\n",
      "Yemen Arab Republic\n"
     ]
    }
   ],
   "source": [
    "for name in mean_distances.Source.unique():\n",
    "    if name not in state_names:\n",
    "        print(name)"
   ]
  },
  {
   "cell_type": "code",
   "execution_count": 22,
   "metadata": {
    "collapsed": true
   },
   "outputs": [],
   "source": [
    "mean_distances.replace([\"England\", \"USSR\", \"USA\"], \n",
    "                       [\"United Kingdom\", \"Russia\", \"United States of America\"], inplace=True)"
   ]
  },
  {
   "cell_type": "code",
   "execution_count": 23,
   "metadata": {
    "collapsed": true
   },
   "outputs": [],
   "source": [
    "alliance_dyads = alliance_dyads[[\"state_name1\", \"state_name2\", \"Alliance\"]]"
   ]
  },
  {
   "cell_type": "code",
   "execution_count": 24,
   "metadata": {
    "collapsed": false
   },
   "outputs": [],
   "source": [
    "alliances = alliance_dyads.set_index([\"state_name1\", \"state_name2\"]).Alliance"
   ]
  },
  {
   "cell_type": "code",
   "execution_count": 25,
   "metadata": {
    "collapsed": false
   },
   "outputs": [
    {
     "name": "stderr",
     "output_type": "stream",
     "text": [
      "/Users/dmasad/.virtualenvs/consul/lib/python3.4/site-packages/pandas/core/index.py:5091: PerformanceWarning: indexing past lexsort depth may impact performance.\n",
      "  PerformanceWarning)\n"
     ]
    }
   ],
   "source": [
    "alliance_types = {}\n",
    "for state_1, state_2 in permutations(state_names, 2):\n",
    "    if (state_2, state_1) in alliance_types:\n",
    "        continue\n",
    "    elif (state_2, state_1) in alliances:\n",
    "        continue\n",
    "    elif (state_1, state_2) in alliances:\n",
    "        if type(alliances[(state_1, state_2)]) is pd.Series:\n",
    "            alliance_types[(state_1, state_2)] = alliances[(state_1, state_2)].max()\n",
    "        else:\n",
    "            alliance_types[(state_1, state_2)] = alliances[(state_1, state_2)]\n",
    "    else:\n",
    "        alliance_types[(state_1, state_2)] = 0 "
   ]
  },
  {
   "cell_type": "code",
   "execution_count": 26,
   "metadata": {
    "collapsed": true
   },
   "outputs": [],
   "source": [
    "all_alliances = pd.DataFrame({\"Alliance\": alliance_types})"
   ]
  },
  {
   "cell_type": "code",
   "execution_count": 27,
   "metadata": {
    "collapsed": true
   },
   "outputs": [],
   "source": [
    "all_alliances.reset_index(inplace=True)\n",
    "all_alliances.rename(columns={\"level_0\": \"Source\", \"level_1\": \"Target\"}, inplace=True)"
   ]
  },
  {
   "cell_type": "code",
   "execution_count": 28,
   "metadata": {
    "collapsed": true
   },
   "outputs": [],
   "source": [
    "merged_data = all_alliances.merge(mean_distances, on=[\"Source\", \"Target\"])"
   ]
  },
  {
   "cell_type": "code",
   "execution_count": 29,
   "metadata": {
    "collapsed": true
   },
   "outputs": [],
   "source": [
    "merged_data.Mean_Distance = abs(merged_data.Mean_Distance)"
   ]
  },
  {
   "cell_type": "code",
   "execution_count": 30,
   "metadata": {
    "collapsed": false
   },
   "outputs": [
    {
     "data": {
      "text/html": [
       "<div>\n",
       "<table border=\"1\" class=\"dataframe\">\n",
       "  <thead>\n",
       "    <tr style=\"text-align: right;\">\n",
       "      <th></th>\n",
       "      <th>Source</th>\n",
       "      <th>Target</th>\n",
       "      <th>Alliance</th>\n",
       "      <th>Mean_Distance</th>\n",
       "    </tr>\n",
       "  </thead>\n",
       "  <tbody>\n",
       "    <tr>\n",
       "      <th>0</th>\n",
       "      <td>Albania</td>\n",
       "      <td>Argentina</td>\n",
       "      <td>0</td>\n",
       "      <td>0.593038</td>\n",
       "    </tr>\n",
       "    <tr>\n",
       "      <th>1</th>\n",
       "      <td>Albania</td>\n",
       "      <td>Australia</td>\n",
       "      <td>0</td>\n",
       "      <td>0.213705</td>\n",
       "    </tr>\n",
       "    <tr>\n",
       "      <th>2</th>\n",
       "      <td>Albania</td>\n",
       "      <td>Belgium</td>\n",
       "      <td>0</td>\n",
       "      <td>0.074147</td>\n",
       "    </tr>\n",
       "    <tr>\n",
       "      <th>3</th>\n",
       "      <td>Albania</td>\n",
       "      <td>Bolivia</td>\n",
       "      <td>0</td>\n",
       "      <td>0.591879</td>\n",
       "    </tr>\n",
       "    <tr>\n",
       "      <th>4</th>\n",
       "      <td>Albania</td>\n",
       "      <td>Brazil</td>\n",
       "      <td>0</td>\n",
       "      <td>0.595161</td>\n",
       "    </tr>\n",
       "  </tbody>\n",
       "</table>\n",
       "</div>"
      ],
      "text/plain": [
       "    Source     Target  Alliance  Mean_Distance\n",
       "0  Albania  Argentina         0       0.593038\n",
       "1  Albania  Australia         0       0.213705\n",
       "2  Albania    Belgium         0       0.074147\n",
       "3  Albania    Bolivia         0       0.591879\n",
       "4  Albania     Brazil         0       0.595161"
      ]
     },
     "execution_count": 30,
     "metadata": {},
     "output_type": "execute_result"
    }
   ],
   "source": [
    "merged_data.head()"
   ]
  },
  {
   "cell_type": "code",
   "execution_count": 31,
   "metadata": {
    "collapsed": false
   },
   "outputs": [
    {
     "data": {
      "text/html": [
       "<div>\n",
       "<table border=\"1\" class=\"dataframe\">\n",
       "  <thead>\n",
       "    <tr style=\"text-align: right;\">\n",
       "      <th></th>\n",
       "      <th>Alliance</th>\n",
       "      <th>Mean_Distance</th>\n",
       "    </tr>\n",
       "  </thead>\n",
       "  <tbody>\n",
       "    <tr>\n",
       "      <th>Alliance</th>\n",
       "      <td>1.000000</td>\n",
       "      <td>-0.428596</td>\n",
       "    </tr>\n",
       "    <tr>\n",
       "      <th>Mean_Distance</th>\n",
       "      <td>-0.428596</td>\n",
       "      <td>1.000000</td>\n",
       "    </tr>\n",
       "  </tbody>\n",
       "</table>\n",
       "</div>"
      ],
      "text/plain": [
       "               Alliance  Mean_Distance\n",
       "Alliance       1.000000      -0.428596\n",
       "Mean_Distance -0.428596       1.000000"
      ]
     },
     "execution_count": 31,
     "metadata": {},
     "output_type": "execute_result"
    }
   ],
   "source": [
    "merged_data.corr()"
   ]
  },
  {
   "cell_type": "code",
   "execution_count": 32,
   "metadata": {
    "collapsed": true
   },
   "outputs": [],
   "source": [
    "merged_data.to_csv(\"transfer/ex3_data.csv\")"
   ]
  },
  {
   "cell_type": "code",
   "execution_count": 33,
   "metadata": {
    "collapsed": true
   },
   "outputs": [],
   "source": [
    "merged_data[\"Const.\"] = 1"
   ]
  },
  {
   "cell_type": "code",
   "execution_count": 34,
   "metadata": {
    "collapsed": false
   },
   "outputs": [
    {
     "name": "stdout",
     "output_type": "stream",
     "text": [
      "Optimization terminated successfully.\n",
      "         Current function value: 0.454121\n",
      "         Iterations 10\n",
      "                          MNLogit Regression Results                          \n",
      "==============================================================================\n",
      "Dep. Variable:               Alliance   No. Observations:                 1653\n",
      "Model:                        MNLogit   Df Residuals:                     1645\n",
      "Method:                           MLE   Df Model:                            4\n",
      "Date:                Tue, 08 Dec 2015   Pseudo R-squ.:                  0.2011\n",
      "Time:                        13:11:45   Log-Likelihood:                -750.66\n",
      "converged:                       True   LL-Null:                       -939.67\n",
      "                                        LLR p-value:                 1.565e-80\n",
      "=================================================================================\n",
      "   Alliance=1       coef    std err          z      P>|z|      [95.0% Conf. Int.]\n",
      "---------------------------------------------------------------------------------\n",
      "Const.           -7.3869      1.601     -4.614      0.000       -10.525    -4.249\n",
      "Mean_Distance     2.5858      3.559      0.726      0.468        -4.390     9.562\n",
      "---------------------------------------------------------------------------------\n",
      "   Alliance=2       coef    std err          z      P>|z|      [95.0% Conf. Int.]\n",
      "---------------------------------------------------------------------------------\n",
      "Const.           -5.6594      0.897     -6.306      0.000        -7.418    -3.900\n",
      "Mean_Distance    -1.5542      2.921     -0.532      0.595        -7.280     4.171\n",
      "---------------------------------------------------------------------------------\n",
      "   Alliance=3       coef    std err          z      P>|z|      [95.0% Conf. Int.]\n",
      "---------------------------------------------------------------------------------\n",
      "Const.           -4.0734      0.417     -9.771      0.000        -4.891    -3.256\n",
      "Mean_Distance    -2.0869      1.439     -1.450      0.147        -4.908     0.734\n",
      "---------------------------------------------------------------------------------\n",
      "   Alliance=4       coef    std err          z      P>|z|      [95.0% Conf. Int.]\n",
      "---------------------------------------------------------------------------------\n",
      "Const.           -0.0799      0.086     -0.930      0.352        -0.248     0.088\n",
      "Mean_Distance    -7.7920      0.529    -14.721      0.000        -8.829    -6.755\n",
      "=================================================================================\n"
     ]
    }
   ],
   "source": [
    "mn = sm.MNLogit(merged_data.Alliance, merged_data[[\"Const.\", \"Mean_Distance\"]]).fit()\n",
    "print(mn.summary())"
   ]
  },
  {
   "cell_type": "code",
   "execution_count": 35,
   "metadata": {
    "collapsed": true
   },
   "outputs": [],
   "source": [
    "with open(\"transfer/mn3_out.csv\", \"w\") as f:\n",
    "    csv_out = mn.summary().tables[1].as_csv() \n",
    "    f.write(csv_out)"
   ]
  },
  {
   "cell_type": "code",
   "execution_count": 36,
   "metadata": {
    "collapsed": false
   },
   "outputs": [
    {
     "data": {
      "text/plain": [
       "<matplotlib.collections.PathCollection at 0x17f9661d0>"
      ]
     },
     "execution_count": 36,
     "metadata": {},
     "output_type": "execute_result"
    },
    {
     "data": {
      "image/png": "[encoded data removed]",
      "text/plain": [
       "<matplotlib.figure.Figure at 0x24216d470>"
      ]
     },
     "metadata": {},
     "output_type": "display_data"
    }
   ],
   "source": [
    "plt.scatter(merged_data.Mean_Distance, merged_data.Alliance)"
   ]
  },
  {
   "cell_type": "markdown",
   "metadata": {
    "collapsed": true
   },
   "source": [
    "# Export to R for ERGM"
   ]
  },
  {
   "cell_type": "code",
   "execution_count": 37,
   "metadata": {
    "collapsed": true
   },
   "outputs": [],
   "source": [
    "# Only needs to be run once for Experiments 1-2 and 3-4\n",
    "adj_mat = merged_data.pivot(\"Source\", \"Target\", \"Alliance\").fillna(0)\n",
    "adj_mat.replace([1, 2, 3], [0, 0, 0], inplace=True)\n",
    "adj_mat.replace(4, 1, inplace=True)\n",
    "adj_mat.to_csv(\"transfer/alliance_adj_mat_2.csv\")"
   ]
  },
  {
   "cell_type": "code",
   "execution_count": 38,
   "metadata": {
    "collapsed": true
   },
   "outputs": [],
   "source": [
    "dist = merged_data.pivot(\"Source\", \"Target\", \"Mean_Distance\").fillna(0)\n",
    "dist.to_csv(\"transfer/ex3_dist.csv\")"
   ]
  }
 ],
 "metadata": {
  "kernelspec": {
   "display_name": "Python 3",
   "language": "python",
   "name": "python3"
  },
  "language_info": {
   "codemirror_mode": {
    "name": "ipython",
    "version": 3
   },
   "file_extension": ".py",
   "mimetype": "text/x-python",
   "name": "python",
   "nbconvert_exporter": "python",
   "pygments_lexer": "ipython3",
   "version": "3.4.2"
  }
 },
 "nbformat": 4,
 "nbformat_minor": 0
}
