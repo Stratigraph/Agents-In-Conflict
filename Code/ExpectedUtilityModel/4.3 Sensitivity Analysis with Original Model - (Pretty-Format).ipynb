{
 "cells": [
  {
   "cell_type": "markdown",
   "metadata": {},
   "source": [
    "# Random Models\n",
    "\n",
    "In this experiment, I conduct a series of sensitivity analyses. I conduct two experiments: in one, the only source of stochasticity is conflicts; in the other, I also perturb all the starting values."
   ]
  },
  {
   "cell_type": "code",
   "execution_count": 75,
   "metadata": {
    "collapsed": true
   },
   "outputs": [],
   "source": [
    "import copy\n",
    "from collections import defaultdict, namedtuple\n",
    "import random\n",
    "import pickle\n",
    "\n",
    "import numpy as np\n",
    "import scipy.stats\n",
    "import pandas as pd\n",
    "\n",
    "import matplotlib.pyplot as plt\n",
    "%matplotlib inline\n",
    "#plt.style.use('bmh')"
   ]
  },
  {
   "cell_type": "code",
   "execution_count": 2,
   "metadata": {
    "collapsed": true
   },
   "outputs": [],
   "source": [
    "from negotiation_model import *\n",
    "from bdm_agent import *\n",
    "from bdm_replication import *\n"
   ]
  },
  {
   "cell_type": "code",
   "execution_count": 3,
   "metadata": {
    "collapsed": true
   },
   "outputs": [],
   "source": [
    "params = {\n",
    "    \"font.family\": 'serif',\n",
    "    \"font.serif\": [\"Computer Modern\"],\n",
    "    'text.usetex': True,\n",
    "    'xtick.labelsize': 12,\n",
    "    'ytick.labelsize': 12,\n",
    "    'axes.labelsize': 14\n",
    "\n",
    "   }\n",
    "plt.rcParams.update(params)"
   ]
  },
  {
   "cell_type": "markdown",
   "metadata": {},
   "source": [
    "# Generate 100 starting cases"
   ]
  },
  {
   "cell_type": "code",
   "execution_count": 17,
   "metadata": {
    "collapsed": true
   },
   "outputs": [],
   "source": [
    "N = 100 # Number of cases\n",
    "n = 10 # Agents per case\n",
    "all_df = []\n",
    "for i in range(N):\n",
    "    capabilities = [random.random() for _ in range(n)]\n",
    "    saliences = [random.random() for _ in range(n)]\n",
    "    positions = [random.random() for _ in range(n)]\n",
    "    df = pd.DataFrame({\"Name\": [str(j) for j in range(n)], \"Capability\": capabilities,\n",
    "                      \"Salience\": saliences, \"Position\": positions})\n",
    "    df[\"Instantiation\"] = i\n",
    "    all_df.append(df)\n",
    "df = pd.concat(all_df)"
   ]
  },
  {
   "cell_type": "code",
   "execution_count": 19,
   "metadata": {
    "collapsed": true
   },
   "outputs": [],
   "source": [
    "def make_model(agent_df):\n",
    "    agents = []\n",
    "    for i, row in agent_df.iterrows():\n",
    "        name = row.Name\n",
    "        capability = row.Capability\n",
    "        position = row.Position\n",
    "        salience = row.Salience\n",
    "        new_agent = BDMActor(name, capability, position, salience)\n",
    "        new_agent.decision_model.Q = 0.5\n",
    "        new_agent.decision_model.T = 0.5\n",
    "        agents.append(new_agent)\n",
    "    model = Real_Negotiation_Model(agents)\n",
    "    return model"
   ]
  },
  {
   "cell_type": "code",
   "execution_count": 20,
   "metadata": {
    "collapsed": false
   },
   "outputs": [],
   "source": [
    "for i, group in df.groupby(\"Instantiation\"):\n",
    "    m = make_model(group)\n",
    "    break"
   ]
  },
  {
   "cell_type": "code",
   "execution_count": 21,
   "metadata": {
    "collapsed": false
   },
   "outputs": [],
   "source": [
    "m.run_model(10)"
   ]
  },
  {
   "cell_type": "markdown",
   "metadata": {},
   "source": [
    "## Run each model 100 times"
   ]
  },
  {
   "cell_type": "code",
   "execution_count": 23,
   "metadata": {
    "collapsed": false
   },
   "outputs": [],
   "source": [
    "all_models = []\n",
    "for i, group in df.groupby(\"Instantiation\"):\n",
    "    base_model = make_model(group)\n",
    "    outcomes = []\n",
    "    models = []\n",
    "    for j in range(100):\n",
    "        model = copy.deepcopy(base_model)\n",
    "        model.run_model(10)\n",
    "        outcomes.append(model.find_median())\n",
    "        models.append(model)\n",
    "    all_models.append(models)"
   ]
  },
  {
   "cell_type": "code",
   "execution_count": 34,
   "metadata": {
    "collapsed": false
   },
   "outputs": [
    {
     "data": {
      "text/plain": [
       "<matplotlib.text.Text at 0x14f2ab710>"
      ]
     },
     "execution_count": 34,
     "metadata": {},
     "output_type": "execute_result"
    },
    {
     "data": {
      "image/png": "[encoded data removed]",
      "text/plain": [
       "<matplotlib.figure.Figure at 0x14f2ab7f0>"
      ]
     },
     "metadata": {},
     "output_type": "display_data"
    }
   ],
   "source": [
    "fig = plt.figure(figsize=(10,10))\n",
    "for i, models in enumerate(all_models[:9]):\n",
    "    outcomes = [m.find_median() for m in models]\n",
    "    ax = fig.add_subplot(3, 3, i+1)\n",
    "    ax.set_xlim(0,1)\n",
    "    ax.set_ylim(0,100)\n",
    "    ax.hist(outcomes, bins=np.linspace(0,1,21), color='grey')\n",
    "    ax.grid(True)\n",
    "    \n",
    "    for spine in [\"top\", \"left\", \"right\", \"bottom\"]:\n",
    "        ax.spines[spine].set_visible(False)\n",
    "\n",
    "fig.text(0.125, 0.075, \"Final Median Position\", fontsize=14)\n",
    "fig.text(0.075, 0.17, \"Count\", fontsize=14, rotation=\"vertical\")\n",
    "#fig.tight_layout()"
   ]
  },
  {
   "cell_type": "code",
   "execution_count": 35,
   "metadata": {
    "collapsed": true
   },
   "outputs": [],
   "source": [
    "PATH = \"/Users/dmasad/Documents/Dissertation/Dissertation/BDM_Reproduction/Figures/\"\n",
    "fig.savefig(PATH + \"RandomGamesHist1.pdf\")"
   ]
  },
  {
   "cell_type": "code",
   "execution_count": 30,
   "metadata": {
    "collapsed": true
   },
   "outputs": [],
   "source": [
    "# Store all outputs\n",
    "all_df = []\n",
    "for i, models in enumerate(all_models):\n",
    "    runs = [j for j in range(len(models))]\n",
    "    outcomes = [m.find_median() for m in models]\n",
    "    m_df = pd.DataFrame({\"Run\": runs, \"Median\": outcomes})\n",
    "    m_df[\"Instantiation\"] = i\n",
    "    all_df.append(m_df)\n",
    "ex1_medians = pd.concat(all_df)"
   ]
  },
  {
   "cell_type": "code",
   "execution_count": 25,
   "metadata": {
    "collapsed": false
   },
   "outputs": [
    {
     "name": "stdout",
     "output_type": "stream",
     "text": [
      "27\n"
     ]
    },
    {
     "data": {
      "image/png": "[encoded data removed]",
      "text/plain": [
       "<matplotlib.figure.Figure at 0x14ea31cf8>"
      ]
     },
     "metadata": {},
     "output_type": "display_data"
    }
   ],
   "source": [
    "all_pvals = []\n",
    "for model_set in all_models:\n",
    "    outcomes = [m.find_median() for m in model_set]\n",
    "    _, p_val = scipy.stats.mstats.normaltest(outcomes)\n",
    "    if not np.ma.is_masked(p_val):\n",
    "        all_pvals.append(p_val)\n",
    "#plt.hist(all_pvals)\n",
    "\n",
    "fig, ax = plt.subplots(figsize=(5, 4))\n",
    "ax.hist(all_pvals, bins=np.linspace(0, 1, 21), color='grey')\n",
    "for spine in [\"top\", \"left\", \"right\", \"bottom\"]:\n",
    "    ax.spines[spine].set_visible(False)\n",
    "ax.grid(True)\n",
    "ax.set_xlabel(\"p value\")\n",
    "ax.set_ylabel(\"Count\")\n",
    "fig.tight_layout()\n",
    "print(len(all_pvals))"
   ]
  },
  {
   "cell_type": "code",
   "execution_count": 33,
   "metadata": {
    "collapsed": true
   },
   "outputs": [],
   "source": [
    "PATH = \"/Users/dmasad/Documents/Dissertation/Dissertation/BDM_Reproduction/Figures/\"\n",
    "fig.savefig(PATH + \"RandomGamesPVals1.pdf\")"
   ]
  },
  {
   "cell_type": "code",
   "execution_count": 28,
   "metadata": {
    "collapsed": false
   },
   "outputs": [
    {
     "ename": "NameError",
     "evalue": "name 'PATH' is not defined",
     "output_type": "error",
     "traceback": [
      "\u001b[0;31m---------------------------------------------------------------------------\u001b[0m",
      "\u001b[0;31mNameError\u001b[0m                                 Traceback (most recent call last)",
      "\u001b[0;32m<ipython-input-28-c53c959d8e24>\u001b[0m in \u001b[0;36m<module>\u001b[0;34m()\u001b[0m\n\u001b[1;32m     16\u001b[0m     \u001b[0max\u001b[0m\u001b[0;34m.\u001b[0m\u001b[0mspines\u001b[0m\u001b[0;34m[\u001b[0m\u001b[0mspine\u001b[0m\u001b[0;34m]\u001b[0m\u001b[0;34m.\u001b[0m\u001b[0mset_visible\u001b[0m\u001b[0;34m(\u001b[0m\u001b[0;32mFalse\u001b[0m\u001b[0;34m)\u001b[0m\u001b[0;34m\u001b[0m\u001b[0m\n\u001b[1;32m     17\u001b[0m \u001b[0mfig\u001b[0m\u001b[0;34m.\u001b[0m\u001b[0mtight_layout\u001b[0m\u001b[0;34m(\u001b[0m\u001b[0;34m)\u001b[0m\u001b[0;34m\u001b[0m\u001b[0m\n\u001b[0;32m---> 18\u001b[0;31m \u001b[0mfig\u001b[0m\u001b[0;34m.\u001b[0m\u001b[0msavefig\u001b[0m\u001b[0;34m(\u001b[0m\u001b[0mPATH\u001b[0m \u001b[0;34m+\u001b[0m \u001b[0;34m\"RandomGamesSD1.pdf\"\u001b[0m\u001b[0;34m)\u001b[0m\u001b[0;34m\u001b[0m\u001b[0m\n\u001b[0m\u001b[1;32m     19\u001b[0m \u001b[0;34m\u001b[0m\u001b[0m\n\u001b[1;32m     20\u001b[0m \u001b[0;31m#plt.hist(all_sigmas)\u001b[0m\u001b[0;34m\u001b[0m\u001b[0;34m\u001b[0m\u001b[0m\n",
      "\u001b[0;31mNameError\u001b[0m: name 'PATH' is not defined"
     ]
    },
    {
     "data": {
      "image/png": "[encoded data removed]",
      "text/plain": [
       "<matplotlib.figure.Figure at 0x14eae3438>"
      ]
     },
     "metadata": {},
     "output_type": "display_data"
    }
   ],
   "source": [
    "all_sigmas = []\n",
    "for model_set in all_models:\n",
    "    outcomes = [m.find_median() for m in model_set]\n",
    "    _, p_val = scipy.stats.mstats.normaltest(outcomes)\n",
    "    if np.ma.is_masked(p_val):\n",
    "        continue\n",
    "    all_sigmas.append(np.std(outcomes))\n",
    "\n",
    "fig, ax = plt.subplots(figsize=(5, 4))\n",
    "ax.hist(all_sigmas, bins=np.linspace(0, 0.25, 11), color='grey')\n",
    "ax.grid(True)\n",
    "ax.set_xlabel(\"Estimated Standard Deviation\")\n",
    "ax.set_ylabel(\"Count\")\n",
    "\n",
    "for spine in [\"top\", \"left\", \"right\", \"bottom\"]:\n",
    "    ax.spines[spine].set_visible(False)\n",
    "fig.tight_layout()\n",
    "fig.savefig(PATH + \"RandomGamesSD1.pdf\")\n",
    "\n",
    "#plt.hist(all_sigmas)"
   ]
  },
  {
   "cell_type": "code",
   "execution_count": 39,
   "metadata": {
    "collapsed": false
   },
   "outputs": [
    {
     "data": {
      "text/plain": [
       "(15.557501176706852, 0.00041853477029096402)"
      ]
     },
     "execution_count": 39,
     "metadata": {},
     "output_type": "execute_result"
    }
   ],
   "source": [
    "scipy.stats.mstats.normaltest(all_sigmas)"
   ]
  },
  {
   "cell_type": "markdown",
   "metadata": {},
   "source": [
    "# Perturb and Run"
   ]
  },
  {
   "cell_type": "code",
   "execution_count": 45,
   "metadata": {
    "collapsed": true
   },
   "outputs": [],
   "source": [
    "def perturb_var(x, sd=0.05):\n",
    "    new_x = x + random.normalvariate(0, sd)\n",
    "    new_x = max(0, min(1, new_x))\n",
    "    return new_x"
   ]
  },
  {
   "cell_type": "code",
   "execution_count": 48,
   "metadata": {
    "collapsed": true
   },
   "outputs": [],
   "source": [
    "def make_model_perturbed(agent_df):\n",
    "    agents = []\n",
    "    for i, row in agent_df.iterrows():\n",
    "        name = row.Name\n",
    "        capability = perturb_var(row.Capability)\n",
    "        position = perturb_var(row.Position)\n",
    "        salience = perturb_var(row.Salience)\n",
    "        new_agent = BDMActor(name, capability, position, salience)\n",
    "        new_agent.decision_model.Q = 0.5\n",
    "        new_agent.decision_model.T = 0.5\n",
    "        agents.append(new_agent)\n",
    "    model = Real_Negotiation_Model(agents)\n",
    "    return model"
   ]
  },
  {
   "cell_type": "code",
   "execution_count": 54,
   "metadata": {
    "collapsed": true
   },
   "outputs": [],
   "source": [
    "all_models_2 = []\n",
    "for i, group in df.groupby(\"Instantiation\"):\n",
    "    outcomes_2 = []\n",
    "    models_2 = []\n",
    "    for j in range(100):\n",
    "        model = make_model_perturbed(group)\n",
    "        model.run_model(10)\n",
    "        outcomes_2.append(model.find_median())\n",
    "        models_2.append(model)\n",
    "    all_models_2.append(models_2)"
   ]
  },
  {
   "cell_type": "code",
   "execution_count": 61,
   "metadata": {
    "collapsed": false
   },
   "outputs": [
    {
     "data": {
      "image/png": "[encoded data removed]",
      "text/plain": [
       "<matplotlib.figure.Figure at 0x1989dbc50>"
      ]
     },
     "metadata": {},
     "output_type": "display_data"
    }
   ],
   "source": [
    "fig = plt.figure(figsize=(10,10))\n",
    "for i, models in enumerate(all_models_2[:9]):\n",
    "#for i, models in enumerate(all_models_2[-9:]):\n",
    "    outcomes = [m.find_median() for m in models]\n",
    "    ax = fig.add_subplot(3, 3, i+1)\n",
    "    ax.set_xlim(0,1)\n",
    "    ax.set_ylim(0,100)\n",
    "    ax.hist(outcomes, bins=np.linspace(0,1,21), color='grey')\n",
    "    ax.grid(True)\n",
    "    \n",
    "    for spine in [\"top\", \"left\", \"right\", \"bottom\"]:\n",
    "        ax.spines[spine].set_visible(False)\n",
    "\n",
    "fig.text(0.125, 0.075, \"Final Median Position\", fontsize=14)\n",
    "fig.text(0.075, 0.17, \"Count\", fontsize=14, rotation=\"vertical\")\n",
    "#fig.tight_layout()\n",
    "fig.savefig(PATH + \"RandomGamesHist2.pdf\")"
   ]
  },
  {
   "cell_type": "code",
   "execution_count": 56,
   "metadata": {
    "collapsed": true
   },
   "outputs": [],
   "source": [
    "# Store all outputs\n",
    "all_df = []\n",
    "for i, models in enumerate(all_models_2):\n",
    "    runs = [j for j in range(len(models))]\n",
    "    outcomes = [m.find_median() for m in models]\n",
    "    m_df = pd.DataFrame({\"Run\": runs, \"Median\": outcomes})\n",
    "    m_df[\"Instantiation\"] = i\n",
    "    all_df.append(m_df)\n",
    "ex2_medians = pd.concat(all_df)"
   ]
  },
  {
   "cell_type": "code",
   "execution_count": 57,
   "metadata": {
    "collapsed": false
   },
   "outputs": [
    {
     "name": "stdout",
     "output_type": "stream",
     "text": [
      "100\n"
     ]
    },
    {
     "data": {
      "image/png": "[encoded data removed]",
      "text/plain": [
       "<matplotlib.figure.Figure at 0x192e4a748>"
      ]
     },
     "metadata": {},
     "output_type": "display_data"
    }
   ],
   "source": [
    "all_pvals = []\n",
    "for model_set in all_models_2:\n",
    "    outcomes = [m.find_median() for m in model_set]\n",
    "    _, p_val = scipy.stats.mstats.normaltest(outcomes)\n",
    "    if not np.ma.is_masked(p_val):\n",
    "        all_pvals.append(p_val)\n",
    "#plt.hist(all_pvals)\n",
    "\n",
    "fig, ax = plt.subplots(figsize=(5, 4))\n",
    "ax.hist(all_pvals, bins=np.linspace(0, 1, 21), color='grey')\n",
    "for spine in [\"top\", \"left\", \"right\", \"bottom\"]:\n",
    "    ax.spines[spine].set_visible(False)\n",
    "ax.grid(True)\n",
    "ax.set_xlabel(\"p value\")\n",
    "ax.set_ylabel(\"Count\")\n",
    "fig.tight_layout()\n",
    "print(len(all_pvals))\n",
    "\n",
    "PATH = \"/Users/dmasad/Documents/Dissertation/Dissertation/BDM_Reproduction/Figures/\"\n",
    "fig.savefig(PATH + \"RandomGamesPVals2.pdf\")"
   ]
  },
  {
   "cell_type": "code",
   "execution_count": 44,
   "metadata": {
    "collapsed": false
   },
   "outputs": [
    {
     "data": {
      "text/plain": [
       "89"
      ]
     },
     "execution_count": 44,
     "metadata": {},
     "output_type": "execute_result"
    }
   ],
   "source": [
    "len([p for p in all_pvals if p<0.01])"
   ]
  },
  {
   "cell_type": "code",
   "execution_count": 60,
   "metadata": {
    "collapsed": false
   },
   "outputs": [
    {
     "data": {
      "image/png": "[encoded data removed]",
      "text/plain": [
       "<matplotlib.figure.Figure at 0x1968b2d68>"
      ]
     },
     "metadata": {},
     "output_type": "display_data"
    }
   ],
   "source": [
    "all_sigmas = []\n",
    "for model_set in all_models_2:\n",
    "    outcomes = [m.find_median() for m in model_set]\n",
    "    _, p_val = scipy.stats.mstats.normaltest(outcomes)\n",
    "    if np.ma.is_masked(p_val):\n",
    "        continue\n",
    "    all_sigmas.append(np.std(outcomes))\n",
    "\n",
    "fig, ax = plt.subplots(figsize=(5, 4))\n",
    "ax.hist(all_sigmas, bins=np.linspace(0, 0.25, 11), color='grey')\n",
    "\n",
    "ax.grid(True)\n",
    "ax.set_xlabel(\"Estimated Standard Deviation\")\n",
    "ax.set_ylabel(\"Count\")\n",
    "\n",
    "for spine in [\"top\", \"left\", \"right\", \"bottom\"]:\n",
    "    ax.spines[spine].set_visible(False)\n",
    "fig.tight_layout()\n",
    "fig.savefig(PATH + \"RandomGamesSD2.pdf\")\n"
   ]
  },
  {
   "cell_type": "markdown",
   "metadata": {},
   "source": [
    "## Compare standard deviations"
   ]
  },
  {
   "cell_type": "code",
   "execution_count": 65,
   "metadata": {
    "collapsed": false
   },
   "outputs": [
    {
     "data": {
      "text/html": [
       "<div>\n",
       "<table border=\"1\" class=\"dataframe\">\n",
       "  <thead>\n",
       "    <tr style=\"text-align: right;\">\n",
       "      <th></th>\n",
       "      <th>Median</th>\n",
       "      <th>Run</th>\n",
       "      <th>Instantiation</th>\n",
       "    </tr>\n",
       "  </thead>\n",
       "  <tbody>\n",
       "    <tr>\n",
       "      <th>0</th>\n",
       "      <td>0.460394</td>\n",
       "      <td>0</td>\n",
       "      <td>0</td>\n",
       "    </tr>\n",
       "    <tr>\n",
       "      <th>1</th>\n",
       "      <td>0.460394</td>\n",
       "      <td>1</td>\n",
       "      <td>0</td>\n",
       "    </tr>\n",
       "    <tr>\n",
       "      <th>2</th>\n",
       "      <td>0.460394</td>\n",
       "      <td>2</td>\n",
       "      <td>0</td>\n",
       "    </tr>\n",
       "    <tr>\n",
       "      <th>3</th>\n",
       "      <td>0.460394</td>\n",
       "      <td>3</td>\n",
       "      <td>0</td>\n",
       "    </tr>\n",
       "    <tr>\n",
       "      <th>4</th>\n",
       "      <td>0.460394</td>\n",
       "      <td>4</td>\n",
       "      <td>0</td>\n",
       "    </tr>\n",
       "  </tbody>\n",
       "</table>\n",
       "</div>"
      ],
      "text/plain": [
       "     Median  Run  Instantiation\n",
       "0  0.460394    0              0\n",
       "1  0.460394    1              0\n",
       "2  0.460394    2              0\n",
       "3  0.460394    3              0\n",
       "4  0.460394    4              0"
      ]
     },
     "execution_count": 65,
     "metadata": {},
     "output_type": "execute_result"
    }
   ],
   "source": [
    "ex1_medians.head()"
   ]
  },
  {
   "cell_type": "code",
   "execution_count": 64,
   "metadata": {
    "collapsed": false
   },
   "outputs": [
    {
     "data": {
      "text/html": [
       "<div>\n",
       "<table border=\"1\" class=\"dataframe\">\n",
       "  <thead>\n",
       "    <tr style=\"text-align: right;\">\n",
       "      <th></th>\n",
       "      <th>Median</th>\n",
       "      <th>Run</th>\n",
       "      <th>Instantiation</th>\n",
       "    </tr>\n",
       "  </thead>\n",
       "  <tbody>\n",
       "    <tr>\n",
       "      <th>0</th>\n",
       "      <td>0.388504</td>\n",
       "      <td>0</td>\n",
       "      <td>0</td>\n",
       "    </tr>\n",
       "    <tr>\n",
       "      <th>1</th>\n",
       "      <td>0.434006</td>\n",
       "      <td>1</td>\n",
       "      <td>0</td>\n",
       "    </tr>\n",
       "    <tr>\n",
       "      <th>2</th>\n",
       "      <td>0.370498</td>\n",
       "      <td>2</td>\n",
       "      <td>0</td>\n",
       "    </tr>\n",
       "    <tr>\n",
       "      <th>3</th>\n",
       "      <td>0.600129</td>\n",
       "      <td>3</td>\n",
       "      <td>0</td>\n",
       "    </tr>\n",
       "    <tr>\n",
       "      <th>4</th>\n",
       "      <td>0.516305</td>\n",
       "      <td>4</td>\n",
       "      <td>0</td>\n",
       "    </tr>\n",
       "  </tbody>\n",
       "</table>\n",
       "</div>"
      ],
      "text/plain": [
       "     Median  Run  Instantiation\n",
       "0  0.388504    0              0\n",
       "1  0.434006    1              0\n",
       "2  0.370498    2              0\n",
       "3  0.600129    3              0\n",
       "4  0.516305    4              0"
      ]
     },
     "execution_count": 64,
     "metadata": {},
     "output_type": "execute_result"
    }
   ],
   "source": [
    "ex2_medians.head()"
   ]
  },
  {
   "cell_type": "code",
   "execution_count": 69,
   "metadata": {
    "collapsed": true
   },
   "outputs": [],
   "source": [
    "ex1_means = ex1_medians.groupby(\"Instantiation\")[\"Median\"].aggregate(\"mean\")\n",
    "ex2_means = ex2_medians.groupby(\"Instantiation\")[\"Median\"].aggregate(\"mean\")\n",
    "mean_comparison = pd.DataFrame({\"Experiment 1\": ex1_means, \"Experiment 2\": ex2_means})"
   ]
  },
  {
   "cell_type": "code",
   "execution_count": 80,
   "metadata": {
    "collapsed": true
   },
   "outputs": [],
   "source": [
    "ex1_sd = ex1_medians.groupby(\"Instantiation\")[\"Median\"].aggregate(np.std).fillna(0)\n",
    "ex2_sd = ex2_medians.groupby(\"Instantiation\")[\"Median\"].aggregate(np.std)\n",
    "sd_comparison = pd.DataFrame({\"Experiment 1\": ex1_sd, \"Experiment 2\": ex2_sd})"
   ]
  },
  {
   "cell_type": "code",
   "execution_count": 87,
   "metadata": {
    "collapsed": false
   },
   "outputs": [
    {
     "data": {
      "image/png": "[encoded data removed]",
      "text/plain": [
       "<matplotlib.figure.Figure at 0x19c238978>"
      ]
     },
     "metadata": {},
     "output_type": "display_data"
    }
   ],
   "source": [
    "fig = plt.figure(figsize=(10,5))\n",
    "ax1 = fig.add_subplot(121)\n",
    "ax2 = fig.add_subplot(122)\n",
    "\n",
    "mean_comparison.plot(x=\"Experiment 1\", y=\"Experiment 2\", kind='scatter', c='k', ax=ax1)\n",
    "ax1.set_title(\"Means\")\n",
    "\n",
    "sd_comparison.plot(x=\"Experiment 1\", y=\"Experiment 2\", kind='scatter', c='k', ax=ax2)\n",
    "ax2.set_title(\"Standard Deviations\")\n",
    "ax2.set_ylim(0, )\n",
    "\n",
    "for ax in [ax1, ax2]:\n",
    "    for spine in [\"top\", \"left\", \"right\", \"bottom\"]:\n",
    "        ax.spines[spine].set_visible(False)\n",
    "    ax.grid(True)\n",
    "fig.tight_layout()\n",
    "PATH = \"/Users/dmasad/Documents/Dissertation/Dissertation/BDM_Reproduction/Figures/\"\n",
    "fig.savefig(PATH + \"RandomGamesComparison.pdf\")"
   ]
  },
  {
   "cell_type": "code",
   "execution_count": 76,
   "metadata": {
    "collapsed": true
   },
   "outputs": [],
   "source": [
    "with open(\"Sensitivity_Results.pickle\", \"wb\") as f:\n",
    "    pickle.dump((ex1_medians, ex2_medians), f)"
   ]
  },
  {
   "cell_type": "code",
   "execution_count": 82,
   "metadata": {
    "collapsed": false
   },
   "outputs": [
    {
     "data": {
      "text/html": [
       "<div>\n",
       "<table border=\"1\" class=\"dataframe\">\n",
       "  <thead>\n",
       "    <tr style=\"text-align: right;\">\n",
       "      <th></th>\n",
       "      <th>Experiment 1</th>\n",
       "      <th>Experiment 2</th>\n",
       "    </tr>\n",
       "  </thead>\n",
       "  <tbody>\n",
       "    <tr>\n",
       "      <th>Experiment 1</th>\n",
       "      <td>1.000000</td>\n",
       "      <td>0.590932</td>\n",
       "    </tr>\n",
       "    <tr>\n",
       "      <th>Experiment 2</th>\n",
       "      <td>0.590932</td>\n",
       "      <td>1.000000</td>\n",
       "    </tr>\n",
       "  </tbody>\n",
       "</table>\n",
       "</div>"
      ],
      "text/plain": [
       "              Experiment 1  Experiment 2\n",
       "Experiment 1      1.000000      0.590932\n",
       "Experiment 2      0.590932      1.000000"
      ]
     },
     "execution_count": 82,
     "metadata": {},
     "output_type": "execute_result"
    }
   ],
   "source": [
    "sd_comparison.corr()"
   ]
  },
  {
   "cell_type": "code",
   "execution_count": 88,
   "metadata": {
    "collapsed": false
   },
   "outputs": [
    {
     "data": {
      "text/html": [
       "<div>\n",
       "<table border=\"1\" class=\"dataframe\">\n",
       "  <thead>\n",
       "    <tr style=\"text-align: right;\">\n",
       "      <th></th>\n",
       "      <th>Experiment 1</th>\n",
       "      <th>Experiment 2</th>\n",
       "    </tr>\n",
       "  </thead>\n",
       "  <tbody>\n",
       "    <tr>\n",
       "      <th>Experiment 1</th>\n",
       "      <td>1.000000</td>\n",
       "      <td>0.344045</td>\n",
       "    </tr>\n",
       "    <tr>\n",
       "      <th>Experiment 2</th>\n",
       "      <td>0.344045</td>\n",
       "      <td>1.000000</td>\n",
       "    </tr>\n",
       "  </tbody>\n",
       "</table>\n",
       "</div>"
      ],
      "text/plain": [
       "              Experiment 1  Experiment 2\n",
       "Experiment 1      1.000000      0.344045\n",
       "Experiment 2      0.344045      1.000000"
      ]
     },
     "execution_count": 88,
     "metadata": {},
     "output_type": "execute_result"
    }
   ],
   "source": [
    "sd_comparison.corr(method='spearman')"
   ]
  },
  {
   "cell_type": "code",
   "execution_count": null,
   "metadata": {
    "collapsed": true
   },
   "outputs": [],
   "source": []
  }
 ],
 "metadata": {
  "kernelspec": {
   "display_name": "Python 3",
   "language": "python",
   "name": "python3"
  },
  "language_info": {
   "codemirror_mode": {
    "name": "ipython",
    "version": 3
   },
   "file_extension": ".py",
   "mimetype": "text/x-python",
   "name": "python",
   "nbconvert_exporter": "python",
   "pygments_lexer": "ipython3",
   "version": "3.4.2"
  }
 },
 "nbformat": 4,
 "nbformat_minor": 0
}
